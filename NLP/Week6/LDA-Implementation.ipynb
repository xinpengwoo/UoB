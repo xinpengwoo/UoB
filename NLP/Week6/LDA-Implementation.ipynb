{
 "cells": [
  {
   "cell_type": "markdown",
   "metadata": {},
   "source": [
    "# Chapter 10: LDA for Topic Modeling"
   ]
  },
  {
   "cell_type": "markdown",
   "metadata": {},
   "source": [
    "## Load Newsgroups data\n",
    "\n",
    "As before, let's consider a specific set of categories:"
   ]
  },
  {
   "cell_type": "code",
   "execution_count": 1,
   "metadata": {},
   "outputs": [],
   "source": [
    "from sklearn.datasets import fetch_20newsgroups\n",
    "\n",
    "def load_dataset(sset, cats):\n",
    "    if cats==[]:\n",
    "        newsgroups_dset = fetch_20newsgroups(subset=sset,\n",
    "                          remove=('headers', 'footers', 'quotes'),\n",
    "                          shuffle=True)\n",
    "    else:\n",
    "        newsgroups_dset = fetch_20newsgroups(subset=sset, categories=cats,\n",
    "                          remove=('headers', 'footers', 'quotes'),\n",
    "                          shuffle=True)\n",
    "    return newsgroups_dset"
   ]
  },
  {
   "cell_type": "code",
   "execution_count": 2,
   "metadata": {},
   "outputs": [
    {
     "name": "stdout",
     "output_type": "stream",
     "text": [
      "9850\n"
     ]
    }
   ],
   "source": [
    "categories = [\"comp.windows.x\", \"misc.forsale\", \"rec.autos\", \"rec.motorcycles\", \"rec.sport.baseball\"]\n",
    "categories += [\"rec.sport.hockey\", \"sci.crypt\", \"sci.med\", \"sci.space\", \"talk.politics.mideast\"]\n",
    "\n",
    "newsgroups_all = load_dataset('all', categories)\n",
    "print(len(newsgroups_all.data))"
   ]
  },
  {
   "cell_type": "markdown",
   "metadata": {},
   "source": [
    "## Preprocess\n",
    "\n",
    "Convert word forms to stems to get concise representations for the documents: "
   ]
  },
  {
   "cell_type": "code",
   "execution_count": 3,
   "metadata": {},
   "outputs": [],
   "source": [
    "import nltk\n",
    "from nltk.stem import SnowballStemmer\n",
    "\n",
    "stemmer = SnowballStemmer(\"english\")\n",
    "\n",
    "def stem(text):\n",
    "    return stemmer.stem(text)"
   ]
  },
  {
   "cell_type": "code",
   "execution_count": 4,
   "metadata": {},
   "outputs": [],
   "source": [
    "import gensim\n",
    "from gensim.utils import simple_preprocess\n",
    "from gensim.parsing.preprocessing import STOPWORDS as stopwords\n",
    "\n",
    "#print(stopwords)\n",
    "\n",
    "def preprocess(text):\n",
    "    result = []\n",
    "    for token in gensim.utils.simple_preprocess(text, min_len=4):\n",
    "        if token not in stopwords: #and len(token) > 3:\n",
    "            result.append(stem(token))\n",
    "    return result"
   ]
  },
  {
   "cell_type": "markdown",
   "metadata": {},
   "source": [
    "Check how each document is represented. For example, look into the very first one:"
   ]
  },
  {
   "cell_type": "code",
   "execution_count": 5,
   "metadata": {},
   "outputs": [
    {
     "name": "stdout",
     "output_type": "stream",
     "text": [
      "Original document: \n",
      "Hi Xperts!\n",
      "\n",
      "How can I move the cursor with the keyboard (i.e. cursor keys), \n",
      "if no mouse is available?\n",
      "\n",
      "Any hints welcome.\n",
      "\n",
      "Thanks.\n",
      "\n",
      "\n",
      "Tokenized document: \n",
      "['Hi', 'Xperts', 'How', 'can', 'I', 'move', 'the', 'cursor', 'with', 'the', 'keyboard', 'i', 'e', 'cursor', 'keys', 'if', 'no', 'mouse', 'is', 'available', 'Any', 'hints', 'welcome', 'Thanks']\n",
      "\n",
      "\n",
      "Preprocessed document: \n",
      "['xpert', 'cursor', 'keyboard', 'cursor', 'key', 'mous', 'avail', 'hint', 'welcom', 'thank']\n"
     ]
    }
   ],
   "source": [
    "doc_sample = newsgroups_all.data[0]\n",
    "print('Original document: ')\n",
    "print(doc_sample)\n",
    "\n",
    "print('\\n\\nTokenized document: ')\n",
    "words = []\n",
    "for token in gensim.utils.tokenize(doc_sample):\n",
    "    words.append(token)\n",
    "print(words)\n",
    "\n",
    "print('\\n\\nPreprocessed document: ')\n",
    "print(preprocess(doc_sample))"
   ]
  },
  {
   "cell_type": "markdown",
   "metadata": {},
   "source": [
    "How do the first 10 look like?"
   ]
  },
  {
   "cell_type": "code",
   "execution_count": 6,
   "metadata": {},
   "outputs": [
    {
     "name": "stdout",
     "output_type": "stream",
     "text": [
      "0\txpert, cursor, keyboard, cursor, key, mous, avail, hint, welcom, thank\n",
      "1\tobtain, copi, open, look, widget, obtain, need, order, copi, thank\n",
      "2\tright, signal, strong, live, west, philadelphia, perfect, sport, fan, dream\n",
      "3\tcanadian, thing, coach, boston, bruin, colorado, rocki, summari, post, gather\n",
      "4\theck, feel, like, time, includ, cafeteria, work, half, time, headach\n",
      "5\tdamn, right, late, climb, meet, morn, bother, right, foot, asleep\n",
      "6\tolympus, stylus, pocket, camera, smallest, class, includ, time, date, stamp\n",
      "7\tinclud, follow, chmos, clock, generat, driver, processor, chmos, eras, prom\n",
      "8\tchang, intel, discov, xclient, xload, longer, work, bomb, messag, error\n",
      "9\ttermin, like, power, server, run, window, manag, special, client, program\n"
     ]
    }
   ],
   "source": [
    "for i in range(0, 10):\n",
    "    print(str(i) + \"\\t\" + \", \".join(preprocess(newsgroups_all.data[i])[:10]))"
   ]
  },
  {
   "cell_type": "markdown",
   "metadata": {},
   "source": [
    "Now let's represent each document as a dictionary of relevant words. Each word (*value* in the dictionary) has a unique identifier (*key*): "
   ]
  },
  {
   "cell_type": "code",
   "execution_count": 7,
   "metadata": {},
   "outputs": [
    {
     "name": "stdout",
     "output_type": "stream",
     "text": [
      "9850\n",
      "39350\n",
      "0 avail\n",
      "1 cursor\n",
      "2 hint\n",
      "3 key\n",
      "4 keyboard\n",
      "5 mous\n",
      "6 thank\n",
      "7 welcom\n",
      "8 xpert\n",
      "9 copi\n"
     ]
    }
   ],
   "source": [
    "processed_docs = []\n",
    "for i in range(0, len(newsgroups_all.data)):\n",
    "    processed_docs.append(preprocess(newsgroups_all.data[i]))\n",
    "\n",
    "print(len(processed_docs))\n",
    "    \n",
    "dictionary = gensim.corpora.Dictionary(processed_docs)\n",
    "print(len(dictionary))\n",
    "\n",
    "index = 0\n",
    "for key, value in dictionary.iteritems():\n",
    "    print(key, value)\n",
    "    index += 1\n",
    "    if index > 9:\n",
    "        break"
   ]
  },
  {
   "cell_type": "markdown",
   "metadata": {},
   "source": [
    "Put some contraints on the dictionary of terms: for instance, keep up to $100,000$ words that occur more frequently than $10$ times (`no_below`) and less frequently than in $50\\%$ of the documents (`no_above`). This should help you extract the most useful terms, while still keeping a reasonable number of them."
   ]
  },
  {
   "cell_type": "code",
   "execution_count": 8,
   "metadata": {},
   "outputs": [
    {
     "name": "stdout",
     "output_type": "stream",
     "text": [
      "5868\n"
     ]
    }
   ],
   "source": [
    "dictionary.filter_extremes(no_below=10, no_above=0.5, keep_n=100000)\n",
    "print(len(dictionary))"
   ]
  },
  {
   "cell_type": "markdown",
   "metadata": {},
   "source": [
    "Let's see how a particular document is represented in this dictionary: for example, look into the very first post, or into the 100th:"
   ]
  },
  {
   "cell_type": "code",
   "execution_count": 9,
   "metadata": {},
   "outputs": [
    {
     "data": {
      "text/plain": [
       "[(0, 1), (1, 2), (2, 1), (3, 1), (4, 1), (5, 1), (6, 1), (7, 1), (8, 1)]"
      ]
     },
     "execution_count": 9,
     "metadata": {},
     "output_type": "execute_result"
    }
   ],
   "source": [
    "bow_corpus = [dictionary.doc2bow(doc) for doc in processed_docs]\n",
    "bow_corpus[0]\n",
    "#bow_corpus[99]"
   ]
  },
  {
   "cell_type": "markdown",
   "metadata": {},
   "source": [
    "Let's decode what each index (key) in this dictionary points to:"
   ]
  },
  {
   "cell_type": "code",
   "execution_count": 10,
   "metadata": {},
   "outputs": [
    {
     "name": "stdout",
     "output_type": "stream",
     "text": [
      "Key 0 =\"avail\":    occurrences=1\n",
      "Key 1 =\"cursor\":    occurrences=2\n",
      "Key 2 =\"hint\":    occurrences=1\n",
      "Key 3 =\"key\":    occurrences=1\n",
      "Key 4 =\"keyboard\":    occurrences=1\n",
      "Key 5 =\"mous\":    occurrences=1\n",
      "Key 6 =\"thank\":    occurrences=1\n",
      "Key 7 =\"welcom\":    occurrences=1\n",
      "Key 8 =\"xpert\":    occurrences=1\n"
     ]
    }
   ],
   "source": [
    "#bow_doc = bow_corpus[99]\n",
    "bow_doc = bow_corpus[0]\n",
    "\n",
    "for i in range(len(bow_doc)):\n",
    "    print(f\"Key {bow_doc[i][0]} =\\\"{dictionary[bow_doc[i][0]]}\\\":\\\n",
    "    occurrences={bow_doc[i][1]}\")"
   ]
  },
  {
   "cell_type": "markdown",
   "metadata": {},
   "source": [
    "## Train an LDA model"
   ]
  },
  {
   "cell_type": "code",
   "execution_count": 11,
   "metadata": {},
   "outputs": [
    {
     "name": "stdout",
     "output_type": "stream",
     "text": [
      "Topic: 0 \n",
      "Words: 0.021*\"encrypt\" + 0.018*\"secur\" + 0.018*\"chip\" + 0.016*\"govern\" + 0.013*\"clipper\" + 0.012*\"public\" + 0.010*\"privaci\" + 0.010*\"key\" + 0.010*\"phone\" + 0.009*\"algorithm\"\n",
      "Topic: 1 \n",
      "Words: 0.017*\"appear\" + 0.014*\"copi\" + 0.013*\"cover\" + 0.013*\"star\" + 0.013*\"book\" + 0.011*\"penalti\" + 0.010*\"black\" + 0.009*\"comic\" + 0.008*\"blue\" + 0.008*\"green\"\n",
      "Topic: 2 \n",
      "Words: 0.031*\"window\" + 0.015*\"server\" + 0.012*\"program\" + 0.012*\"file\" + 0.012*\"applic\" + 0.012*\"display\" + 0.011*\"widget\" + 0.010*\"version\" + 0.010*\"motif\" + 0.010*\"support\"\n",
      "Topic: 3 \n",
      "Words: 0.015*\"space\" + 0.007*\"launch\" + 0.007*\"year\" + 0.007*\"medic\" + 0.006*\"patient\" + 0.006*\"orbit\" + 0.006*\"research\" + 0.006*\"diseas\" + 0.005*\"develop\" + 0.005*\"nasa\"\n",
      "Topic: 4 \n",
      "Words: 0.018*\"armenian\" + 0.011*\"peopl\" + 0.008*\"kill\" + 0.008*\"said\" + 0.007*\"turkish\" + 0.006*\"muslim\" + 0.006*\"jew\" + 0.006*\"govern\" + 0.005*\"state\" + 0.005*\"greek\"\n",
      "Topic: 5 \n",
      "Words: 0.024*\"price\" + 0.021*\"sale\" + 0.020*\"offer\" + 0.017*\"drive\" + 0.017*\"sell\" + 0.016*\"includ\" + 0.013*\"ship\" + 0.013*\"interest\" + 0.011*\"ask\" + 0.010*\"condit\"\n",
      "Topic: 6 \n",
      "Words: 0.018*\"mail\" + 0.016*\"list\" + 0.015*\"file\" + 0.015*\"inform\" + 0.013*\"send\" + 0.012*\"post\" + 0.012*\"avail\" + 0.010*\"request\" + 0.010*\"program\" + 0.009*\"includ\"\n",
      "Topic: 7 \n",
      "Words: 0.019*\"like\" + 0.016*\"know\" + 0.011*\"time\" + 0.011*\"look\" + 0.010*\"think\" + 0.008*\"want\" + 0.008*\"thing\" + 0.008*\"good\" + 0.007*\"go\" + 0.007*\"bike\"\n",
      "Topic: 8 \n",
      "Words: 0.033*\"game\" + 0.022*\"team\" + 0.017*\"play\" + 0.015*\"year\" + 0.013*\"player\" + 0.011*\"season\" + 0.008*\"hockey\" + 0.008*\"score\" + 0.007*\"leagu\" + 0.007*\"goal\"\n",
      "Topic: 9 \n",
      "Words: 0.013*\"peopl\" + 0.012*\"think\" + 0.011*\"like\" + 0.009*\"time\" + 0.009*\"right\" + 0.009*\"israel\" + 0.009*\"know\" + 0.006*\"reason\" + 0.006*\"point\" + 0.006*\"thing\"\n"
     ]
    }
   ],
   "source": [
    "# Create the dictionary\n",
    "id2word = dictionary\n",
    "\n",
    "# Create the corpus with word frequencies\n",
    "corpus = bow_corpus\n",
    "\n",
    "# Build the LDA model\n",
    "lda_model = gensim.models.ldamodel.LdaModel(corpus=corpus,\n",
    "                                           id2word=id2word,\n",
    "                                           num_topics=10, \n",
    "                                           random_state=100,\n",
    "                                           update_every=1,\n",
    "                                           chunksize=1000,\n",
    "                                           passes=10,\n",
    "                                           alpha='symmetric',\n",
    "                                           iterations=100,\n",
    "                                           per_word_topics=True)\n",
    "\n",
    "\n",
    "for index, topic in lda_model.print_topics(-1):\n",
    "    print(f\"Topic: {index} \\nWords: {topic}\")"
   ]
  },
  {
   "cell_type": "markdown",
   "metadata": {},
   "source": [
    "## Interpret the results\n",
    "\n",
    "What is the most representative topic in each document?"
   ]
  },
  {
   "cell_type": "code",
   "execution_count": 12,
   "metadata": {},
   "outputs": [
    {
     "name": "stdout",
     "output_type": "stream",
     "text": [
      " ID  Main Topic  Contribution (%)  Keywords                                Snippet                                                                           \n",
      " 0   2           0.8268            window, server, program, file, applic\n",
      "  ['xpert', 'cursor', 'keyboard', 'cursor', 'key', 'mous', 'avail', 'hint']         \n",
      " 1   6           0.4745            mail, list, file, inform, send\n",
      "         ['obtain', 'copi', 'open', 'look', 'widget', 'obtain', 'need', 'order']           \n",
      " 2   7           0.4229            like, know, time, look, think\n",
      "          ['right', 'signal', 'strong', 'live', 'west', 'philadelphia', 'perfect', 'sport'] \n",
      " 3   8           0.4159            game, team, play, year, player\n",
      "         ['canadian', 'thing', 'coach', 'boston', 'bruin', 'colorado', 'rocki', 'summari'] \n",
      " 4   9           0.9039            peopl, think, like, time, right\n",
      "        ['heck', 'feel', 'like', 'time', 'includ', 'cafeteria', 'work', 'half']           \n",
      " 5   7           0.6291            like, know, time, look, think\n",
      "          ['damn', 'right', 'late', 'climb', 'meet', 'morn', 'bother', 'right']             \n",
      " 6   3           0.3483            space, launch, year, medic, patient\n",
      "    ['olympus', 'stylus', 'pocket', 'camera', 'smallest', 'class', 'includ', 'time']  \n",
      " 7   5           0.3798            price, sale, offer, drive, sell\n",
      "        ['includ', 'follow', 'chmos', 'clock', 'generat', 'driver', 'processor', 'chmos'] \n",
      " 8   2           0.7943            window, server, program, file, applic\n",
      "  ['chang', 'intel', 'discov', 'xclient', 'xload', 'longer', 'work', 'bomb']        \n",
      " 9   2           0.6384            window, server, program, file, applic\n",
      "  ['termin', 'like', 'power', 'server', 'run', 'window', 'manag', 'special']        \n"
     ]
    }
   ],
   "source": [
    "def analyse_topics(ldamodel, corpus, texts):\n",
    "    main_topic = {}\n",
    "    percentage = {}\n",
    "    keywords = {}\n",
    "    text_snippets = {}\n",
    "    # Get main topic in each document\n",
    "    for i, topic_list in enumerate(ldamodel[corpus]):\n",
    "        #print(\"\\n\")\n",
    "        #print(topic_list)\n",
    "        #print(\"\\n\")\n",
    "        #for i in range(0, len(topic_list)):\n",
    "        #    print (topic_list[i])\n",
    "        topic = topic_list[0] if ldamodel.per_word_topics else topic_list            \n",
    "        #print(topic)\n",
    "        topic = sorted(topic, key=lambda x: (x[1]), reverse=True)\n",
    "        # Get the main topic, contribution (%) and keywords for each document\n",
    "        for j, (topic_num, prop_topic) in enumerate(topic):\n",
    "            if j == 0:  # => dominant topic\n",
    "                wp = ldamodel.show_topic(topic_num)\n",
    "                topic_keywords = \", \".join([word for word, prop in wp[:5]])\n",
    "                main_topic[i] = int(topic_num)\n",
    "                percentage[i] = round(prop_topic,4)\n",
    "                keywords[i] = topic_keywords\n",
    "                text_snippets[i] = texts[i][:8]\n",
    "            else:\n",
    "                break\n",
    "    return main_topic, percentage, keywords, text_snippets\n",
    "\n",
    "\n",
    "main_topic, percentage, keywords, text_snippets = analyse_topics(\n",
    "    lda_model, bow_corpus, processed_docs)\n",
    "\n",
    "indexes = []\n",
    "rows = []\n",
    "for i in range(0, 10):\n",
    "    indexes.append(i)\n",
    "rows.append(['ID', 'Main Topic', 'Contribution (%)', 'Keywords', 'Snippet'])\n",
    "\n",
    "for idx in indexes:\n",
    "    rows.append([str(idx), f\"{main_topic.get(idx)}\", \n",
    "                f\"{percentage.get(idx):.4f}\",\n",
    "                f\"{keywords.get(idx)}\\n\",\n",
    "                f\"{text_snippets.get(idx)}\"])\n",
    "\n",
    "columns = zip(*rows)\n",
    "column_widths = [max(len(item) for item in col) for col in columns]\n",
    "for row in rows:\n",
    "    print(''.join(' {:{width}} '.format(row[i], width=column_widths[i]) \n",
    "                  for i in range(0, len(row)))) \n",
    "    "
   ]
  },
  {
   "cell_type": "markdown",
   "metadata": {},
   "source": [
    "## Explore words and topics with pyLDAvis"
   ]
  },
  {
   "cell_type": "code",
   "execution_count": 13,
   "metadata": {},
   "outputs": [
    {
     "name": "stderr",
     "output_type": "stream",
     "text": [
      "/Users/ekaterinakochmar/opt/anaconda3/lib/python3.7/site-packages/sklearn/decomposition/_online_lda.py:29: DeprecationWarning: `np.float` is a deprecated alias for the builtin `float`. To silence this warning, use `float` by itself. Doing this will not modify any behavior and is safe. If you specifically wanted the numpy scalar type, use `np.float64` here.\n",
      "Deprecated in NumPy 1.20; for more details and guidance: https://numpy.org/devdocs/release/1.20.0-notes.html#deprecations\n",
      "  EPS = np.finfo(np.float).eps\n"
     ]
    },
    {
     "data": {
      "text/html": [
       "\n",
       "<link rel=\"stylesheet\" type=\"text/css\" href=\"https://cdn.rawgit.com/bmabey/pyLDAvis/files/ldavis.v1.0.0.css\">\n",
       "\n",
       "\n",
       "<div id=\"ldavis_el861121403549861152807623287701\"></div>\n",
       "<script type=\"text/javascript\">\n",
       "\n",
       "var ldavis_el861121403549861152807623287701_data = {\"mdsDat\": {\"x\": [-0.07127412702671738, 0.021450272155774698, 0.043559789973311315, -0.06142602604475975, 0.20937550682328093, -0.15997818692526902, -0.18567636608426055, -0.1703077346436616, 0.08324833965463987, 0.2910285321176628], \"y\": [-0.1582532394931061, -0.15002081436558354, -0.12490652158602479, 0.0047027316592817, -0.18357621634011154, 0.1648463345924825, 0.0984060042683627, -0.0419527749870953, 0.1930758699865412, 0.19767862626525307], \"topics\": [1, 2, 3, 4, 5, 6, 7, 8, 9, 10], \"cluster\": [1, 1, 1, 1, 1, 1, 1, 1, 1, 1], \"Freq\": [16.06892752858026, 15.559735588338105, 14.497129830804251, 12.563196588996195, 9.811371234723607, 9.36977306090324, 7.510983051312338, 6.918312647785704, 4.628498713800808, 3.0720717547554806]}, \"tinfo\": {\"Term\": [\"game\", \"window\", \"armenian\", \"team\", \"mail\", \"file\", \"encrypt\", \"govern\", \"play\", \"includ\", \"price\", \"secur\", \"chip\", \"space\", \"think\", \"program\", \"peopl\", \"drive\", \"inform\", \"sale\", \"player\", \"offer\", \"server\", \"list\", \"like\", \"season\", \"send\", \"know\", \"israel\", \"post\", \"israel\", \"isra\", \"argument\", \"echo\", \"hitter\", \"cell\", \"morri\", \"vote\", \"printf\", \"reveal\", \"prison\", \"impli\", \"lebanon\", \"lean\", \"lebanes\", \"tommi\", \"zionist\", \"quack\", \"vaccin\", \"silicon\", \"asid\", \"eat\", \"counterst\", \"throttl\", \"phrase\", \"void\", \"suspens\", \"photographi\", \"protein\", \"kirlian\", \"palestinian\", \"realiti\", \"certain\", \"opinion\", \"ignor\", \"agre\", \"situat\", \"reason\", \"claim\", \"mean\", \"think\", \"evid\", \"true\", \"believ\", \"fact\", \"peopl\", \"right\", \"actual\", \"word\", \"clear\", \"read\", \"question\", \"point\", \"case\", \"differ\", \"like\", \"time\", \"post\", \"know\", \"thing\", \"state\", \"want\", \"make\", \"good\", \"sure\", \"idea\", \"problem\", \"person\", \"bike\", \"ride\", \"car\", \"tire\", \"brake\", \"wheel\", \"detector\", \"ford\", \"steer\", \"honda\", \"helmet\", \"batteri\", \"accid\", \"cellular\", \"nois\", \"toyota\", \"stereo\", \"cage\", \"shit\", \"jerusalem\", \"tune\", \"depress\", \"ensur\", \"valv\", \"automobil\", \"smooth\", \"coat\", \"cassett\", \"plastic\", \"alarm\", \"rear\", \"gear\", \"motorcycl\", \"passeng\", \"lock\", \"insur\", \"speed\", \"dealer\", \"engin\", \"heard\", \"go\", \"turn\", \"mile\", \"know\", \"like\", \"went\", \"look\", \"seat\", \"littl\", \"rememb\", \"told\", \"thing\", \"stuff\", \"door\", \"start\", \"think\", \"come\", \"time\", \"want\", \"mayb\", \"good\", \"happen\", \"work\", \"need\", \"get\", \"tell\", \"problem\", \"say\", \"said\", \"year\", \"right\", \"peopl\", \"armenian\", \"turkish\", \"muslim\", \"greek\", \"villag\", \"turk\", \"armenia\", \"genocid\", \"soldier\", \"turkey\", \"azerbaijani\", \"azerbaijan\", \"court\", \"nazi\", \"murder\", \"azeri\", \"ottoman\", \"neighbor\", \"greec\", \"istanbul\", \"serdar\", \"argic\", \"tartar\", \"troop\", \"terror\", \"shout\", \"baku\", \"wound\", \"sumgait\", \"london\", \"jew\", \"massacr\", \"islam\", \"kill\", \"russian\", \"armi\", \"popul\", \"jewish\", \"children\", \"arm\", \"histori\", \"soviet\", \"said\", \"women\", \"peopl\", \"govern\", \"nation\", \"live\", \"arab\", \"state\", \"report\", \"world\", \"year\", \"univers\", \"attack\", \"launch\", \"patient\", \"orbit\", \"diseas\", \"mission\", \"satellit\", \"infect\", \"shuttl\", \"cancer\", \"aid\", \"clinic\", \"medicin\", \"spacecraft\", \"lunar\", \"newslett\", \"candida\", \"diet\", \"belt\", \"physician\", \"vitamin\", \"mar\", \"therapi\", \"temperatur\", \"saturn\", \"yeast\", \"chronic\", \"symptom\", \"immun\", \"syndrom\", \"antibiot\", \"health\", \"probe\", \"medic\", \"nasa\", \"space\", \"scienc\", \"treatment\", \"studi\", \"research\", \"earth\", \"center\", \"drug\", \"develop\", \"test\", \"increas\", \"rocket\", \"effect\", \"project\", \"report\", \"april\", \"caus\", \"year\", \"high\", \"program\", \"provid\", \"inform\", \"season\", \"hockey\", \"score\", \"basebal\", \"pitch\", \"leaf\", \"win\", \"detroit\", \"chicago\", \"fan\", \"pitcher\", \"pittsburgh\", \"sabr\", \"philadelphia\", \"montreal\", \"buffalo\", \"minnesota\", \"bruin\", \"coach\", \"devil\", \"calgari\", \"loui\", \"pen\", \"puck\", \"jose\", \"bat\", \"inning\", \"goali\", \"shark\", \"winnipeg\", \"team\", \"playoff\", \"player\", \"leagu\", \"game\", \"flyer\", \"play\", \"toronto\", \"ranger\", \"boston\", \"goal\", \"king\", \"stat\", \"period\", \"defens\", \"divis\", \"shot\", \"year\", \"seri\", \"lost\", \"point\", \"second\", \"good\", \"better\", \"time\", \"think\", \"anonym\", \"entri\", \"internet\", \"string\", \"byte\", \"cipher\", \"openwindow\", \"readm\", \"mathemat\", \"subscrib\", \"macintosh\", \"filenam\", \"pixmap\", \"den\", \"cryptolog\", \"uuencod\", \"recipi\", \"keyword\", \"olwm\", \"donat\", \"icon\", \"cryptanalysi\", \"hellman\", \"subscript\", \"tutori\", \"prog\", \"listserv\", \"dorothi\", \"austin\", \"consortium\", \"bitnet\", \"stream\", \"info\", \"usenet\", \"request\", \"output\", \"configur\", \"send\", \"address\", \"mail\", \"list\", \"archiv\", \"site\", \"email\", \"distribut\", \"section\", \"file\", \"inform\", \"avail\", \"network\", \"newsgroup\", \"comput\", \"post\", \"messag\", \"user\", \"softwar\", \"program\", \"sourc\", \"includ\", \"group\", \"news\", \"number\", \"line\", \"subject\", \"thank\", \"display\", \"widget\", \"motif\", \"font\", \"xterm\", \"contrib\", \"default\", \"xfree\", \"null\", \"xview\", \"toolkit\", \"xlib\", \"pixel\", \"suno\", \"microsoft\", \"colormap\", \"cursor\", \"pointer\", \"sparc\", \"mustang\", \"exit\", \"pars\", \"gaza\", \"login\", \"argv\", \"linux\", \"bitmap\", \"menu\", \"arg\", \"makefil\", \"mous\", \"client\", \"window\", \"screen\", \"server\", \"applic\", \"button\", \"color\", \"patch\", \"interfac\", \"version\", \"error\", \"resourc\", \"graphic\", \"defin\", \"compil\", \"function\", \"support\", \"program\", \"file\", \"run\", \"manag\", \"code\", \"includ\", \"problem\", \"work\", \"export\", \"event\", \"user\", \"look\", \"help\", \"like\", \"encrypt\", \"chip\", \"privaci\", \"escrow\", \"wiretap\", \"cryptographi\", \"crypto\", \"scheme\", \"decrypt\", \"ripem\", \"amend\", \"patent\", \"crypt\", \"plaintext\", \"imak\", \"surveil\", \"classifi\", \"intellect\", \"cryptograph\", \"cadr\", \"chastiti\", \"ciphertext\", \"netcom\", \"amour\", \"clipper\", \"algorithm\", \"preview\", \"laptop\", \"aura\", \"hacker\", \"secur\", \"enforc\", \"privat\", \"key\", \"agenc\", \"clinton\", \"devic\", \"secret\", \"phone\", \"trust\", \"govern\", \"communic\", \"technolog\", \"public\", \"block\", \"legal\", \"propos\", \"protect\", \"messag\", \"data\", \"administr\", \"number\", \"need\", \"develop\", \"inform\", \"sale\", \"espn\", \"printer\", \"clemen\", \"uucp\", \"forsal\", \"biker\", \"sweden\", \"footbal\", \"torqu\", \"miner\", \"processor\", \"infecti\", \"garag\", \"theoret\", \"deliveri\", \"itali\", \"switzerland\", \"click\", \"canadien\", \"intestin\", \"harley\", \"wagon\", \"alcohol\", \"corvett\", \"chuck\", \"lesson\", \"genesi\", \"sigh\", \"dive\", \"buy\", \"price\", \"ship\", \"offer\", \"sell\", \"music\", \"floppi\", \"disk\", \"tape\", \"brand\", \"manual\", \"drive\", \"card\", \"excel\", \"turbo\", \"condit\", \"packag\", \"ticket\", \"purchas\", \"interest\", \"channel\", \"ask\", \"item\", \"model\", \"origin\", \"plus\", \"includ\", \"modem\", \"hard\", \"best\", \"control\", \"trade\", \"mail\", \"good\", \"email\", \"work\", \"book\", \"power\", \"great\", \"penalti\", \"comic\", \"wolverin\", \"amiga\", \"bag\", \"hulk\", \"galaxi\", \"cloud\", \"arena\", \"bird\", \"gant\", \"spider\", \"mint\", \"erzurum\", \"silver\", \"pop\", \"mutant\", \"mazda\", \"mini\", \"shutout\", \"found\", \"scsi\", \"ninja\", \"replay\", \"marvel\", \"balloon\", \"oort\", \"aveng\", \"refere\", \"trek\", \"captain\", \"hawk\", \"flash\", \"green\", \"distanc\", \"tail\", \"slash\", \"star\", \"mask\", \"planet\", \"circl\", \"burst\", \"gamma\", \"appear\", \"black\", \"cover\", \"copi\", \"blue\", \"annual\", \"book\", \"hole\", \"stadium\", \"incred\", \"moon\", \"print\", \"forc\", \"white\", \"issu\", \"left\", \"earth\"], \"Freq\": [2208.0, 1629.0, 1712.0, 1451.0, 1397.0, 1542.0, 957.0, 1292.0, 1184.0, 1927.0, 796.0, 866.0, 792.0, 1372.0, 2532.0, 1607.0, 3032.0, 793.0, 1569.0, 622.0, 871.0, 708.0, 842.0, 1300.0, 3791.0, 729.0, 997.0, 2938.0, 896.0, 1514.0, 895.5596917883022, 593.9288895643987, 221.70587758317643, 178.4998101390767, 158.4379058335259, 153.96385670894438, 140.85664325408314, 134.55332904525918, 116.89857099114566, 113.0812484754595, 109.33352394715098, 96.89714431062656, 94.44355501961223, 93.36866554655538, 88.31416315524554, 85.264113060406, 96.89985560613484, 83.09272242621181, 81.82329750043613, 81.68231013400575, 79.79997507138812, 78.16359929616304, 75.43531582696755, 71.31664007793515, 70.64180588832383, 70.21878932104258, 66.58720265167116, 62.61968162722517, 60.68600745791846, 57.10617748316039, 277.41849759107396, 85.82415293483655, 484.8267940552755, 295.5166129807797, 197.42381761099773, 330.95818370505714, 264.5366242633448, 653.4643394069835, 398.06925948571813, 586.1347864659458, 1252.8505342536391, 254.9020114666888, 365.3806704381568, 482.227000574777, 508.6856135362136, 1307.2786295984995, 934.5155856512181, 470.4436134638251, 329.07937695779964, 317.19821375258056, 564.1042032294367, 595.29538250057, 616.3373596123737, 572.7766692405887, 524.1695316880331, 1124.4677869772765, 969.4420102289231, 605.6047447588526, 889.0555843598943, 610.527876409988, 528.7494907934066, 599.9250164129344, 377.9395848964582, 553.3251090243452, 416.9300477771047, 355.84218759206664, 415.9367937172423, 371.01287848869333, 700.4594050300202, 436.42015488784506, 363.73653258828773, 272.45478857870756, 246.39540718614933, 219.8443765038261, 153.93184367422896, 148.90519029992902, 122.0063084859443, 118.56029796747279, 117.44151102640743, 107.28257961395319, 103.69329835747062, 100.25083913428848, 96.40815010403817, 91.15779442762371, 86.85261657849937, 84.95255053399421, 83.6626626547045, 83.41926414224741, 83.12049824052623, 79.26288322165867, 77.45820989121374, 68.58085656148101, 68.2220116510029, 68.13350469926121, 76.3192579219458, 66.22817617427773, 65.75184550808768, 64.63619378646096, 184.7725577754041, 154.17896928867293, 254.80246001941606, 94.86914999462282, 212.37692842553895, 173.70469401645974, 391.60855135468734, 205.07614509647604, 490.204346238768, 397.5190553199683, 752.0754075420899, 450.66115372985735, 310.4071883251211, 1564.2300113682495, 1895.420668975922, 436.4964315536644, 1075.400098449596, 178.79838834473736, 491.9071395880152, 367.3801381142959, 336.8086661101095, 780.7897982393085, 319.2553987646326, 254.67114413683458, 667.0225182656127, 973.7249437748908, 649.9386079206586, 1108.8002767755668, 794.6099861701994, 388.8238670299555, 756.9237812046846, 465.32526069050505, 695.0009586862286, 583.8116143610118, 418.73657961818566, 395.17116859538334, 511.055723788338, 399.10094054312566, 474.6417029676753, 513.693011777891, 465.2595324265353, 459.64187553749326, 1711.9109452166108, 662.9699130562606, 594.0949901194903, 458.38478811152856, 411.9000835552358, 367.94218740104196, 329.7859740290285, 324.1660006050408, 320.45609392858415, 317.75567883318314, 283.39847961135547, 278.7396001797509, 257.1791733083086, 250.64185154631988, 248.43628869105473, 211.19790413851825, 203.87702628952482, 192.0805071718158, 188.83306391599984, 168.4798685930503, 168.43388433179132, 167.83616537565936, 164.25833650493234, 158.8149837035052, 141.19645962118807, 136.60593959957663, 133.68369494273776, 130.67366413622872, 130.2800624471243, 128.27867145905438, 581.5964002050911, 277.795475919497, 152.11928869500997, 785.0088882676016, 451.42427136952784, 269.08744804931956, 285.1642053554857, 360.8271521843762, 435.2833261061828, 275.27646442134943, 356.1113575379338, 297.1967282381743, 764.4774779971938, 302.336766187849, 1072.2653502102871, 577.2299155916936, 439.627795931953, 416.5333227480762, 362.57617027718214, 471.95030898343134, 356.4588330053432, 328.8882380712748, 377.1963916690179, 313.11444617578763, 300.95889819517845, 573.4175828555664, 520.9260440432729, 519.045915652603, 508.7176821187231, 365.35279161741255, 335.9926348991283, 324.0877417238587, 319.6573326739325, 298.9369694793441, 269.7824121762669, 201.45589522429748, 185.62555409619517, 184.30470608105423, 173.07793326364686, 170.72691161601722, 168.69741467293872, 167.9092362648667, 157.2733606712902, 156.352393393008, 151.88285364337258, 148.9936358279412, 135.01425723403875, 125.03011834879861, 123.45048723468618, 123.17267346168443, 119.18746483928375, 115.34171670578611, 111.3778667264915, 111.22643517709702, 106.36125424404173, 413.91721693802225, 224.44712600931197, 528.3894750471505, 436.5992442206673, 1215.721246937299, 342.49467145443174, 304.64206462103004, 410.1410996844424, 513.2769054575106, 325.0898661679706, 404.55268689521455, 302.6121134400831, 442.6655909538159, 398.4383802137888, 303.5325129210297, 213.74774228375279, 381.44352460360375, 240.80659747442485, 384.6999558825212, 297.3422728092614, 328.7683601329894, 533.0677844137833, 324.315844840132, 348.1098842778981, 304.4994528569146, 312.0474478106354, 728.0703485211257, 534.5094492724302, 495.0793775746876, 384.21631183595287, 348.80224734625847, 251.68375793991405, 244.53518470134975, 237.36806140041529, 235.4304741287669, 228.84112245172696, 215.38351780134212, 209.62690872499792, 177.40904215307347, 173.60002703540923, 168.95563831218723, 165.88878827951797, 164.26888745450074, 159.29222351049665, 151.54678169139856, 151.0062580015063, 147.4927135984076, 140.55572931827277, 136.45810183579582, 163.41877726553014, 134.45311354071475, 121.82656646543981, 116.53788455999897, 116.0800823235367, 111.18905167542235, 111.15359962395235, 1423.9005408336302, 312.5701177155764, 853.4128982424858, 466.8129846870598, 2104.6761824491077, 246.4581536369949, 1097.9662191402722, 239.58279103815192, 224.50318667123068, 234.40243115030455, 434.5908020846875, 240.26065909421445, 214.68631629382128, 383.86715679746027, 289.06613924680875, 237.70154865714503, 316.8391743800209, 974.3347094348254, 284.4907331061218, 251.39153902911062, 316.09258979809465, 280.692714997544, 312.416928196529, 259.1395822912184, 268.6497484501568, 248.47313383818133, 422.7466518454242, 414.04446392708115, 423.67557482014297, 218.9316659147641, 209.1697311381366, 156.18773805687192, 154.19998574139476, 121.00314297350614, 107.40366291271212, 98.8408529644088, 97.55646958442978, 102.36532009519311, 95.62587861082781, 80.42266260835957, 80.40327475725066, 79.59514649375478, 70.34249040672242, 59.5582293712205, 58.642091650336404, 57.406509616004506, 56.204215823301745, 54.33346463696846, 52.839453204673525, 50.92232503631011, 50.4846056559226, 50.33567844578447, 48.24999525005179, 45.09736268345484, 44.006642550837796, 43.97966400665728, 72.92736312817686, 187.3024088980219, 470.5006159473921, 196.5465108985803, 635.255878581086, 358.00029139163746, 162.0075799561489, 817.5718055752942, 536.5934404285383, 1107.4451220147967, 941.8891065469513, 285.49955273960956, 358.3543120001645, 493.7098005115816, 348.86613622201276, 278.7628567499954, 918.6999097491762, 908.9074851593741, 716.2258686250649, 323.024749147677, 240.10493555118398, 238.171090919278, 724.404139920358, 457.3639387845834, 431.101425281428, 414.5929700198301, 577.5012275265485, 416.82668761056976, 553.9126706388035, 363.98851893043275, 288.84685429393363, 430.19517204743073, 349.54871279880433, 297.86125225292267, 305.3782898406465, 575.955179816074, 542.757199696298, 495.64181355903855, 369.38881852879945, 294.4315821970426, 209.45456396797087, 200.14292049462088, 196.34039073569016, 183.10727034427873, 170.9095062181319, 151.51549554142136, 147.886260659021, 122.24131199035588, 120.83951881477078, 118.4107540623644, 117.93637984696892, 110.28842376515539, 97.91742133932328, 93.90136490931415, 89.03808153935508, 88.25093920889753, 87.85653636404585, 86.7226854691529, 83.67408177492362, 82.97324742166067, 80.31445253246125, 80.24074987635413, 79.56727608537982, 78.49320994270028, 76.85611932604365, 234.3646925725236, 378.3644634344908, 1529.0584887892796, 272.4559587632132, 715.7669289273614, 577.2486170179303, 175.5825386310852, 396.04506698819415, 212.05737041126287, 189.65049563337047, 503.29580073253936, 329.7184020685165, 269.98022391400775, 204.15899389768356, 315.69632888760447, 233.5520906617727, 365.9741569891118, 485.95730604576505, 604.0778548388919, 580.8959678061306, 388.43760861210063, 346.81778037717527, 314.1833735267739, 472.83238321291606, 413.85672514587884, 443.4188508923781, 234.34176763489054, 243.0725026935285, 272.18391466125155, 303.35716791019263, 247.18269733609355, 247.83321790101223, 956.174810095968, 791.2866907543345, 445.6620739040829, 342.36466564501745, 233.88151903290301, 219.5773809400037, 215.72411819851678, 196.8101268599731, 158.09203096343248, 155.41082063205295, 130.46663871669134, 129.73816813181176, 116.23257112687018, 113.40005728616659, 107.59549310391, 99.90117237463308, 93.65682015907494, 91.32762994393296, 79.27074032956986, 76.97907634473177, 75.78308865122125, 70.84764155150724, 70.07384349111273, 67.2317305230352, 565.5307236071652, 384.46779323280157, 45.490936876687954, 41.7214867115067, 40.16714983542006, 40.04801017742712, 805.0464822408428, 275.2921545240756, 287.38876430610657, 443.7711396139646, 334.7945707563159, 162.6161174130289, 232.4731884278258, 260.03429466192586, 426.07668561963874, 175.51598967791486, 713.9917239079599, 259.0707757377009, 349.7131155361791, 543.0493796923049, 235.4135439307858, 209.00531269705587, 230.92821877837036, 256.0531894705272, 283.72752580211954, 269.0466766779459, 206.81375166429487, 263.667663386762, 265.0366594568672, 220.61529570700299, 213.16691483510155, 621.6455467867705, 174.15116455637693, 107.99976767792042, 87.27848606469938, 82.50443518760527, 76.27424510183434, 73.57833509904589, 68.19988210122669, 66.99045727360519, 66.45538648211058, 66.34928019257016, 63.19994483064755, 59.72670532456174, 59.58589501957527, 57.81615758090627, 54.4554045480324, 54.398579076085916, 47.86665162636134, 46.71054491288656, 45.67436822024049, 45.232939698272276, 44.193984313611885, 43.93693961331136, 39.19026425653898, 38.025831926338746, 37.539327232409306, 37.771555458735044, 35.61951253345389, 34.882120190788896, 34.78218838500928, 121.33640855049899, 730.2806482736858, 393.4748941440099, 609.1026216815637, 498.177571168205, 86.926202305735, 111.59049321098043, 309.89261931573964, 219.47697950755935, 152.1635036453388, 292.8833425083641, 516.4617969408647, 301.5937226600429, 211.53793915669283, 85.6477738741645, 313.9088298844674, 291.88677873750805, 136.20117662762846, 142.14672684710976, 387.35097769685933, 107.9902706176356, 320.6609468860818, 146.57951111300014, 204.426997836241, 275.73343669083863, 157.71787539053364, 472.55832365709585, 114.05339053863106, 220.2328395184801, 245.4724835333298, 227.28534811853052, 172.66344518174566, 265.99756926899295, 261.5737521246343, 185.30848111721008, 209.96964120008556, 181.83155295848795, 176.72309678246637, 174.92161182876305, 211.74164287210505, 169.16329002561883, 124.45678595115821, 123.32064147088502, 116.3854154069702, 113.97516260722622, 100.5562840358605, 91.77215740245856, 87.47203603911215, 67.24924465473916, 65.68907773288778, 61.38459206560433, 58.61419394298748, 58.55073335382016, 57.85569828239514, 54.69113362986274, 53.85979620928613, 53.7389563622063, 50.89895152568364, 50.355755355177614, 49.007819489149284, 80.79797399552345, 46.63507286024924, 46.37943017035462, 44.93175862050513, 43.707083100983, 43.17052363444911, 40.216232348911156, 39.980643242218264, 38.18124952237545, 121.01941759176559, 118.20553841348749, 68.99907135955995, 163.89008161180837, 113.20353700997494, 66.53645616878337, 52.497693710859814, 252.47562143675043, 90.13787136337304, 156.99116766739522, 82.5512023582379, 94.69057623856274, 70.29336284919984, 329.1922168698612, 205.7681464865848, 252.478416812761, 274.0801199764716, 168.31540249806568, 98.51763112128441, 250.20809016914922, 93.85920179313831, 81.7605830140538, 79.27405902779601, 120.21372913451783, 112.4929468743586, 152.1369324315412, 98.44085084311305, 108.34358143513239, 99.86688136941044, 90.66387412017161], \"Total\": [2208.0, 1629.0, 1712.0, 1451.0, 1397.0, 1542.0, 957.0, 1292.0, 1184.0, 1927.0, 796.0, 866.0, 792.0, 1372.0, 2532.0, 1607.0, 3032.0, 793.0, 1569.0, 622.0, 871.0, 708.0, 842.0, 1300.0, 3791.0, 729.0, 997.0, 2938.0, 896.0, 1514.0, 896.4882253171028, 594.8574140886277, 222.63467247811803, 179.42875157598218, 159.366561702723, 154.89275021368192, 141.78540956007305, 135.4820690983844, 117.82779667159248, 114.01012046442402, 110.26233530991286, 97.82577813182293, 95.3720761743503, 94.29737407519345, 89.24265926138358, 86.19317381251302, 97.96448194730144, 84.02151314360461, 82.75214119454958, 82.61115252742147, 80.72870238682943, 79.09227866583613, 76.36395452074542, 72.24544603056883, 71.57063890317589, 71.14784762247969, 67.51601369440493, 63.548290624722966, 61.61470086339369, 58.03475856024114, 304.91227243997133, 89.91467122556614, 604.4214735821662, 360.4322633824602, 233.69033053535895, 426.8557109331496, 330.6384084430289, 972.5347159429543, 576.1510036561054, 960.2956488071728, 2532.9843774758374, 345.245407836361, 545.8398064310766, 799.8264228660538, 861.6319188377844, 3032.474446588103, 1966.9544400633204, 795.7265794268694, 501.4522218134419, 492.8195757197899, 1095.589412938661, 1216.4841649684388, 1283.8887823987554, 1177.766802288658, 1058.444413560367, 3791.387563942566, 3203.8676874575763, 1514.9110377489637, 2938.669958309316, 1542.7871560208064, 1403.7000448854449, 1926.025147965786, 732.9775738317229, 1976.600984754492, 1005.9344172882849, 691.8505591232118, 1594.7721717524555, 1007.6947436606199, 701.3908392085135, 437.35162418313007, 364.6680267976239, 273.3862815086126, 247.32686138068087, 220.77587563764374, 154.86361641375748, 149.8366734546159, 122.93780503156239, 119.49175491316709, 118.37538654599325, 108.21419806382539, 104.6248755388357, 101.18264617333065, 97.33968253975956, 92.08925904362006, 87.78419645341064, 85.88406308428408, 84.5941740349793, 84.35125525689864, 84.05210723833909, 80.19454555225414, 78.3936946050112, 69.51228666815719, 69.15361926966268, 69.06507643593366, 77.36799225762923, 67.15978930108442, 66.68377282244089, 65.56781650010551, 191.98026837086329, 160.92661710839843, 273.10960532870234, 98.02376443453286, 240.58129731502305, 193.54314705825456, 494.90379918163154, 238.38230705888233, 657.9155566768937, 527.452282469377, 1129.0252706433923, 629.0819222556676, 405.0623219779667, 2938.669958309316, 3791.387563942566, 635.4566631075344, 2003.4515522706631, 213.34411761105173, 816.745899631464, 554.539568673419, 495.5575084005936, 1542.7871560208064, 475.68294673915693, 347.63150142417385, 1413.3550780361747, 2532.9843774758374, 1394.2245100124592, 3203.8676874575763, 1926.025147965786, 664.7831144516758, 1976.600984754492, 934.194792244572, 2069.7994821451884, 1701.6350260566028, 902.8542486626795, 798.9529514968449, 1594.7721717524555, 845.1764660101558, 1463.5341425417682, 2981.7062193487463, 1966.9544400633204, 3032.474446588103, 1712.8446364217305, 663.9035986914053, 595.0286825801865, 459.318498614373, 412.83381572211977, 368.87587401337714, 330.7196660787679, 325.09968517528307, 321.3898219845586, 318.68937850158534, 284.3321914570232, 279.6732941866471, 258.1131271165508, 251.5755663579632, 249.37002417601437, 212.13158933079745, 204.81070767095426, 193.01434807879573, 189.76676074511647, 169.41354741952338, 169.367576224182, 168.7698572838686, 165.1920298282142, 159.74870355175116, 142.1302069375318, 137.53970422247795, 134.6174033446159, 131.60755910132625, 131.21378510894894, 129.21251504547502, 592.6201014735096, 280.9742496922256, 154.2925156875716, 884.58822883859, 505.97275412849734, 290.7239897880118, 323.0034113468113, 429.894912516284, 553.868280774024, 321.96483814021605, 468.60105215372005, 365.8390272638732, 1463.5341425417682, 395.0157426330471, 3032.474446588103, 1292.0551128726106, 849.7129088599235, 855.147001323029, 665.9263410092417, 1403.7000448854449, 903.1851150856533, 863.450826027512, 2981.7062193487463, 862.2524359811487, 597.2505391753217, 574.3396085758911, 521.8480483013263, 519.9679954722563, 509.6396610991255, 366.27477934799487, 336.91462255943867, 325.0097035523818, 320.57929307967777, 299.8589353817879, 270.704505616008, 202.37791236738295, 186.5475918285701, 185.2266645125626, 173.99988856883846, 171.64894111447148, 169.61937679693017, 168.83121031396038, 158.19561163683866, 157.27438025652668, 152.8048225054265, 149.91643761336883, 135.93623143750284, 125.95268113275887, 124.37265580017079, 124.09463574830465, 120.1094497500299, 116.26368679939891, 112.29990095731043, 112.1484499704663, 107.28321285242012, 419.59298314046725, 227.4903654091382, 544.3273113873544, 461.24336319268116, 1372.937671137376, 386.10206442503767, 340.3792077803297, 501.17264010413675, 683.7564981451138, 416.6713829322367, 592.6387171146506, 406.1212950173502, 818.6141727710472, 730.6669991328914, 484.01077127411025, 263.6865125925073, 820.6215178253344, 334.2803809170461, 903.1851150856533, 561.8189233670084, 750.3355248543651, 2981.7062193487463, 913.3652036954294, 1607.5011654442528, 902.6377343727021, 1569.7299436044755, 729.0005707248725, 535.4400551209583, 496.0095398455737, 385.16488004484444, 349.73242691332206, 252.61392761254587, 245.46558217224268, 238.29818299804234, 236.38289116996205, 229.7712902870003, 216.3136267555848, 210.5570835885272, 178.33916570636754, 174.5302997284977, 169.8857717646899, 166.8189484370675, 165.19907546959857, 160.2223375104723, 152.47694963272411, 151.93657550711325, 148.42281344891882, 141.48593298415994, 137.38825775224151, 164.54667451524972, 135.38332070048168, 122.7566785598291, 117.46798986941073, 117.01023964439553, 112.11918677017823, 112.08369661138194, 1451.1096617357643, 315.8531023900493, 871.3972146647556, 474.4788988570169, 2208.629110856822, 250.37170606358217, 1184.1892715935223, 248.51609986865748, 233.23881614212695, 251.12394166793257, 515.1397851341876, 267.5757084965644, 241.89355759689454, 561.1519533425723, 396.8046850578582, 294.5626357428249, 471.76226896539254, 2981.7062193487463, 448.4245504218477, 380.51513671440495, 1283.8887823987554, 889.378443156579, 1976.600984754492, 1009.8748638474892, 3203.8676874575763, 2532.9843774758374, 423.6663099806853, 414.9643038516927, 424.74251579208106, 219.85148394303826, 210.089438771836, 157.1075086289059, 155.1197064190579, 121.92285874989074, 108.32377669923122, 99.76066266847663, 98.47630471068538, 103.33341920330288, 96.54565669717066, 81.34250688430477, 81.32302206290055, 80.51477483508671, 71.26231394633263, 60.47803938855515, 59.56187919066732, 58.32625844166502, 57.12414941792553, 55.25316447205453, 53.75922325995994, 51.842242930138774, 51.40428209569417, 51.255392172126115, 49.16967269972893, 46.01728787974285, 44.926736145971496, 44.899378806317, 74.63763814080856, 197.9099151384226, 522.8784835801546, 211.14201186722312, 719.5749187742387, 402.13142983092877, 176.84097606320086, 997.753652757761, 635.2096517196554, 1397.5426661975903, 1300.543032080112, 346.30090804283344, 457.85929723919185, 687.04881597412, 471.72287369541465, 362.2266231372497, 1542.413750947536, 1569.7299436044755, 1210.840468663631, 454.76690709898946, 318.894356084495, 317.28285102238925, 1514.9110377489637, 809.1432510215628, 791.1646106500308, 749.0105060231116, 1607.5011654442528, 1010.7841318870139, 1927.6867727022125, 958.7954801680402, 522.3432967159721, 1556.2446348370956, 1091.386338053125, 777.9001048650284, 1062.4326660351437, 576.8747534294203, 543.6765860276945, 496.56122269655145, 370.30824237494966, 295.35095980452337, 210.37395474781408, 201.062359982042, 197.25979418883762, 184.02672981248995, 171.82888607967365, 152.4349025495124, 148.80563841142362, 123.16076199826976, 121.75891712594367, 119.33022859770952, 118.85575302167561, 111.2078036484034, 98.83689705590818, 94.82078252924481, 89.95799405296796, 89.170602566046, 88.77593278255941, 87.6425078674134, 84.59363863303089, 83.89265371496685, 81.23385340703439, 81.16013192650774, 80.48666602262165, 79.41259848440319, 77.77551743263014, 238.59445576174636, 387.62128964959226, 1629.8072305255182, 293.34687770630114, 842.237981515682, 709.7109073056105, 194.0503173401154, 491.05449392450544, 241.6295479865907, 227.67436180553895, 770.1104248494696, 458.4034103733194, 358.328531623351, 252.42235245076208, 459.5519131801746, 317.6860608282404, 612.3978651370221, 997.6802524467549, 1607.5011654442528, 1542.413750947536, 853.1236179140175, 722.0707872004086, 609.4804042048851, 1927.6867727022125, 1594.7721717524555, 2069.7994821451884, 352.33887634436655, 437.16031321468796, 791.1646106500308, 2003.4515522706631, 1174.15889139888, 3791.387563942566, 957.101205851887, 792.2131924750896, 446.5885031836894, 343.29105104923616, 234.8079084848276, 220.50379961190228, 216.6505699497523, 197.76626983062715, 159.01843673241004, 156.3372357139102, 131.39316933549517, 130.66461890014986, 117.1589827916974, 114.32645262931118, 108.52249343736725, 100.82848444767006, 94.58331182664709, 92.25409979401397, 80.19716876382735, 77.90546799406441, 76.70948599044637, 71.77404665249608, 71.00083049462312, 68.16060678723527, 574.6503478771156, 391.8239139089582, 46.41842296531396, 42.648091619939244, 41.09431268958044, 40.97485020399816, 866.7419776657961, 299.9604428461301, 319.2805699952067, 511.68616087124127, 402.1922800845228, 180.35425715130472, 276.68202444263943, 321.40854296791366, 596.1293756469969, 218.14553009326497, 1292.0551128726106, 367.9169645558521, 568.3956012099304, 1060.2269737908498, 335.37967203439973, 296.8109057491921, 388.8772037955864, 478.33662648152216, 809.1432510215628, 853.7318690046933, 375.5466494932801, 1556.2446348370956, 1701.6350260566028, 818.6141727710472, 1569.7299436044755, 622.5718148617032, 175.07748819672707, 108.92607093395327, 88.20492715149925, 83.43107792678434, 77.2004444655331, 74.5046889538025, 69.12622216474665, 67.91692214343963, 67.38166149923175, 67.27797751486737, 64.12635712200556, 60.65497976769733, 60.512419901959845, 58.742879943916044, 55.3818686535264, 55.32500446908051, 48.79315830545094, 47.63765637319338, 46.60107923531149, 46.15998994702462, 45.12025674711019, 44.86321875230928, 40.116740039445794, 38.9521231735197, 38.46571402853215, 38.70887650540861, 36.54577715160819, 35.808647053387915, 35.70886399195453, 127.32887086720429, 796.0633608279636, 425.4203478892946, 708.8970088217251, 578.3985081643317, 94.06442618514644, 123.83366224510414, 389.9960790433368, 268.72926405278565, 179.0375727368883, 401.2931002444895, 793.1549427354437, 429.99472564739125, 283.7813529643699, 97.37852685296066, 540.8433363695697, 503.9168900237689, 184.17861165635182, 202.66633861860433, 926.1468171519949, 141.0854517452645, 753.7012770176484, 230.64833475854294, 391.9378677800754, 638.0419961844863, 271.05447134241325, 1927.6867727022125, 157.82902617176694, 607.5969754020989, 843.2207199629007, 788.154229882599, 414.2884066943595, 1397.5426661975903, 1976.600984754492, 687.04881597412, 2069.7994821451884, 880.0412343971568, 991.3150285338779, 922.253507243268, 212.66059441888441, 170.08207519917815, 125.37555319117676, 124.239762496881, 117.30427725192939, 114.89393042695198, 101.4751761030357, 92.69099195281977, 88.39099941140404, 68.16819943792443, 66.60801554621875, 62.303376504579774, 59.53306499665409, 59.469980692125, 58.77742450114725, 55.61035913542038, 54.77858001291775, 54.65803075848448, 51.81787840974631, 51.274749574818394, 49.92751935193491, 82.35434300003959, 47.55394620276018, 47.29850223945948, 45.85059401144423, 44.625934298320075, 44.08930497096148, 41.13508068359618, 40.89969707569757, 39.10010763988799, 129.06347382814477, 128.07260812488076, 72.95186424262702, 189.9654328035287, 128.08583444287308, 71.27743129212156, 54.61875475833206, 351.60919310058637, 103.28304487872121, 202.83767536470592, 94.73676308007192, 113.01087528430068, 77.68032939988021, 628.4426220426403, 352.5827491460867, 513.5600246111019, 630.6213603444033, 383.07044180906973, 150.1502557457961, 880.0412343971568, 146.1643622478524, 108.8414693429594, 102.29136259133551, 287.54473734752895, 275.2650712393088, 683.5065828945496, 321.4590974345317, 724.2336065693532, 792.4288318446994, 416.6713829322367], \"Category\": [\"Default\", \"Default\", \"Default\", \"Default\", \"Default\", \"Default\", \"Default\", \"Default\", \"Default\", \"Default\", \"Default\", \"Default\", \"Default\", \"Default\", \"Default\", \"Default\", \"Default\", \"Default\", \"Default\", \"Default\", \"Default\", \"Default\", \"Default\", \"Default\", \"Default\", \"Default\", \"Default\", \"Default\", \"Default\", \"Default\", \"Topic1\", \"Topic1\", \"Topic1\", \"Topic1\", \"Topic1\", \"Topic1\", \"Topic1\", \"Topic1\", \"Topic1\", \"Topic1\", \"Topic1\", \"Topic1\", \"Topic1\", \"Topic1\", \"Topic1\", \"Topic1\", \"Topic1\", \"Topic1\", \"Topic1\", \"Topic1\", \"Topic1\", \"Topic1\", \"Topic1\", \"Topic1\", \"Topic1\", \"Topic1\", \"Topic1\", \"Topic1\", \"Topic1\", \"Topic1\", \"Topic1\", \"Topic1\", \"Topic1\", \"Topic1\", \"Topic1\", \"Topic1\", \"Topic1\", \"Topic1\", \"Topic1\", \"Topic1\", \"Topic1\", \"Topic1\", \"Topic1\", \"Topic1\", \"Topic1\", \"Topic1\", \"Topic1\", \"Topic1\", \"Topic1\", \"Topic1\", \"Topic1\", \"Topic1\", \"Topic1\", \"Topic1\", \"Topic1\", \"Topic1\", \"Topic1\", \"Topic1\", \"Topic1\", \"Topic1\", \"Topic1\", \"Topic1\", \"Topic1\", \"Topic1\", \"Topic1\", \"Topic1\", \"Topic1\", \"Topic1\", \"Topic2\", \"Topic2\", \"Topic2\", \"Topic2\", \"Topic2\", \"Topic2\", \"Topic2\", \"Topic2\", \"Topic2\", \"Topic2\", \"Topic2\", \"Topic2\", \"Topic2\", \"Topic2\", \"Topic2\", \"Topic2\", \"Topic2\", \"Topic2\", \"Topic2\", \"Topic2\", \"Topic2\", \"Topic2\", \"Topic2\", \"Topic2\", \"Topic2\", \"Topic2\", \"Topic2\", \"Topic2\", \"Topic2\", \"Topic2\", \"Topic2\", \"Topic2\", \"Topic2\", \"Topic2\", \"Topic2\", \"Topic2\", \"Topic2\", \"Topic2\", \"Topic2\", \"Topic2\", \"Topic2\", \"Topic2\", \"Topic2\", \"Topic2\", \"Topic2\", \"Topic2\", \"Topic2\", \"Topic2\", \"Topic2\", \"Topic2\", \"Topic2\", \"Topic2\", \"Topic2\", \"Topic2\", \"Topic2\", \"Topic2\", \"Topic2\", \"Topic2\", \"Topic2\", \"Topic2\", \"Topic2\", \"Topic2\", \"Topic2\", \"Topic2\", \"Topic2\", \"Topic2\", \"Topic2\", \"Topic2\", \"Topic2\", \"Topic2\", \"Topic2\", \"Topic2\", \"Topic3\", \"Topic3\", \"Topic3\", \"Topic3\", \"Topic3\", \"Topic3\", \"Topic3\", \"Topic3\", \"Topic3\", \"Topic3\", \"Topic3\", \"Topic3\", \"Topic3\", \"Topic3\", \"Topic3\", \"Topic3\", \"Topic3\", \"Topic3\", \"Topic3\", \"Topic3\", \"Topic3\", \"Topic3\", \"Topic3\", \"Topic3\", \"Topic3\", \"Topic3\", \"Topic3\", \"Topic3\", \"Topic3\", \"Topic3\", \"Topic3\", \"Topic3\", \"Topic3\", \"Topic3\", \"Topic3\", \"Topic3\", \"Topic3\", \"Topic3\", \"Topic3\", \"Topic3\", \"Topic3\", \"Topic3\", \"Topic3\", \"Topic3\", \"Topic3\", \"Topic3\", \"Topic3\", \"Topic3\", \"Topic3\", \"Topic3\", \"Topic3\", \"Topic3\", \"Topic3\", \"Topic3\", \"Topic3\", \"Topic4\", \"Topic4\", \"Topic4\", \"Topic4\", \"Topic4\", \"Topic4\", \"Topic4\", \"Topic4\", \"Topic4\", \"Topic4\", \"Topic4\", \"Topic4\", \"Topic4\", \"Topic4\", \"Topic4\", \"Topic4\", \"Topic4\", \"Topic4\", \"Topic4\", \"Topic4\", \"Topic4\", \"Topic4\", \"Topic4\", \"Topic4\", \"Topic4\", \"Topic4\", \"Topic4\", \"Topic4\", \"Topic4\", \"Topic4\", \"Topic4\", \"Topic4\", \"Topic4\", \"Topic4\", \"Topic4\", \"Topic4\", \"Topic4\", \"Topic4\", \"Topic4\", \"Topic4\", \"Topic4\", \"Topic4\", \"Topic4\", \"Topic4\", \"Topic4\", \"Topic4\", \"Topic4\", \"Topic4\", \"Topic4\", \"Topic4\", \"Topic4\", \"Topic4\", \"Topic4\", \"Topic4\", \"Topic4\", \"Topic4\", \"Topic5\", \"Topic5\", \"Topic5\", \"Topic5\", \"Topic5\", \"Topic5\", \"Topic5\", \"Topic5\", \"Topic5\", \"Topic5\", \"Topic5\", \"Topic5\", \"Topic5\", \"Topic5\", \"Topic5\", \"Topic5\", \"Topic5\", \"Topic5\", \"Topic5\", \"Topic5\", \"Topic5\", \"Topic5\", \"Topic5\", \"Topic5\", \"Topic5\", \"Topic5\", \"Topic5\", \"Topic5\", \"Topic5\", \"Topic5\", \"Topic5\", \"Topic5\", \"Topic5\", \"Topic5\", \"Topic5\", \"Topic5\", \"Topic5\", \"Topic5\", \"Topic5\", \"Topic5\", \"Topic5\", \"Topic5\", \"Topic5\", \"Topic5\", \"Topic5\", \"Topic5\", \"Topic5\", \"Topic5\", \"Topic5\", \"Topic5\", \"Topic5\", \"Topic5\", \"Topic5\", \"Topic5\", \"Topic5\", \"Topic5\", \"Topic6\", \"Topic6\", \"Topic6\", \"Topic6\", \"Topic6\", \"Topic6\", \"Topic6\", \"Topic6\", \"Topic6\", \"Topic6\", \"Topic6\", \"Topic6\", \"Topic6\", \"Topic6\", \"Topic6\", \"Topic6\", \"Topic6\", \"Topic6\", \"Topic6\", \"Topic6\", \"Topic6\", \"Topic6\", \"Topic6\", \"Topic6\", \"Topic6\", \"Topic6\", \"Topic6\", \"Topic6\", \"Topic6\", \"Topic6\", \"Topic6\", \"Topic6\", \"Topic6\", \"Topic6\", \"Topic6\", \"Topic6\", \"Topic6\", \"Topic6\", \"Topic6\", \"Topic6\", \"Topic6\", \"Topic6\", \"Topic6\", \"Topic6\", \"Topic6\", \"Topic6\", \"Topic6\", \"Topic6\", \"Topic6\", \"Topic6\", \"Topic6\", \"Topic6\", \"Topic6\", \"Topic6\", \"Topic6\", \"Topic6\", \"Topic6\", \"Topic6\", \"Topic6\", \"Topic6\", \"Topic6\", \"Topic6\", \"Topic6\", \"Topic6\", \"Topic6\", \"Topic7\", \"Topic7\", \"Topic7\", \"Topic7\", \"Topic7\", \"Topic7\", \"Topic7\", \"Topic7\", \"Topic7\", \"Topic7\", \"Topic7\", \"Topic7\", \"Topic7\", \"Topic7\", \"Topic7\", \"Topic7\", \"Topic7\", \"Topic7\", \"Topic7\", \"Topic7\", \"Topic7\", \"Topic7\", \"Topic7\", \"Topic7\", \"Topic7\", \"Topic7\", \"Topic7\", \"Topic7\", \"Topic7\", \"Topic7\", \"Topic7\", \"Topic7\", \"Topic7\", \"Topic7\", \"Topic7\", \"Topic7\", \"Topic7\", \"Topic7\", \"Topic7\", \"Topic7\", \"Topic7\", \"Topic7\", \"Topic7\", \"Topic7\", \"Topic7\", \"Topic7\", \"Topic7\", \"Topic7\", \"Topic7\", \"Topic7\", \"Topic7\", \"Topic7\", \"Topic7\", \"Topic7\", \"Topic7\", \"Topic7\", \"Topic7\", \"Topic7\", \"Topic7\", \"Topic7\", \"Topic7\", \"Topic7\", \"Topic8\", \"Topic8\", \"Topic8\", \"Topic8\", \"Topic8\", \"Topic8\", \"Topic8\", \"Topic8\", \"Topic8\", \"Topic8\", \"Topic8\", \"Topic8\", \"Topic8\", \"Topic8\", \"Topic8\", \"Topic8\", \"Topic8\", \"Topic8\", \"Topic8\", \"Topic8\", \"Topic8\", \"Topic8\", \"Topic8\", \"Topic8\", \"Topic8\", \"Topic8\", \"Topic8\", \"Topic8\", \"Topic8\", \"Topic8\", \"Topic8\", \"Topic8\", \"Topic8\", \"Topic8\", \"Topic8\", \"Topic8\", \"Topic8\", \"Topic8\", \"Topic8\", \"Topic8\", \"Topic8\", \"Topic8\", \"Topic8\", \"Topic8\", \"Topic8\", \"Topic8\", \"Topic8\", \"Topic8\", \"Topic8\", \"Topic8\", \"Topic8\", \"Topic8\", \"Topic8\", \"Topic8\", \"Topic8\", \"Topic9\", \"Topic9\", \"Topic9\", \"Topic9\", \"Topic9\", \"Topic9\", \"Topic9\", \"Topic9\", \"Topic9\", \"Topic9\", \"Topic9\", \"Topic9\", \"Topic9\", \"Topic9\", \"Topic9\", \"Topic9\", \"Topic9\", \"Topic9\", \"Topic9\", \"Topic9\", \"Topic9\", \"Topic9\", \"Topic9\", \"Topic9\", \"Topic9\", \"Topic9\", \"Topic9\", \"Topic9\", \"Topic9\", \"Topic9\", \"Topic9\", \"Topic9\", \"Topic9\", \"Topic9\", \"Topic9\", \"Topic9\", \"Topic9\", \"Topic9\", \"Topic9\", \"Topic9\", \"Topic9\", \"Topic9\", \"Topic9\", \"Topic9\", \"Topic9\", \"Topic9\", \"Topic9\", \"Topic9\", \"Topic9\", \"Topic9\", \"Topic9\", \"Topic9\", \"Topic9\", \"Topic9\", \"Topic9\", \"Topic9\", \"Topic9\", \"Topic9\", \"Topic9\", \"Topic9\", \"Topic9\", \"Topic9\", \"Topic9\", \"Topic9\", \"Topic9\", \"Topic9\", \"Topic9\", \"Topic9\", \"Topic9\", \"Topic10\", \"Topic10\", \"Topic10\", \"Topic10\", \"Topic10\", \"Topic10\", \"Topic10\", \"Topic10\", \"Topic10\", \"Topic10\", \"Topic10\", \"Topic10\", \"Topic10\", \"Topic10\", \"Topic10\", \"Topic10\", \"Topic10\", \"Topic10\", \"Topic10\", \"Topic10\", \"Topic10\", \"Topic10\", \"Topic10\", \"Topic10\", \"Topic10\", \"Topic10\", \"Topic10\", \"Topic10\", \"Topic10\", \"Topic10\", \"Topic10\", \"Topic10\", \"Topic10\", \"Topic10\", \"Topic10\", \"Topic10\", \"Topic10\", \"Topic10\", \"Topic10\", \"Topic10\", \"Topic10\", \"Topic10\", \"Topic10\", \"Topic10\", \"Topic10\", \"Topic10\", \"Topic10\", \"Topic10\", \"Topic10\", \"Topic10\", \"Topic10\", \"Topic10\", \"Topic10\", \"Topic10\", \"Topic10\", \"Topic10\", \"Topic10\", \"Topic10\", \"Topic10\", \"Topic10\"], \"logprob\": [30.0, 29.0, 28.0, 27.0, 26.0, 25.0, 24.0, 23.0, 22.0, 21.0, 20.0, 19.0, 18.0, 17.0, 16.0, 15.0, 14.0, 13.0, 12.0, 11.0, 10.0, 9.0, 8.0, 7.0, 6.0, 5.0, 4.0, 3.0, 2.0, 1.0, -4.75439977645874, -5.16510009765625, -6.1504998207092285, -6.367300033569336, -6.486499786376953, -6.515200138092041, -6.604100227355957, -6.649899959564209, -6.790599822998047, -6.823800086975098, -6.857500076293945, -6.9781999588012695, -7.003900051116943, -7.0152997970581055, -7.071000099182129, -7.106100082397461, -6.9781999588012695, -7.131899833679199, -7.147299766540527, -7.14900016784668, -7.172399997711182, -7.1930999755859375, -7.228600025177002, -7.284800052642822, -7.294300079345703, -7.300300121307373, -7.353400230407715, -7.41480016708374, -7.446199893951416, -7.506999969482422, -5.926400184631348, -7.099599838256836, -5.368100166320801, -5.8632001876831055, -6.266499996185303, -5.749899864196777, -5.973899841308594, -5.0696001052856445, -5.565299987792969, -5.178299903869629, -4.418700218200684, -6.011000156402588, -5.650899887084961, -5.373499870300293, -5.320099830627441, -4.376200199127197, -4.711900234222412, -5.398200035095215, -5.7555999755859375, -5.792399883270264, -5.216599941253662, -5.162799835205078, -5.1280999183654785, -5.201399803161621, -5.29010009765625, -4.526800155639648, -4.67519998550415, -5.145699977874756, -4.76170015335083, -5.137599945068359, -5.281400203704834, -5.155099868774414, -5.617099761962891, -5.235899925231934, -5.519000053405762, -5.6774001121521, -5.521299839019775, -5.6356000900268555, -4.967899799346924, -5.441100120544434, -5.623300075531006, -5.912199974060059, -6.012700080871582, -6.126800060272217, -6.4832000732421875, -6.51639986038208, -6.71560001373291, -6.74429988861084, -6.753699779510498, -6.844200134277344, -6.878200054168701, -6.9120001792907715, -6.951099872589111, -7.0071001052856445, -7.055500030517578, -7.077600002288818, -7.092899799346924, -7.095799922943115, -7.099400043487549, -7.146900177001953, -7.169899940490723, -7.2916998863220215, -7.296899795532227, -7.2982001304626465, -7.184800148010254, -7.326600074768066, -7.333799839019775, -7.350900173187256, -6.300600051879883, -6.481599807739258, -5.9791998863220215, -6.967199802398682, -6.161300182342529, -6.362299919128418, -5.5493998527526855, -6.196300029754639, -5.324900150299072, -5.53439998626709, -4.8968000411987305, -5.408999919891357, -5.781799793243408, -4.1645002365112305, -3.9725000858306885, -5.440899848937988, -4.5391998291015625, -6.333399772644043, -5.321400165557861, -5.61329984664917, -5.700200080871582, -4.859399795532227, -5.753699779510498, -5.979700088500977, -5.016900062561035, -4.638599872589111, -5.042799949645996, -4.508600234985352, -4.841800212860107, -5.556600093841553, -4.890399932861328, -5.3769001960754395, -4.975800037384033, -5.150100231170654, -5.482399940490723, -5.54040002822876, -5.283199787139893, -5.5304999351501465, -5.357100009918213, -5.27810001373291, -5.377099990844727, -5.389200210571289, -4.003600120544434, -4.952199935913086, -5.0619001388549805, -5.321199893951416, -5.428199768066406, -5.540999889373779, -5.6504998207092285, -5.667699813842773, -5.679200172424316, -5.687699794769287, -5.80210018157959, -5.818699836730957, -5.899199962615967, -5.924900054931641, -5.933800220489502, -6.096199989318848, -6.131400108337402, -6.190999984741211, -6.208099842071533, -6.3221001625061035, -6.322400093078613, -6.326000213623047, -6.347499847412109, -6.381199836730957, -6.498799800872803, -6.531799793243408, -6.553500175476074, -6.576200008392334, -6.5792999267578125, -6.594699859619141, -5.083199977874756, -5.8221001625061035, -6.424300193786621, -4.783299922943115, -5.33650016784668, -5.853899955749512, -5.795899868011475, -5.560500144958496, -5.372900009155273, -5.831200122833252, -5.573699951171875, -5.7546000480651855, -4.809800148010254, -5.737400054931641, -4.471399784088135, -5.090700149536133, -5.36299991607666, -5.416999816894531, -5.555699825286865, -5.292099952697754, -5.572700023651123, -5.653200149536133, -5.516200065612793, -5.702400207519531, -5.742000102996826, -4.95419979095459, -5.05019998550415, -5.053800106048584, -5.07390022277832, -5.404900074005127, -5.488699913024902, -5.524799823760986, -5.53849983215332, -5.605500221252441, -5.708199977874756, -6.000199794769287, -6.081999778747559, -6.089200019836426, -6.1519999504089355, -6.1656999588012695, -6.177700042724609, -6.182300090789795, -6.247799873352051, -6.253699779510498, -6.282700061798096, -6.3018999099731445, -6.400400161743164, -6.477200031280518, -6.4899001121521, -6.492199897766113, -6.525100231170654, -6.5578999519348145, -6.592800140380859, -6.594200134277344, -6.638899803161621, -5.280099868774414, -5.892099857330322, -5.035900115966797, -5.226799964904785, -4.202700138092041, -5.4695000648498535, -5.586599826812744, -5.289299964904785, -5.065000057220459, -5.521699905395508, -5.302999973297119, -5.593299865722656, -5.2129998207092285, -5.31820011138916, -5.5903000831604, -5.940999984741211, -5.361800193786621, -5.821800231933594, -5.353300094604492, -5.610899925231934, -5.51039981842041, -5.027100086212158, -5.52400016784668, -5.453199863433838, -5.587100028991699, -5.562600135803223, -4.468100070953369, -4.777200222015381, -4.853799819946289, -5.1072998046875, -5.203999996185303, -5.530399799346924, -5.559199810028076, -5.588900089263916, -5.597099781036377, -5.625500202178955, -5.686100006103516, -5.713200092315674, -5.880099773406982, -5.901800155639648, -5.928899765014648, -5.947199821472168, -5.956999778747559, -5.987800121307373, -6.037600040435791, -6.041200160980225, -6.064799785614014, -6.1128997802734375, -6.142499923706055, -5.962200164794922, -6.157299995422363, -6.255899906158447, -6.300300121307373, -6.304299831390381, -6.347300052642822, -6.347599983215332, -3.7973999977111816, -5.313700199127197, -4.309299945831299, -4.912600040435791, -3.406599998474121, -5.551300048828125, -4.057300090789795, -5.579599857330322, -5.644599914550781, -5.601500034332275, -4.984099864959717, -5.5767998695373535, -5.6894001960754395, -5.1082000732421875, -5.391900062561035, -5.587500095367432, -5.300099849700928, -4.176799774169922, -5.407800197601318, -5.531499862670898, -5.302499771118164, -5.421299934387207, -5.314199924468994, -5.501200199127197, -5.465099811553955, -5.5432000160217285, -4.965700149536133, -4.986499786376953, -4.963500022888184, -5.623700141906738, -5.669300079345703, -5.961400032043457, -5.9741997718811035, -6.216700077056885, -6.335899829864502, -6.419000148773193, -6.43209981918335, -6.383900165557861, -6.452000141143799, -6.625199794769287, -6.625400066375732, -6.635499954223633, -6.759099960327148, -6.92549991607666, -6.940999984741211, -6.962299823760986, -6.983500003814697, -7.017300128936768, -7.045199871063232, -7.082200050354004, -7.090799808502197, -7.093800067901611, -7.136099815368652, -7.203700065612793, -7.228099822998047, -7.228799819946289, -6.7230000495910645, -5.779799938201904, -4.858699798583984, -5.731599807739258, -4.558499813079834, -5.131999969482422, -5.924799919128418, -4.306099891662598, -4.727200031280518, -4.002699851989746, -4.164599895477295, -5.3582000732421875, -5.13100004196167, -4.810500144958496, -5.157800197601318, -5.3821001052856445, -4.189499855041504, -4.200200080871582, -4.438499927520752, -5.234799861907959, -5.531400203704834, -5.5395002365112305, -4.42710018157959, -4.88700008392334, -4.946100234985352, -4.985199928283691, -4.653800010681152, -4.979800224304199, -4.695499897003174, -5.1153998374938965, -5.34660005569458, -4.948200225830078, -5.155799865722656, -5.315899848937988, -5.290900230407715, -4.435299873352051, -4.494699954986572, -4.5854997634887695, -4.879499912261963, -5.106299877166748, -5.446899890899658, -5.492300033569336, -5.511499881744385, -5.581299781799316, -5.650199890136719, -5.770699977874756, -5.794899940490723, -5.985400199890137, -5.9969000816345215, -6.017199993133545, -6.021200180053711, -6.0883002281188965, -6.207200050354004, -6.249100208282471, -6.302299976348877, -6.311200141906738, -6.315700054168701, -6.32859992980957, -6.3643999099731445, -6.372799873352051, -6.405399799346924, -6.406300067901611, -6.41480016708374, -6.428299903869629, -6.449399948120117, -5.334499835968018, -4.855500221252441, -3.4590001106262207, -5.183899879455566, -4.2179999351501465, -4.43310022354126, -5.623300075531006, -4.809800148010254, -5.434500217437744, -5.546199798583984, -4.570199966430664, -4.993100166320801, -5.192999839782715, -5.472499847412109, -5.036600112915039, -5.3379998207092285, -4.888800144195557, -4.605199813842773, -4.387700080871582, -4.426799774169922, -4.82919979095459, -4.942599773406982, -5.041399955749512, -4.632599830627441, -4.7657999992370605, -4.696800231933594, -5.33459997177124, -5.297999858856201, -5.184899806976318, -5.076499938964844, -5.281199932098389, -5.278600215911865, -3.8461999893188477, -4.0355000495910645, -4.609600067138672, -4.873300075531006, -5.25439977645874, -5.317500114440918, -5.33519983291626, -5.4268999099731445, -5.645999908447266, -5.663099765777588, -5.8379998207092285, -5.843599796295166, -5.95359992980957, -5.9781999588012695, -6.030799865722656, -6.105000019073486, -6.16949987411499, -6.194699764251709, -6.336299896240234, -6.365600109100342, -6.38129997253418, -6.448599815368652, -6.45959997177124, -6.500999927520752, -4.371399879455566, -4.757299900054932, -6.89169979095459, -6.9781999588012695, -7.01609992980957, -7.019100189208984, -4.0183000564575195, -5.091300010681152, -5.048299789428711, -4.613900184631348, -4.895599842071533, -5.617800235748291, -5.26039981842041, -5.148399829864502, -4.6545000076293945, -5.541399955749512, -4.138299942016602, -5.152100086212158, -4.852099895477295, -4.4120001792907715, -5.247799873352051, -5.366799831390381, -5.267099857330322, -5.16379976272583, -5.061200141906738, -5.114299774169922, -5.377299785614014, -5.134500026702881, -5.129300117492676, -5.312699794769287, -5.347099781036377, -3.8749001026153564, -5.147299766540527, -5.625100135803223, -5.838099956512451, -5.894400119781494, -5.972899913787842, -6.008900165557861, -6.084799766540527, -6.102700233459473, -6.1107001304626465, -6.112299919128418, -6.160900115966797, -6.217400074005127, -6.219799995422363, -6.25, -6.309800148010254, -6.3109002113342285, -6.438799858093262, -6.4633002281188965, -6.4857001304626465, -6.4953999519348145, -6.518599987030029, -6.524499893188477, -6.638800144195557, -6.669000148773193, -6.68179988861084, -6.6757001876831055, -6.734300136566162, -6.755300045013428, -6.7581000328063965, -5.508699893951416, -3.7137999534606934, -4.332200050354004, -3.89520001411438, -4.09630012512207, -5.842199802398682, -5.592400074005127, -4.571000099182129, -4.915999889373779, -5.282299995422363, -4.627500057220459, -4.060200214385986, -4.598100185394287, -4.9527997970581055, -5.85699987411499, -4.55810022354126, -4.630899906158447, -5.393099784851074, -5.350399971008301, -4.347899913787842, -5.625199794769287, -4.536799907684326, -5.319699764251709, -4.986999988555908, -4.68779993057251, -5.246399879455566, -4.149099826812744, -5.5706000328063965, -4.912499904632568, -4.803999900817871, -4.88100004196167, -5.155900001525879, -4.723700046539307, -4.740499973297119, -5.08519983291626, -4.960299968719482, -5.104100227355957, -5.132599830627441, -5.142899990081787, -4.541999816894531, -4.766499996185303, -5.073400020599365, -5.082600116729736, -5.140399932861328, -5.161399841308594, -5.286600112915039, -5.377999782562256, -5.426000118255615, -5.688899993896484, -5.712399959564209, -5.780200004577637, -5.826399803161621, -5.827499866485596, -5.839399814605713, -5.895599842071533, -5.910999774932861, -5.9131999015808105, -5.96750020980835, -5.9781999588012695, -6.00540018081665, -5.50540018081665, -6.054999828338623, -6.060500144958496, -6.092199802398682, -6.119800090789795, -6.132199764251709, -6.203100204467773, -6.209000110626221, -6.255000114440918, -5.101399898529053, -5.124899864196777, -5.663300037384033, -4.7982001304626465, -5.1682000160217285, -5.6996002197265625, -5.936600208282471, -4.366000175476074, -5.395999908447266, -4.84119987487793, -5.48390007019043, -5.346700191497803, -5.644700050354004, -4.1006999015808105, -4.5706000328063965, -4.366000175476074, -4.283899784088135, -4.771500110626221, -5.30709981918335, -4.375100135803223, -5.355599880218506, -5.493599891662598, -5.524400234222412, -5.108099937438965, -5.174499988555908, -4.872600078582764, -5.3078999519348145, -5.211999893188477, -5.293499946594238, -5.390200138092041], \"loglift\": [30.0, 29.0, 28.0, 27.0, 26.0, 25.0, 24.0, 23.0, 22.0, 21.0, 20.0, 19.0, 18.0, 17.0, 16.0, 15.0, 14.0, 13.0, 12.0, 11.0, 10.0, 9.0, 8.0, 7.0, 6.0, 5.0, 4.0, 3.0, 2.0, 1.0, 1.8272, 1.8267, 1.8241, 1.8231, 1.8224, 1.8223, 1.8217, 1.8214, 1.8204, 1.8201, 1.8198, 1.8187, 1.8185, 1.8184, 1.8178, 1.8174, 1.8174, 1.8172, 1.817, 1.817, 1.8167, 1.8165, 1.816, 1.8153, 1.8152, 1.8151, 1.8144, 1.8136, 1.8131, 1.8122, 1.7338, 1.7817, 1.6078, 1.6297, 1.6596, 1.5738, 1.6052, 1.4307, 1.4585, 1.3346, 1.1243, 1.5249, 1.4269, 1.3223, 1.3013, 0.9869, 1.0841, 1.3027, 1.4071, 1.3877, 1.1645, 1.1136, 1.0944, 1.1074, 1.1255, 0.6129, 0.6329, 0.9114, 0.6327, 0.9013, 0.8519, 0.6619, 1.1659, 0.5551, 0.9475, 1.1634, 0.4843, 0.8291, 1.8592, 1.8584, 1.8579, 1.8571, 1.8567, 1.8563, 1.8544, 1.8542, 1.8529, 1.8527, 1.8526, 1.8518, 1.8515, 1.8512, 1.8509, 1.8503, 1.8498, 1.8496, 1.8494, 1.8494, 1.8493, 1.8488, 1.8485, 1.847, 1.8469, 1.8469, 1.8468, 1.8465, 1.8464, 1.8462, 1.8222, 1.8176, 1.7911, 1.8278, 1.7358, 1.7523, 1.6264, 1.71, 1.5662, 1.5777, 1.4542, 1.5269, 1.5943, 1.2299, 1.1672, 1.4849, 1.2383, 1.6838, 1.3534, 1.4487, 1.4743, 1.1794, 1.4617, 1.5493, 1.1096, 0.9045, 1.0973, 0.7994, 0.9751, 1.3241, 0.9006, 1.1635, 0.7692, 0.7907, 1.0922, 1.1565, 0.7225, 1.1102, 0.7344, 0.1019, 0.4188, -0.0262, 1.9307, 1.9298, 1.9296, 1.9292, 1.929, 1.9287, 1.9284, 1.9283, 1.9283, 1.9283, 1.9279, 1.9279, 1.9276, 1.9275, 1.9275, 1.9268, 1.9267, 1.9264, 1.9263, 1.9257, 1.9257, 1.9257, 1.9256, 1.9254, 1.9246, 1.9244, 1.9243, 1.9241, 1.9241, 1.924, 1.9124, 1.9198, 1.917, 1.8118, 1.8171, 1.8539, 1.8066, 1.7561, 1.6903, 1.7746, 1.6567, 1.7234, 1.2818, 1.6638, 0.8916, 1.1255, 1.2722, 1.2119, 1.3233, 0.8412, 1.0015, 0.966, -0.1363, 0.9182, 1.2459, 2.0728, 2.0726, 2.0726, 2.0726, 2.0719, 2.0717, 2.0716, 2.0715, 2.0713, 2.071, 2.0698, 2.0694, 2.0694, 2.0691, 2.069, 2.0689, 2.0689, 2.0686, 2.0685, 2.0683, 2.0682, 2.0676, 2.067, 2.067, 2.0669, 2.0667, 2.0664, 2.0662, 2.0661, 2.0658, 2.0608, 2.0609, 2.0447, 2.0195, 1.9528, 1.9546, 1.9635, 1.8739, 1.7876, 1.8262, 1.6926, 1.7802, 1.4596, 1.468, 1.6078, 1.8644, 1.3083, 1.7464, 1.2209, 1.4381, 1.2492, 0.3528, 1.039, 0.5445, 0.9877, 0.4589, 2.3204, 2.3199, 2.3198, 2.3192, 2.319, 2.3179, 2.3178, 2.3177, 2.3176, 2.3176, 2.3173, 2.3172, 2.3164, 2.3163, 2.3161, 2.316, 2.316, 2.3158, 2.3155, 2.3155, 2.3153, 2.315, 2.3148, 2.3147, 2.3147, 2.314, 2.3137, 2.3136, 2.3133, 2.3133, 2.3027, 2.3112, 2.3008, 2.3053, 2.2734, 2.3059, 2.246, 2.285, 2.2835, 2.2527, 2.1516, 2.214, 2.2023, 1.9419, 2.0048, 2.1072, 1.9235, 1.2031, 1.8666, 1.9071, 0.92, 1.1684, 0.4768, 0.9614, -0.1571, -0.0002, 2.3655, 2.3655, 2.3652, 2.3635, 2.3633, 2.3618, 2.3617, 2.3601, 2.3592, 2.3584, 2.3583, 2.3583, 2.3581, 2.3563, 2.3563, 2.3562, 2.3547, 2.3524, 2.3521, 2.3518, 2.3514, 2.3509, 2.3504, 2.3498, 2.3496, 2.3496, 2.3488, 2.3475, 2.347, 2.347, 2.3445, 2.3126, 2.2621, 2.296, 2.243, 2.2514, 2.2801, 2.1685, 2.199, 2.135, 2.045, 2.1746, 2.1226, 2.0372, 2.066, 2.1058, 1.8495, 1.8213, 1.8426, 2.0256, 2.0839, 2.0809, 1.6299, 1.7972, 1.7605, 1.7762, 1.344, 1.4819, 1.1206, 1.3991, 1.7753, 1.0819, 1.2291, 1.4077, 1.1209, 2.5872, 2.5871, 2.587, 2.5863, 2.5857, 2.5844, 2.5842, 2.5841, 2.5838, 2.5834, 2.5828, 2.5826, 2.5813, 2.5812, 2.5811, 2.581, 2.5805, 2.5795, 2.5791, 2.5785, 2.5784, 2.5784, 2.5783, 2.5779, 2.5778, 2.5774, 2.5774, 2.5773, 2.5772, 2.5769, 2.5709, 2.5646, 2.525, 2.5149, 2.4261, 2.3822, 2.4888, 2.3738, 2.4583, 2.4061, 2.1634, 2.2593, 2.3057, 2.3766, 2.2133, 2.2811, 2.074, 1.8695, 1.6101, 1.6123, 1.802, 1.8555, 1.9262, 1.1835, 1.2398, 1.0481, 2.181, 2.0019, 1.5218, 0.7011, 1.0306, -0.1389, 2.67, 2.6698, 2.6689, 2.6683, 2.667, 2.6668, 2.6667, 2.6662, 2.6652, 2.6651, 2.6639, 2.6639, 2.6631, 2.6629, 2.6624, 2.6618, 2.6612, 2.6609, 2.6594, 2.659, 2.6588, 2.658, 2.6579, 2.6573, 2.655, 2.652, 2.6508, 2.649, 2.6482, 2.6481, 2.5972, 2.5852, 2.5658, 2.5286, 2.4876, 2.5675, 2.4969, 2.4591, 2.3352, 2.4536, 2.0779, 2.3202, 2.1853, 2.002, 2.3171, 2.3203, 2.1498, 2.0461, 1.623, 1.5163, 2.0744, 0.8957, 0.8115, 1.3598, 0.6744, 3.0714, 3.0676, 3.0644, 3.0624, 3.0618, 3.0609, 3.0604, 3.0594, 3.0592, 3.0591, 3.059, 3.0584, 3.0575, 3.0575, 3.057, 3.0561, 3.0561, 3.0538, 3.0533, 3.0529, 3.0526, 3.0522, 3.0521, 3.0496, 3.0489, 3.0486, 3.0484, 3.0473, 3.0467, 3.0466, 3.0247, 2.9867, 2.9949, 2.9212, 2.9236, 2.994, 2.9688, 2.843, 2.8705, 2.9103, 2.758, 2.6439, 2.7182, 2.7791, 2.9446, 2.5289, 2.5269, 2.7712, 2.7182, 2.2012, 2.8056, 2.2183, 2.6196, 2.422, 2.234, 2.5314, 1.667, 2.7481, 2.0581, 1.8389, 1.8295, 2.1977, 1.414, 1.0505, 1.7626, 0.7847, 1.496, 1.3485, 1.4105, 3.4785, 3.4774, 3.4755, 3.4754, 3.475, 3.4748, 3.4737, 3.4729, 3.4724, 3.4692, 3.4689, 3.468, 3.4673, 3.4672, 3.467, 3.4662, 3.4659, 3.4659, 3.4649, 3.4647, 3.4642, 3.4637, 3.4633, 3.4632, 3.4626, 3.462, 3.4618, 3.4602, 3.4601, 3.459, 3.4185, 3.4026, 3.4271, 3.3352, 3.3593, 3.414, 3.4432, 3.1516, 3.3467, 3.2266, 3.3451, 3.3059, 3.3829, 2.8362, 2.9443, 2.7728, 2.6495, 2.6604, 3.0614, 2.2251, 3.0399, 3.1967, 3.2279, 2.6107, 2.588, 1.9804, 2.2994, 1.583, 1.4116, 1.9577]}, \"token.table\": {\"Topic\": [2, 1, 2, 4, 5, 6, 7, 8, 1, 3, 4, 6, 10, 3, 4, 6, 8, 3, 4, 8, 1, 2, 5, 8, 4, 2, 9, 6, 8, 8, 10, 8, 3, 4, 6, 10, 6, 4, 1, 3, 4, 5, 6, 7, 8, 10, 4, 6, 7, 8, 3, 4, 5, 8, 9, 1, 3, 3, 6, 10, 7, 3, 1, 7, 1, 3, 3, 3, 3, 9, 1, 1, 2, 3, 6, 7, 8, 9, 1, 3, 8, 8, 6, 2, 2, 4, 6, 7, 8, 9, 10, 3, 3, 3, 10, 3, 10, 5, 5, 2, 1, 2, 3, 4, 5, 8, 4, 1, 2, 4, 5, 6, 7, 9, 1, 2, 4, 5, 7, 8, 2, 9, 10, 7, 4, 6, 2, 3, 4, 7, 8, 10, 2, 3, 8, 2, 5, 7, 10, 1, 2, 3, 4, 6, 7, 9, 10, 3, 5, 2, 2, 9, 5, 5, 3, 10, 2, 7, 8, 8, 9, 6, 8, 2, 5, 9, 4, 4, 3, 10, 2, 1, 7, 8, 9, 10, 1, 2, 3, 4, 6, 7, 8, 9, 2, 1, 2, 3, 4, 7, 1, 2, 1, 3, 4, 5, 6, 1, 2, 3, 5, 7, 8, 2, 3, 8, 9, 8, 5, 3, 4, 7, 8, 4, 9, 6, 8, 5, 10, 1, 3, 8, 10, 8, 1, 2, 3, 4, 5, 8, 9, 9, 6, 7, 4, 3, 8, 5, 8, 10, 5, 2, 6, 7, 8, 1, 2, 4, 7, 9, 7, 1, 2, 3, 4, 5, 6, 7, 8, 9, 10, 3, 4, 6, 8, 6, 7, 6, 8, 10, 1, 2, 3, 4, 9, 10, 1, 4, 6, 6, 7, 1, 2, 3, 4, 6, 7, 8, 9, 3, 6, 7, 8, 10, 9, 1, 3, 2, 3, 4, 8, 9, 10, 8, 6, 8, 8, 8, 6, 7, 4, 6, 7, 8, 2, 8, 8, 7, 1, 3, 4, 5, 8, 1, 3, 7, 9, 6, 2, 2, 5, 3, 4, 5, 6, 7, 8, 6, 7, 8, 5, 4, 1, 2, 3, 4, 5, 6, 7, 8, 4, 6, 8, 9, 7, 1, 10, 4, 6, 7, 8, 10, 9, 3, 4, 5, 6, 2, 3, 8, 6, 2, 3, 9, 4, 8, 4, 10, 1, 1, 1, 2, 3, 4, 7, 8, 6, 9, 10, 8, 3, 5, 8, 2, 4, 8, 2, 6, 1, 5, 6, 7, 10, 8, 9, 1, 2, 3, 4, 7, 10, 1, 3, 4, 8, 2, 4, 5, 8, 9, 7, 7, 8, 1, 2, 3, 4, 5, 8, 5, 3, 6, 7, 8, 6, 3, 10, 8, 9, 4, 5, 7, 9, 1, 3, 7, 8, 10, 2, 9, 10, 1, 4, 6, 7, 8, 10, 5, 9, 4, 10, 10, 9, 7, 2, 8, 9, 3, 1, 2, 4, 5, 7, 8, 9, 1, 2, 3, 5, 7, 8, 1, 3, 4, 5, 8, 10, 5, 1, 2, 4, 5, 6, 7, 8, 9, 3, 8, 7, 9, 1, 2, 3, 4, 5, 6, 7, 8, 9, 3, 3, 3, 5, 7, 9, 10, 1, 2, 3, 4, 6, 8, 10, 8, 1, 2, 3, 5, 7, 8, 1, 2, 3, 5, 8, 9, 9, 4, 10, 3, 4, 1, 2, 3, 5, 6, 2, 1, 2, 3, 4, 5, 6, 7, 8, 10, 1, 2, 3, 4, 5, 6, 8, 9, 10, 1, 3, 4, 5, 6, 1, 5, 1, 2, 6, 10, 2, 10, 6, 1, 2, 4, 7, 8, 1, 2, 3, 6, 8, 4, 1, 1, 3, 4, 5, 6, 7, 8, 9, 1, 2, 3, 4, 5, 8, 1, 8, 10, 4, 9, 2, 4, 6, 7, 1, 3, 4, 6, 7, 8, 5, 2, 4, 8, 1, 2, 3, 4, 6, 8, 9, 6, 7, 6, 9, 1, 3, 1, 1, 1, 3, 4, 6, 8, 10, 3, 9, 1, 4, 6, 7, 9, 2, 1, 3, 1, 3, 5, 7, 8, 6, 1, 2, 3, 5, 7, 10, 1, 3, 5, 10, 1, 1, 2, 3, 4, 5, 6, 7, 8, 9, 10, 8, 4, 5, 5, 10, 1, 1, 1, 1, 2, 3, 5, 7, 10, 1, 3, 8, 9, 1, 2, 3, 4, 5, 6, 7, 8, 9, 1, 2, 3, 5, 6, 7, 8, 7, 2, 3, 4, 5, 6, 7, 9, 10, 6, 1, 2, 3, 4, 5, 7, 8, 9, 1, 2, 3, 4, 5, 2, 3, 7, 7, 3, 1, 2, 3, 4, 5, 6, 7, 8, 9, 10, 1, 2, 3, 4, 5, 6, 5, 4, 6, 2, 6, 9, 1, 2, 3, 4, 5, 7, 8, 7, 2, 3, 4, 5, 6, 7, 8, 2, 6, 7, 9, 4, 10, 8, 10, 3, 10, 6, 1, 2, 5, 8, 10, 10, 1, 2, 3, 4, 5, 7, 8, 3, 4, 4, 7, 6, 7, 8, 7, 2, 3, 4, 10, 9, 10, 5, 10, 4, 1, 2, 4, 6, 7, 9, 10, 8, 9, 5, 4, 10, 1, 7, 2, 9, 7, 10, 3, 2, 9, 3, 7, 10, 4, 6, 3, 4, 5, 6, 8, 3, 1, 2, 3, 4, 5, 6, 7, 8, 9, 3, 8, 4, 6, 7, 8, 9, 1, 3, 4, 5, 6, 1, 6, 4, 10, 2, 7, 1, 2, 3, 4, 5, 6, 7, 8, 9, 3, 4, 6, 8, 9, 10, 6, 10, 6, 1, 2, 3, 4, 1, 2, 3, 4, 6, 8, 9, 10, 3, 6, 7, 6, 7, 9, 1, 3, 7, 2, 3, 7, 9, 8, 4, 5, 10, 1, 2, 3, 4, 5, 6, 8, 1, 2, 3, 4, 5, 6, 7, 1, 2, 3, 4, 6, 8, 9, 5, 2, 6, 8, 9, 1, 1, 4, 5, 5, 5, 7, 6, 8, 4, 10, 2, 1, 2, 3, 5, 8, 9, 5, 9, 5, 9, 2, 4, 5, 7, 9, 1, 2, 3, 4, 5, 6, 7, 8, 7, 10, 1, 3, 1, 2, 3, 4, 5, 6, 8, 9, 10, 1, 2, 3, 4, 5, 8, 9, 10, 8, 2, 3, 9, 10, 3, 6, 7, 10, 9, 1, 1, 8, 3, 4, 6, 8, 4, 10, 1, 2, 3, 4, 7, 8, 9, 6, 4, 6, 7, 8, 1, 3, 4, 5, 6, 8, 1, 4, 8, 1, 2, 3, 4, 8, 1, 1, 3, 4, 5, 6, 7, 8, 1, 3, 4, 6, 8, 5, 2, 8, 9, 10, 1, 1, 2, 3, 4, 6, 7, 8, 5, 10, 1, 2, 5, 6, 7, 8, 6, 1, 3, 2, 3, 1, 2, 3, 5, 6, 7, 8, 9, 6, 10, 1, 2, 3, 5, 7, 10, 1, 2, 3, 4, 5, 6, 8, 3, 6, 7, 8, 9, 1, 3, 4, 6, 8, 1, 3, 4, 6, 7, 8, 1, 2, 1, 2, 3, 5, 7, 8, 8, 1, 3, 4, 10, 1, 2, 5, 6, 7, 3, 4, 5, 5, 1, 2, 3, 4, 5, 9, 4, 4, 1, 2, 3, 4, 5, 7, 8, 9, 8, 3, 4, 6, 5, 4, 7, 8, 9, 1, 10, 5, 2, 5, 9, 1, 2, 3, 4, 5, 7, 8, 10, 1, 3, 8, 3, 4, 6, 7, 9, 3, 8, 2, 8, 9, 10, 2, 3, 5, 6, 9, 10, 3, 4, 5, 7, 8, 9, 10, 6, 7, 5, 9, 10, 2, 3, 5, 3, 10, 4, 9, 1, 10, 3, 4, 6, 1, 2, 3, 7, 7, 10, 2, 4, 6, 7, 8, 9, 3, 1, 3, 4, 6, 7, 3, 4, 4, 6, 7, 10, 4, 7, 2, 4, 6, 7, 8, 9, 10, 10, 1, 10, 4, 5, 10, 1, 2, 3, 4, 5, 6, 7, 8, 5, 7, 1, 2, 3, 4, 6, 7, 8, 9, 2, 2, 3, 6, 6, 1, 3, 4, 1, 2, 7, 8, 9, 10, 1, 3, 4, 6, 7, 6, 6, 3, 7, 1, 3, 4, 6, 7, 8, 1, 2, 5, 6, 7, 8, 8, 1, 9, 9, 4, 4, 7, 9, 10, 2, 6, 9, 3, 4, 5, 4, 8, 1, 2, 3, 5, 7, 8, 4, 3, 1, 2, 4, 6, 7, 9, 1, 2, 5, 6, 7, 9, 10, 9, 4, 1, 2, 3, 5, 7, 8, 10, 1, 2, 5, 8, 1, 2, 5, 9, 1, 2, 3, 4, 5, 6, 7, 8, 9, 2, 2, 3, 1, 7, 3, 5, 9, 2, 1, 3, 5, 8, 9, 10, 3, 4, 10, 3, 1, 2, 5, 7, 8, 2, 3, 8, 2, 2, 9, 3, 3, 3, 1, 2, 3, 5, 7, 8, 6, 3, 4, 5, 6, 1, 6, 6, 7, 8, 9, 6, 1, 2, 3, 6, 7, 8, 3, 4, 1, 1, 9, 1, 2, 3, 5, 6, 7, 8, 9, 2, 3, 5, 10, 2, 2, 4, 5, 7, 8, 10, 7, 5, 2, 3, 7, 5, 8, 10, 2, 3, 4, 1, 2, 3, 4, 6, 7, 8, 9, 1, 2, 3, 4, 6, 7, 8, 9, 10, 1, 3, 4, 5, 6, 9, 10, 3, 7, 7, 7, 7, 1, 2, 3, 4, 5, 6, 8, 9, 4, 1], \"Freq\": [0.9940274668369498, 0.5906551473227432, 0.2425456243261477, 0.0025134261588201836, 0.049011810096993576, 0.00754027847646055, 0.08294306324106605, 0.023877548508791743, 0.09760556980227245, 0.020465683990799063, 0.020465683990799063, 0.845390177158392, 0.015742833839076202, 0.19172052286220262, 0.14379039214665196, 0.10917418662986539, 0.5511965032288325, 0.02983647522393552, 0.13426413850770985, 0.8329349333348667, 0.7754376748911257, 0.09370848034938074, 0.07028136026203556, 0.06091051222709749, 0.9973975105644995, 0.9913400120605725, 0.9721627420785505, 0.017865167876472382, 0.9800320663664849, 0.9893969424549164, 0.9900212100219354, 0.9829724698481906, 0.0665999531624506, 0.19979985948735182, 0.07325994847869566, 0.6593395363082609, 0.9984272764555773, 0.9880390154405114, 0.1257075781130577, 0.0795617582994036, 0.03182470331976144, 0.012729881327904577, 0.05887570114155866, 0.13366375394299806, 0.033415938485749516, 0.5235163696100757, 0.09299561176333954, 0.052133903564296404, 0.8130070907188925, 0.04227073261969978, 0.12815517065267304, 0.5286400789422763, 0.1726534937959623, 0.03203879266316826, 0.13883476820706245, 0.4550052781224868, 0.5451053331962465, 0.17325972472638937, 0.8229836924503495, 0.984263110263865, 0.9822119095538647, 0.9954384195361752, 0.997149264887389, 0.9893595723172648, 0.14287274432112662, 0.8541305367023874, 0.9978239392676561, 0.9995068808905547, 0.9252762394880025, 0.07223346107527157, 0.9909734411023023, 0.0862410639095653, 0.27066426211617417, 0.12604463186782622, 0.0424571391554783, 0.005307142394434788, 0.0424571391554783, 0.42589817715339173, 0.27291729233944095, 0.5039761042587222, 0.22268711583524936, 0.9733707022223076, 0.9793722797275894, 0.9833180203459174, 0.03468665037794298, 0.1329654931154481, 0.5913248016811232, 0.16269690772511353, 0.06606981024370093, 0.012388089420693924, 0.9724060178141616, 0.9975925688986315, 0.9953146653912223, 0.9946656255470143, 0.9888812472785775, 0.9954136439325355, 0.9859737547647571, 0.9969756327609391, 0.9938359479198494, 0.9887796787709017, 0.6026307536488077, 0.17003689314572168, 0.02875623928199705, 0.02875623928199705, 0.07126546256842747, 0.09877143057729422, 0.9924421946698283, 0.19212051621208684, 0.16128635928915933, 0.018974865798724625, 0.2609044047324636, 0.05573866828375359, 0.017788936686304338, 0.2905526325429708, 0.3277633812361008, 0.34063626327860624, 0.03069687256289766, 0.25646741915453203, 0.03663820273636172, 0.006931551869041407, 0.9980170268404375, 0.9932260779705363, 0.9828629852694258, 0.9857056426724605, 0.01339806597461508, 0.9780588161469009, 0.24391437246513542, 0.0510518453996795, 0.0709053408328882, 0.022689709066524226, 0.02836213633315528, 0.5842600084629987, 0.244499016599877, 0.05068882051460864, 0.7006984012313547, 0.13835575449179735, 0.4176777494091996, 0.0026104859338074975, 0.43856163687965954, 0.027271449407072847, 0.004545241567845475, 0.14317510938713246, 0.138629867819287, 0.1931727666334327, 0.0011363103919613687, 0.2068084913369691, 0.28407759799034216, 0.0637135587062312, 0.9318107960786313, 0.9946351909644032, 0.1452209142614401, 0.8489838064514958, 0.9923709919012235, 0.9950907948722837, 0.15042800046662072, 0.8406270614311159, 0.07729953862280593, 0.9069812531742564, 0.015459907724561187, 0.03926839188902157, 0.950295083714322, 0.9948144048639248, 0.9883773499167813, 0.9897063197462318, 0.9904137819796248, 0.9871016026844283, 0.9971355351452367, 0.9963484313606947, 0.054236878896665154, 0.9375231923566405, 0.9981681234752324, 0.013953659526791923, 0.08837317700301552, 0.03255853889584782, 0.7023341961818601, 0.1627926944792391, 0.4865139676942294, 0.03396258064183102, 0.04754761289856343, 0.12735967740686632, 0.04924574193065498, 0.06283077418738739, 0.08490645160457755, 0.10868025805385927, 0.9827308972652526, 0.29320216451526865, 0.17325582448629512, 0.05197674734588854, 0.43847050966146994, 0.043980324677290294, 0.9942363331243694, 0.9883117686870462, 0.057370534556928775, 0.1366768617385656, 0.6833843086928281, 0.11811580644073572, 0.005062105990317245, 0.8024202004697111, 0.09761400376848033, 0.03474396744301842, 0.006617898560574937, 0.018199221041581077, 0.039707391363449626, 0.028351612094081553, 0.07087903023520388, 0.127582254423367, 0.7654935265402019, 0.9907510005928768, 0.9941497831627428, 0.7853852894267441, 0.19138124294076983, 0.02166580108763432, 0.9984686035443322, 0.9907630103015302, 0.9878927496786697, 0.9929506320953643, 0.9892155077134812, 0.11611120796583214, 0.8761118419240062, 0.6907911250252013, 0.22737094818668688, 0.03992009013964732, 0.03992009013964732, 0.993832825100096, 0.6432374353981458, 0.04464108384466627, 0.08725302751457499, 0.024349682097090694, 0.06493248559224185, 0.1339232515339988, 0.9863394575517342, 0.9866144470206935, 0.02063870126233768, 0.9751786346454555, 0.9931913895579594, 0.09425893388110144, 0.9037768366246786, 0.013921509017707471, 0.9849467630028036, 0.992545209213302, 0.9968719886259991, 0.9823183694224102, 0.30845946596964136, 0.5151929378429116, 0.17555937690825332, 0.010182169314936967, 0.004072867725974786, 0.028510074081823506, 0.8064278097430077, 0.1486596719980797, 0.9928000706745802, 0.23525622856613596, 0.4662089895365499, 0.08606935191443998, 0.0028689783971479993, 0.08463486271586598, 0.0028689783971479993, 0.020082848780035994, 0.025820805574331994, 0.07531068292513499, 0.9936379233501769, 0.005436009188688519, 0.12502821133983594, 0.16308027566065555, 0.7039631899351632, 0.26126421720742304, 0.7365762268257469, 0.750119331168029, 0.2017127613224952, 0.04727642843495981, 0.04437514227521201, 0.10169303438069419, 0.08690132028895685, 0.1405212838715047, 0.5805747781006905, 0.04252617801374484, 0.05654798012665413, 0.02261919205066165, 0.9160772780517968, 0.9799690144891166, 0.9934689883571324, 0.20427473950622843, 0.050751488076081604, 0.04948270087417956, 0.23091927074617127, 0.01141908481711836, 0.05836421128749384, 0.10530933775786933, 0.28801469483176306, 0.006342950384388291, 0.393262923832074, 0.13003048287995997, 0.033300489518038524, 0.4344921013305979, 0.9755565782825679, 0.9821387652157946, 0.9956874447689437, 0.19082482144947208, 0.15772255650415548, 0.09930679483594976, 0.025313496722889153, 0.03504945700092344, 0.4906923980129282, 0.9901076062280431, 0.9773195891307123, 0.9969971463730597, 0.9850721816956794, 0.9977152338744775, 0.9837312727768868, 0.9891392185729878, 0.2658914446577279, 0.3186012024092598, 0.10073420370292775, 0.3150872185591577, 0.8599631513313752, 0.13423815045172688, 0.9935954801635748, 0.9947162662263742, 0.09828512986008066, 0.09828512986008066, 0.05292276223235112, 0.7283180135785464, 0.022681183813864768, 0.3068206136370032, 0.00435206544165962, 0.68762633978222, 0.9750483563100499, 0.9834956293366487, 0.9851044039962071, 0.9944233743615407, 0.9945522748780128, 0.012215767003091986, 0.5411584782369749, 0.023209957305874773, 0.06230041171576913, 0.0903966758228807, 0.26996845076833287, 0.010842771611359044, 0.14457028815145392, 0.8385076712784327, 0.9938357468964449, 0.9950766785808461, 0.49506614923440606, 0.21163133097043313, 0.015116523640745222, 0.08597522820673846, 0.014171740913198647, 0.012282175458105494, 0.1162082754882289, 0.05007348455996855, 0.9987448757466286, 0.14102705887432354, 0.06410320857923797, 0.7948797863825509, 0.9984836337104025, 0.10930170428989999, 0.8822208989113356, 0.023318775945349975, 0.7398411640842856, 0.12083365717135897, 0.06571655039144084, 0.048757440613004494, 0.9801487946490193, 0.0712921377385235, 0.11882022956420583, 0.8079775610365997, 0.9772613831728727, 0.7335353641868418, 0.06616201324038182, 0.19848603972114545, 0.9778933542889069, 0.3202400770825449, 0.02773732951108657, 0.650566455805485, 0.7460825219397947, 0.2536188110884451, 0.7799911712507858, 0.21839752795022002, 0.9861898192306356, 0.99203722054892, 0.2376247706942348, 0.11576591392796054, 0.017060239947278396, 0.4642822442795049, 0.030464714191568563, 0.13526333101056442, 0.719017322371178, 0.2692676207260485, 0.010188504568012645, 0.9988494363551587, 0.06334168538931775, 0.01666886457613625, 0.9167875516874937, 0.7447764306941931, 0.22951273680576154, 0.024319230390014466, 0.9822218532748919, 0.997676176377722, 0.1570668942915671, 0.02617781571526118, 0.09598532428929099, 0.7198899321696824, 0.9920971776574457, 0.9962391939862977, 0.9938456496730388, 0.1578368344843653, 0.025162393903304613, 0.21502409335551215, 0.03202486496784224, 0.5558601562275474, 0.013724942129075244, 0.7386050450260141, 0.0897912015521821, 0.15930697049580697, 0.011585961490604143, 0.0070476794162409595, 0.09514367211925295, 0.12685822949233727, 0.02114303824872288, 0.7470540181215417, 0.9868723263905392, 0.6641333548764987, 0.33206667743824936, 0.5907394896495556, 0.04062059359083388, 0.22515414733205064, 0.029014709707738486, 0.01740882582464309, 0.09865001300631085, 0.996643226026903, 0.02139503747274519, 0.59581937689251, 0.37668232641408955, 0.005835010219839597, 0.9870959539171016, 0.04112300667221398, 0.9458291534609217, 0.08882883539556219, 0.9044390513002696, 0.01198218459732086, 0.9825391369803105, 0.9964671529681345, 0.9864993566477717, 0.34381526949573715, 0.3789283182953018, 0.004389131099945581, 0.04828044209940139, 0.22238264239724276, 0.9944160969719519, 0.9844502907484031, 0.981422683041853, 0.014696328175452208, 0.08164626764140116, 0.26290098180531174, 0.5976506791350565, 0.042456059173528606, 0.9953173167932893, 0.9530798945158249, 0.04663526324709262, 0.09011290315165418, 0.9011290315165418, 0.9908717360631041, 0.9915319879325591, 0.9926689926720788, 0.9569579151487865, 0.037284074616186484, 0.9850659311650682, 0.9966173908329374, 0.2536400535736505, 0.4640837661456749, 0.033227954616635434, 0.14509540182597475, 0.07753189410548268, 0.012183583359432993, 0.014398780333875356, 0.18511543136753542, 0.666061265016204, 0.02834303255388102, 0.08148621859240794, 0.007085758138470255, 0.03100019185580737, 0.06406028218419182, 0.007764882688992948, 0.06406028218419182, 0.844430992427983, 0.017470986050234134, 0.001941220672248237, 0.9913662287380511, 0.2797732087888677, 0.3829806854487755, 0.02580186916497695, 0.15784672900927074, 0.0020236760129393686, 0.0010118380064696843, 0.017707165113219476, 0.13255077884752864, 0.44657537766880767, 0.552608006335405, 0.8081693163040804, 0.18619587189358716, 0.12252596397033094, 0.3285430715310644, 0.08891264642094811, 0.028191814718837208, 0.1951741018996422, 0.0010843005661091234, 0.04228772207825581, 0.004337202264436494, 0.18975259906909658, 0.9959594570613642, 0.9971294458674089, 0.05264115609044766, 0.02632057804522383, 0.010528231218089532, 0.04737704048140289, 0.8633149598833416, 0.22319671340387837, 0.004171901185119222, 0.23884134284807543, 0.12515703555357666, 0.37964300784584915, 0.019816530629316303, 0.008343802370238443, 0.9762085718643326, 0.28152586824862824, 0.4977548621125936, 0.16270696567981555, 0.013915727327878963, 0.03425409803785591, 0.008563524509463977, 0.28143655568205334, 0.25674913851696096, 0.01316662248804928, 0.06089562900722791, 0.024687417165092398, 0.3620821184213552, 0.9751717559279638, 0.07027263777766046, 0.9213523619737706, 0.011916309854795996, 0.9866704559771085, 0.11185845992319778, 0.7545706279564867, 0.12702570872634325, 0.005687718301179548, 0.985877339479244, 0.9883811442046793, 0.12689934990185445, 0.28701396588540234, 0.09538743079870939, 0.11667926803056415, 0.0093684083820161, 0.11667926803056415, 0.21036335185072516, 0.022995184210403155, 0.015330122806935437, 0.09087274144469945, 0.22334987053877936, 0.013138227678751727, 0.35473214732629665, 0.0744499568462598, 0.013138227678751727, 0.09087274144469945, 0.09853670759063796, 0.04050953534281783, 0.07895842279897936, 0.7597080680118014, 0.0661543542369827, 0.0810924342259788, 0.01067005713499721, 0.9914250411872966, 0.9991781430680249, 0.041049677963399436, 0.26682290676209636, 0.05473290395119925, 0.6431116214265912, 0.9958846121765939, 0.9922195156556131, 0.9803209425544152, 0.5145619892989056, 0.264507988881179, 0.05492515616111914, 0.06359754923919059, 0.10117791924416683, 0.8429959406052213, 0.04279167211194017, 0.08558334422388034, 0.0256750032671641, 0.9951853904124605, 0.9884247363868596, 0.9915586857820832, 0.008818860118114296, 0.08248227992824547, 0.10790134732751609, 0.015562694326084052, 0.2873910885550188, 0.2453718138745919, 0.006743834207969756, 0.2453718138745919, 0.20247483282660164, 0.030991045840806374, 0.05371781279073105, 0.6280851957070092, 0.0165285577817634, 0.06818030084977403, 0.1857439330034829, 0.03910398589547008, 0.7723037214355342, 0.9968933125954529, 0.9892015499765092, 0.09371202208302104, 0.0019124902465922661, 0.9007829061449574, 0.0038249804931845322, 0.003822313528798823, 0.0656163822443798, 0.1987603034975388, 0.5790804996130217, 0.0165633586247949, 0.1356921302723582, 0.9960160221526648, 0.8990243397645473, 0.09816932445704828, 0.9864060264333603, 0.28181277003424166, 0.028073302762031734, 0.00863793931139438, 0.07558196897470083, 0.12417037760129422, 0.06262506000760926, 0.4178603141887031, 0.16251280867365475, 0.8345252337295784, 0.9982518449072696, 0.9748702296435532, 0.006481195769890158, 0.9851417570233041, 0.9985586225063003, 0.9994554024210077, 0.2789155296960889, 0.11322313581722421, 0.08560773683741342, 0.13117314515410122, 0.2402539711243538, 0.1491231544909782, 0.991656231505365, 0.976050531187557, 0.03468483745341105, 0.03902044213508743, 0.13440374513196782, 0.15608176854034972, 0.637333888206428, 0.9839806147189715, 0.016874216677996035, 0.9820794106593693, 0.15817819197249566, 0.8397401073833961, 0.9897821925675608, 0.13093963668261027, 0.8677193833892382, 0.9920956533414736, 0.01582657279803637, 0.06669769964886756, 0.8874185461756108, 0.023739859197054555, 0.005652347427870132, 0.0011304694855740263, 0.0411098603150713, 0.044847120343714145, 0.896942406874283, 0.014949040114571382, 0.9821700204168673, 0.30251780996579214, 0.5322135599398188, 0.008166959999076503, 0.00340289999961521, 0.018715949997883653, 0.011569859998691714, 0.061252199993073776, 0.05104349999422815, 0.003062609999653689, 0.008166959999076503, 0.9848037369241572, 0.9976675671399143, 0.9975697000622725, 0.9842376576175822, 0.014753026987843846, 0.9862416733454432, 0.9860755016528144, 0.9856134391806466, 0.023976916584130082, 0.4719666738139289, 0.1880295037387043, 0.17667201693569534, 0.012619429781121095, 0.12619429781121094, 0.19877975794412195, 0.09433615631246466, 0.704152023903754, 0.9816869780421149, 0.2964613828165806, 0.4998170110653205, 0.02426552243694432, 0.004220090858599012, 0.028221857616880893, 0.025056789472931634, 0.0654114083082847, 0.035607016619429166, 0.020572942935670184, 0.010995189862286769, 0.22448512635502152, 0.0568084809551483, 0.13835613910044184, 0.32069303765003077, 0.19241582259001846, 0.055892215133291075, 0.9848110934630667, 0.05766821869788011, 0.04767239412358089, 0.0023067287479152042, 0.04690348454094249, 0.7243128268453741, 0.013071462904852824, 0.07842877742911694, 0.029218564140259255, 0.9762115012057956, 0.21548929731929548, 0.6023905356880305, 0.03183364619489592, 0.026936162164911934, 0.05142358231483187, 0.02816053317240793, 0.02816053317240793, 0.01591682309744796, 0.18944111334000344, 0.31690457848852427, 0.48763545841223105, 0.005846947942592698, 0.0011693895885185397, 0.8811990057664457, 0.012469797251411969, 0.09975837801129575, 0.9929824672088393, 0.9906161176024761, 0.10781393727998606, 0.536573993407338, 0.019466405342219707, 0.002994831591110724, 0.05939749322369603, 0.05091213704888231, 0.15123899535109156, 0.004492247386666086, 0.03444056329777333, 0.03244400890369951, 0.007884049044418555, 0.12351676836255736, 0.12351676836255736, 0.04467627791837181, 0.659632103383019, 0.03679222887395325, 0.9965655031994287, 0.9942535102920892, 0.9951632556472877, 0.016457458191654353, 0.7921046181809291, 0.19033408169478516, 0.5157047275320613, 0.20737332958961194, 0.019100175093780047, 0.01773587687279576, 0.06821491104921446, 0.07912929681708877, 0.09277227902693166, 0.9900287718008189, 0.13295095398085324, 0.009694340394437215, 0.14680001168719212, 0.15787925785226323, 0.03185283272457942, 0.4805623024099591, 0.04016226734838275, 0.05980665998338347, 0.0224274974937688, 0.18689581244807332, 0.7301396406304732, 0.9938870104709111, 0.9814485716099572, 0.11618557541647659, 0.8713918156235745, 0.9894145114882109, 0.007118090010706553, 0.9877794447390181, 0.3234137500278351, 0.5851532500503621, 0.04211900000362504, 0.024068000002071453, 0.024068000002071453, 0.987960950122918, 0.6102287360438396, 0.19577304159768236, 0.014578843523231664, 0.0010413459659451188, 0.007289421761615832, 0.024992303182682852, 0.14578843523231663, 0.02755694907493939, 0.9700046074378665, 0.9970645998524961, 0.9939534578002663, 0.5647949228063467, 0.08280363200880794, 0.3509885297089769, 0.9888525429529341, 0.7653143311039984, 0.054312629949316016, 0.027156314974658008, 0.15306286622079968, 0.9810045194271043, 0.9842162891487184, 0.9927416332918931, 0.9910459003465713, 0.996519609266398, 0.0025514248104271495, 0.14287978938392035, 0.15308548862562896, 0.012757124052135747, 0.05102849620854299, 0.5204906613271385, 0.11481411646922172, 0.2724467168238285, 0.7223005980910802, 0.9947860744576256, 0.5807791912329886, 0.41732636495783615, 0.9944605755803083, 0.9988697814672202, 0.933691071367093, 0.06224607142447286, 0.9807436608404084, 0.012573636677441134, 0.9945060590961512, 0.06378606922228214, 0.9248980037230911, 0.9982712050522912, 0.9893506512339094, 0.9857867799286848, 0.9474391067117562, 0.05203326901849462, 0.517821955406511, 0.27774086699076495, 0.08591136987426205, 0.0011768680804693432, 0.11768680804693431, 0.9977121531860362, 0.12987508873283424, 0.3431993295021502, 0.0005876700847639558, 0.07110808025643867, 0.019393112797210545, 0.08815051271459338, 0.133401109241418, 0.15573257246244832, 0.05817933839163163, 0.9947447011639692, 0.9859039607332634, 0.039580716448397876, 0.710253967379584, 0.05057535990628617, 0.06816678943890744, 0.12973679280308192, 0.06892019142647342, 0.14741263166217924, 0.13592593309110035, 0.09189358856863122, 0.5532759811736339, 0.24459510967115689, 0.7526003374497134, 0.9962193701268527, 0.9883512043270127, 0.986237036069926, 0.9944207571718733, 0.14136594920568457, 0.03148605232308429, 0.09831359194758972, 0.1561451166226425, 0.09124529448730549, 0.2763061734474744, 0.01927717489168426, 0.16963913904682149, 0.015421739913347408, 0.019748990087106927, 0.05078311736684638, 0.04796183306868825, 0.015517063639869728, 0.8590810687891512, 0.007053210745395331, 0.9905664630078468, 0.9752932151759043, 0.9927816623373886, 0.821236138025496, 0.15814344549815296, 0.01942112488573808, 0.9981383556667229, 0.18964268923297256, 0.009403769714031698, 0.03291319399911094, 0.018807539428063395, 0.17867162456660227, 0.0015672949523386163, 0.4325734068454581, 0.13635466085345962, 0.9960416734057834, 0.8902562034271152, 0.10693021437811719, 0.20638323909939693, 0.2123366017657257, 0.5794606328559991, 0.9084580223137247, 0.08855005993671686, 0.9912596493414503, 0.9691527411543928, 0.020403215603250372, 0.8773761394933578, 0.1200184341759782, 0.9949135511529885, 0.9983749133409873, 0.9898953682435873, 0.9968936679562589, 0.43100115863153654, 0.1516913029613671, 0.35350668864040335, 0.00032976370208992847, 0.0009892911062697855, 0.008903619956428068, 0.053421719738568414, 0.05880760069252427, 0.007128194023336276, 0.05880760069252427, 0.16929460805423655, 0.6843066262402825, 0.003564097011668138, 0.017820485058340687, 0.3681670489341647, 0.2222895389791183, 0.1180913175826566, 0.0674807529043752, 0.10519058540976134, 0.11610658955605734, 0.002977092039898906, 0.9969615606612569, 0.06206706381453322, 0.08051943413777282, 0.7146099779727338, 0.14258649795230605, 0.9913720633657822, 0.9920269133834634, 0.9918970893132876, 0.9979057506340309, 0.9939272121905243, 0.9973542396245577, 0.9905752288355761, 0.9943482004697303, 0.9883976752640788, 0.22185227630463208, 0.7740179417739386, 0.9897460387512631, 0.026178247636278934, 0.007600136410532594, 0.00928905561287317, 0.9272166420849765, 0.016889192023405764, 0.013511353618724612, 0.9788876824998421, 0.01950889871336145, 0.9909669958329997, 0.006332057481361021, 0.2213577208405619, 0.07747520229419667, 0.08485379298888207, 0.029514362778741587, 0.5829086648801464, 0.47979233750223715, 0.14798789630750822, 0.018693207954632616, 0.02414539360806713, 0.24612723806932946, 0.014019905965974463, 0.02492427727284349, 0.043617485227476105, 0.9915325442133742, 0.98902436263837, 0.11454987377911255, 0.8823436223526236, 0.4000234897624532, 0.027724400280566067, 0.013202095371698126, 0.0072611524544339695, 0.058089219635471756, 0.4779158524554722, 0.0006601047685849063, 0.001980314305754719, 0.013862200140283033, 0.061534424722902645, 0.1775419467414896, 0.12912141581199243, 0.12004256626271172, 0.21890115024376844, 0.03429787607506049, 0.1785507078025208, 0.08170964594352646, 0.9694426722257697, 0.013817995578340903, 0.015074176994553712, 0.9170124338353508, 0.0540158008971508, 0.09082154843491061, 0.40324767505100306, 0.09082154843491061, 0.4068805369883995, 0.9914981700339234, 0.992974521335575, 0.9885515275332702, 0.9986822249576646, 0.009396124543516815, 0.0657728718046177, 0.021924290601539234, 0.8988959146631087, 0.9846570846951658, 0.008791581113349694, 0.2608523069115684, 0.3204219443072391, 0.005643439332221432, 0.1348154951586231, 0.25959820928218585, 0.018184415626046835, 0.982435348387831, 0.9755071199551015, 0.21648506855285912, 0.35956428052744993, 0.37573845231588193, 0.0479004318349717, 0.0478640115106561, 0.005983001438832012, 0.7209516733792575, 0.014957503597080032, 0.17949004316496037, 0.03290650791357607, 0.2828656422293696, 0.12086077440709429, 0.5940178486816762, 0.01881520147474566, 0.12125352061502759, 0.19651432651401024, 0.1275252544399428, 0.5351879530594321, 0.990023470782459, 0.08973699737502314, 0.024373011632722333, 0.3367907061976177, 0.0033235924953712273, 0.2636716712994507, 0.05982466491668209, 0.22268069718987224, 0.051875684508711446, 0.12450164282090746, 0.14336552809680253, 0.16788857895546613, 0.5121544852405512, 0.9906003903159625, 0.039473748105032465, 0.15789499242012986, 0.7006590288643262, 0.09868437026258116, 0.9878422429520081, 0.48911446374268014, 0.15043352414270666, 0.029593480159220985, 0.03288164462135665, 0.1315265784854266, 0.06905145370484897, 0.09700085163300211, 0.9646764793339264, 0.03429960815409516, 0.514791392960984, 0.13782535520763933, 0.0018255013934786665, 0.26104669926744933, 0.044724784140227326, 0.03924827995979133, 0.9924307979705113, 0.9564623751362498, 0.03336496657452034, 0.9636406989629843, 0.03125321185825895, 0.6714413267673036, 0.1737727170347233, 0.001028240929199546, 0.015423613937993191, 0.001028240929199546, 0.015423613937993191, 0.07917455154836506, 0.04215787809718139, 0.9822863744323084, 0.978002353561876, 0.2218056329041463, 0.6618103030554608, 0.05409893485466983, 0.041475850055246864, 0.019836276113378938, 0.9725466520507242, 0.031001396648730896, 0.0088575418996374, 0.39416061453386425, 0.42626920392004986, 0.05203805866036972, 0.08193226257164594, 0.005535963687273374, 0.009727965521538972, 0.8824654437396068, 0.04169128080659559, 0.0444706995270353, 0.020845640403297797, 0.12138824307361082, 0.03948774172274087, 0.7502670927320765, 0.08190050135086994, 0.004387526858082319, 0.027907350706058973, 0.005581470141211795, 0.15069969381271844, 0.055814701412117945, 0.7534984690635923, 0.005581470141211795, 0.9911400807199461, 0.9969095251774711, 0.4753541723975571, 0.2364060857378225, 0.13675964959886938, 0.05490721991330071, 0.013726804978325178, 0.08236082986995107, 0.9914464669417766, 0.030339056485467437, 0.007584764121366859, 0.811569760986254, 0.15169528242733718, 0.007032978426585669, 0.20043988515769157, 0.26373669099696256, 0.07267411040805191, 0.45479927158587324, 0.8913523432241247, 0.0928903772317824, 0.013834737034520782, 0.9924909051746241, 0.06081170053568463, 0.32455682870168767, 0.5220240360591355, 0.03348059917133199, 0.058761867933358185, 0.9990815278686681, 0.9972852987130967, 0.9889633634391772, 0.2650334090079933, 0.47209075979548815, 0.15972995632178172, 0.01419821833971393, 0.00473273944657131, 0.011831848616428274, 0.05442650363557006, 0.017747772924642413, 0.9961253765301666, 0.05956974105862489, 0.8857761496543354, 0.051799774833586866, 0.9979646765546323, 0.02386253453499648, 0.9272299133598633, 0.006817867009998994, 0.03749826855499447, 0.012142650448920699, 0.9835546863625767, 0.9986274760747065, 0.8390200864423898, 0.046872630527507814, 0.10780705021326796, 0.13155254762499527, 0.20126415405875342, 0.12593064388033734, 0.05059713370192125, 0.3159509904497749, 0.05846779894444234, 0.0742091294294845, 0.04160208771046859, 0.09022784438836488, 0.09645045434618314, 0.8089392945163748, 0.14079583537589896, 0.07177826901516417, 0.7702360405858002, 0.013803513272146956, 0.005521405308858782, 0.07037849968254424, 0.928765446630297, 0.05186735369565744, 0.07780103054348617, 0.8609980713479135, 0.006915647159420992, 0.007015759832752515, 0.02706078792633113, 0.022049530902936477, 0.8198416490273653, 0.10323189468192986, 0.020045028093578613, 0.9919253953166821, 0.11373150723354157, 0.6333283932220747, 0.022300295535988543, 0.006690088660796564, 0.062440827500767924, 0.15833209830551867, 0.14960142235957088, 0.8501160191226409, 0.9900178836252859, 0.9237922021122243, 0.07286910500121871, 0.9929761825591723, 0.3264356014263979, 0.6719486081309619, 0.9960760114649879, 0.9751388434777566, 0.9981929803571755, 0.9774175479966533, 0.9926020578490464, 0.9867734167030051, 0.045865618819200954, 0.1703580127570321, 0.7818995970130448, 0.8014797834525059, 0.054440136234509835, 0.13005143656021795, 0.015122260065141621, 0.018308729381045632, 0.9520539278143728, 0.9845786540622792, 0.004005284272884994, 0.5540643244157575, 0.21228006646290468, 0.03337736894070829, 0.19625892937136472, 0.9956755880569692, 0.0623278482640863, 0.18896220664191243, 0.12762368930265292, 0.4125509956527617, 0.20874882513844778, 0.8118324669220683, 0.18587410017070924, 0.8856920642235967, 0.05244229327639717, 0.027677877006987397, 0.03350479848214264, 0.9933774949962488, 0.9913438540860843, 0.7920731274405403, 0.006061784138575563, 0.028288325980019294, 0.01818535241572669, 0.014144162990009647, 0.09092676207863346, 0.05051486782146303, 0.9790801626219413, 0.23887953880955076, 0.7533893147070447, 0.011376266828312713, 0.27018633717242696, 0.7167048101837009, 0.12169624086184354, 0.471926701481684, 0.08065913638517537, 0.022641161090575544, 0.13089421255488987, 0.02334869737465603, 0.14150725681609713, 0.007782899124885343, 0.8888206950855982, 0.10748529335918863, 0.3768611406172402, 0.0028496116492796987, 0.33625417461500445, 0.1382061649900654, 0.0014248058246398494, 0.02279689319423759, 0.08691315530303081, 0.03490774270367631, 0.9923717116039154, 0.9910667695884551, 0.050528039451716085, 0.9448743377470908, 0.9961270038856828, 0.0678408940937703, 0.11373326362779139, 0.8180813699542889, 0.05045377423033943, 0.6706147491449282, 0.12403219498291777, 0.029431368301031335, 0.060964977194993476, 0.06306721778792429, 0.23396320280941263, 0.08870033513104106, 0.041136387307149476, 0.38308260679782946, 0.25196037225629053, 0.9923751241408204, 0.9837537328144973, 0.9907495610469501, 0.9937670509572727, 0.19545340255234422, 0.12829761808564133, 0.1002325141294073, 0.05111858220599772, 0.4871300186689195, 0.0370860302278807, 0.41453994697200464, 0.3737818226893855, 0.049705029612950195, 0.0516932307974682, 0.053681431981986216, 0.05566963316650422, 0.9917832301833313, 0.9923571658608201, 0.9837077431764959, 0.9837444770333236, 0.9891308556077422, 0.9897595555643547, 0.02805937256357138, 0.042089058845357075, 0.9399889808796412, 0.08930921641375743, 0.08930921641375743, 0.8149465997755366, 0.9927839749323631, 0.01791732264321068, 0.9813179786127695, 0.38177635354333705, 0.6157683121666726, 0.39176274324237986, 0.49439707214293943, 0.008761467101267281, 0.016271296045210663, 0.07384665128210993, 0.015019657887886766, 0.9924361980690612, 0.9920480877226293, 0.008211675095659739, 0.10127732617980344, 0.5447077813454293, 0.22992690267847268, 0.0793795259247108, 0.03421531289858224, 0.03953191702655225, 0.26542858574970796, 0.016942250154236678, 0.28707701650234374, 0.22683790484283553, 0.15906890422588882, 0.005647416718078893, 0.9873537023614556, 0.9931127159580463, 0.3960364834614684, 0.5062266670759523, 0.0006481775506734344, 0.0012963551013468687, 0.06092868976330284, 0.023982569374917072, 0.011019018361448385, 0.4946734023084012, 0.38452665111602774, 0.09790822328210973, 0.022503099705968768, 0.982760906064005, 0.11401975403736174, 0.14116731452244788, 0.7384136451943427, 0.3024469467929084, 0.34614413208806544, 0.07147611023279259, 0.058679077396353745, 0.08396102031712317, 0.03214864346715125, 0.05930332290057027, 0.036518361996666956, 0.009675805315356202, 0.9949292206581736, 0.6800421631944672, 0.3188328242870202, 0.9861569801907004, 0.9971469621311225, 0.03219107335189976, 0.9657322005569929, 0.9794949921315386, 0.9881717036825749, 0.028965328998098124, 0.019310219332065417, 0.45861770913655364, 0.05068932574667172, 0.41758349305591463, 0.024137774165081772, 0.10282649233553633, 0.8960594332096737, 0.9718643321900804, 0.9953132417659426, 0.6686943599561178, 0.15389130475702437, 0.04580098355863821, 0.10625828185604064, 0.023816511450491868, 0.10543420252602326, 0.08709781947801921, 0.806800854112178, 0.9874826786274885, 0.112961248803956, 0.8831515815582015, 0.9976255589614804, 0.9978368325143855, 0.9986389609979728, 0.1287590648123576, 0.7169177559305342, 0.08107052228926219, 0.031792361682063605, 0.015896180841031803, 0.02702350742975406, 0.9726816125341472, 0.3630027436731337, 0.31197360398745355, 0.018556050794792774, 0.3061748381140808, 0.06630608411936471, 0.9330213265367749, 0.5447665305022743, 0.3437969751661685, 0.10996447367447301, 0.9948331252874063, 0.9936064550122498, 0.9909109156126691, 0.99263027167265, 0.01168663572079185, 0.30904658906094007, 0.6531530852842556, 0.024671786521671686, 0.9979802630250594, 0.994733003237526, 0.9838667273735345, 0.996441823618487, 0.980758876061142, 0.3115224121729165, 0.41276719612911433, 0.028037017095562482, 0.0010384080405763882, 0.026479405034697902, 0.0965719477736041, 0.05088199398824302, 0.07268856284034718, 0.6861207464059881, 0.17782487234834093, 0.1290410578103005, 0.006294685746843927, 0.996485686511704, 0.2550868855615452, 0.10576773303771386, 0.1773164936220497, 0.015554078387899097, 0.13687588981351206, 0.30485993640282233, 0.9987555358367777, 0.9981032690280954, 0.05890267155646719, 0.002454277981519466, 0.9381477584358159, 0.990331362685696, 0.9965592790718129, 0.9890285374128777, 0.06328861688741337, 0.7645264919999535, 0.16961349325826783, 0.656094410770005, 0.01595366348376912, 0.10968143645091269, 0.005982623806413419, 0.10768722851544155, 0.005982623806413419, 0.017947871419240258, 0.07976831741884559, 0.1270654487397111, 0.33578131891292473, 0.044448750129480685, 0.08261669861023041, 0.00869649459055057, 0.21403039464521678, 0.07633589696149944, 0.1014591035564233, 0.009179633178914489, 0.31733133114319306, 0.38102922608069534, 0.07991190455795738, 0.06369789493750226, 0.0555908901272747, 0.08338633519091204, 0.018530296709091565, 0.9953835546721258, 0.9936135278148389, 0.9945859685155467, 0.9954259169991609, 0.9951760958324009, 0.11805321319579318, 0.17238452154158435, 0.12643767436026712, 0.17875671202658455, 0.326658606967905, 0.03454397999763266, 0.002347649126052705, 0.0405807920360539, 0.9911790244461102, 0.9901547792819415], \"Term\": [\"accid\", \"actual\", \"actual\", \"actual\", \"actual\", \"actual\", \"actual\", \"actual\", \"address\", \"address\", \"address\", \"address\", \"address\", \"administr\", \"administr\", \"administr\", \"administr\", \"agenc\", \"agenc\", \"agenc\", \"agre\", \"agre\", \"agre\", \"agre\", \"aid\", \"alarm\", \"alcohol\", \"algorithm\", \"algorithm\", \"amend\", \"amiga\", \"amour\", \"annual\", \"annual\", \"annual\", \"annual\", \"anonym\", \"antibiot\", \"appear\", \"appear\", \"appear\", \"appear\", \"appear\", \"appear\", \"appear\", \"appear\", \"applic\", \"applic\", \"applic\", \"applic\", \"april\", \"april\", \"april\", \"april\", \"april\", \"arab\", \"arab\", \"archiv\", \"archiv\", \"arena\", \"arg\", \"argic\", \"argument\", \"argv\", \"arm\", \"arm\", \"armenia\", \"armenian\", \"armi\", \"armi\", \"asid\", \"ask\", \"ask\", \"ask\", \"ask\", \"ask\", \"ask\", \"ask\", \"attack\", \"attack\", \"attack\", \"aura\", \"austin\", \"automobil\", \"avail\", \"avail\", \"avail\", \"avail\", \"avail\", \"avail\", \"aveng\", \"azerbaijan\", \"azerbaijani\", \"azeri\", \"bag\", \"baku\", \"balloon\", \"basebal\", \"bat\", \"batteri\", \"believ\", \"believ\", \"believ\", \"believ\", \"believ\", \"believ\", \"belt\", \"best\", \"best\", \"best\", \"best\", \"best\", \"best\", \"best\", \"better\", \"better\", \"better\", \"better\", \"better\", \"better\", \"bike\", \"biker\", \"bird\", \"bitmap\", \"bitnet\", \"bitnet\", \"black\", \"black\", \"black\", \"black\", \"black\", \"black\", \"block\", \"block\", \"block\", \"blue\", \"blue\", \"blue\", \"blue\", \"book\", \"book\", \"book\", \"book\", \"book\", \"book\", \"book\", \"book\", \"boston\", \"boston\", \"brake\", \"brand\", \"brand\", \"bruin\", \"buffalo\", \"burst\", \"burst\", \"button\", \"button\", \"button\", \"buy\", \"buy\", \"byte\", \"cadr\", \"cage\", \"calgari\", \"canadien\", \"cancer\", \"candida\", \"captain\", \"captain\", \"car\", \"card\", \"card\", \"card\", \"card\", \"card\", \"case\", \"case\", \"case\", \"case\", \"case\", \"case\", \"case\", \"case\", \"cassett\", \"caus\", \"caus\", \"caus\", \"caus\", \"caus\", \"cell\", \"cellular\", \"center\", \"center\", \"center\", \"center\", \"center\", \"certain\", \"certain\", \"certain\", \"certain\", \"certain\", \"certain\", \"channel\", \"channel\", \"channel\", \"channel\", \"chastiti\", \"chicago\", \"children\", \"children\", \"children\", \"chip\", \"chronic\", \"chuck\", \"cipher\", \"ciphertext\", \"circl\", \"circl\", \"claim\", \"claim\", \"claim\", \"claim\", \"classifi\", \"clear\", \"clear\", \"clear\", \"clear\", \"clear\", \"clear\", \"clemen\", \"click\", \"client\", \"client\", \"clinic\", \"clinton\", \"clinton\", \"clipper\", \"clipper\", \"cloud\", \"coach\", \"coat\", \"code\", \"code\", \"code\", \"color\", \"color\", \"color\", \"color\", \"color\", \"colormap\", \"come\", \"come\", \"come\", \"come\", \"come\", \"come\", \"come\", \"come\", \"come\", \"comic\", \"communic\", \"communic\", \"communic\", \"communic\", \"compil\", \"compil\", \"comput\", \"comput\", \"comput\", \"condit\", \"condit\", \"condit\", \"condit\", \"condit\", \"condit\", \"configur\", \"configur\", \"configur\", \"consortium\", \"contrib\", \"control\", \"control\", \"control\", \"control\", \"control\", \"control\", \"control\", \"control\", \"copi\", \"copi\", \"copi\", \"copi\", \"copi\", \"corvett\", \"counterst\", \"court\", \"cover\", \"cover\", \"cover\", \"cover\", \"cover\", \"cover\", \"crypt\", \"cryptanalysi\", \"crypto\", \"cryptograph\", \"cryptographi\", \"cryptolog\", \"cursor\", \"data\", \"data\", \"data\", \"data\", \"dealer\", \"dealer\", \"decrypt\", \"default\", \"defens\", \"defens\", \"defens\", \"defens\", \"defens\", \"defin\", \"defin\", \"defin\", \"deliveri\", \"den\", \"depress\", \"detector\", \"detroit\", \"develop\", \"develop\", \"develop\", \"develop\", \"develop\", \"develop\", \"devic\", \"devic\", \"devic\", \"devil\", \"diet\", \"differ\", \"differ\", \"differ\", \"differ\", \"differ\", \"differ\", \"differ\", \"differ\", \"diseas\", \"disk\", \"disk\", \"disk\", \"display\", \"distanc\", \"distanc\", \"distribut\", \"distribut\", \"distribut\", \"distribut\", \"distribut\", \"dive\", \"divis\", \"divis\", \"divis\", \"donat\", \"door\", \"door\", \"door\", \"dorothi\", \"drive\", \"drive\", \"drive\", \"drug\", \"drug\", \"earth\", \"earth\", \"eat\", \"echo\", \"effect\", \"effect\", \"effect\", \"effect\", \"effect\", \"effect\", \"email\", \"email\", \"email\", \"encrypt\", \"enforc\", \"enforc\", \"enforc\", \"engin\", \"engin\", \"engin\", \"ensur\", \"entri\", \"error\", \"error\", \"error\", \"error\", \"erzurum\", \"escrow\", \"espn\", \"event\", \"event\", \"event\", \"event\", \"event\", \"event\", \"evid\", \"evid\", \"evid\", \"evid\", \"excel\", \"excel\", \"excel\", \"excel\", \"excel\", \"exit\", \"export\", \"export\", \"fact\", \"fact\", \"fact\", \"fact\", \"fact\", \"fact\", \"fan\", \"file\", \"file\", \"file\", \"file\", \"filenam\", \"flash\", \"flash\", \"floppi\", \"floppi\", \"flyer\", \"flyer\", \"font\", \"footbal\", \"forc\", \"forc\", \"forc\", \"forc\", \"forc\", \"ford\", \"forsal\", \"found\", \"function\", \"function\", \"function\", \"function\", \"function\", \"galaxi\", \"game\", \"game\", \"gamma\", \"gamma\", \"gant\", \"garag\", \"gaza\", \"gear\", \"gear\", \"genesi\", \"genocid\", \"get\", \"get\", \"get\", \"get\", \"get\", \"get\", \"get\", \"go\", \"go\", \"go\", \"go\", \"go\", \"go\", \"goal\", \"goal\", \"goal\", \"goal\", \"goal\", \"goal\", \"goali\", \"good\", \"good\", \"good\", \"good\", \"good\", \"good\", \"good\", \"good\", \"govern\", \"govern\", \"graphic\", \"graphic\", \"great\", \"great\", \"great\", \"great\", \"great\", \"great\", \"great\", \"great\", \"great\", \"greec\", \"greek\", \"green\", \"green\", \"green\", \"green\", \"green\", \"group\", \"group\", \"group\", \"group\", \"group\", \"group\", \"group\", \"hacker\", \"happen\", \"happen\", \"happen\", \"happen\", \"happen\", \"happen\", \"hard\", \"hard\", \"hard\", \"hard\", \"hard\", \"hard\", \"harley\", \"hawk\", \"hawk\", \"health\", \"health\", \"heard\", \"heard\", \"heard\", \"heard\", \"hellman\", \"helmet\", \"help\", \"help\", \"help\", \"help\", \"help\", \"help\", \"help\", \"help\", \"help\", \"high\", \"high\", \"high\", \"high\", \"high\", \"high\", \"high\", \"high\", \"high\", \"histori\", \"histori\", \"histori\", \"histori\", \"histori\", \"hitter\", \"hockey\", \"hole\", \"hole\", \"hole\", \"hole\", \"honda\", \"hulk\", \"icon\", \"idea\", \"idea\", \"idea\", \"idea\", \"idea\", \"ignor\", \"ignor\", \"ignor\", \"ignor\", \"imak\", \"immun\", \"impli\", \"includ\", \"includ\", \"includ\", \"includ\", \"includ\", \"includ\", \"includ\", \"includ\", \"increas\", \"increas\", \"increas\", \"increas\", \"increas\", \"increas\", \"incred\", \"incred\", \"incred\", \"infect\", \"infecti\", \"info\", \"info\", \"info\", \"info\", \"inform\", \"inform\", \"inform\", \"inform\", \"inform\", \"inform\", \"inning\", \"insur\", \"insur\", \"intellect\", \"interest\", \"interest\", \"interest\", \"interest\", \"interest\", \"interest\", \"interest\", \"interfac\", \"interfac\", \"internet\", \"intestin\", \"islam\", \"islam\", \"isra\", \"israel\", \"issu\", \"issu\", \"issu\", \"issu\", \"issu\", \"issu\", \"istanbul\", \"itali\", \"item\", \"item\", \"item\", \"item\", \"item\", \"jerusalem\", \"jew\", \"jew\", \"jewish\", \"jewish\", \"jose\", \"key\", \"key\", \"keyword\", \"kill\", \"kill\", \"kill\", \"kill\", \"kill\", \"kill\", \"king\", \"king\", \"king\", \"king\", \"kirlian\", \"know\", \"know\", \"know\", \"know\", \"know\", \"know\", \"know\", \"know\", \"know\", \"know\", \"laptop\", \"launch\", \"leaf\", \"leagu\", \"leagu\", \"lean\", \"lebanes\", \"lebanon\", \"left\", \"left\", \"left\", \"left\", \"left\", \"left\", \"legal\", \"legal\", \"legal\", \"lesson\", \"like\", \"like\", \"like\", \"like\", \"like\", \"like\", \"like\", \"like\", \"like\", \"line\", \"line\", \"line\", \"line\", \"line\", \"line\", \"line\", \"linux\", \"list\", \"list\", \"list\", \"list\", \"list\", \"list\", \"list\", \"list\", \"listserv\", \"littl\", \"littl\", \"littl\", \"littl\", \"littl\", \"littl\", \"littl\", \"littl\", \"live\", \"live\", \"live\", \"live\", \"live\", \"lock\", \"lock\", \"lock\", \"login\", \"london\", \"look\", \"look\", \"look\", \"look\", \"look\", \"look\", \"look\", \"look\", \"look\", \"look\", \"lost\", \"lost\", \"lost\", \"lost\", \"lost\", \"lost\", \"loui\", \"lunar\", \"macintosh\", \"mail\", \"mail\", \"mail\", \"make\", \"make\", \"make\", \"make\", \"make\", \"make\", \"make\", \"makefil\", \"manag\", \"manag\", \"manag\", \"manag\", \"manag\", \"manag\", \"manag\", \"manual\", \"manual\", \"manual\", \"manual\", \"mar\", \"marvel\", \"mask\", \"mask\", \"massacr\", \"massacr\", \"mathemat\", \"mayb\", \"mayb\", \"mayb\", \"mayb\", \"mayb\", \"mazda\", \"mean\", \"mean\", \"mean\", \"mean\", \"mean\", \"mean\", \"mean\", \"medic\", \"medic\", \"medicin\", \"menu\", \"messag\", \"messag\", \"messag\", \"microsoft\", \"mile\", \"mile\", \"mile\", \"mile\", \"miner\", \"mini\", \"minnesota\", \"mint\", \"mission\", \"model\", \"model\", \"model\", \"model\", \"model\", \"model\", \"model\", \"modem\", \"modem\", \"montreal\", \"moon\", \"moon\", \"morri\", \"motif\", \"motorcycl\", \"motorcycl\", \"mous\", \"mous\", \"murder\", \"music\", \"music\", \"muslim\", \"mustang\", \"mutant\", \"nasa\", \"nasa\", \"nation\", \"nation\", \"nation\", \"nation\", \"nation\", \"nazi\", \"need\", \"need\", \"need\", \"need\", \"need\", \"need\", \"need\", \"need\", \"need\", \"neighbor\", \"netcom\", \"network\", \"network\", \"network\", \"network\", \"network\", \"news\", \"news\", \"news\", \"news\", \"news\", \"newsgroup\", \"newsgroup\", \"newslett\", \"ninja\", \"nois\", \"null\", \"number\", \"number\", \"number\", \"number\", \"number\", \"number\", \"number\", \"number\", \"number\", \"offer\", \"offer\", \"offer\", \"offer\", \"offer\", \"offer\", \"olwm\", \"oort\", \"openwindow\", \"opinion\", \"opinion\", \"opinion\", \"orbit\", \"origin\", \"origin\", \"origin\", \"origin\", \"origin\", \"origin\", \"origin\", \"origin\", \"ottoman\", \"output\", \"output\", \"packag\", \"packag\", \"packag\", \"palestinian\", \"palestinian\", \"pars\", \"passeng\", \"passeng\", \"patch\", \"patch\", \"patent\", \"patient\", \"pen\", \"penalti\", \"peopl\", \"peopl\", \"peopl\", \"peopl\", \"peopl\", \"peopl\", \"peopl\", \"period\", \"period\", \"period\", \"period\", \"period\", \"period\", \"period\", \"person\", \"person\", \"person\", \"person\", \"person\", \"person\", \"person\", \"philadelphia\", \"phone\", \"phone\", \"phone\", \"phone\", \"photographi\", \"phrase\", \"physician\", \"pitch\", \"pitcher\", \"pittsburgh\", \"pixel\", \"pixmap\", \"plaintext\", \"planet\", \"planet\", \"plastic\", \"play\", \"play\", \"play\", \"play\", \"play\", \"play\", \"player\", \"player\", \"playoff\", \"playoff\", \"plus\", \"plus\", \"plus\", \"plus\", \"plus\", \"point\", \"point\", \"point\", \"point\", \"point\", \"point\", \"point\", \"point\", \"pointer\", \"pop\", \"popul\", \"popul\", \"post\", \"post\", \"post\", \"post\", \"post\", \"post\", \"post\", \"post\", \"post\", \"power\", \"power\", \"power\", \"power\", \"power\", \"power\", \"power\", \"power\", \"preview\", \"price\", \"price\", \"price\", \"price\", \"print\", \"print\", \"print\", \"print\", \"printer\", \"printf\", \"prison\", \"privaci\", \"privat\", \"privat\", \"privat\", \"privat\", \"probe\", \"probe\", \"problem\", \"problem\", \"problem\", \"problem\", \"problem\", \"problem\", \"processor\", \"prog\", \"program\", \"program\", \"program\", \"program\", \"project\", \"project\", \"project\", \"project\", \"project\", \"project\", \"propos\", \"propos\", \"propos\", \"protect\", \"protect\", \"protect\", \"protect\", \"protect\", \"protein\", \"provid\", \"provid\", \"provid\", \"provid\", \"provid\", \"provid\", \"provid\", \"public\", \"public\", \"public\", \"public\", \"public\", \"puck\", \"purchas\", \"purchas\", \"purchas\", \"purchas\", \"quack\", \"question\", \"question\", \"question\", \"question\", \"question\", \"question\", \"question\", \"ranger\", \"ranger\", \"read\", \"read\", \"read\", \"read\", \"read\", \"read\", \"readm\", \"realiti\", \"realiti\", \"rear\", \"rear\", \"reason\", \"reason\", \"reason\", \"reason\", \"reason\", \"reason\", \"reason\", \"reason\", \"recipi\", \"refere\", \"rememb\", \"rememb\", \"rememb\", \"rememb\", \"rememb\", \"replay\", \"report\", \"report\", \"report\", \"report\", \"report\", \"report\", \"report\", \"request\", \"request\", \"request\", \"request\", \"request\", \"research\", \"research\", \"research\", \"research\", \"research\", \"resourc\", \"resourc\", \"resourc\", \"resourc\", \"resourc\", \"resourc\", \"reveal\", \"ride\", \"right\", \"right\", \"right\", \"right\", \"right\", \"right\", \"ripem\", \"rocket\", \"rocket\", \"rocket\", \"rocket\", \"run\", \"run\", \"run\", \"run\", \"run\", \"russian\", \"russian\", \"russian\", \"sabr\", \"said\", \"said\", \"said\", \"said\", \"said\", \"sale\", \"satellit\", \"saturn\", \"say\", \"say\", \"say\", \"say\", \"say\", \"say\", \"say\", \"say\", \"scheme\", \"scienc\", \"scienc\", \"scienc\", \"score\", \"screen\", \"screen\", \"screen\", \"screen\", \"scsi\", \"scsi\", \"season\", \"seat\", \"seat\", \"seat\", \"second\", \"second\", \"second\", \"second\", \"second\", \"second\", \"second\", \"second\", \"secret\", \"secret\", \"secret\", \"section\", \"section\", \"section\", \"section\", \"section\", \"secur\", \"secur\", \"sell\", \"sell\", \"sell\", \"sell\", \"send\", \"send\", \"send\", \"send\", \"send\", \"send\", \"serdar\", \"seri\", \"seri\", \"seri\", \"seri\", \"seri\", \"seri\", \"server\", \"server\", \"shark\", \"ship\", \"ship\", \"shit\", \"shot\", \"shot\", \"shout\", \"shutout\", \"shuttl\", \"sigh\", \"silicon\", \"silver\", \"site\", \"site\", \"site\", \"situat\", \"situat\", \"situat\", \"situat\", \"slash\", \"slash\", \"smooth\", \"softwar\", \"softwar\", \"softwar\", \"softwar\", \"softwar\", \"soldier\", \"sourc\", \"sourc\", \"sourc\", \"sourc\", \"sourc\", \"soviet\", \"soviet\", \"space\", \"space\", \"space\", \"space\", \"spacecraft\", \"sparc\", \"speed\", \"speed\", \"speed\", \"speed\", \"speed\", \"speed\", \"speed\", \"spider\", \"stadium\", \"stadium\", \"star\", \"star\", \"star\", \"start\", \"start\", \"start\", \"start\", \"start\", \"start\", \"start\", \"start\", \"stat\", \"stat\", \"state\", \"state\", \"state\", \"state\", \"state\", \"state\", \"state\", \"state\", \"steer\", \"stereo\", \"stream\", \"stream\", \"string\", \"studi\", \"studi\", \"studi\", \"stuff\", \"stuff\", \"stuff\", \"stuff\", \"stuff\", \"stuff\", \"subject\", \"subject\", \"subject\", \"subject\", \"subject\", \"subscrib\", \"subscript\", \"sumgait\", \"suno\", \"support\", \"support\", \"support\", \"support\", \"support\", \"support\", \"sure\", \"sure\", \"sure\", \"sure\", \"sure\", \"sure\", \"surveil\", \"suspens\", \"sweden\", \"switzerland\", \"symptom\", \"syndrom\", \"tail\", \"tail\", \"tail\", \"tape\", \"tape\", \"tape\", \"tartar\", \"team\", \"team\", \"technolog\", \"technolog\", \"tell\", \"tell\", \"tell\", \"tell\", \"tell\", \"tell\", \"temperatur\", \"terror\", \"test\", \"test\", \"test\", \"test\", \"test\", \"test\", \"thank\", \"thank\", \"thank\", \"thank\", \"thank\", \"thank\", \"thank\", \"theoret\", \"therapi\", \"thing\", \"thing\", \"thing\", \"thing\", \"thing\", \"thing\", \"thing\", \"think\", \"think\", \"think\", \"think\", \"throttl\", \"ticket\", \"ticket\", \"ticket\", \"time\", \"time\", \"time\", \"time\", \"time\", \"time\", \"time\", \"time\", \"time\", \"tire\", \"told\", \"told\", \"tommi\", \"toolkit\", \"toronto\", \"toronto\", \"torqu\", \"toyota\", \"trade\", \"trade\", \"trade\", \"trade\", \"trade\", \"trade\", \"treatment\", \"treatment\", \"trek\", \"troop\", \"true\", \"true\", \"true\", \"true\", \"true\", \"trust\", \"trust\", \"trust\", \"tune\", \"turbo\", \"turbo\", \"turk\", \"turkey\", \"turkish\", \"turn\", \"turn\", \"turn\", \"turn\", \"turn\", \"turn\", \"tutori\", \"univers\", \"univers\", \"univers\", \"univers\", \"usenet\", \"usenet\", \"user\", \"user\", \"user\", \"uucp\", \"uuencod\", \"vaccin\", \"valv\", \"version\", \"version\", \"version\", \"version\", \"villag\", \"vitamin\", \"void\", \"vote\", \"wagon\", \"want\", \"want\", \"want\", \"want\", \"want\", \"want\", \"want\", \"want\", \"went\", \"went\", \"went\", \"went\", \"wheel\", \"white\", \"white\", \"white\", \"white\", \"white\", \"white\", \"widget\", \"win\", \"window\", \"window\", \"window\", \"winnipeg\", \"wiretap\", \"wolverin\", \"women\", \"women\", \"women\", \"word\", \"word\", \"word\", \"word\", \"word\", \"word\", \"word\", \"word\", \"work\", \"work\", \"work\", \"work\", \"work\", \"work\", \"work\", \"work\", \"work\", \"world\", \"world\", \"world\", \"world\", \"world\", \"world\", \"world\", \"wound\", \"xfree\", \"xlib\", \"xterm\", \"xview\", \"year\", \"year\", \"year\", \"year\", \"year\", \"year\", \"year\", \"year\", \"yeast\", \"zionist\"]}, \"R\": 30, \"lambda.step\": 0.01, \"plot.opts\": {\"xlab\": \"PC1\", \"ylab\": \"PC2\"}, \"topic.order\": [10, 8, 5, 4, 9, 7, 3, 1, 6, 2]};\n",
       "\n",
       "function LDAvis_load_lib(url, callback){\n",
       "  var s = document.createElement('script');\n",
       "  s.src = url;\n",
       "  s.async = true;\n",
       "  s.onreadystatechange = s.onload = callback;\n",
       "  s.onerror = function(){console.warn(\"failed to load library \" + url);};\n",
       "  document.getElementsByTagName(\"head\")[0].appendChild(s);\n",
       "}\n",
       "\n",
       "if(typeof(LDAvis) !== \"undefined\"){\n",
       "   // already loaded: just create the visualization\n",
       "   !function(LDAvis){\n",
       "       new LDAvis(\"#\" + \"ldavis_el861121403549861152807623287701\", ldavis_el861121403549861152807623287701_data);\n",
       "   }(LDAvis);\n",
       "}else if(typeof define === \"function\" && define.amd){\n",
       "   // require.js is available: use it to load d3/LDAvis\n",
       "   require.config({paths: {d3: \"https://cdnjs.cloudflare.com/ajax/libs/d3/3.5.5/d3.min\"}});\n",
       "   require([\"d3\"], function(d3){\n",
       "      window.d3 = d3;\n",
       "      LDAvis_load_lib(\"https://cdn.rawgit.com/bmabey/pyLDAvis/files/ldavis.v1.0.0.js\", function(){\n",
       "        new LDAvis(\"#\" + \"ldavis_el861121403549861152807623287701\", ldavis_el861121403549861152807623287701_data);\n",
       "      });\n",
       "    });\n",
       "}else{\n",
       "    // require.js not available: dynamically load d3 & LDAvis\n",
       "    LDAvis_load_lib(\"https://cdnjs.cloudflare.com/ajax/libs/d3/3.5.5/d3.min.js\", function(){\n",
       "         LDAvis_load_lib(\"https://cdn.rawgit.com/bmabey/pyLDAvis/files/ldavis.v1.0.0.js\", function(){\n",
       "                 new LDAvis(\"#\" + \"ldavis_el861121403549861152807623287701\", ldavis_el861121403549861152807623287701_data);\n",
       "            })\n",
       "         });\n",
       "}\n",
       "</script>"
      ],
      "text/plain": [
       "PreparedData(topic_coordinates=              x         y  topics  cluster       Freq\n",
       "topic                                                \n",
       "9     -0.071274 -0.158253       1        1  16.068928\n",
       "7      0.021450 -0.150021       2        1  15.559736\n",
       "4      0.043560 -0.124907       3        1  14.497130\n",
       "3     -0.061426  0.004703       4        1  12.563197\n",
       "8      0.209376 -0.183576       5        1   9.811371\n",
       "6     -0.159978  0.164846       6        1   9.369773\n",
       "2     -0.185676  0.098406       7        1   7.510983\n",
       "0     -0.170308 -0.041953       8        1   6.918313\n",
       "5      0.083248  0.193076       9        1   4.628499\n",
       "1      0.291029  0.197679      10        1   3.072072, topic_info=          Term         Freq        Total Category  logprob  loglift\n",
       "123       game  2208.000000  2208.000000  Default  30.0000  30.0000\n",
       "273     window  1629.000000  1629.000000  Default  29.0000  29.0000\n",
       "598   armenian  1712.000000  1712.000000  Default  28.0000  28.0000\n",
       "86        team  1451.000000  1451.000000  Default  27.0000  27.0000\n",
       "254       mail  1397.000000  1397.000000  Default  26.0000  26.0000\n",
       "...        ...          ...          ...      ...      ...      ...\n",
       "311       forc   152.136932   683.506583  Topic10  -4.8726   1.9804\n",
       "693      white    98.440851   321.459097  Topic10  -5.3079   2.2994\n",
       "468       issu   108.343581   724.233607  Topic10  -5.2120   1.5830\n",
       "130       left    99.866881   792.428832  Topic10  -5.2935   1.4116\n",
       "1087     earth    90.663874   416.671383  Topic10  -5.3902   1.9577\n",
       "\n",
       "[648 rows x 6 columns], token_table=      Topic      Freq     Term\n",
       "term                          \n",
       "1713      2  0.994027    accid\n",
       "97        1  0.590655   actual\n",
       "97        2  0.242546   actual\n",
       "97        4  0.002513   actual\n",
       "97        5  0.049012   actual\n",
       "...     ...       ...      ...\n",
       "156       6  0.034544     year\n",
       "156       8  0.002348     year\n",
       "156       9  0.040581     year\n",
       "2740      4  0.991179    yeast\n",
       "5438      1  0.990155  zionist\n",
       "\n",
       "[1525 rows x 3 columns], R=30, lambda_step=0.01, plot_opts={'xlab': 'PC1', 'ylab': 'PC2'}, topic_order=[10, 8, 5, 4, 9, 7, 3, 1, 6, 2])"
      ]
     },
     "execution_count": 13,
     "metadata": {},
     "output_type": "execute_result"
    }
   ],
   "source": [
    "import pyLDAvis.gensim\n",
    "pyLDAvis.enable_notebook()\n",
    "vis = pyLDAvis.gensim.prepare(lda_model, corpus, dictionary=lda_model.id2word)\n",
    "vis"
   ]
  },
  {
   "cell_type": "markdown",
   "metadata": {},
   "source": [
    "Note, for newer versions of `gensim`, use the following code:"
   ]
  },
  {
   "cell_type": "code",
   "execution_count": null,
   "metadata": {},
   "outputs": [],
   "source": [
    "#import pyLDAvis.gensim_models\n",
    "#pyLDAvis.enable_notebook()\n",
    "#vis = pyLDAvis.gensim_models.prepare(lda_model, corpus, dictionary=lda_model.id2word)\n",
    "#vis"
   ]
  },
  {
   "cell_type": "code",
   "execution_count": null,
   "metadata": {},
   "outputs": [],
   "source": []
  }
 ],
 "metadata": {
  "kernelspec": {
   "display_name": "Python 3 (ipykernel)",
   "language": "python",
   "name": "python3"
  },
  "language_info": {
   "codemirror_mode": {
    "name": "ipython",
    "version": 3
   },
   "file_extension": ".py",
   "mimetype": "text/x-python",
   "name": "python",
   "nbconvert_exporter": "python",
   "pygments_lexer": "ipython3",
   "version": "3.9.7"
  },
  "varInspector": {
   "cols": {
    "lenName": 16,
    "lenType": 16,
    "lenVar": 40
   },
   "kernels_config": {
    "python": {
     "delete_cmd_postfix": "",
     "delete_cmd_prefix": "del ",
     "library": "var_list.py",
     "varRefreshCmd": "print(var_dic_list())"
    },
    "r": {
     "delete_cmd_postfix": ") ",
     "delete_cmd_prefix": "rm(",
     "library": "var_list.r",
     "varRefreshCmd": "cat(var_dic_list()) "
    }
   },
   "types_to_exclude": [
    "module",
    "function",
    "builtin_function_or_method",
    "instance",
    "_Feature"
   ],
   "window_display": false
  }
 },
 "nbformat": 4,
 "nbformat_minor": 4
}
