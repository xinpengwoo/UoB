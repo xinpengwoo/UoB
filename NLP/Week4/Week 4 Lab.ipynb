{
 "cells": [
  {
   "cell_type": "markdown",
   "id": "ed66b3aa",
   "metadata": {},
   "source": [
    "### Task 1\n",
    "\n",
    "Objectives\n",
    "\n",
    "Define, train and evaluate uni-gram and bi-gram HMM chunkers\n",
    "- load the conll2000 corpus\n",
    "- split the corpus to test and train (given)\n",
    "- define a class for unigram chunker (given)\n",
    "- define a class for bi-gram chunker. The bi-gram chunker should backoff on the unigram.\n",
    "- train a unigram and a bi-gram chunker on the train corpus.\n",
    "- evaluate and compare both chunkers on the test corpus"
   ]
  },
  {
   "cell_type": "code",
   "execution_count": 1,
   "id": "5a0ed82f",
   "metadata": {},
   "outputs": [
    {
     "name": "stderr",
     "output_type": "stream",
     "text": [
      "[nltk_data] Downloading package conll2000 to\n",
      "[nltk_data]     /home/xinpeng/nltk_data...\n",
      "[nltk_data]   Package conll2000 is already up-to-date!\n"
     ]
    }
   ],
   "source": [
    "# Import section\n",
    "import nltk\n",
    "nltk.download('conll2000')\n",
    "from nltk.corpus import conll2000"
   ]
  },
  {
   "cell_type": "code",
   "execution_count": 2,
   "id": "1217724d",
   "metadata": {},
   "outputs": [],
   "source": [
    "# Class for unigram chunker\n",
    "# Takes a corpus in a pos tagged an i-o-b chunk format as input\n",
    "# Parses pos-tagged corpus with the parse funciton\n",
    "# Given in class\n",
    "class unigram_chunker(nltk.ChunkParserI):\n",
    "    \n",
    "    # Initialize and train the chunker\n",
    "    def __init__(self, train_sents):\n",
    "        # Take the pos and the iob tags of the corpus\n",
    "        # Ignore the actual words, we map from pos tag to iob tag\n",
    "        train_data = [[(t,c) for w,t,c in nltk.chunk.tree2conlltags(sent)] for sent in train_sents]\n",
    "        # Train an unigram tagger from the train data\n",
    "        self.tagger = nltk.UnigramTagger(train_data)\n",
    "    \n",
    "    # Parse function\n",
    "    # Takes a corpus in POS tagged format\n",
    "    def parse(self,sentence):\n",
    "        # Take the pos tags\n",
    "        pos_tags = [pos for (word,pos) in sentence]\n",
    "        # Use the tagger to tag the modified corpus\n",
    "        tagged_pos_tags = self.tagger.tag(pos_tags)\n",
    "        # Take the chunks from the tagged corpus\n",
    "        chunktags = [chunktag for (pos, chunktag) in tagged_pos_tags]\n",
    "        # Convert the output\n",
    "        conlltags = [(word, pos, chunktag) for ((word,pos),chunktag) in zip(sentence, chunktags)]\n",
    "        \n",
    "        # Return the tagged sentence\n",
    "        return nltk.chunk.conlltags2tree(conlltags)             "
   ]
  },
  {
   "cell_type": "code",
   "execution_count": 3,
   "id": "cda04ef0",
   "metadata": {},
   "outputs": [],
   "source": [
    "# Class for bigram chunker\n",
    "# Takes a corpus in a pos tagged an i-o-b chunk format as input\n",
    "# Parses pos-tagged corpus with the parse funciton\n",
    "class bigram_chunker(nltk.ChunkParserI):\n",
    "    \n",
    "    # Initialize and train the chunker\n",
    "    def __init__(self, train_sents):\n",
    "        # Take the pos and the iob tags of the corpus\n",
    "        # Ignore the actual words, we map from pos tag to iob tag\n",
    "        train_data = [[(t,c) for w,t,c in nltk.chunk.tree2conlltags(sent)] for sent in train_sents]\n",
    "        # Train an unigram tagger from the train data\n",
    "        self.tagger = nltk.BigramTagger(train_data)    \n",
    "        \n",
    "    # Parse function\n",
    "    # Takes a corpus in POS tagged format\n",
    "    def parse(self,sentence):\n",
    "        # Take the pos tags\n",
    "        pos_tags = [pos for (word,pos) in sentence]\n",
    "        # Use the tagger to tag the modified corpus\n",
    "        tagged_pos_tags = self.tagger.tag(pos_tags)\n",
    "        # Take the chunks from the tagged corpus\n",
    "        chunktags = [chunktag for (pos, chunktag) in tagged_pos_tags]\n",
    "        # Convert the output\n",
    "        conlltags = [(word, pos, chunktag) for ((word,pos),chunktag) in zip(sentence, chunktags)]\n",
    "        \n",
    "        # Return the tagged sentence\n",
    "        return nltk.chunk.conlltags2tree(conlltags)\n"
   ]
  },
  {
   "cell_type": "code",
   "execution_count": 4,
   "id": "bac56a6f",
   "metadata": {},
   "outputs": [],
   "source": [
    "# Dummy function for exercise 1\n",
    "def ex1():\n",
    "    # Get the corpus\n",
    "    train = conll2000.chunked_sents(\"train.txt\")\n",
    "    test = conll2000.chunked_sents(\"test.txt\")\n",
    "    \n",
    "    # Train the two taggers:\n",
    "    # Train unigram tagger (given)\n",
    "    uni_chunker = unigram_chunker(train)\n",
    "    # Train the bigram tagger HERE\n",
    "    bi_chunker = bigram_chunker(train)\n",
    "    # Evaluate and print the results:\n",
    "    print (\"The performance of unigram chunker is: {}\".format(uni_chunker.evaluate(test)))    \n",
    "    # Evaluate bigram tagger HERE\n",
    "    print (\"The performance of unigram chunker is: {}\".format(bi_chunker.evaluate(test))) "
   ]
  },
  {
   "cell_type": "code",
   "execution_count": 5,
   "id": "e1dd3a92",
   "metadata": {},
   "outputs": [
    {
     "name": "stdout",
     "output_type": "stream",
     "text": [
      "The performance of unigram chunker is: ChunkParse score:\n",
      "    IOB Accuracy:  86.5%%\n",
      "    Precision:     74.3%%\n",
      "    Recall:        86.4%%\n",
      "    F-Measure:     79.9%%\n",
      "The performance of unigram chunker is: ChunkParse score:\n",
      "    IOB Accuracy:  89.3%%\n",
      "    Precision:     81.2%%\n",
      "    Recall:        86.2%%\n",
      "    F-Measure:     83.6%%\n"
     ]
    }
   ],
   "source": [
    "ex1()"
   ]
  },
  {
   "cell_type": "markdown",
   "id": "6e160610",
   "metadata": {},
   "source": [
    "### Task 2\n",
    "\n",
    "Objectives\n",
    "\n",
    "Create and use a simple context free grammar for syntactic parsing\n",
    "- extend the given CFG\n",
    "- load the grammar in an nltk.RecursiveDescentParser\n",
    "- use the parset to tag a to corpus (given)\n",
    "- for each sentence, print the number of possible parses (correct answer below)\n",
    "\n",
    "Correct number of parses for each sentence:\n",
    "\n",
    "- “a young woman walks in the park” <- 1 parse\n",
    "- “two young men smile” <- 1 parse\n",
    "- “a young woman sees two men” <- 1 parse\n",
    "- “sees two men a young woman” <- 0 parses\n",
    "- “a young woman sees two old men in the park with a telescope” <- AT LEAST 3 parses\n",
    "- “a young woman two old men in the park with a telescope sees” <- 0 parses\n",
    "- “two angry men chase a woman with a telescope” <- 2 parses\n",
    "- “a woman I know owns a telescope” <- 1 parse\n",
    "- “a woman I know a telescope” <- 0 parses"
   ]
  },
  {
   "cell_type": "code",
   "execution_count": 11,
   "id": "73f4a8dc",
   "metadata": {},
   "outputs": [
    {
     "name": "stderr",
     "output_type": "stream",
     "text": [
      "[nltk_data] Downloading package large_grammars to\n",
      "[nltk_data]     /home/xinpeng/nltk_data...\n",
      "[nltk_data]   Package large_grammars is already up-to-date!\n"
     ]
    }
   ],
   "source": [
    "# Dummy function for exercise 2\n",
    "nltk.download('large_grammars')\n",
    "def ex2():\n",
    "    \"\"\"Function for exercise 2\"\"\"\n",
    "    # corpus (given)\n",
    "    corpus = [['a', 'young', 'woman', 'walks', 'in', 'the', 'park'],\n",
    "              ['two', 'young', 'men', 'smile'],\n",
    "              ['a', 'young', 'woman', 'sees', 'two', 'men'],\n",
    "              ['sees', 'two', 'men', 'a', 'young', 'woman'],\n",
    "              ['a', 'young', 'woman', 'sees', 'two', 'old', 'men', 'in', 'the', 'park', 'with', 'a', 'telescope'], \n",
    "              ['a', 'young', 'woman', 'two', 'old', 'men', 'in', 'the', 'park', 'with', 'a', 'telescope', 'sees'], \n",
    "              ['two', 'angry', 'men', 'chase', 'a', 'woman', 'with', 'a', 'telescope'], \n",
    "              ['a', 'woman', 'I', 'know', 'owns', 'a', 'telescope'], \n",
    "              ['a', 'woman', 'I', 'know', 'a', 'telescope']]\n",
    "    \n",
    "    # Grammar (in a string format)\n",
    "    grammar_string = \"\"\"\n",
    "    S -> NP VP\n",
    "    VP -> V NP | V NP PP\n",
    "    PP -> P NP\n",
    "    V -> \"saw\" | \"ate\" | \"walked\"\n",
    "    NP -> \"John\" | \"Mary\" | \"Bob\" | Det N | Det N PP\n",
    "    Det -> \"a\" | \"an\" | \"the\" | \"my\"\n",
    "    N -> \"man\" | \"dog\" | \"cat\" | \"telescope\" | \"park\"\n",
    "    P -> \"in\" | \"on\" | \"by\" | \"with\"\n",
    "    \"\"\"\n",
    "    \n",
    "    # Grammar (in nltk CFG format)\n",
    "    default_grammar = nltk.data.load('grammars/large_grammars/atis.cfg')\n",
    "    my_grammar = nltk.CFG.fromstring(grammar_string)\n",
    "    grammar = default_grammar.extend(my_grammar)\n",
    "    \n",
    "    # Parse the corpus, \n",
    "    # count the number of parses for each sentence,\n",
    "    # and print the sentence and the number of parses\n",
    "    \n",
    "    # YOUR CODE HERE\n",
    "    # Parse the sentence using the grammar\n",
    "    parser = nltk.RecursiveDescentParser(grammar)\n",
    "\n",
    "    # Print all possible trees\n",
    "    for sent in corpus:\n",
    "        print(*sent)\n",
    "        print(f\"<- {len(parser.parse_all(sent))} parses\")"
   ]
  },
  {
   "cell_type": "code",
   "execution_count": 12,
   "id": "02f12ff8",
   "metadata": {},
   "outputs": [
    {
     "ename": "AttributeError",
     "evalue": "'CFG' object has no attribute 'extend'",
     "output_type": "error",
     "traceback": [
      "\u001b[0;31m---------------------------------------------------------------------------\u001b[0m",
      "\u001b[0;31mAttributeError\u001b[0m                            Traceback (most recent call last)",
      "\u001b[0;32m/tmp/ipykernel_3606/2721354839.py\u001b[0m in \u001b[0;36m<module>\u001b[0;34m\u001b[0m\n\u001b[0;32m----> 1\u001b[0;31m \u001b[0mex2\u001b[0m\u001b[0;34m(\u001b[0m\u001b[0;34m)\u001b[0m\u001b[0;34m\u001b[0m\u001b[0;34m\u001b[0m\u001b[0m\n\u001b[0m",
      "\u001b[0;32m/tmp/ipykernel_3606/1878388904.py\u001b[0m in \u001b[0;36mex2\u001b[0;34m()\u001b[0m\n\u001b[1;32m     29\u001b[0m     \u001b[0mdefault_grammar\u001b[0m \u001b[0;34m=\u001b[0m \u001b[0mnltk\u001b[0m\u001b[0;34m.\u001b[0m\u001b[0mdata\u001b[0m\u001b[0;34m.\u001b[0m\u001b[0mload\u001b[0m\u001b[0;34m(\u001b[0m\u001b[0;34m'grammars/large_grammars/atis.cfg'\u001b[0m\u001b[0;34m)\u001b[0m\u001b[0;34m\u001b[0m\u001b[0;34m\u001b[0m\u001b[0m\n\u001b[1;32m     30\u001b[0m     \u001b[0mmy_grammar\u001b[0m \u001b[0;34m=\u001b[0m \u001b[0mnltk\u001b[0m\u001b[0;34m.\u001b[0m\u001b[0mCFG\u001b[0m\u001b[0;34m.\u001b[0m\u001b[0mfromstring\u001b[0m\u001b[0;34m(\u001b[0m\u001b[0mgrammar_string\u001b[0m\u001b[0;34m)\u001b[0m\u001b[0;34m\u001b[0m\u001b[0;34m\u001b[0m\u001b[0m\n\u001b[0;32m---> 31\u001b[0;31m     \u001b[0mgrammar\u001b[0m \u001b[0;34m=\u001b[0m \u001b[0mdefault_grammar\u001b[0m\u001b[0;34m.\u001b[0m\u001b[0mextend\u001b[0m\u001b[0;34m(\u001b[0m\u001b[0mmy_grammar\u001b[0m\u001b[0;34m)\u001b[0m\u001b[0;34m\u001b[0m\u001b[0;34m\u001b[0m\u001b[0m\n\u001b[0m\u001b[1;32m     32\u001b[0m \u001b[0;34m\u001b[0m\u001b[0m\n\u001b[1;32m     33\u001b[0m     \u001b[0;31m# Parse the corpus,\u001b[0m\u001b[0;34m\u001b[0m\u001b[0;34m\u001b[0m\u001b[0m\n",
      "\u001b[0;31mAttributeError\u001b[0m: 'CFG' object has no attribute 'extend'"
     ]
    }
   ],
   "source": [
    "ex2()"
   ]
  },
  {
   "cell_type": "code",
   "execution_count": null,
   "id": "503f60aa",
   "metadata": {},
   "outputs": [],
   "source": [
    "# Example of using CFG\n",
    "\n",
    "# A simple CFG\n",
    "grammar1 = nltk.CFG.fromstring(\"\"\"\n",
    "  S -> NP VP\n",
    "  VP -> V NP | V NP PP\n",
    "  PP -> P NP\n",
    "  V -> \"saw\" | \"ate\" | \"walked\"\n",
    "  NP -> \"John\" | \"Mary\" | \"Bob\" | Det N | Det N PP\n",
    "  Det -> \"a\" | \"an\" | \"the\" | \"my\"\n",
    "  N -> \"man\" | \"dog\" | \"cat\" | \"telescope\" | \"park\"\n",
    "  P -> \"in\" | \"on\" | \"by\" | \"with\"\n",
    "  \"\"\")\n",
    "\n",
    "# Test sentence\n",
    "sent = \"Mary saw Bob\".split()\n",
    "\n",
    "# Parse the sentence using the grammar\n",
    "rd_parser = nltk.RecursiveDescentParser(grammar1)\n",
    "\n",
    "# Print all possible trees\n",
    "for tree in rd_parser.parse(sent):\n",
    "    print(tree)"
   ]
  },
  {
   "cell_type": "markdown",
   "id": "9e5a372c",
   "metadata": {},
   "source": [
    "### Optional Task 3\n",
    "\n",
    "Experiment with bottom-up parser\n",
    "\n",
    "nltk.app.srparser()\n",
    "\n",
    "Try to get multiple correct parses using the given sentence and grammar"
   ]
  },
  {
   "cell_type": "code",
   "execution_count": null,
   "id": "667bf205",
   "metadata": {},
   "outputs": [],
   "source": []
  }
 ],
 "metadata": {
  "kernelspec": {
   "display_name": "Python 3 (ipykernel)",
   "language": "python",
   "name": "python3"
  },
  "language_info": {
   "codemirror_mode": {
    "name": "ipython",
    "version": 3
   },
   "file_extension": ".py",
   "mimetype": "text/x-python",
   "name": "python",
   "nbconvert_exporter": "python",
   "pygments_lexer": "ipython3",
   "version": "3.9.7"
  },
  "varInspector": {
   "cols": {
    "lenName": 16,
    "lenType": 16,
    "lenVar": 40
   },
   "kernels_config": {
    "python": {
     "delete_cmd_postfix": "",
     "delete_cmd_prefix": "del ",
     "library": "var_list.py",
     "varRefreshCmd": "print(var_dic_list())"
    },
    "r": {
     "delete_cmd_postfix": ") ",
     "delete_cmd_prefix": "rm(",
     "library": "var_list.r",
     "varRefreshCmd": "cat(var_dic_list()) "
    }
   },
   "types_to_exclude": [
    "module",
    "function",
    "builtin_function_or_method",
    "instance",
    "_Feature"
   ],
   "window_display": false
  }
 },
 "nbformat": 4,
 "nbformat_minor": 5
}
