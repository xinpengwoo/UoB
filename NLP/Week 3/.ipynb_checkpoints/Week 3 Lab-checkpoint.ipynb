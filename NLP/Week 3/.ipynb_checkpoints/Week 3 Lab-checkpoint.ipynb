{
 "cells": [
  {
   "cell_type": "markdown",
   "metadata": {},
   "source": [
    "<h1><center>Natural Language Processing</center></h1>"
   ]
  },
  {
   "cell_type": "markdown",
   "metadata": {},
   "source": [
    "### Parts-of-Speech Tagging"
   ]
  },
  {
   "cell_type": "markdown",
   "metadata": {},
   "source": [
    "#### Task-1:\n",
    "Consider the following \"spoof newspaper headlines\", such as:  \n",
    "\n",
    "British Left Waffles on Falkland Islands, and Juvenile Court to Try Shooting Defendant.  \n",
    "\n",
    "Manually tag these headlines to see if knowledge of the [part-of-speech tags](https://www.ling.upenn.edu/courses/Fall_2003/ling001/penn_treebank_pos.html) removes the ambiguity."
   ]
  },
  {
   "cell_type": "code",
   "execution_count": null,
   "metadata": {},
   "outputs": [],
   "source": []
  },
  {
   "cell_type": "markdown",
   "metadata": {},
   "source": [
    "#### Task-2:"
   ]
  },
  {
   "cell_type": "markdown",
   "metadata": {},
   "source": [
    "Tokenize and tag the below given sentence by using ([using NLTK POS Tagger](https://www.nltk.org/api/nltk.tag.pos_tag.html)) and [spaCy](https://spacy.io/usage/linguistic-features)  \n",
    "\n",
    "\"They wind back the clock, while we chase after the wind\".  \n",
    "\n",
    "What different pronunciations and parts of speech are involved?"
   ]
  },
  {
   "cell_type": "code",
   "execution_count": 2,
   "metadata": {},
   "outputs": [
    {
     "data": {
      "text/plain": [
       "[('They', 'PRON'),\n",
       " ('wind', 'VERB'),\n",
       " ('back', 'ADV'),\n",
       " ('the', 'DET'),\n",
       " ('clock', 'NOUN'),\n",
       " (',', '.'),\n",
       " ('while', 'ADP'),\n",
       " ('we', 'PRON'),\n",
       " ('chase', 'VERB'),\n",
       " ('after', 'ADP'),\n",
       " ('the', 'DET'),\n",
       " ('wind', 'NOUN'),\n",
       " ('.', '.')]"
      ]
     },
     "execution_count": 2,
     "metadata": {},
     "output_type": "execute_result"
    }
   ],
   "source": [
    "import nltk\n",
    "from nltk.tag import pos_tag\n",
    "from nltk.tokenize import word_tokenize\n",
    "# nltk.download('averaged_perceptron_tagger')\n",
    "# nltk.download('universal_tagset')\n",
    "\n",
    "sent = \"They wind back the clock, while we chase after the wind.\"\n",
    "pos_tag(word_tokenize(sent), tagset='universal')"
   ]
  },
  {
   "cell_type": "code",
   "execution_count": 3,
   "metadata": {},
   "outputs": [
    {
     "name": "stdout",
     "output_type": "stream",
     "text": [
      "They PRON\n",
      "wind VERB\n",
      "back ADP\n",
      "the DET\n",
      "clock NOUN\n",
      ", PUNCT\n",
      "while SCONJ\n",
      "we PRON\n",
      "chase VERB\n",
      "after ADP\n",
      "the DET\n",
      "wind NOUN\n",
      ". PUNCT\n"
     ]
    }
   ],
   "source": [
    "import spacy\n",
    "\n",
    "nlp = spacy.load(\"en_core_web_sm\")\n",
    "doc = nlp(sent)\n",
    "\n",
    "for token in doc:\n",
    "    print(token,token.pos_)\n",
    "#     print(token.text, token.lemma_, token.pos_, token.tag_, token.dep_,\n",
    "#             token.shape_, token.is_alpha, token.is_stop)\n"
   ]
  },
  {
   "cell_type": "markdown",
   "metadata": {},
   "source": [
    "#### Task-3:"
   ]
  },
  {
   "cell_type": "markdown",
   "metadata": {},
   "source": [
    "Write programs to read and process the [NLTK Brown Corpus](https://www.nltk.org/howto/corpus.html) and perform the followig tasks:\n",
    "\n",
    "- Get and display a list of all categories of the brown corpus.\n",
    "- Get and display the tokenized and tagged version of the \"news\" category.\n",
    "- Get and display the sentence segmented, tokenized, and tagged version of the \"news\" category.\n",
    "- Print the first 5 words, and the first 2 sentences.\n",
    "- Get and display the set of all the tags in the brown corpus.\n",
    "- Get and display the set of all the tags in the universal tagset."
   ]
  },
  {
   "cell_type": "code",
   "execution_count": 4,
   "metadata": {},
   "outputs": [
    {
     "name": "stdout",
     "output_type": "stream",
     "text": [
      "['The', 'Fulton', 'County', 'Grand', 'Jury', 'said', ...]\n",
      "[('The', 'AT'), ('Fulton', 'NP-TL'), ('County', 'NN-TL'), ('Grand', 'JJ-TL'), ('Jury', 'NN-TL'), ('said', 'VBD'), ('Friday', 'NR'), ('an', 'AT'), ('investigation', 'NN'), ('of', 'IN'), (\"Atlanta's\", 'NP$'), ('recent', 'JJ'), ('primary', 'NN'), ('election', 'NN'), ('produced', 'VBD'), ('``', '``'), ('no', 'AT'), ('evidence', 'NN'), (\"''\", \"''\"), ('that', 'CS')]\n",
      "[[('The', 'DET'), ('Fulton', 'NOUN'), ('County', 'NOUN'), ('Grand', 'ADJ'), ('Jury', 'NOUN'), ('said', 'VERB'), ('Friday', 'NOUN'), ('an', 'DET'), ('investigation', 'NOUN'), ('of', 'ADP'), (\"Atlanta's\", 'NOUN'), ('recent', 'ADJ'), ('primary', 'NOUN'), ('election', 'NOUN'), ('produced', 'VERB'), ('``', '.'), ('no', 'DET'), ('evidence', 'NOUN'), (\"''\", '.'), ('that', 'ADP'), ('any', 'DET'), ('irregularities', 'NOUN'), ('took', 'VERB'), ('place', 'NOUN'), ('.', '.')], [('The', 'DET'), ('jury', 'NOUN'), ('further', 'ADV'), ('said', 'VERB'), ('in', 'ADP'), ('term-end', 'NOUN'), ('presentments', 'NOUN'), ('that', 'ADP'), ('the', 'DET'), ('City', 'NOUN'), ('Executive', 'ADJ'), ('Committee', 'NOUN'), (',', '.'), ('which', 'DET'), ('had', 'VERB'), ('over-all', 'ADJ'), ('charge', 'NOUN'), ('of', 'ADP'), ('the', 'DET'), ('election', 'NOUN'), (',', '.'), ('``', '.'), ('deserves', 'VERB'), ('the', 'DET'), ('praise', 'NOUN'), ('and', 'CONJ'), ('thanks', 'NOUN'), ('of', 'ADP'), ('the', 'DET'), ('City', 'NOUN'), ('of', 'ADP'), ('Atlanta', 'NOUN'), (\"''\", '.'), ('for', 'ADP'), ('the', 'DET'), ('manner', 'NOUN'), ('in', 'ADP'), ('which', 'DET'), ('the', 'DET'), ('election', 'NOUN'), ('was', 'VERB'), ('conducted', 'VERB'), ('.', '.')]]\n",
      "['__class__', '__delattr__', '__dict__', '__dir__', '__doc__', '__eq__', '__format__', '__ge__', '__getattribute__', '__gt__', '__hash__', '__init__', '__init_subclass__', '__le__', '__lt__', '__module__', '__ne__', '__new__', '__reduce__', '__reduce_ex__', '__repr__', '__setattr__', '__sizeof__', '__str__', '__subclasshook__', '__weakref__', '_add', '_c2f', '_citation', '_delimiter', '_encoding', '_f2c', '_file', '_fileids', '_get_root', '_init', '_license', '_map', '_para_block_reader', '_pattern', '_readme', '_resolve', '_root', '_sent_tokenizer', '_sep', '_tagset', '_unload', '_word_tokenizer', 'abspath', 'abspaths', 'categories', 'citation', 'encoding', 'ensure_loaded', 'fileids', 'license', 'open', 'paras', 'raw', 'readme', 'root', 'sents', 'tagged_paras', 'tagged_sents', 'tagged_words', 'words']\n",
      "{'ADV', 'CONJ', 'DET', 'PRT', 'NUM', 'X', 'VERB', 'ADJ', 'PRON', 'NOUN', '.', 'ADP'}\n"
     ]
    }
   ],
   "source": [
    "from nltk.corpus import brown\n",
    "# nltk.download('brown')\n",
    "print(brown.words())\n",
    "print(brown.tagged_words(categories='news')[:20])\n",
    "print(brown.tagged_sents(categories='news', tagset='universal')[:2])\n",
    "print(dir(brown))\n",
    "tagset = set()\n",
    "for x in brown.tagged_words(tagset='universal'):\n",
    "      tagset.add(x[-1])\n",
    "print(tagset)"
   ]
  },
  {
   "cell_type": "markdown",
   "metadata": {},
   "source": [
    "#### Task-4:"
   ]
  },
  {
   "cell_type": "markdown",
   "metadata": {},
   "source": [
    "Write programs to process the [Brown Corpus](https://www.nltk.org/howto/corpus.html) and find answers to the following questions:\n",
    "- Which nouns are more common in their plural form, rather than their singular form? (Only consider regular plurals, formed with the -s suffix.)\n",
    "- Which word has the greatest number of distinct tags. What are they, and what do they represent?\n",
    "- List tags in order of decreasing frequency. What do the 20 most frequent tags represent?\n",
    "- Which tags are nouns most commonly found after? What do these tags represent?"
   ]
  },
  {
   "cell_type": "code",
   "execution_count": 5,
   "metadata": {},
   "outputs": [
    {
     "name": "stdout",
     "output_type": "stream",
     "text": [
      "['term', 'year', 'candidate', 'official', 'bond', 'item', 'fund', 'legislator', 'event', 'keynote', 'revision', 'requirement', 'fee', 'appointee', 'poll', 'texan', 'disclosure', 'minute', 'worker', 'employer', 'student', 'dollar', 'appropriation', 'leader', 'thing', 'rule', 'hour', 'element', 'step', 'diplomat', 'affair', 'lao', 'observer', 'complication', 'factor', 'nation', 'vehicle', 'eye', 'expert', 'voter', 'member', 'product', 'remark', 'passenger', 'lip', 'freeholder', 'representative', 'wave', 'visitor', 'scientist', 'object', 'locale', 'norm', 'democrat', 'month', 'owner', 'american', 'banker', 'panel', 'commercial', 'native', 'headache', 'towel', 'headline', 'acre', 'planner', 'bomb', 'critic', 'greeting', 'emerald', 'denomination', 'immigrant', 'defendant', 'oriole', 'plate', 'error', 'hit', 'spectator', 'ditmar', 'yankee', 'bird', 'wing', 'condition', 'win', 'allowance', 'knee', 'swelling', 'longhorn', 'leg', 'yard', 'star', 'tactic', 'characteristic', 'arm', 'organ', 'pop', 'fan', 'arrangement', 'duffer', 'sport', 'golfer', 'brook', 'creature', 'pirate', 'groove', 'friend', 'dodger', 'junior', 'len', 'hitter', 'bubble', 'italian', 'nerve', 'movie', 'flower', 'drum', 'megaton', 'angel', 'asset', 'troop', 'sale', 'dane', 'slipper', 'thug', 'mile', 'jurist', 'resident', 'submarine', 'implication', 'kroger', 'drawing', 'adviser', 'atom', 'narcotic', 'tree', 'eyebrow', 'emotion', 'cell', 'cloud', 'neighbor', 'deliberation', 'suburb', 'twin', 'motorist', 'rebel', 'institution', 'commitment', 'obligation', 'guest', 'ant', 'ga', 'robber', 'dividend', 'mill', 'filbert', 'heel', 'destroyer', 'farmer', 'bomber', 'rocket', 'valve', 'airfield', 'mana', 'theologian', 'racketeer', 'pier', 'teamster', 'meter', 'card', 'underwriter', 'manufacturer', 'cleaner', 'seed', 'maker', 'instruction', 'potter', 'stockholder', 'shareholder', 'dealer', 'competitor', 'picker', 'mineral', 'finding', 'taxpayer', 'spouse', 'parent', 'standard', 'christian', 'shoe', 'wrinkle', 'silhouette', 'down', 'tribe', 'clement', 'cookie', 'feature', 'publisher', 'librarian', 'lecture', 'slack', 'map', 'aspect', 'russian', 'peasant', 'toy', 'channel', 'tank', 'painting', 'soldier', 'musician', 'negotiation', 'expectation', 'accomplishment', 'dimension', 'employee', 'outsider', 'scholar', 'technique', 'implement', 'restriction', 'regulation', 'decree', 'savage', 'mechanic', 'mine', 'limit', 'moral', 'southerner', 'guerrilla', 'modification', 'chore', 'intellectual', 'reporter', 'trait', 'vow', 'weapon', 'rein', 'undergraduate', 'experiment', 'applicant', 'roommate', 'trustee', 'endowment', 'finger', 'directive', 'nut', 'bearden', 'bean', 'investor', 'ton', 'resource', 'citizen', 'slave', 'grassland', 'silo', 'faction', 'liberal', 'conservative', 'politician', 'fighter', 'imperfection', 'bang', 'recruit', 'customer', 'singer', 'specialist', 'elephant', 'eagle', 'servant', 'document', 'speculation', 'purge', 'employe', 'teen-ager', 'being', 'feather', 'blue', 'outbreak', 'accommodation', 'defect', 'psychiatrist', 'fabric', 'limitation', 'component', 'volunteer', 'consequence', 'prisoner', 'occupant', 'youngster', 'toe', 'weave', 'highlight', 'brake', 'gadget', 'symptom', 'manifestation', 'promoter', '2-year-old', 'barrier', 'relation', 'affiliation', 'biscuit', 'reservation', 'doing', 'pilgrim', 'tentacle', 'canon', 'premise', 'hue', 'predecessor', 'qualification', 'buddhist', 'custom', 'dose', 'researcher', 'expenditure', 'commune', 'national', 'cartoon', \"williams'\", 'hostage', 'sailor', 'blueprint', 'ideal', 'export', 'paragraph', 'jerebohm', 'vegetable', 'nikolai', 'crackpot', 'blossom', 'outburst', 'disc', 'stamp', 'costume', 'projection', 'cop', 'nightclub', 'colleague', 'quotation', 'circumstance', 'collaborator', 'riddle', 'ear', 'poem', 'technician', 'nuance', 'villain', 'newlywed', 'salon', 'observation', 'photographer', 'lyric', 'batterie', 'treasure', 'forecast', 'furnishing', 'compliment', 'burn', 'classic', 'mean', 'seeker', 'listener', 'final', 'loudspeaker', 'elder', 'gasp', 'aspiration', 'mountain', 'aspencade', 'peacock', 'cart', 'sailboat', 'waterway', 'dam', 'race-driver', 'fat', 'solid', 'ingredient', 'molecule', 'user', 'boot', 'scripture', 'follower', 'parson', 'nun', 'periodical', 'oyster', 'bound', 'merchant', 'leave', 'lo', 'ruler', 'han', 'leaflet', 'topic', 'participant', 'lament', 'interval', 'planet', 'realtor', 'buyer', 'professional', 'chunk', 'vineyard', 'convert', 'metaphysic', 'drug', 'mystic', 'believer', 'protestant', 'catholic', 'jew', 'speculator', 'pupil', 'deltoid', 'flare', 'facet', 'grower', 'egg', 'vitamin', 'performer', 'giant', 'corp', 'trailer', 'plastic', 'rating', 'spacer', 'measurement', 'pacer', 'trader', 'mar', 'tanker', 'thicket', 'adapter', 'rim-fire', 'rib', 'preserve', 'clove', 'adventure', 'photo', 'fill-in', 'landmark', 'spice', 'sultan', 'favorite', 'tablespoon', 'pound', 'plaque', 'stain', 'shaker', 'sock', 'chop', 'nail', 'batten', 'trimming', 'particle', 'compound', 'gable', 'lag', 'booklet', 'cutter', 'tavern', 'advertisement', 'insect', 'installation', 'drier', 'investigator', 'watershed', 'make', 'bristle', 'progression', 'associate', 'somersault', 'gymnast', 'push-up', 'backbend', 'handstand', 'wavelength', 'lung', 'indicator', 'elector', 'additive', 'shipment', 'milligram', 'gram', 'enzyme', 'worm', 'tranquilizer', 'hike', 'concessionaire', 'camper', 'contributor', 'saving', 'billboard', 'stair', 'carrier', 'third', 'explosive', 'counterpart', 'psychologist', 'insecticide', 'leak', 'airline', 'helmet', 'doll', 'calorie', 'resultant', 'crusader', 'proponent', 'gynecologist', 'teenager', 'bracket', 'ailment', 'practitioner', 'spike', 'ghoul', 'classmate', 'predisposition', 'appliance', 'binder', 'anti-semite', 'recrimination', 'axe', 'scot', 'indian', 'patron', 'confederate', 'reb', 'comrade', 'propagandist', 'trouser', 'jowl', 'concession', 'swell', 'organism', 'grenade', 'bellow', 'adherent', 'eclipse', 'knuckle', 'nostril', 'felon', 'bite', 'bee', 'sediment', 'shortcut', 'abolitionist', 'memoir', 'tenant', 'plain', 'schoolmate', 'adjective', 'soybean', 'byproduct', 'constituent', 'almond', 'bead', 'carrot', 'oilseed', 'hoof', 'stripe', 'flame', 'paw', 'enthusiast', 'armament', 'striving', 'peer', 'dolphin', 'northerner', 'franc', 'fragment', 'runner', 'puddle', 'aborigine', 'cosmetic', 'orchard', 'persian', 'attribute', 'escapade', 'jacob', 'footstep', 'serpent', 'tara', 'meteor', 'concentrate', 'ethic', 'creeper', 'bough', 'vine', 'gutter', 'backyard', 'ill', 'defender', 'vault', 'conqueror', 'insinuation', 'hercule', 'eccentric', 'phillip', 'maneuver', 'generalist', \"james'\", 'inmate', 'absolute', 'dislocation', 'descendant', 'suitor', 'utopian', 'contour', 'epicycle', 'disciple', 'determinant', 'precept', 'entertainer', 'prop', 'meditation', 'endearment', 'delegate', 'bushel', 'congregationalist', 'foreigner', 'pamphlet', 'prerogative', 'feud', 'cossack', 'tear', 'probe', 'supporter', 'evocation', 'barricade', 'bug', 'tidbit', 'bidder', 'libertie', 'interrelationship', 'ion', 'apologie', 'conformist', 'reinforcement', 'subordinate', 'disadvantage', 'hulk', 'survivalist', 'libertine', 'allusion', 'lodging', 'generalization', 'exploit', 'bootlegger', 'epithet', 'robot', 'dystopia', 'ad', 'brave', 'improvisation', 'aberration', 'european', 'bruise', 'cooperative', 'headquarter', 'assessor', 'authorization', 'manual', 'hydride', 'resistor', 'terminal', 'infestation', 'rupee', 'receipt', 'proceeding', 'alien', 'dependent', 'antecedent', 'polymer', 'centimeter', 'lobe', 'pore', 'ripple', 'shunt', 'parameter', 'ellipsoid', 'active', 'surfactant', 'polyphosphate', 'reagent', 'sensor', 'meteorite', 'microorganism', 'honeybee', 'catkin', 'bumblebee', 'parasite', 'nomia', 'rattlesnake', 'herpetologist', 'geologist', 'bronchiole', 'duct', 'lobule', 'antagonist', 'marking', 'protease', 'steroid', 'extract', 'conjugate', 'variable', 'cube', 'tangent', 'secant', 'advisor', 'sacrament', 'wandering', 'referral', 'dynamic', 'subsystem', 'survivor', 'tenement', 'supermarket', 'axiom', 'inflection', 'syllable', 'adverb', 'noun', 'monosyllable', 'consonant', 'verb', 'ramification', 'si', 'broker', 'injunction', 'litigant', 'repulsion', 'miner', 'vase', 'mexican', 'telegrapher', 'grocer', 'warrior', 'advertiser', 'grape', 'retailer', 'admonition', 'heron', 'rendition', 'kenning', 'congratulation', 'rdw', 'burglar', 'peptide', 'tektite', 'crater', 'ligand', 'crystallite', 'sausage', 'transformer', 'interface', 'grit', 'fin', 'specification', 'coordinate', 'overhang', 'romantic', 'bastard', 'rut', 'superior', 'soothsayer', 'redcoat', 'mose', 'mug', 'shrub', 'firecracker', 'lamentation', 'moccasin', 'shred', 'barrack', 'stray', 'cuff', 'stump', 'perturbation', 'hinge', 'dresser', 'relative', 'gangster', 'canadian', 'sole', 'banshee', 'siren', \"harris'\", 'skylight', 'uprising', 'jaycee', 'gut', 'sedan', 'highland', 'pheasant', 'cosmo', 'jewel', 'short', 'lapel', 'mammal', 'rogue', 'gust', 'pillar', 'personage', 'auditor', 'happening', 'strap', 'harper', 'settler', \"lewis'\", 'cheyenne', 'apache', 'claw', 'chant', 'duck', 'gunner', 'clod', 'pebble', 'caller', 'triplet', 'spoke', 'overall', 'sneaker', 'cheekbone', 'invader', 'bicep', 'tonic', 'diver', 'skipper', 'loin', 'giggle', 'critter', \"louis'\", 'bun', 'magpie', 'eyelid', 'ferraro', 'moth', 'cowbird', 'dragon', 'azalea', 'vendor', 'pink', 'dune', 'pajama', 'addict', 'barbarian', 'traitor', 'brothel', 'abstract', 'tick', 'belonging']\n"
     ]
    }
   ],
   "source": [
    "nouns = [word[0].lower() for word in brown.tagged_words(tagset='universal') if word[1] == \"NOUN\"]\n",
    "def countNouns(nouns):\n",
    "    nounsDict = {}\n",
    "    for noun in nouns:\n",
    "        nounsDict[noun] = nounsDict.get(noun, 0) + 1\n",
    "    return nounsDict\n",
    "\n",
    "sinNouns = [noun for noun in nouns if not noun.endswith('s')]\n",
    "pluNouns = [noun for noun in nouns if noun.endswith('s')]\n",
    "sinNounsDict = countNouns(sinNouns)\n",
    "pluNounsDict = countNouns(pluNouns)\n",
    "\n",
    "pluCommonList = []\n",
    "for key,value in sinNounsDict.items():\n",
    "    if value < pluNounsDict.get(key + 's', 0):\n",
    "        pluCommonList.append(key)\n",
    "print(pluCommonList)"
   ]
  },
  {
   "cell_type": "code",
   "execution_count": 23,
   "metadata": {},
   "outputs": [
    {
     "name": "stdout",
     "output_type": "stream",
     "text": [
      "that [('ADP', 545), ('PRON', 128), ('DET', 124), ('ADV', 5)]\n",
      "present [('ADJ', 21), ('ADV', 7), ('NOUN', 1), ('VERB', 1)]\n",
      "close [('ADV', 6), ('ADJ', 3), ('VERB', 2), ('NOUN', 1)]\n",
      "open [('ADJ', 13), ('VERB', 11), ('NOUN', 2), ('ADV', 1)]\n"
     ]
    }
   ],
   "source": [
    "brown_news_tagged = brown.tagged_words(categories='news',tagset='universal')\n",
    "cfd1 = nltk.ConditionalFreqDist(brown_news_tagged)\n",
    "cfd = {key: len(cfd1[key]) for key in cfd1.conditions()}\n",
    "max_value = max(cfd.values())\n",
    "k = [key for key, value in cfd.items() if value == max_value]\n",
    "for key in k:\n",
    "    print(key, cfd1[key].most_common())"
   ]
  },
  {
   "cell_type": "code",
   "execution_count": 8,
   "metadata": {},
   "outputs": [
    {
     "data": {
      "text/plain": [
       "[('NOUN', 30654),\n",
       " ('VERB', 14399),\n",
       " ('ADP', 12355),\n",
       " ('.', 11928),\n",
       " ('DET', 11389),\n",
       " ('ADJ', 6706),\n",
       " ('ADV', 3349),\n",
       " ('CONJ', 2717),\n",
       " ('PRON', 2535),\n",
       " ('PRT', 2264),\n",
       " ('NUM', 2166),\n",
       " ('X', 92)]"
      ]
     },
     "execution_count": 8,
     "metadata": {},
     "output_type": "execute_result"
    }
   ],
   "source": [
    "tag_fd = nltk.FreqDist(tag for (word, tag) in brown_news_tagged)\n",
    "tag_fd.most_common(20)"
   ]
  },
  {
   "cell_type": "code",
   "execution_count": 9,
   "metadata": {},
   "outputs": [
    {
     "data": {
      "text/plain": [
       "['NOUN',\n",
       " 'DET',\n",
       " 'ADJ',\n",
       " 'ADP',\n",
       " '.',\n",
       " 'VERB',\n",
       " 'CONJ',\n",
       " 'NUM',\n",
       " 'ADV',\n",
       " 'PRT',\n",
       " 'PRON',\n",
       " 'X']"
      ]
     },
     "execution_count": 9,
     "metadata": {},
     "output_type": "execute_result"
    }
   ],
   "source": [
    "word_tag_pairs = nltk.bigrams(brown_news_tagged)\n",
    "noun_preceders = [a[1] for (a, b) in word_tag_pairs if b[1] == 'NOUN']\n",
    "fdist = nltk.FreqDist(noun_preceders)\n",
    "[tag for (tag, _) in fdist.most_common()]"
   ]
  },
  {
   "cell_type": "markdown",
   "metadata": {},
   "source": [
    "#### Task-5:"
   ]
  },
  {
   "cell_type": "markdown",
   "metadata": {},
   "source": [
    "Train a unigram tagger ([on Brown Corpus news categories](https://www.nltk.org/howto/corpus.html)) and run it on the below given test text:  \n",
    "\n",
    "test_text = ['hello', 'world', 'natural', 'language', 'processing']  \n",
    "\n",
    "Observe that some words are not assigned a tag. Why not?"
   ]
  },
  {
   "cell_type": "code",
   "execution_count": 33,
   "metadata": {},
   "outputs": [
    {
     "name": "stdout",
     "output_type": "stream",
     "text": [
      "[('hello', None), ('world', 'NN'), ('natural', 'JJ'), ('language', 'NN'), ('processing', 'NN')]\n"
     ]
    }
   ],
   "source": [
    "from nltk.tag import UnigramTagger\n",
    "test_text = ['hello', 'world', 'natural', 'language', 'processing']\n",
    "unigram_tagger = UnigramTagger(brown.tagged_sents(categories='news'))\n",
    "print(unigram_tagger.tag(test_text))"
   ]
  },
  {
   "cell_type": "code",
   "execution_count": 38,
   "metadata": {},
   "outputs": [],
   "source": [
    "for word in brown.tagged_words(categories='news', tagset='universal'):\n",
    "    if word[0].lower() == \"hello\":\n",
    "        print(1)"
   ]
  },
  {
   "cell_type": "markdown",
   "metadata": {},
   "source": [
    "#### Task-6:"
   ]
  },
  {
   "cell_type": "markdown",
   "metadata": {},
   "source": [
    "By using the [NLTK default tagger](https://www.nltk.org/book/ch05.html#:~:text=4.1-,The%20Default%20Tagger,-The%20simplest%20possible), tag the following sentence with most frequent tag in the corpus:  \n",
    "\n",
    "\"the quick brown fox jumped over the lazy dog\""
   ]
  },
  {
   "cell_type": "code",
   "execution_count": 40,
   "metadata": {},
   "outputs": [
    {
     "name": "stdout",
     "output_type": "stream",
     "text": [
      "[('the', 'NN'), ('quick', 'NN'), ('brown', 'NN'), ('fox', 'NN'), ('jumped', 'NN'), ('over', 'NN'), ('the', 'NN'), ('lazy', 'NN'), ('dog', 'NN')]\n"
     ]
    }
   ],
   "source": [
    "import nltk\n",
    "tags = [tag for (word, tag) in brown.tagged_words()]\n",
    "raw = \"the quick brown fox jumped over the lazy dog\"\n",
    "tokens = nltk.word_tokenize(raw)\n",
    "default_tagger = nltk.DefaultTagger(nltk.FreqDist(tags).max())\n",
    "print(default_tagger.tag(tokens))"
   ]
  },
  {
   "cell_type": "markdown",
   "metadata": {},
   "source": [
    "#### Task-7:"
   ]
  },
  {
   "cell_type": "markdown",
   "metadata": {},
   "source": [
    "By using the([Brown Corpus news categories](https://www.nltk.org/howto/corpus.html)), train and evaluate the following built-in taggers:\n",
    "- [Unigram Tagger](https://www.nltk.org/book/ch05.html)\n",
    "- [Bigram Tagger](https://www.nltk.org/book/ch05.html)\n",
    "- [Trigram Tagger](https://www.nltk.org/book/ch05.html)"
   ]
  },
  {
   "cell_type": "code",
   "execution_count": 41,
   "metadata": {},
   "outputs": [
    {
     "data": {
      "text/plain": [
       "0.9349006503968017"
      ]
     },
     "execution_count": 41,
     "metadata": {},
     "output_type": "execute_result"
    }
   ],
   "source": [
    "from nltk.corpus import brown\n",
    "brown_tagged_sents = brown.tagged_sents(categories='news')\n",
    "unigram_tagger = nltk.UnigramTagger(brown_tagged_sents)\n",
    "unigram_tagger.evaluate(brown_tagged_sents)"
   ]
  },
  {
   "cell_type": "code",
   "execution_count": 43,
   "metadata": {},
   "outputs": [
    {
     "data": {
      "text/plain": [
       "0.7892972929967977"
      ]
     },
     "execution_count": 43,
     "metadata": {},
     "output_type": "execute_result"
    }
   ],
   "source": [
    "bigram_tagger = nltk.BigramTagger(brown_tagged_sents)\n",
    "bigram_tagger.evaluate(brown_tagged_sents)"
   ]
  },
  {
   "cell_type": "code",
   "execution_count": 44,
   "metadata": {},
   "outputs": [
    {
     "data": {
      "text/plain": [
       "0.8198679316586113"
      ]
     },
     "execution_count": 44,
     "metadata": {},
     "output_type": "execute_result"
    }
   ],
   "source": [
    "trigram_tagger = nltk.TrigramTagger(brown_tagged_sents)\n",
    "trigram_tagger.evaluate(brown_tagged_sents)"
   ]
  }
 ],
 "metadata": {
  "kernelspec": {
   "display_name": "Python 3 (ipykernel)",
   "language": "python",
   "name": "python3"
  },
  "language_info": {
   "codemirror_mode": {
    "name": "ipython",
    "version": 3
   },
   "file_extension": ".py",
   "mimetype": "text/x-python",
   "name": "python",
   "nbconvert_exporter": "python",
   "pygments_lexer": "ipython3",
   "version": "3.9.7"
  },
  "varInspector": {
   "cols": {
    "lenName": 16,
    "lenType": 16,
    "lenVar": 40
   },
   "kernels_config": {
    "python": {
     "delete_cmd_postfix": "",
     "delete_cmd_prefix": "del ",
     "library": "var_list.py",
     "varRefreshCmd": "print(var_dic_list())"
    },
    "r": {
     "delete_cmd_postfix": ") ",
     "delete_cmd_prefix": "rm(",
     "library": "var_list.r",
     "varRefreshCmd": "cat(var_dic_list()) "
    }
   },
   "types_to_exclude": [
    "module",
    "function",
    "builtin_function_or_method",
    "instance",
    "_Feature"
   ],
   "window_display": false
  }
 },
 "nbformat": 4,
 "nbformat_minor": 4
}
