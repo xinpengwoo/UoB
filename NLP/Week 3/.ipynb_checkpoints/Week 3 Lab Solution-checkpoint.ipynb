{
 "cells": [
  {
   "cell_type": "code",
   "execution_count": 1,
   "metadata": {},
   "outputs": [],
   "source": [
    "import nltk\n",
    "import datetime\n",
    "from nltk.corpus import brown"
   ]
  },
  {
   "cell_type": "markdown",
   "metadata": {},
   "source": [
    "#### Task-1:"
   ]
  },
  {
   "cell_type": "markdown",
   "metadata": {},
   "source": [
    "Consider the following \"spoof newspaper headlines\", such as:  \n",
    "\n",
    "British Left Waffles on Falkland Islands, and Juvenile Court to Try Shooting Defendant.  \n",
    "\n",
    "Manually tag these headlines to see if knowledge of the [part-of-speech tags](https://www.ling.upenn.edu/courses/Fall_2003/ling001/penn_treebank_pos.html) removes the ambiguity."
   ]
  },
  {
   "cell_type": "code",
   "execution_count": 2,
   "metadata": {},
   "outputs": [
    {
     "data": {
      "text/plain": [
       "[('British', 'NNPS'),\n",
       " ('Left', 'VB'),\n",
       " ('Waffles', 'NNPS'),\n",
       " ('on', 'IN'),\n",
       " ('Falkland', 'NNP'),\n",
       " ('Islands', 'NNPS')]"
      ]
     },
     "execution_count": 2,
     "metadata": {},
     "output_type": "execute_result"
    }
   ],
   "source": [
    "headline1 = \"British/NNPS Left/VB Waffles/NNPS on/IN Falkland/NNP Islands/NNPS\"  #one potential interpretation.\n",
    "[nltk.tag.str2tuple(t) for t in headline1.split()]"
   ]
  },
  {
   "cell_type": "code",
   "execution_count": 3,
   "metadata": {},
   "outputs": [
    {
     "data": {
      "text/plain": [
       "[('Juvenile', 'NOUN'),\n",
       " ('Court', 'NOUN'),\n",
       " ('to', 'PRT'),\n",
       " ('Try', 'VERB'),\n",
       " ('Shooting', 'ADJ'),\n",
       " ('Defendant', 'NOUN')]"
      ]
     },
     "execution_count": 3,
     "metadata": {},
     "output_type": "execute_result"
    }
   ],
   "source": [
    "# here TRY means to examine evidence in court and decide whether sb is innocent or guilty \n",
    "headline2 = 'Juvenile/NOUN Court/NOUN to/PRT Try/VERB Shooting/ADJ Defendant/NOUN'       #one potential interpretation.\n",
    "[nltk.tag.str2tuple(t) for t in headline2.split()]"
   ]
  },
  {
   "cell_type": "markdown",
   "metadata": {},
   "source": [
    "#### Task-2:"
   ]
  },
  {
   "cell_type": "markdown",
   "metadata": {},
   "source": [
    "Tokenize and tag the below given sentence by using ([using NLTK POS Tagger](https://www.nltk.org/api/nltk.tag.pos_tag.html)) and [spaCy](https://spacy.io/usage/linguistic-features)  \n",
    "\n",
    "\"They wind back the clock, while we chase after the wind\".  \n",
    "\n",
    "What different pronunciations and parts of speech are involved?"
   ]
  },
  {
   "cell_type": "code",
   "execution_count": 4,
   "metadata": {},
   "outputs": [
    {
     "data": {
      "text/plain": [
       "[('They', 'PRP'),\n",
       " ('wind', 'VBP'),\n",
       " ('back', 'RB'),\n",
       " ('the', 'DT'),\n",
       " ('clock', 'NN'),\n",
       " (',', ','),\n",
       " ('while', 'IN'),\n",
       " ('we', 'PRP'),\n",
       " ('chase', 'VBP'),\n",
       " ('after', 'IN'),\n",
       " ('the', 'DT'),\n",
       " ('wind', 'NN'),\n",
       " ('.', '.')]"
      ]
     },
     "execution_count": 4,
     "metadata": {},
     "output_type": "execute_result"
    }
   ],
   "source": [
    "sent = 'They wind back the clock, while we chase after the wind.'\n",
    "nltk.pos_tag(nltk.word_tokenize(sent))"
   ]
  },
  {
   "cell_type": "code",
   "execution_count": null,
   "metadata": {
    "pycharm": {
     "is_executing": true
    }
   },
   "outputs": [],
   "source": [
    "import pandas as pd\n",
    "import spacy\n",
    "\n",
    "nlp = spacy.load(\"en_core_web_sm\")\n",
    "sent = nlp(\"They wind back the clock, while we chase after the wind.\")\n",
    "cols = [\"text\", \"pos\", \"tag\", \"explain pos\", \"explain tag\"]\n",
    "\n",
    "rows = []\n",
    "for token in sent:\n",
    "  row = token.text, token.pos_, token.tag_, spacy.explain(token.pos_), spacy.explain(token.tag_)\n",
    "  rows.append(row)\n",
    "df = pd.DataFrame(rows, columns=cols)\n",
    "df"
   ]
  },
  {
   "cell_type": "markdown",
   "metadata": {},
   "source": [
    "### Task-3:"
   ]
  },
  {
   "cell_type": "markdown",
   "metadata": {},
   "source": [
    "Write programs to read and process the [NLTK Brown Corpus](https://www.nltk.org/howto/corpus.html) and perform the followig tasks:\n",
    "\n",
    "- Get and display a list of all categories of the brown corpus.\n",
    "- Get and display the tokenized and tagged version of the \"news\" category.\n",
    "- Get and display the sentence segmented, tokenized, and tagged version of the \"news\" category.\n",
    "- Print the first 5 words, and the first 2 sentences.\n",
    "- Get and display the set of all the tags in the brown corpus.\n",
    "- Get and display the set of all the tags in the universal tagset."
   ]
  },
  {
   "cell_type": "code",
   "execution_count": 5,
   "metadata": {},
   "outputs": [
    {
     "name": "stdout",
     "output_type": "stream",
     "text": [
      "\n",
      "The first 5 words in the tokenized and tagged version are: [('The', 'AT'), ('Fulton', 'NP-TL'), ('County', 'NN-TL'), ('Grand', 'JJ-TL'), ('Jury', 'NN-TL')]\n",
      "\n",
      "The first 2 sentences in the sentence segmented, tokenized and tagged version are [[('The', 'AT'), ('Fulton', 'NP-TL'), ('County', 'NN-TL'), ('Grand', 'JJ-TL'), ('Jury', 'NN-TL'), ('said', 'VBD'), ('Friday', 'NR'), ('an', 'AT'), ('investigation', 'NN'), ('of', 'IN'), (\"Atlanta's\", 'NP$'), ('recent', 'JJ'), ('primary', 'NN'), ('election', 'NN'), ('produced', 'VBD'), ('``', '``'), ('no', 'AT'), ('evidence', 'NN'), (\"''\", \"''\"), ('that', 'CS'), ('any', 'DTI'), ('irregularities', 'NNS'), ('took', 'VBD'), ('place', 'NN'), ('.', '.')], [('The', 'AT'), ('jury', 'NN'), ('further', 'RBR'), ('said', 'VBD'), ('in', 'IN'), ('term-end', 'NN'), ('presentments', 'NNS'), ('that', 'CS'), ('the', 'AT'), ('City', 'NN-TL'), ('Executive', 'JJ-TL'), ('Committee', 'NN-TL'), (',', ','), ('which', 'WDT'), ('had', 'HVD'), ('over-all', 'JJ'), ('charge', 'NN'), ('of', 'IN'), ('the', 'AT'), ('election', 'NN'), (',', ','), ('``', '``'), ('deserves', 'VBZ'), ('the', 'AT'), ('praise', 'NN'), ('and', 'CC'), ('thanks', 'NNS'), ('of', 'IN'), ('the', 'AT'), ('City', 'NN-TL'), ('of', 'IN-TL'), ('Atlanta', 'NP-TL'), (\"''\", \"''\"), ('for', 'IN'), ('the', 'AT'), ('manner', 'NN'), ('in', 'IN'), ('which', 'WDT'), ('the', 'AT'), ('election', 'NN'), ('was', 'BEDZ'), ('conducted', 'VBN'), ('.', '.')]]\n",
      "\n",
      "The set of all original tags in the brown orpus is: {'PPL', 'IN-HL', 'NN', 'DT+BEZ', 'NN$-TL', 'BEDZ*', 'PP$-TL', 'CC-TL', 'FW-JJ', 'OD', 'ABX', 'NP-TL-HL', 'NN-NC', 'NPS-HL', 'DO', 'JJR', 'FW-DT', 'BEG', 'FW-JJ-TL', 'WPS', 'HVD', '.-HL', 'FW-IN-TL', 'CC', 'BER-HL', 'IN', 'DOZ*', 'BEZ*', 'FW-IN', 'PPSS', 'PP$$', 'QL', 'MD', 'BE-HL', 'UH', 'BEZ', 'VBN-HL', 'PPSS+HV', 'WPS+BEZ', 'DOD*', 'PPSS+MD', 'PPSS+BEM', 'DTS', \"'\", 'FW-AT-HL', 'CD$', 'PPSS-HL', 'RB-TL', 'NP$', 'QL-TL', 'HVD-HL', 'DTX', 'NR-HL', 'NPS$', 'DO*', 'AP$', 'BEN', 'ABL', 'PN', 'NN-HL', 'JJ-NC', 'CD', '(-HL', 'DO-HL', 'VBD-HL', 'RB+BEZ', 'JJS', 'QLP', 'CS', 'VBZ-HL', 'DT-HL', 'PPS+MD', 'WQL', 'JJS-TL', 'FW-NN', 'MD+HV', 'JJ', 'NPS$-TL', 'FW-AT-TL', 'FW-NNS', 'TO-TL', 'VB-HL', 'OD-TL', 'VB+PPO', 'FW-IN+AT-TL', 'FW-*', 'PPLS', 'EX', 'HVZ*', 'FW-WDT', 'NPS', 'VBG-TL', 'FW-IN+NN', 'PN$', ',', 'JJ-HL', 'BE', 'DTI', 'NN-TL-HL', 'PPS', 'NNS-TL', 'RP', 'NP-HL', 'PPSS+BER', 'NNS$-TL', 'BEDZ', 'AP', 'VBZ', 'PPO', 'JJT', '(', 'FW-CC', 'NN$-HL', 'VB-TL', 'CC-HL', 'FW-PP$-NC', 'HV', 'JJT-HL', 'RP-HL', 'NP$-TL', '*-HL', 'BER*', 'JJR-HL', 'NR', 'AP-TL', 'EX+BEZ', 'HVZ', 'HVN', 'UH-TL', 'FW-NN-TL', 'NR$', 'VBD', 'VB', 'NNS', 'VBN-TL-HL', 'NPS-TL', 'NP+BEZ', 'NR$-TL', 'MD*-HL', 'BED*', 'FW-AT', 'VBN-TL', 'PPS+BEZ-HL', 'AT-HL', 'RBR', 'VBG', 'NNS-HL', 'WDT', 'NP-TL', 'CD-HL', 'WPO', 'TO', 'RB-HL', 'BEDZ-HL', 'MD*', 'BER-TL', 'RB$', '``', '.', 'DT$', 'PP$', 'ABN', 'WRB', 'ABN-HL', 'AP-HL', 'BER', 'CS-HL', 'TO-HL', 'FW-VB-NC', 'HVD*', 'RB', \"''\", 'NN-TL', 'PN-HL', 'BED', 'NR-TL', 'PPS+BEZ', 'MD-TL', 'VBG-HL', 'FW-VB', ':', 'IN-TL', 'CD-TL', ')-HL', 'VBD-TL', 'OD-HL', ',-HL', 'VBN', 'MD-HL', 'JJR-NC', '--', 'WP$', 'AT-TL', 'NNS$-HL', 'BEZ-HL', 'AT', 'DOD', 'JJ-TL', ')', 'JJR-TL', 'BEM', 'DOZ', 'RBT', 'DT', 'DTI-HL', 'WDT+BEZ', ':-HL', 'NNS$', 'FW-IN+NN-TL', 'NN$', 'PN+HVZ', 'HVG', '*', 'FW-CD', 'PPSS+HVD', 'NP', 'PPS+HVZ', 'NNS-TL-HL'}\n",
      "\n",
      "The set of universal tags is: {'CONJ', 'VERB', 'NOUN', 'PRT', 'DET', 'PRON', 'NUM', 'ADP', 'X', '.', 'ADJ', 'ADV'}\n"
     ]
    }
   ],
   "source": [
    "# Get a list of all categories of the brown corpus\n",
    "brown.categories()\n",
    "\n",
    "# Get the tokenized and tagged version of the \"news\" category\n",
    "brown_twords = brown.tagged_words(categories='news')\n",
    "\n",
    "# Get the sentence segmented, tokenized, and tagged version of the \"news\" category\n",
    "brown_tsents = brown.tagged_sents(categories='news')\n",
    "\n",
    "# Print the first 5 words\n",
    "print(\"\\nThe first 5 words in the tokenized and tagged version are: {}\".format(brown_twords[:5]))\n",
    "print(\"\\nThe first 2 sentences in the sentence segmented, tokenized and tagged version are {}\".format(brown_tsents[:2]))\n",
    "\n",
    "# Get the set of all the tags in the brown corpus\n",
    "brown_tags = set([tag for (token,tag) in brown_twords])\n",
    "print(\"\\nThe set of all original tags in the brown orpus is: {}\".format(brown_tags))\n",
    "\n",
    "# Get the set of all the tags in the universal tagset\n",
    "brown_utwords = brown.tagged_words(categories='news',tagset='universal')\n",
    "universal_tags = set([tag for (token,tag) in brown_utwords])\n",
    "print(\"\\nThe set of universal tags is: {}\".format(universal_tags))"
   ]
  },
  {
   "cell_type": "markdown",
   "metadata": {},
   "source": [
    "#### Task-4:"
   ]
  },
  {
   "cell_type": "markdown",
   "metadata": {},
   "source": [
    "Write programs to process the Brown Corpus and find answers to the following questions:\n",
    "\n",
    "Which nouns are more common in their plural form, rather than their singular form? (Only consider regular plurals, formed with the -s suffix.)\n",
    "Which word has the greatest number of distinct tags. What are they, and what do they represent?\n",
    "List tags in order of decreasing frequency. What do the 20 most frequent tags represent?\n",
    "Which tags are nouns most commonly found after? What do these tags represent?"
   ]
  },
  {
   "cell_type": "code",
   "execution_count": 6,
   "metadata": {},
   "outputs": [],
   "source": [
    "brown_tagged = brown.tagged_words()\n",
    "cfd = nltk.ConditionalFreqDist(brown_tagged)"
   ]
  },
  {
   "cell_type": "code",
   "execution_count": 7,
   "metadata": {},
   "outputs": [
    {
     "name": "stdout",
     "output_type": "stream",
     "text": [
      "{'Cost', 'regular', 'Wire', 'method', 'ill', 'atom', 'listener', 'decree', 'deliberation', 'cheekbone', 'Number', 'Case', 'ruler', 'creeper', 'employer', 'prerogative', 'import', 'Appeal', 'silo', 'lyric', 'predecessor', 'concentrate', 'explosive', 'specialist', 'Direction', 'dividend', 'spiritual', 'sore', 'ether', 'million', 'Associate', 'injunction', 'topping', 'fabric', 'peer', 'terminal', 'drum', 'slave', 'emotion', 'tenant', 'thousandth', 'Aid', 'incompatible', 'promoter', 'billion', 'gutter', 'investor', 'counterpart', 'hoof', '1950', 'Dream', 'delegate', 'nut', 'Reference', 'valve', 'Girl', 'event', 'stain', 'escapade', 'Glaze', 'acre', 'Highway', 'bean', 'characteristic', 'cube', 'factor', 'bushel', 'supermarket', 'extract', 'jewel', \"'60\", 'drier', 'up', 'leaflet', 'bird', 'Official', 'stunt', 'Car', 'spoil', 'bomber', 'photographer', 'wing', 'bud', 'colonial', 'biscuit', 'Abstraction', 'pupil', 'verb', 'Cow', 'one', 'Measure', 'final', 'referral', 'Relative', 'Painting', 'pier', 'liter', 'Connection', 'milligram', 'Application', 'moderate', 'senator', '1930', 'advertisement', 'ballistic', 'Test', 'Design', 'sensitive', 'generalist', 'stump', 'sedan', 'scripture', 'hydride', 'generalization', 'three', 'incidental', 'remark', 'troop', 'barricade', 'appointee', 'sole', 'brake', 'politician', 'Farmer', 'athletic', 'defendant', 'dresser', 'Order', 'modification', 'tentacle', 'eyebrow', 'arm', 'nutrient', 'dynamic', 'commercial', 'supporter', 'reagent', 'traitor', 'conservative', 'insect', 'particle', 'Leave', 'absolute', 'Circumstance', 'jowl', 'pamphlet', 'Letter', 'nothing', 'Citizen', 'Boat', 'Loan', 'backyard', 'integral', 'steroid', 'silicate', 'shunt', 'obligation', 'newlywed', 'complication', 'Advertiser', 'Operation', 'surfactant', 'other', 'headache', 'Want', 'guerrilla', '45-degree', 'probe', 'parent', 'Sponsor', 'Guest', 'nightclub', 'two', 'installation', 'wrestle', 'independent', 'laurel', 'Pilot', 'outbreak', 'proceed', 'sport', 'highlight', 'precept', 'settler', 'thousand', 'puddle', 'libertarian', 'transient', 'subsystem', 'Name', 'ellipsoid', 'down', 'oyster', 'wave', 'seeker', 'revelling', 'normal', 'teen', 'institution', 'tear', 'soybean', 'hostage', 'friend', 'fundamental', 'fingering', 'collaborator', 'hour', 'Thing', 'grower', 'vegetable', 'tablespoon', 'Institution', 'plate', 'ton', 'planner', 'dune', 'taxpayer', 'planet', 'motorist', 'mechanic', 'Artist', 'fighter', 'synthetic', 'spacer', 'enzyme', 'rule', 'Intangible', 'hitter', 'sonata', 'solid', 'Moral', 'vow', 'commissioner', 'pinning', 'picker', 'custom', 'pillar', 'Indication', 'classmate', 'probing', 'winning', 'Individual', 'pacer', 'cosmetic', 'predisposition', 'manifestation', 'bough', 'catalog', 'spice', 'treasure', 'immigrant', 'inmate', 'affair', 'Area', 'slack', 'Teacher', 'giant', 'carrier', 'herpetologist', 'marking', 'striving', 'cutter', 'yard', 'lament', 'white', 'turnpike', 'researcher', 'elephant', 'tick', 'Hazard', 'preserve', 'teen-ager', 'Proprietorship', 'working', 'locale', 'cookie', 'critter', 'concession', 'cartoon', 'dealing', 'Sign', 'trump', 'tactic', 'airfield', 'vault', 'slipper', 'Export', 'skylight', 'two-week', 'villain', 'bribe', 'rib', 'Question', 'sensor', 'ear', 'Town', 'miner', 'chore', 'mortal', 'Banker', 'repulsion', 'lodging', 'musician', 'bee', 'determinant', 'channel', 'bound', 'bruise', 'chunk', 'hinge', 'resource', 'bracket', 'cloud', 'short', 'Bid', 'syllable', 'suitor', 'plastic', 'these', 'fin', 'modern', 'publisher', 'song', 'knee', 'finger', 'comrade', 'clothe', 'singer', 'odd', 'sausage', 'four', 'shrub', 'employee', 'insurgent', 'ten', 'triplet', '1890', 'trimming', 'intellectual', 'Apologie', 'authorization', 'Speaker', 'constituent', 'Statue', 'interface', 'toe', 'Eye', 'elder', 'adjective', 'requirement', 'maker', 'Coconut', 'limitation', 'wary', 'shareholder', 'headquarter', 'ethic', 'volunteer', 'jerking', 'noble', 'mountain', 'proceeding', 'filbert', 'grad', 'musing', 'panel', 'batterie', 'omission', 'dimension', 'people', 'vocal', 'Fight', 'colleague', 'Person', 'rupee', 'booklet', 'landmark', 'Score', 'leaving', 'bootlegger', 'stockholder', 'vista', 'enthusiast', 'trustee', 'vine', 'arrangement', 'eyelid', 'Camera', 'secularist', 'worker', 'moral', 'fan', 'Senator', 'hugging', 'implication', 'sweet', 'disclosure', 'urn', 'towel', 'Observer', 'boot', 'grenade', 'demon', 'eatable', 'furnishing', 'loin', 'makeshift', 'guardian', 'leading', 'specie', 'Advance', 'adviser', 'Magnum', 'cell', 'molecule', 'anti-Communist', 'teamster', 'reporter', 'follower', 'motive', 'polyphosphate', 'surrealist', 'snag', 'being', 'batten', 'egg', 'Zero', 'product', 'Train', 'adverb', 'entertainer', 'ant', 'byproduct', 'auditor', 'Problem', 'hopeful', 'eye', 'rite', 'racketeer', 'surrounding', 'sock', 'Job', 'contributor', 'megaton', 'disciple', 'Solution', 'export', 'error', 'Officer', 'Change', 'medal', 'paragraph', 'bond', 'Feeling', 're-run', 'aspiration', 'secant', 'vendor', 'dealer', 'gallant', 'survivor', 'gassing', 'Head', 'trailer', 'eclipse', 'hub', 'armament', 'shaker', 'nun', 'canon', 'painting', 'barbarian', 'Poet', 'patron', 'consonant', 'Record', 'Cocktail', 'pageant', 'contraceptive', 'twin', 'deduction', 'practitioner', 'inflection', 'bomb', 'skipper', 'survivalist', 'coping', 'smelt', 'Mine', 'Judge', 'live', 'deviant', 'Judgment', 'Step', 'anionic', 'student', 'burglar', 'recruit', 'prolusion', 'bumblebee', 'gangster', 'abstract', 'technician', 'swell', 'aerial', 'fuck', 'House', 'Crowd', 'endearment', 'Reporter', 'star', 'wrestling', 'legislator', 'yacht', 'nude', 'concessionaire', 'offensive', 'tonic', 'thug', 'limb', 'Drum', 'gallon', 'sailor', 'casual', 'card', 'expectation', 'Oil', 'plaque', 'Line', 'Interview', 'undergraduate', 'Make', 'ailment', 'additive', 'swelling', 'Fraction', 'vase', 'alloy', 'urging', 'Song', 'disadvantage', 'bifocal', 'Color', 'parameter', 'thank', 'Employee', 'emerald', 'interval', 'hundred', 'deltoid', 'lashing', 'indicator', 'expert', 'psychiatrist', 'happening', 'leave', 'Estimate', 'bun', 'System', 'Session', 'organism', 'comet', 'affiliation', 'national', 'incumbent', 'stray', 'headline', 'purge', 'employe', 'dependent', 'Look', 'superlative', 'gadget', 'ideal', 'liberal', 'crater', 'meter', 'leg', 'Strike', 'sweeping', 'superior', 'tranquilizer', 'outboard', 'antiquarian', 'restriction', 'Film', 'cop', 'qualification', 'critic', 'gymnastic', 'rocket', 'speculation', 'upland', 'greeting', '1940', 'grouping', 'associate', 'Orange', 'Other', 'epithet', 'tenth', 'bristle', 'pheasant', 'teenager', 'Sentiment', 'robber', 'finding', 'homosexual', 'titter', 'postulate', 'microorganism', 'doll', 'wavelength', 'fund', 'pledge', 'favorite', 'epicycle', 'transformer', 'suburb', 'Criminal', 'pirate', 'Book', 'player', 'relative', 'appropriation', 'premise', 'crackpot', 'loyalist', 'spouse', 'Seed', 'instruction', 'ingredient', 'banker', 'Realtor', 'applicant', 'grocer', 'specification', 'Thank', 'rigid', 'visitor', 'Invitation', 'Return', 'limit', 'kissing', 'Star', 'reservation', 'mill', 'poem', 'wandering', 'creature', 'commune', 'overture', 'strap', 'banshee', 'Play', 'gram', 'monitor', 'instrumental', 'fragment', 'accommodation', 'Model', 'classic', 'carving', 'internationalist', 'serpent', 'flower', 'cleaner', 'retailer', 'object', 'lay', 'burn', 'shoe', 'dipole', 'accomplishment', 'rendition', 'runner', 'doing', 'minute', 'Bottom', 'spade', 'Say', 'outsider', 'Bird', 'gust', 'Start', 'Expenditure', 'nostril', 'ghoul', 'diver', 'groove', 'exploit', 'camper', 'adherent', 'Survey', 'vineyard', 'leader', 'basic', 'boasting', 'ripple', 'gasp', 'carrot', 'performer', 'polymer', 'measurement', 'tank', 'Share', 'Dealer', 'mammal', 'mug', 'aye', 'poster', 'coordinate', 'Northerner', 'clod', 'map', 'wrinkle', 'recrimination', 'prisoner', 'official', 'duct', 'ramification', 'draper', 'destroyer', 'feud', 'merchant', 'courtier', 'movie', 'rein', 'Regulation', 'proponent', 'disc', 'tribe', 'siren', 'trader', 'overhang', 'shred', 'hit', 'intangible', 'tough', 'manufacturer', 'marina', 'irregular', 'antic', 'centimeter', 'defender', 'claw', 'Member', 'protease', 'Original', 'outburst', 'pink', 'Example', 'Investigation', 'Investor', 'vital', 'nerve', 'lower', 'participant', 'speculator', 'lag', 'allowance', 'linguist', 'watershed', 'mine', 'pajama', 'Liberal', 'Idea', 'innocent', 'costume', 'Dean', 'Fund', 'azalea', 'Payment', 'candidate', 'grotesque', 'earning', 'relation', 'calorie', 'riddle', 'Graduate', 'Flock', 'Station', 'stamp', 'mystic', 'insecticide', 'catkin', 'Diet', 'Flat', 'Plan', 'realtor', 'deep', 'moth', 'observer', 'frank', 'spewing', 'incompetent', 'memoir', 'gut', 'deductible', 'attribute', 'lung', 'guest', 'subordinate', 'firecracker', 'monosyllable', 'feather', 'blossom', 'Governor', 'rodent', 'lark', 'Superintendent', 'alcoholic', 'ion', 'receipt', 'robot', 'Illustration', '90-degree', 'investigator', 'out', 'assessor', 'Flower', 'Trader', 'resultant', 'cipher', 'like', 'rating', 'weapon', 'fete', 'Report', 'rogue', 'perturbation', 'tidbit', 'Doctor', 'notable', 'servant', 'initiate', 'organ', 'farmer', 'imperfection', 'drawing', 'aspect', 'experiment', 'redcoat', 'fathom', 'resident', 'competitor', 'dollar', 'citizen', 'term', 'Correction', 'Track', 'evocation', 'thicket', 'closeup', 'directive', 'anterior', 'Picture', 'condition', 'Lot', 'narcotic', 'bubble', 'angel', 'convert', 'Traveler', 'descendant', 'Junior', 'belonging', 'lapel', 'drug', 'geologist', 'Development', 'third', 'buyer', 'youngster', 'item', 'cooperative', 'year', 'axe', 'warrior', 'theatrical', 'Chart', 'progression', 'libertie', 'abolitionist', 'weed', 'sacrament', 'diagonal', 'Demon', 'knuckle', 'metaphysical', 'Command', 'fee', 'commoner', 'Bullet', 'Thousand', 'savage', 'native', 'peasant', 'simple', 'compliment', 'trouser', 'Gain', 'propagandist', 'pound', 'pore', 'oilseed', 'stocking', 'Marina', 'ligand', 'dislocation', 'Reading', 'chromatic', 'Vineyard', '1920', 'dropping', 'mean', 'five', 'allusion', 'specific', 'walnut', 'brothel', 'symptom', 'Attorney', 'expenditure', 'Ship', 'Trooper', 'user', 'meteorite', 'invader', 'Conference', 'conjugate', 'Sound', 'bitter', 'lobe', 'theologian', 'lobule', 'colored', 'variable', 'aberration', 'Team', 'underwriter', 'flare', 'Boy', 'Writer', 'tangent', 'hike', 'loudspeaker', 'advisor', 'duffer', 'honeybee', 'neighbor', 'step', 'eccentric', 'tektite', 'facet', 'weave', 'peacock', 'acoustic', 'Missile', 'nail', 'therefore', 'win', 'bite', 'tree', 'component', 'flip', 'word', 'skate', 'thing', 'giggle', 'compound', 'subversive', 'vitamin', 'Dog', 'circumstance', 'resistor', 'Year', 'broker', 'confine', 'scholar', 'supervisor', 'orchard', 'tavern', 'Method', 'duck', 'trapping', 'projection', 'scenic', 'curl', 'franc', 'bidder', 'binder', 'steward', 'silhouette', 'standard', 'infidel', 'kenning', 'active', 'cardinal', 'ray', 'toy', 'soldier', 'parasite', 'footstep', 'professional', 'Snake', 'more', 'mile', 'topic', 'revenue', 'endowment', 'regulation', 'appliance', 'noun', 'gunner', 'Force', 'occupant', 'observation', 'Culture', 'wrap', 'helmet', 'Plane', 'Result', '1960', 'Set', 'dolphin', 'norm', 'Evening', 'voter', 'document', 'congratulation', 'scandal', 'shaving', 'manual', 'element', 'improvisation', 'initial', 'shim', 'prime', 'Course', 'sailboat', 'Reef', 'meteor', 'representative', 'conformist', 'personage', 'gymnast', 'diehard', 'denomination', 'intermediate', 'ad', 'bronchiole', 'schoolmate', 'lilac', 'asset', 'prop', 'conqueror', 'rebel', 'spoke', 'Regular', 'revision', 'stair', 'spike', 'dictate', 'cuff', 'cape', 'month', 'dose', 'psychologist', 'Measurement', 'feature', 'universal', 'migrant', 'caller', 'compulsive', 'Market', 'sediment', 'comedie', 'remain', 'surmise', 'no', 'contour', 'rim-fire', 'admonition', 'inboard', 'sneaker', 'foreigner', 'rut', 'dystopia', 'consequence', 'member', 'paw', 'defect', 'fill-in', 'cart', 'adapter', 'bug', 'implement', 'shipment', 'periodical', 'pebble', 'negotiation', 'Increase', 'Hurt', 'Representative', 'sale', 'clove', 'Scholar', 'Experiment', 'rattlesnake', 'spectator', 'trait', 'scholastic', 'believer', 'boo', 'fat', 'customer', 'submarine', 'romantic', 'technique', 'antecedent', 'infestation', 'saving', 'Pagan', 'controller', 'nuance', 'vehicle', 'Nation', 'chant', 'grape', 'interrelationship', 'scientist', 'overall', 'salon', 'Student', 'maneuver', 'extractor', 'hue', 'forecast', 'imagining', 'sag', 'chop', 'passenger', 'Trustee', '2-year-old', 'Avocado', 'antagonist', 'Chestnut', 'heel', 'commitment', 'leak', '1970', 'extra', 'heroic', 'bevel', 'aborigine', 'crystallite', 'barrier', 'Corporation', 'lip'}\n"
     ]
    }
   ],
   "source": [
    "# Which nouns are more common in their plural form, rather than their singular form? \n",
    "# (Only consider regular plurals, formed with the -s suffix.)\n",
    "\n",
    "common_plural = set()\n",
    "for word in set(brown.words()):\n",
    "    if cfd[word+'s']['NNS'] > cfd[word]['NN']:\n",
    "        common_plural.add(word)\n",
    "print(common_plural)"
   ]
  },
  {
   "cell_type": "code",
   "execution_count": 8,
   "metadata": {},
   "outputs": [
    {
     "data": {
      "text/plain": [
       "'that'"
      ]
     },
     "execution_count": 8,
     "metadata": {},
     "output_type": "execute_result"
    }
   ],
   "source": [
    "# Which word has the greatest number of distinct tags. What are they, and what do they represent?\n",
    "\n",
    "tag_dict = {k:len(cfd[k]) for k in cfd}\n",
    "greatest = max(tag_dict, key=lambda key: tag_dict[key])\n",
    "\n",
    "greatest"
   ]
  },
  {
   "cell_type": "code",
   "execution_count": 9,
   "metadata": {},
   "outputs": [
    {
     "data": {
      "text/plain": [
       "[('NN', 152470),\n",
       " ('IN', 120557),\n",
       " ('AT', 97959),\n",
       " ('JJ', 64028),\n",
       " ('.', 60638),\n",
       " (',', 58156),\n",
       " ('NNS', 55110),\n",
       " ('CC', 37718),\n",
       " ('RB', 36464),\n",
       " ('NP', 34476),\n",
       " ('VB', 33693),\n",
       " ('VBN', 29186),\n",
       " ('VBD', 26167),\n",
       " ('CS', 22143),\n",
       " ('PPS', 18253),\n",
       " ('VBG', 17893),\n",
       " ('PP$', 16872),\n",
       " ('TO', 14918),\n",
       " ('PPSS', 13802),\n",
       " ('CD', 13510)]"
      ]
     },
     "execution_count": 9,
     "metadata": {},
     "output_type": "execute_result"
    }
   ],
   "source": [
    "# List tags in order of decreasing frequency. What do the 20 most frequent tags represent?\n",
    "\n",
    "helper_list = [t for (_, t) in brown_tagged]    # extract the tags to a list \n",
    "fd = nltk.FreqDist(helper_list)\n",
    "fd.most_common(20)"
   ]
  },
  {
   "cell_type": "code",
   "execution_count": 10,
   "metadata": {},
   "outputs": [
    {
     "data": {
      "text/plain": [
       "['IN', '.', ',', 'CC', 'NN', 'NNS', 'VBD', 'CS', 'MD', 'BEZ']"
      ]
     },
     "execution_count": 10,
     "metadata": {},
     "output_type": "execute_result"
    }
   ],
   "source": [
    "# Which tags are nouns most commonly found after? What do these tags represent?\n",
    "\n",
    "word_tag_pairs = nltk.bigrams(brown_tagged)\n",
    "noun_after = [b[1] for (a, b) in word_tag_pairs if a[1].startswith('NN')]\n",
    "fdist = nltk.FreqDist(noun_after)\n",
    "[tag for (tag, _) in fdist.most_common(10)]"
   ]
  },
  {
   "cell_type": "markdown",
   "metadata": {},
   "source": [
    "#### Task-5:"
   ]
  },
  {
   "cell_type": "markdown",
   "metadata": {},
   "source": [
    "Train a unigram tagger ([on Brown Corpus news categories](https://www.nltk.org/howto/corpus.html)) and run it on the below given test text:  \n",
    "\n",
    "test_text = ['hello', 'world', 'natural', 'language', 'processing']  \n",
    "\n",
    "Observe that some words are not assigned a tag. Why not?"
   ]
  },
  {
   "cell_type": "code",
   "execution_count": 14,
   "metadata": {},
   "outputs": [
    {
     "data": {
      "text/plain": [
       "[('hello', None),\n",
       " ('world', 'NN'),\n",
       " ('natural', 'JJ'),\n",
       " ('language', 'NN'),\n",
       " ('processing', 'NN')]"
      ]
     },
     "execution_count": 14,
     "metadata": {},
     "output_type": "execute_result"
    }
   ],
   "source": [
    "brown_tagged_sents = brown.tagged_sents(categories='news')\n",
    "unigram_tagger = nltk.UnigramTagger(brown_tagged_sents)\n",
    "\n",
    "test_text = ['hello', 'world', 'natural', 'language', 'processing']\n",
    "unigram_tagger.tag(test_text)"
   ]
  },
  {
   "cell_type": "markdown",
   "metadata": {},
   "source": [
    "The words doesn't appear in the training text, and therefore the tagger can't speculate the word's tag."
   ]
  },
  {
   "cell_type": "markdown",
   "metadata": {},
   "source": [
    "#### Task-6:"
   ]
  },
  {
   "cell_type": "markdown",
   "metadata": {},
   "source": [
    "By using the [NLTK default tagger](https://www.nltk.org/book/ch05.html#:~:text=4.1-,The%20Default%20Tagger,-The%20simplest%20possible), tag the following sentence with most frequent tag in the corpus:  \n",
    "\n",
    "\"the quick brown fox jumped over the lazy dog\""
   ]
  },
  {
   "cell_type": "code",
   "execution_count": 11,
   "metadata": {},
   "outputs": [
    {
     "name": "stdout",
     "output_type": "stream",
     "text": [
      "The sentence tagged with default tagger: [('the', 'NN'), ('quick', 'NN'), ('brown', 'NN'), ('fox', 'NN'), ('jumped', 'NN'), ('over', 'NN'), ('the', 'NN'), ('lazy', 'NN'), ('dog', 'NN')]\n"
     ]
    }
   ],
   "source": [
    "# Default tagger\n",
    "\n",
    "# Get the sentence segmented and tokenized version of \"news\"\n",
    "# This is the non-part of speech tagged version that we will be tagging\n",
    "brown_sents = brown.sents(categories='news')\n",
    "\n",
    "# Get a list of all tags in the corpus\n",
    "tags = [tag for (word, tag) in brown.tagged_words(categories='news')]\n",
    "\n",
    "# Get the most frequent tag in the corpus\n",
    "most_frequent_tag = nltk.FreqDist(tags).max()\n",
    "\n",
    "# Configure a default tagger\n",
    "# The default tagger assigns the same \"default\" tag to every token in the corpus\n",
    "# We configure it to annotate with the most frequent tag\n",
    "default_tagger = nltk.DefaultTagger(most_frequent_tag)\n",
    "\n",
    "my_sent = \"the quick brown fox jumped over the lazy dog\".split()\n",
    "print(\"The sentence tagged with default tagger: {}\".format(default_tagger.tag(my_sent)))"
   ]
  },
  {
   "cell_type": "markdown",
   "metadata": {},
   "source": [
    "#### Task-7:"
   ]
  },
  {
   "cell_type": "markdown",
   "metadata": {},
   "source": [
    "By using the([Brown Corpus news categories](https://www.nltk.org/howto/corpus.html)), train and evaluate the following built-in taggers:\n",
    "- [Unigram Tagger](https://www.nltk.org/book/ch05.html)\n",
    "- [Bigram Tagger](https://www.nltk.org/book/ch05.html)\n",
    "- [Trigram Tagger](https://www.nltk.org/book/ch05.html)"
   ]
  },
  {
   "cell_type": "code",
   "execution_count": 12,
   "metadata": {},
   "outputs": [
    {
     "name": "stdout",
     "output_type": "stream",
     "text": [
      "\n",
      "The first sentence, tagged with affix tagger: [('The', None), ('Fulton', 'NP'), ('County', 'NN'), ('Grand', 'NP'), ('Jury', None), ('said', None), ('Friday', 'NR'), ('an', None), ('investigation', 'NN'), ('of', None), (\"Atlanta's\", 'NP$'), ('recent', 'NN'), ('primary', 'JJ'), ('election', 'NN'), ('produced', 'VBN'), ('``', None), ('no', None), ('evidence', 'NN'), (\"''\", None), ('that', None), ('any', None), ('irregularities', 'NNS'), ('took', None), ('place', 'NN'), ('.', None)]\n",
      "\n",
      "The accuracy of the affix tagger on the corpus is: 0.26\n",
      "\n",
      "The first sentence, tagged with unigram tagger: [('The', 'AT'), ('Fulton', None), ('County', 'NN-TL'), ('Grand', 'JJ-TL'), ('Jury', 'NN-TL'), ('said', 'VBD'), ('Friday', 'NR'), ('an', 'AT'), ('investigation', 'NN'), ('of', 'IN'), (\"Atlanta's\", 'NP$'), ('recent', 'JJ'), ('primary', 'JJ'), ('election', 'NN'), ('produced', 'VBD'), ('``', '``'), ('no', 'AT'), ('evidence', 'NN'), (\"''\", \"''\"), ('that', 'CS'), ('any', 'DTI'), ('irregularities', None), ('took', 'VBD'), ('place', 'NN'), ('.', '.')]\n",
      "\n",
      "The accuracy of the unigram tagger on the corpus is: 0.83\n",
      "\n",
      "The first sentence, tagged with bigram tagger: [('The', 'AT'), ('Fulton', None), ('County', None), ('Grand', None), ('Jury', None), ('said', None), ('Friday', None), ('an', None), ('investigation', None), ('of', None), (\"Atlanta's\", None), ('recent', None), ('primary', None), ('election', None), ('produced', None), ('``', None), ('no', None), ('evidence', None), (\"''\", None), ('that', None), ('any', None), ('irregularities', None), ('took', None), ('place', None), ('.', None)]\n",
      "\n",
      "The accuracy of the bigram tagger on the corpus is: 0.1\n",
      "\n",
      "The first sentence, tagged with trigram tagger: [('The', 'AT'), ('Fulton', None), ('County', None), ('Grand', None), ('Jury', None), ('said', None), ('Friday', None), ('an', None), ('investigation', None), ('of', None), (\"Atlanta's\", None), ('recent', None), ('primary', None), ('election', None), ('produced', None), ('``', None), ('no', None), ('evidence', None), (\"''\", None), ('that', None), ('any', None), ('irregularities', None), ('took', None), ('place', None), ('.', None)]\n",
      "\n",
      "The accuracy of the trigram tagger on the corpus is: 0.06\n"
     ]
    }
   ],
   "source": [
    "# Import taggers\n",
    "from nltk import DefaultTagger, AffixTagger, UnigramTagger, BigramTagger, TrigramTagger\n",
    "\n",
    "# We will split the corpus to train and test\n",
    "test_corpus = brown_tsents[:1000]\n",
    "train_corpus = brown_tsents[1000:]\n",
    "\n",
    "# Train the affix tagger\n",
    "affix_tagger = AffixTagger(train_corpus)\n",
    "\n",
    "# Tag the corpus with the affix tagger\n",
    "affix_sents = affix_tagger.tag_sents(brown_sents)\n",
    "\n",
    "# Print the first sentence and accuracy\n",
    "print(\"\\nThe first sentence, tagged with affix tagger: {}\".format(affix_sents[0]))\n",
    "print(\"\\nThe accuracy of the affix tagger on the corpus is: {}\".format(round(affix_tagger.evaluate(test_corpus),2)))\n",
    "\n",
    "\n",
    "# Train the unigram tagger\n",
    "unigram_tagger = UnigramTagger(train_corpus)\n",
    "\n",
    "# Tag the corpus with the unigram tagger\n",
    "uni_sents = unigram_tagger.tag_sents(brown_sents)\n",
    "\n",
    "# Print the first sentence and accuracy\n",
    "print(\"\\nThe first sentence, tagged with unigram tagger: {}\".format(uni_sents[0]))\n",
    "print(\"\\nThe accuracy of the unigram tagger on the corpus is: {}\".format(round(unigram_tagger.evaluate(test_corpus),2)))\n",
    "\n",
    "\n",
    "# Train the bigram tagger\n",
    "bigram_tagger = BigramTagger(train_corpus)\n",
    "\n",
    "# Tag the corpus with the bigram tagger\n",
    "bi_sents = bigram_tagger.tag_sents(brown_sents)\n",
    "\n",
    "# Print the first sentence and accuracy\n",
    "print(\"\\nThe first sentence, tagged with bigram tagger: {}\".format(bi_sents[0]))\n",
    "print(\"\\nThe accuracy of the bigram tagger on the corpus is: {}\".format(round(bigram_tagger.evaluate(test_corpus),2)))\n",
    "\n",
    "\n",
    "# Train the trigram tagger\n",
    "trigram_tagger = TrigramTagger(train_corpus)\n",
    "\n",
    "# Tag the corpus with the trigram tagger\n",
    "tri_sents = trigram_tagger.tag_sents(brown_sents)\n",
    "\n",
    "tri_sents = trigram_tagger.tag_sents(brown_sents)\n",
    "\n",
    "# Print the first sentence and accuracy\n",
    "print(\"\\nThe first sentence, tagged with trigram tagger: {}\".format(tri_sents[0]))\n",
    "print(\"\\nThe accuracy of the trigram tagger on the corpus is: {}\".format(round(trigram_tagger.evaluate(test_corpus),2)))"
   ]
  }
 ],
 "metadata": {
  "kernelspec": {
   "display_name": "Python 3 (ipykernel)",
   "language": "python",
   "name": "python3"
  },
  "language_info": {
   "codemirror_mode": {
    "name": "ipython",
    "version": 3
   },
   "file_extension": ".py",
   "mimetype": "text/x-python",
   "name": "python",
   "nbconvert_exporter": "python",
   "pygments_lexer": "ipython3",
   "version": "3.9.7"
  },
  "varInspector": {
   "cols": {
    "lenName": 16,
    "lenType": 16,
    "lenVar": 40
   },
   "kernels_config": {
    "python": {
     "delete_cmd_postfix": "",
     "delete_cmd_prefix": "del ",
     "library": "var_list.py",
     "varRefreshCmd": "print(var_dic_list())"
    },
    "r": {
     "delete_cmd_postfix": ") ",
     "delete_cmd_prefix": "rm(",
     "library": "var_list.r",
     "varRefreshCmd": "cat(var_dic_list()) "
    }
   },
   "types_to_exclude": [
    "module",
    "function",
    "builtin_function_or_method",
    "instance",
    "_Feature"
   ],
   "window_display": false
  }
 },
 "nbformat": 4,
 "nbformat_minor": 4
}
