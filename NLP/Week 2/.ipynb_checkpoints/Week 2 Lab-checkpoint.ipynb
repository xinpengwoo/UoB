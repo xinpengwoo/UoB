{
 "cells": [
  {
   "cell_type": "markdown",
   "metadata": {},
   "source": [
    "<h1><center>Natural Language Processing</center></h1>"
   ]
  },
  {
   "cell_type": "markdown",
   "metadata": {},
   "source": [
    "### Stemming"
   ]
  },
  {
   "cell_type": "markdown",
   "metadata": {},
   "source": [
    "Task-1: Use the below given text and strip off any affixes:\n",
    "   \n",
    "DENNIS: Listen, strange women lying in ponds distributing swords is no basis for a system of government. Supreme executive   power derives from a mandate from the masses, not from some farcical aquatic ceremony. The striped bats are hanging on their feet for best.\n",
    "\n",
    "Use the following stemmers available in [NLTK](https://www.nltk.org/) to perform stemming of the above given text and make a comparison of their output:\n",
    "\n",
    "- [Porter stemmer](https://www.nltk.org/api/nltk.stem.porter.html) \n",
    "- [Lancaster stemmer](https://www.nltk.org/api/nltk.stem.lancaster.html)\n",
    "- [Snowball stemmer](https://www.nltk.org/api/nltk.stem.snowball.html) "
   ]
  },
  {
   "cell_type": "code",
   "execution_count": null,
   "metadata": {},
   "outputs": [],
   "source": []
  },
  {
   "cell_type": "markdown",
   "metadata": {},
   "source": [
    "### Lemmatization"
   ]
  },
  {
   "cell_type": "markdown",
   "metadata": {},
   "source": [
    "Task-1: By using an [NLTK lemmatizer](https://www.nltk.org/_modules/nltk/stem/wordnet.html), such as the wordnet lemmatizer, perform the lemmatization of the following text and compare the lematized text with the text produced with Porter stemmer:\n",
    "\n",
    "DENNIS: Listen, strange women lying in ponds distributing swords is no basis for a system of government. Supreme executive power derives from a mandate from the masses, not from some farcical aquatic ceremony. The striped bats are hanging on their feet for best."
   ]
  },
  {
   "cell_type": "code",
   "execution_count": null,
   "metadata": {},
   "outputs": [],
   "source": []
  },
  {
   "cell_type": "markdown",
   "metadata": {},
   "source": [
    "### Information Retrieval System"
   ]
  },
  {
   "cell_type": "markdown",
   "metadata": {},
   "source": [
    "Task-1: Develop an information retrieval system based on ranked retrieval. The intended system should be based on tf-idf scores and cosine similarities to retrieve ranked indices of documents most relevant to the need. \n",
    "\n",
    "\n",
    "A collection of documents ([WordsDataset.csv](https://canvas.bham.ac.uk/courses/65790/files/14306214?module_item_id=3017551)) and a set of [queries](https://canvas.bham.ac.uk/courses/65790/files/14306235?module_item_id=3017553) are available in the course folder to develop the desired system. This is a sample dataset where every document is a collection of a few words.\n",
    "\n",
    "Upon querying, the query should be compared to the words of every document based on the mentioned scheme and returns ranked (sorted top 10 highest) indices most relevant to the query.\n",
    "\n",
    "Hint: Go to the [lecture slides](https://canvas.bham.ac.uk/courses/65790/files/14297069?module_item_id=3015094) and follow the steps to develop an end-to-end IR system\n",
    "\n",
    "Useful links:  [NLTK](https://www.nltk.org/) [pandas](https://pandas.pydata.org/docs/user_guide/index.html), [NumPy](https://numpy.org/doc/stable/user/index.html#user)"
   ]
  },
  {
   "cell_type": "code",
   "execution_count": null,
   "metadata": {},
   "outputs": [],
   "source": []
  }
 ],
 "metadata": {
  "kernelspec": {
   "display_name": "Python 3 (ipykernel)",
   "language": "python",
   "name": "python3"
  },
  "language_info": {
   "codemirror_mode": {
    "name": "ipython",
    "version": 3
   },
   "file_extension": ".py",
   "mimetype": "text/x-python",
   "name": "python",
   "nbconvert_exporter": "python",
   "pygments_lexer": "ipython3",
   "version": "3.9.7"
  },
  "varInspector": {
   "cols": {
    "lenName": 16,
    "lenType": 16,
    "lenVar": 40
   },
   "kernels_config": {
    "python": {
     "delete_cmd_postfix": "",
     "delete_cmd_prefix": "del ",
     "library": "var_list.py",
     "varRefreshCmd": "print(var_dic_list())"
    },
    "r": {
     "delete_cmd_postfix": ") ",
     "delete_cmd_prefix": "rm(",
     "library": "var_list.r",
     "varRefreshCmd": "cat(var_dic_list()) "
    }
   },
   "types_to_exclude": [
    "module",
    "function",
    "builtin_function_or_method",
    "instance",
    "_Feature"
   ],
   "window_display": false
  }
 },
 "nbformat": 4,
 "nbformat_minor": 4
}
