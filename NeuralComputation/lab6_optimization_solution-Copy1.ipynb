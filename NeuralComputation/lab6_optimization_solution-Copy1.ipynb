{
 "cells": [
  {
   "cell_type": "markdown",
   "metadata": {},
   "source": [
    "### Neural Computation Exercise 6: Advanced Optimization Algorithms\n",
    "\n",
    "In this exercise, we'll develop implementations of advanced optimization algorithms. As in Exercise 2, we will use the Boston Housing dataset and run some advanced optimization algorithms to solve the linear regression problems.\n",
    "\n",
    "In this exercise, you will learn the following\n",
    "* implement the `momentum` method\n",
    "* implement the `Nesterov momentum` method\n",
    "* implement the `adaptive (stochastic) gradient descent` method"
   ]
  },
  {
   "cell_type": "code",
   "execution_count": 47,
   "metadata": {},
   "outputs": [],
   "source": [
    "import matplotlib\n",
    "import numpy as np\n",
    "import random\n",
    "import warnings\n",
    "import matplotlib.pyplot as plt\n",
    "from sklearn import preprocessing   # for normalization"
   ]
  },
  {
   "cell_type": "markdown",
   "metadata": {},
   "source": [
    "## Boston Housing Data\n",
    "\n",
    "The Boston Housing data is one of the datasets available in sklearn.\n",
    "We can import the dataset and preprocess it as follows. Note we add a feature of $1$ to `x_input` to get a n x (d+1) matrix `x_in`"
   ]
  },
  {
   "cell_type": "code",
   "execution_count": 54,
   "metadata": {},
   "outputs": [],
   "source": [
    "X = np.array([[-0.5,0.25,-0.8,-1],[-1,-0.1,-0.1,-1],\n",
    "              [0.5,0,0.25,0.1],[-0.2,-0.3,0.2,0],\n",
    "              [-0.8,0,-0.8,-1],[-0.15,-0.5,0.05,-0.25],\n",
    "              [-1,0,-1,-1],[0,-0.25,0.25,0.1]\n",
    "             ])\n",
    "# add a feature 1 to the dataset, then we do not need to consider the bias and weight separately\n",
    "# x_in = np.concatenate([np.ones([np.shape(X)[0], 1]), X], axis=1)\n",
    "# we normalize the data so that each has regularity\n",
    "# x_in = preprocessing.normalize(x_in)\n",
    "x_in = X\n",
    "y_target = np.array([1,1,-1,-1,1,-1,1,-1])"
   ]
  },
  {
   "cell_type": "markdown",
   "metadata": {},
   "source": [
    "## Linear Model\n",
    "\n",
    "A linear regression model in one variable has the following form \n",
    "$$\n",
    "f(x)=\\mathbf{w}^\\top \\mathbf{x}.\n",
    "$$\n",
    "The following function computes the output of the linear model on a data matrix of size n x (d+1)."
   ]
  },
  {
   "cell_type": "code",
   "execution_count": 55,
   "metadata": {},
   "outputs": [],
   "source": [
    "def linearmat_2(w, X):\n",
    "    '''\n",
    "    a vectorization of linearmat_1 in lab 2.\n",
    "    Input: w is a weight parameter (including the bias), and X is a data matrix (n x (d+1)) (including the feature)\n",
    "    Output: a vector containing the predictions of linear models\n",
    "    '''\n",
    "    return np.dot(X, w)"
   ]
  },
  {
   "cell_type": "markdown",
   "metadata": {},
   "source": [
    "## Cost Function\n",
    "\n",
    "We defined the following `mean square error` function for a linear regression problem using the square loss:\n",
    "$$\n",
    "C(\\mathbf{y}, \\mathbf{t}) = \\frac{1}{2n}(\\mathbf{y}-\\mathbf{t})^\\top (\\mathbf{y}-\\mathbf{t}).\n",
    "$$\n",
    "The python implementation is as follows"
   ]
  },
  {
   "cell_type": "code",
   "execution_count": 56,
   "metadata": {},
   "outputs": [],
   "source": [
    "def cost(w, X, y):\n",
    "    '''\n",
    "    Evaluate the cost function in a vectorized manner for \n",
    "    inputs `X` and outputs `y`, at weights `w`.\n",
    "    '''\n",
    "    residual = y - linearmat_2(w, X)  # get the residual\n",
    "    err = np.dot(residual, residual) / (2 * len(y)) # compute the error\n",
    "    \n",
    "    return err"
   ]
  },
  {
   "cell_type": "markdown",
   "metadata": {},
   "source": [
    "## Gradient Computation\n",
    "\n",
    "Our methods require to use the gradient of the `cost` function. As discussed in the previous lecture, the gradient can be computed by\n",
    "$$\\nabla C(\\mathbf{w}) =\\frac{1}{n}X^\\top\\big(X\\mathbf{w}-\\mathbf{y}\\big)$$\n",
    "In the following, we present the python implementation on the gradient computation"
   ]
  },
  {
   "cell_type": "code",
   "execution_count": 57,
   "metadata": {},
   "outputs": [],
   "source": [
    "# Vectorized gradient function\n",
    "def gradfn(weights, X, y):\n",
    "    '''\n",
    "    Given `weights` - a current \"Guess\" of what our weights should be\n",
    "          `X` - matrix of shape (N,d+1) of input features including the feature $1$\n",
    "          `y` - target y values\n",
    "    Return gradient of each weight evaluated at the current value\n",
    "    '''\n",
    "    return y * (y * np.dot(weights, X) -1) * X\n",
    "#     y_pred = np.dot(X, weights)\n",
    "#     error = y_pred - y\n",
    "#     return np.dot(X.T, error)"
   ]
  },
  {
   "cell_type": "markdown",
   "metadata": {},
   "source": [
    "## Gradient Descent\n",
    "\n",
    "Gradient Descent iteratively updates the model by moving along the negative direction\n",
    "$$\\mathbf{w}^{(t+1)} \\leftarrow \\mathbf{w}^{(t)} - \\eta\\nabla C(\\mathbf{w}^{(t)}),$$ \n",
    "where $\\eta$ is a learning rate and $\\nabla C(w^{(t)})$ is the gradient evaluated at current parameter value $\\mathbf{w}^{(t)}$. In the following, we give the python implementation of the gradient descent on the linear regression problem. Here, we use `idx_res` to store the indices of iterations where we have computed the cost, and use `err_res` to store the cost of models at these iterations. These will be used to plot how the `cost` will behave `versus iteration` number."
   ]
  },
  {
   "cell_type": "code",
   "execution_count": 58,
   "metadata": {},
   "outputs": [],
   "source": [
    "def solve_via_gradient_descent(X, y, print_every=1,\n",
    "                               niter=50, eta=0.5):\n",
    "    '''\n",
    "    Solves for linear regression weights with gradient descent.\n",
    "    Given `X` - matrix of shape (N,D) of input features\n",
    "          `y` - target y values\n",
    "          `print_every` - we report performance every 'print_every' iterations\n",
    "          `niter` - the number of iterates allowed\n",
    "          `eta` - learning rate\n",
    "    \n",
    "    Return \n",
    "        `w` - weights after `niter` iterations\n",
    "        `idx_res` - the indices of iterations where we compute the cost\n",
    "        `err_res` - the cost at iterations indicated by idx_res\n",
    "    '''\n",
    "    N, D = np.shape(X)\n",
    "    # initialize all the weights to zeros\n",
    "    w = np.zeros([D])\n",
    "    idx_res = []\n",
    "    err_res = []\n",
    "    for k in range(niter):\n",
    "        # compute the gradient\n",
    "        dw = np.zeros([D])\n",
    "        margin = y * (X @ w)\n",
    "        for i in range(N):\n",
    "            if margin[i] < 1:\n",
    "                dw += gradfn(w, X[i], y[i])\n",
    "        dw /= D\n",
    "        # gradient descent\n",
    "        w = w - eta * dw\n",
    "        # we report the progress every print_every iterations\n",
    "        # note the operator % calculates the remainder of dividing two values\n",
    "        if k % print_every == print_every - 1:\n",
    "            t_cost = cost(w, X, y)\n",
    "            print('error after %d iteration: %s' % (k+1, t_cost))\n",
    "            print('w equals: %s' % w)\n",
    "            idx_res.append(k)\n",
    "            err_res.append(t_cost)\n",
    "    return w, idx_res, err_res"
   ]
  },
  {
   "cell_type": "markdown",
   "metadata": {},
   "source": [
    "Now we apply **gradient descent** to solve the **Boston House Price** prediction problem , and get the weight w_gd, the indices idx_gd and the errors 'err_gd' on these indices"
   ]
  },
  {
   "cell_type": "code",
   "execution_count": 59,
   "metadata": {},
   "outputs": [
    {
     "name": "stdout",
     "output_type": "stream",
     "text": [
      "error after 1 iteration: 0.2072964050292969\n",
      "w equals: [-0.43125  0.15    -0.43125 -0.49375]\n",
      "error after 2 iteration: 0.19150012010948836\n",
      "w equals: [-0.4319668   0.27861523 -0.50729883 -0.4834043 ]\n",
      "error after 3 iteration: 0.180252784284883\n",
      "w equals: [-0.4360631   0.39905407 -0.57961166 -0.47626935]\n",
      "error after 4 iteration: 0.1730572733279933\n",
      "w equals: [-0.44239071  0.51198186 -0.64828176 -0.4713111 ]\n",
      "error after 5 iteration: 0.16941601562179082\n",
      "w equals: [-0.45014785  0.61796845 -0.71343211 -0.46780653]\n",
      "error after 6 iteration: 0.16884714611865703\n",
      "w equals: [-0.45877657  0.7175106  -0.77520343 -0.46525159]\n",
      "error after 7 iteration: 0.17089808332479356\n",
      "w equals: [-0.46789045  0.811048   -0.83374577 -0.46329625]\n",
      "error after 8 iteration: 0.17515407863129587\n",
      "w equals: [-0.47722364  0.89897502 -0.88921292 -0.46169881]\n",
      "error after 9 iteration: 0.1812421671658116\n",
      "w equals: [-0.48659493  0.98164919 -0.94175853 -0.46029363]\n",
      "error after 10 iteration: 0.18883173279345294\n",
      "w equals: [-0.49588246  1.05939749 -0.99153355 -0.4589684 ]\n",
      "error after 11 iteration: 0.19763288445529356\n",
      "w equals: [-0.50500588  1.13252109 -1.03868459 -0.45764817]\n",
      "error after 12 iteration: 0.2073935827907581\n",
      "w equals: [-0.5139138   1.20129883 -1.08335292 -0.45628406]\n",
      "error after 13 iteration: 0.21789617440702785\n",
      "w equals: [-0.52257496  1.26599005 -1.12567386 -0.4548453 ]\n",
      "error after 14 iteration: 0.22895375896261538\n",
      "w equals: [-0.53097204  1.32683669 -1.16577648 -0.45331375]\n",
      "error after 15 iteration: 0.24040664447389654\n",
      "w equals: [-0.53909727  1.38406504 -1.20378354 -0.45167985]\n",
      "error after 16 iteration: 0.2521190308226382\n",
      "w equals: [-0.54694935  1.43788713 -1.23981151 -0.44993998]\n",
      "error after 17 iteration: 0.2639759871441293\n",
      "w equals: [-0.55453138  1.48850195 -1.27397072 -0.44809447]\n",
      "error after 18 iteration: 0.27588074334163487\n",
      "w equals: [-0.56184925  1.53609642 -1.30636558 -0.44614626]\n",
      "error after 19 iteration: 0.28775228978304185\n",
      "w equals: [-0.5689107   1.58084627 -1.33709477 -0.44409996]\n",
      "error after 20 iteration: 0.29952326535982576\n",
      "w equals: [-0.57572452  1.62291682 -1.36625151 -0.44196123]\n",
      "error after 21 iteration: 0.31113810779267587\n",
      "w equals: [-0.58230008  1.66246366 -1.39392382 -0.43973627]\n",
      "error after 22 iteration: 0.32255143824051274\n",
      "w equals: [-0.58864701  1.69963328 -1.4201948  -0.43743156]\n",
      "error after 23 iteration: 0.3337266529300814\n",
      "w equals: [-0.59477491  1.73456364 -1.44514282 -0.43505364]\n",
      "error after 24 iteration: 0.3447355492331717\n",
      "w equals: [-0.60080406  1.76737358 -1.46885292 -0.43271973]\n",
      "error after 25 iteration: 0.3557512416615587\n",
      "w equals: [-0.6069472   1.79816819 -1.4914142  -0.43064294]\n",
      "error after 26 iteration: 0.3667388966528484\n",
      "w equals: [-0.61317418  1.82707517 -1.51288555 -0.42879955]\n",
      "error after 27 iteration: 0.3776677373795817\n",
      "w equals: [-0.61945788  1.85421393 -1.53332269 -0.42716775]\n",
      "error after 28 iteration: 0.3885106465406226\n",
      "w equals: [-0.62577396  1.87969611 -1.55277833 -0.42572748]\n",
      "error after 29 iteration: 0.3992438112374913\n",
      "w equals: [-0.6321006   1.90362607 -1.57130235 -0.42446032]\n",
      "error after 30 iteration: 0.4098464046624131\n",
      "w equals: [-0.63841833  1.92610145 -1.58894197 -0.42334932]\n",
      "error after 31 iteration: 0.42030030007777824\n",
      "w equals: [-0.64470982  1.94721353 -1.60574188 -0.42237893]\n",
      "error after 32 iteration: 0.4305898132061409\n",
      "w equals: [-0.65095968  1.9670477  -1.62174438 -0.42153489]\n",
      "error after 33 iteration: 0.440701469693046\n",
      "w equals: [-0.65715431  1.98568383 -1.63698955 -0.42080411]\n",
      "error after 34 iteration: 0.45062379476646314\n",
      "w equals: [-0.66328175  2.00319665 -1.65151533 -0.4201746 ]\n",
      "error after 35 iteration: 0.4603471226088721\n",
      "w equals: [-0.66933154  2.01965607 -1.66535768 -0.41963538]\n",
      "error after 36 iteration: 0.46986342329164965\n",
      "w equals: [-0.67529456  2.0351275  -1.67855066 -0.41917642]\n",
      "error after 37 iteration: 0.4791661454053083\n",
      "w equals: [-0.68116294  2.04967217 -1.69112653 -0.41878851]\n",
      "error after 38 iteration: 0.4882500727609648\n",
      "w equals: [-0.68692994  2.06334737 -1.7031159  -0.41846328]\n",
      "error after 39 iteration: 0.4971111937446167\n",
      "w equals: [-0.69258985  2.07620674 -1.71454777 -0.41819307]\n",
      "error after 40 iteration: 0.5057465820818374\n",
      "w equals: [-0.69813788  2.08830048 -1.72544962 -0.4179709 ]\n",
      "error after 41 iteration: 0.514154287921039\n",
      "w equals: [-0.70357009  2.0996756  -1.73584753 -0.4177904 ]\n",
      "error after 42 iteration: 0.5223502974967772\n",
      "w equals: [-0.7088833   2.11039673 -1.74578684 -0.41765405]\n",
      "error after 43 iteration: 0.5304516136526786\n",
      "w equals: [-0.71407509  2.12064413 -1.75543053 -0.4176128 ]\n",
      "error after 44 iteration: 0.5384540639846532\n",
      "w equals: [-0.71914403  2.13044053 -1.76478854 -0.41766019]\n",
      "error after 45 iteration: 0.5463539578950978\n",
      "w equals: [-0.7240891   2.13980742 -1.77387046 -0.41779016]\n",
      "error after 46 iteration: 0.5541480566843905\n",
      "w equals: [-0.72890967  2.14876521 -1.78268554 -0.41799703]\n",
      "error after 47 iteration: 0.5618335450859754\n",
      "w equals: [-0.73360544  2.15733321 -1.79124273 -0.41827549]\n",
      "error after 48 iteration: 0.569408004169827\n",
      "w equals: [-0.73817643  2.16552974 -1.79955065 -0.41862058]\n",
      "error after 49 iteration: 0.5768693855482476\n",
      "w equals: [-0.74262291  2.17337217 -1.80761761 -0.41902763]\n",
      "error after 50 iteration: 0.5842159868252721\n",
      "w equals: [-0.74694545  2.18087699 -1.81545166 -0.41949229]\n"
     ]
    }
   ],
   "source": [
    "w_gd, idx_gd, err_gd = solve_via_gradient_descent( X=x_in, y=y_target)"
   ]
  },
  {
   "cell_type": "markdown",
   "metadata": {},
   "source": [
    "## Momentum\n",
    "\n",
    "Momentum introduces a variable `velocity` to store the historical information of the gradients. At each iteration, it updates `velocity` as a factor of the current `velocity` minus the `learning rate` times the `current gradient`\n",
    "$$\\mathbf{v}^{(t+1)} = \\alpha\\mathbf{v}^{(t)}-\\eta\\nabla C(\\mathbf{w}^{(t)}),$$ \n",
    "where $\\eta$ is a learning rate, $\\alpha\\in(0,1)$ is a parameter and $\\nabla C(w^{(t)}$ is the gradient evaluated at current parameter value $\\mathbf{w}^{(t)}$.\n",
    "Then, we update the next iterate as \n",
    "$$\\mathbf{w}^{(t+1)}=\\mathbf{w}^{(t)}+\\mathbf{v}^{(t+1)}.$$\n",
    "In the following, we request you to finish the following implementation of the `momentum` on the linear regression problem."
   ]
  },
  {
   "cell_type": "code",
   "execution_count": 8,
   "metadata": {},
   "outputs": [],
   "source": [
    "def solve_via_momentum(X, y, print_every=100,\n",
    "                               niter=2000, eta=1, alpha=0.8):\n",
    "    '''\n",
    "    Solves for linear regression weights with momentum.\n",
    "    Given `X` - matrix of shape (N,D) of input features\n",
    "          `y` - target y values\n",
    "          `print_every` - we report performance every 'print_every' iterations\n",
    "          `niter` - the number of iterates allowed\n",
    "          `eta` - learning rate\n",
    "          `alpha` - determines the influence of past gradients on the current update\n",
    "\n",
    "    Return \n",
    "        `w` - weights after `niter` iterations\n",
    "        `idx_res` - the indices of iterations where we compute the cost\n",
    "        `err_res` - the cost at iterations\n",
    "    '''\n",
    "    N, D = np.shape(X)\n",
    "    # initialize all the weights to zeros\n",
    "    w = np.zeros([D])\n",
    "    v = np.zeros([D])\n",
    "    idx_res = []\n",
    "    err_res = []\n",
    "    for k in range(niter):\n",
    "        # TODO: Insert your code to update w by momentum\n",
    "        dw = gradfn(w, X, y)\n",
    "        v = alpha * v - eta * dw\n",
    "        w = w + v \n",
    "        if k % print_every == print_every - 1:\n",
    "            t_cost = cost(w, X, y)\n",
    "            print('error after %d iteration: %s' % (k, t_cost))\n",
    "            idx_res.append(k)\n",
    "            err_res.append(t_cost)\n",
    "    return w, idx_res, err_res"
   ]
  },
  {
   "cell_type": "markdown",
   "metadata": {},
   "source": [
    "Now we apply **momentum** to solve the **Boston House Price** prediction problem."
   ]
  },
  {
   "cell_type": "code",
   "execution_count": 9,
   "metadata": {},
   "outputs": [
    {
     "name": "stdout",
     "output_type": "stream",
     "text": [
      "error after 99 iteration: 29.80056562307084\n",
      "error after 199 iteration: 28.62999428839385\n",
      "error after 299 iteration: 27.723453738429058\n",
      "error after 399 iteration: 26.93170196909492\n",
      "error after 499 iteration: 26.22075154671397\n",
      "error after 599 iteration: 25.576591923202297\n",
      "error after 699 iteration: 24.991046371326643\n",
      "error after 799 iteration: 24.458021242865854\n",
      "error after 899 iteration: 23.97238648687385\n",
      "error after 999 iteration: 23.529615039194645\n",
      "error after 1099 iteration: 23.125646524151126\n",
      "error after 1199 iteration: 22.756819391684342\n",
      "error after 1299 iteration: 22.419825742699732\n",
      "error after 1399 iteration: 22.11167523451924\n",
      "error after 1499 iteration: 21.82966385782359\n",
      "error after 1599 iteration: 21.571346141332413\n",
      "error after 1699 iteration: 21.334510167960573\n",
      "error after 1799 iteration: 21.117155046557606\n",
      "error after 1899 iteration: 20.917470576437516\n",
      "error after 1999 iteration: 20.733818884547354\n"
     ]
    }
   ],
   "source": [
    "w_momentum, idx_momentum, err_momentum = solve_via_momentum( X=x_in, y=y_target)"
   ]
  },
  {
   "cell_type": "markdown",
   "metadata": {},
   "source": [
    "### Comparison between Gradient Descent and Gradient Descent with Momentum\n",
    "\n",
    "We can now compare the behavie of Gradient Descent and Gradient Descent with Momentum. In particular, we will show how the `cost` of models found by the algorithm at different iterations would behave with respect to the iteration number."
   ]
  },
  {
   "cell_type": "code",
   "execution_count": 10,
   "metadata": {},
   "outputs": [
    {
     "data": {
      "image/png": "[encoded data removed]",
      "text/plain": [
       "<Figure size 432x288 with 1 Axes>"
      ]
     },
     "metadata": {
      "needs_background": "light"
     },
     "output_type": "display_data"
    }
   ],
   "source": [
    "# we plot the cost w.r.t. the iteration number\n",
    "plt.plot(idx_gd, err_gd, color=\"red\", linewidth=2.5, linestyle=\"-\", label=\"gradient descent\")\n",
    "plt.plot(idx_momentum, err_momentum, color=\"blue\", linewidth=2.5, linestyle=\"-\", label=\"momentum\")\n",
    "plt.legend(loc='upper right', prop={'size': 12})\n",
    "plt.title('comparison between gradient descent and momentum')\n",
    "plt.xlabel(\"number of iterations\")\n",
    "plt.ylabel(\"cost\")\n",
    "plt.grid()\n",
    "plt.show()"
   ]
  },
  {
   "cell_type": "markdown",
   "metadata": {},
   "source": [
    "As we expected, **gradient descent with momentum** is much faster than the **gradient descent**. This shows the benefit of using velocity to store historical gradient information for accelerating the algorithm."
   ]
  },
  {
   "cell_type": "markdown",
   "metadata": {},
   "source": [
    "## Nesterov Momentum\n",
    "\n",
    "Anoter algorithm which can acclerate the training speed of gradient descent is the **Nesterov Momentum**. Analogous to **Momentum**, Nesterov Momentum also introduces a variable `velocity` to store the historical information of the gradients. The difference is that it first uses the current velocity to build a `looking ahead` point. Then the gradient computation is performed at the  `looking ahead` point. The `looking ahead` point may contain more information than the current point. Therefore, the gradient at `looking ahead` point may be more precise than the `current gradient`.\n",
    "The update equation is as follows\n",
    "$$\\mathbf{w}^{\\text{(ahead)}}=\\mathbf{w}^{(t)}+\\alpha\\mathbf{v}^{(t)}$$\n",
    "$$\\mathbf{v}^{(t+1)} = \\alpha\\mathbf{v}^{(t)}-\\eta\\nabla C(\\mathbf{w}^{(\\text{ahead})}),$$ \n",
    "where $\\eta$ is a learning rate and $\\alpha\\in(0,1)$ is a parameter.\n",
    "Then, we update the next iterate as \n",
    "$$\\mathbf{w}^{(t+1)}=\\mathbf{w}^{(t)}+\\mathbf{v}^{(t+1)}.$$\n",
    "In the following, we request you to finish the following implementation of the `Nesterov Momentum` on the linear regression problem."
   ]
  },
  {
   "cell_type": "code",
   "execution_count": 11,
   "metadata": {},
   "outputs": [],
   "source": [
    "def solve_via_nag(X, y, print_every=100,\n",
    "                               niter=2000, eta=0.5, alpha=0.8):\n",
    "    '''\n",
    "    Solves for linear regression weights with nesterov momentum.\n",
    "    Given `X` - matrix of shape (N,D) of input features\n",
    "          `y` - target y values\n",
    "          `print_every` - we report performance every 'print_every' iterations\n",
    "          `niter` - the number of iterates allowed\n",
    "          `eta` - learning rate\n",
    "          `alpha` - determines the influence of past gradients on the current update\n",
    "\n",
    "    Return \n",
    "        `w` - weights after `niter` iterations\n",
    "        `idx_res` - the indices of iterations where we compute the cost\n",
    "        `err_res` - the cost at iterations\n",
    "    '''\n",
    "    N, D = np.shape(X)\n",
    "    # initialize all the weights to zeros\n",
    "    w = np.zeros([D])\n",
    "    v = np.zeros([D])\n",
    "    idx_res = []\n",
    "    err_res = []\n",
    "    for k in range(niter):\n",
    "        # TODO: Insert your code to update w by nesterov momentum\n",
    "        w_ahead = w + alpha * v\n",
    "        dw = gradfn(w_ahead, X, y)\n",
    "        v = alpha * v - eta * dw\n",
    "        w = w + v \n",
    "        if k % print_every == print_every - 1:\n",
    "            t_cost = cost(w, X, y)\n",
    "            print('error after %d iteration: %s' % (k, t_cost))\n",
    "            idx_res.append(k)\n",
    "            err_res.append(t_cost)\n",
    "    return w, idx_res, err_res"
   ]
  },
  {
   "cell_type": "markdown",
   "metadata": {},
   "source": [
    "Now we apply nesterov momentum to solve the Boston House Price prediction problem."
   ]
  },
  {
   "cell_type": "code",
   "execution_count": 12,
   "metadata": {},
   "outputs": [
    {
     "name": "stdout",
     "output_type": "stream",
     "text": [
      "error after 99 iteration: 30.77108979528206\n",
      "error after 199 iteration: 29.785615718682827\n",
      "error after 299 iteration: 29.14305296031189\n",
      "error after 399 iteration: 28.615764624720775\n",
      "error after 499 iteration: 28.14503125524785\n",
      "error after 599 iteration: 27.71090401071221\n",
      "error after 699 iteration: 27.30445729074942\n",
      "error after 799 iteration: 26.92087123922468\n",
      "error after 899 iteration: 26.557219300063483\n",
      "error after 999 iteration: 26.211557121716073\n",
      "error after 1099 iteration: 25.882480958675558\n",
      "error after 1199 iteration: 25.56889656165967\n",
      "error after 1299 iteration: 25.269894270324073\n",
      "error after 1399 iteration: 24.984680444069564\n",
      "error after 1499 iteration: 24.71253935901087\n",
      "error after 1599 iteration: 24.452811706720944\n",
      "error after 1699 iteration: 24.20488217625198\n",
      "error after 1799 iteration: 23.968172024438882\n",
      "error after 1899 iteration: 23.74213440013609\n",
      "error after 1999 iteration: 23.526251201949723\n"
     ]
    }
   ],
   "source": [
    "w_nag, idx_nag, err_nag = solve_via_nag( X=x_in, y=y_target)"
   ]
  },
  {
   "cell_type": "markdown",
   "metadata": {},
   "source": [
    "### Comparison between Gradient Descent and Nesterov Momentum\n",
    "\n",
    "We can now compare the behavie of Gradient Descent and Nesterov Momentum. In particular, we will show how the `cost` of models found by the algorithm at different iterations would behave with respect to the iteration number."
   ]
  },
  {
   "cell_type": "code",
   "execution_count": 13,
   "metadata": {},
   "outputs": [
    {
     "data": {
      "image/png": "[encoded data removed]",
      "text/plain": [
       "<Figure size 432x288 with 1 Axes>"
      ]
     },
     "metadata": {
      "needs_background": "light"
     },
     "output_type": "display_data"
    }
   ],
   "source": [
    "plt.plot(idx_gd, err_gd, color=\"red\", linewidth=2.5, linestyle=\"-\", label=\"gradient descent\")\n",
    "plt.plot(idx_nag, err_nag, color=\"blue\", linewidth=2.5, linestyle=\"-\", label=\"nesterov momentum\")\n",
    "plt.legend(loc='upper right', prop={'size': 12})\n",
    "plt.title('comparison between gradient descent and momentum')\n",
    "plt.xlabel(\"number of iterations\")\n",
    "plt.ylabel(\"cost\")\n",
    "plt.grid()\n",
    "plt.show()"
   ]
  },
  {
   "cell_type": "markdown",
   "metadata": {},
   "source": [
    "As we expected, **nesterov momentum** is much faster than the **gradient descent**. This  again shows the benefit of using velocity to store historical gradient information for accelerating the algorithm."
   ]
  },
  {
   "cell_type": "markdown",
   "metadata": {},
   "source": [
    "## Adaptive Gradient Descent\n",
    "\n",
    "Stochastic gradient descent uses the same learning rates for all the features. This can be problematic if there are some sparse and predictive features. The underlying reason is that there are few examples with non-zero values for the sparse features, and it is often the case that SGD will choose an example with a zero for the sparse feature. Then it would not update the corresponding coordinate in this case. This motivates the need to slow down the update of some coordinates if there is already a frequent update on that coordinate, and accelerate the update if there are few updates on that coordinate.\n",
    "\n",
    "The key idea of `Adagrad` is to introduce a vector $\\mathbf{r}$ to store the accumulated gradient norm square. We initialize $\\mathbf{r}^{(0)}=0$ and update\n",
    "$$ \n",
    "\\mathbf{r}^{(t+1)}=\\mathbf{r}^{(t)}+\\hat{\\mathbf{g}}^{(t)}\\odot\\hat{\\mathbf{g}}^{(t)},\n",
    "$$\n",
    "where $\\hat{\\mathbf{g}}^{(t)}$ can be a stochastic gradient built based on a selected example or a minibatch of examples. Note $\\mathbf{r}^{(t+1)}$ records the accumulated magnitude square of gradients in each coordinate up to the $t$-th iteration. In this way, the entries of $\\mathbf{r}^{(t+1)}$ would be different. If ${r}_j^{(t+1)}$ is large, then this means that there are a lot of updates on the $j$-th coordinate. If ${r}_j^{(t+1)}$ is small, then this means that there are few updates on the $j$-th coordinate. The idea is to slow down the update on an coordinate if there are already many updates on that coordinate in the history, and speed up the update on an coordinate if there are few updates in the history. This can be achieved by dividing the parameter $\\eta$ with $\\sqrt{\\mathbf{r}^{(t+1)}}$. That is\n",
    "$$\n",
    "\\mathbf{w}^{(t+1)}\\gets\\mathbf{w}^{(t)}-\\frac{\\eta}{\\delta+\\sqrt{\\mathbf{r}^{(t+1)}}}\\odot \\hat{\\mathbf{g}}^{(t)} \n",
    "$$\n",
    "In this way, we can have different learning rates on different coordinates. In the following, we request you to finish the following implementation of the `AdaGrad` on the linear regression problem. "
   ]
  },
  {
   "cell_type": "code",
   "execution_count": 14,
   "metadata": {},
   "outputs": [],
   "source": [
    "def solve_via_adagrad(X, y, print_every=100,\n",
    "                               niter=5000, eta=1, batch_size=50):\n",
    "    '''\n",
    "    Solves for linear regression weights with nesterov momentum.\n",
    "    Given `X` - matrix of shape (N,D) of input features\n",
    "          `y` - target y values\n",
    "          `print_every` - we report performance every 'print_every' iterations\n",
    "          `niter` - the number of iterates allowed\n",
    "          `eta` - learning rate\n",
    "          `batch_size` - the size of minibatch\n",
    "    Return \n",
    "        `w` - weights after `niter` iterations\n",
    "        `idx_res` - the indices of iterations where we compute the cost\n",
    "        `err_res` - the cost at iterations\n",
    "    '''\n",
    "    N, D = np.shape(X)\n",
    "    # initialize all the weights to zeros\n",
    "    w = np.zeros([D])\n",
    "    idx_res = []\n",
    "    err_res = []\n",
    "    tset = list(range(N))\n",
    "    gradients_sum = np.zeros([D])\n",
    "    delta = 1e-8\n",
    "    for k in range(niter):\n",
    "        # TODO: Insert your code to update w by Adagrad\n",
    "        idx = random.sample(tset, batch_size)\n",
    "        #sample batch of data\n",
    "        sample_X = X[idx, :]\n",
    "        sample_y = y[idx]\n",
    "        dw = gradfn(w, sample_X, sample_y)\n",
    "        \n",
    "        #compute square of sum of gradients\n",
    "        gradients_sum += dw ** 2\n",
    "        w = w - eta * dw / (np.sqrt(gradients_sum) + delta)\n",
    "        # print(w)\n",
    "        if k % print_every == print_every - 1:\n",
    "            t_cost = cost(w, X, y)\n",
    "            print('error after %d iteration: %s' % (k, t_cost))\n",
    "            idx_res.append(k)\n",
    "            err_res.append(t_cost)\n",
    "    return w, idx_res, err_res"
   ]
  },
  {
   "cell_type": "markdown",
   "metadata": {},
   "source": [
    "Now we apply adaptive gradient descent to solve the Boston House Price prediction problem."
   ]
  },
  {
   "cell_type": "code",
   "execution_count": 15,
   "metadata": {},
   "outputs": [
    {
     "name": "stdout",
     "output_type": "stream",
     "text": [
      "error after 99 iteration: 43.27020892904402\n",
      "error after 199 iteration: 37.44312172431885\n",
      "error after 299 iteration: 35.66771517514846\n",
      "error after 399 iteration: 34.38538006459371\n",
      "error after 499 iteration: 33.36851426790476\n",
      "error after 599 iteration: 32.57436249181108\n",
      "error after 699 iteration: 31.92811794641984\n",
      "error after 799 iteration: 31.385860707826254\n",
      "error after 899 iteration: 31.003773327045746\n",
      "error after 999 iteration: 30.649474297466455\n",
      "error after 1099 iteration: 30.34068696357561\n",
      "error after 1199 iteration: 30.086252408175792\n",
      "error after 1299 iteration: 29.86263015181423\n",
      "error after 1399 iteration: 29.661192663694813\n",
      "error after 1499 iteration: 29.48076943179478\n",
      "error after 1599 iteration: 29.331296885905736\n",
      "error after 1699 iteration: 29.201962234924075\n",
      "error after 1799 iteration: 29.068460531118482\n",
      "error after 1899 iteration: 28.953466242626263\n",
      "error after 1999 iteration: 28.84339704319381\n",
      "error after 2099 iteration: 28.736933908182046\n",
      "error after 2199 iteration: 28.64381086565444\n",
      "error after 2299 iteration: 28.55027837019004\n",
      "error after 2399 iteration: 28.473839329425008\n",
      "error after 2499 iteration: 28.378933784020486\n",
      "error after 2599 iteration: 28.299146603930808\n",
      "error after 2699 iteration: 28.226450096363788\n",
      "error after 2799 iteration: 28.14855096891202\n",
      "error after 2899 iteration: 28.078790417370385\n",
      "error after 2999 iteration: 28.014208624205512\n",
      "error after 3099 iteration: 27.943477145078283\n",
      "error after 3199 iteration: 27.885141227271305\n",
      "error after 3299 iteration: 27.81457512617139\n",
      "error after 3399 iteration: 27.762404039507224\n",
      "error after 3499 iteration: 27.69252987950155\n",
      "error after 3599 iteration: 27.654006569032745\n",
      "error after 3699 iteration: 27.571075621878553\n",
      "error after 3799 iteration: 27.515838262802948\n",
      "error after 3899 iteration: 27.458085463148265\n",
      "error after 3999 iteration: 27.406436509818434\n",
      "error after 4099 iteration: 27.371483474592136\n",
      "error after 4199 iteration: 27.306905462447148\n",
      "error after 4299 iteration: 27.251442007137896\n",
      "error after 4399 iteration: 27.199894825616365\n",
      "error after 4499 iteration: 27.151890705656918\n",
      "error after 4599 iteration: 27.107016721405447\n",
      "error after 4699 iteration: 27.04727431186806\n",
      "error after 4799 iteration: 27.005644759320987\n",
      "error after 4899 iteration: 26.951988699100916\n",
      "error after 4999 iteration: 26.90324222233581\n"
     ]
    }
   ],
   "source": [
    "w_adagrad, idx_adagrad, err_adagrad = solve_via_adagrad( X=x_in, y=y_target)"
   ]
  },
  {
   "cell_type": "markdown",
   "metadata": {},
   "source": [
    "## Adam\n",
    "\n",
    "For the `gradient descent with momentum`, we introduce a `velocity` to store the information of historical gradients to accerlate the optimization speed. For the `AdaGrad`/ `RMSProp`, we introduce an `accumulated gradient norm square` to store the information of historical updates on all coordinates, which allows us to have different learning rates at different features. \n",
    "The basic idea of Adam is to combine the idea of `gradient descent with momentum` and `AdaGrad`/ `RMSProp` together. It introduces both a `velocity` and an `accumulated gradient norm square`, both of which are initialized with the zero vector. Let $\\hat{\\mathbf{g}}^{(t)}$ be a stochastic gradient built based on either a selected example or a minibatch of examples. It first updates the velocity $\\mathbf{s}$ by\n",
    "$$\n",
    "\\mathbf{s}^{(t+1)}=\\beta_1\\mathbf{s}^{(t)}+(1-\\beta_1)\\hat{\\mathbf{g}}^{(t)}.\n",
    "$$\n",
    "Then it updates the `accumulated gradient norm square` by\n",
    "$$\n",
    "\\mathbf{r}^{(t+1)}=\\beta_2\\mathbf{r}^{(t)}+(1-\\beta_2)\\hat{\\mathbf{g}}^{(t)}\\odot\\hat{\\mathbf{g}}^{(t)}.\n",
    "$$\n",
    "After that we need to apply a bias correct to remove the bias in the above update\n",
    "$$\n",
    "\\hat{\\mathbf{s}}^{(t+1)}=\\mathbf{s}^{(t+1)}/(1-\\beta_1^{t+1}),\\quad\n",
    "\\hat{\\mathbf{r}}^{(t+1)}=\\mathbf{r}^{(t+1)}/(1-\\beta_2^{t+1}).\n",
    "$$\n",
    "We can now update the model by\n",
    "$$\n",
    "\\mathbf{w}^{(t+1)}\\gets\\mathbf{w}^{(t)}-\\frac{\\eta}{\\delta+\\sqrt{\\hat{\\mathbf{r}}^{(t+1)}}}\\odot \\hat{\\mathbf{s}}^{(t+1)}.\n",
    "$$\n",
    "As you can see, there are four parameters in Adam: $\\eta, \\delta, \\beta_1, \\beta_2$. Some recommended choices are\n",
    "$$\n",
    "\\eta=0.001,\\quad \\beta_1=0.9,\\quad\\beta_2=0.999,\\quad \\delta=10^{-8}.\n",
    "$$\n",
    "In the following, we request you to finish the following implementation of the `Adam` on the linear regression problem."
   ]
  },
  {
   "cell_type": "code",
   "execution_count": 16,
   "metadata": {},
   "outputs": [],
   "source": [
    "def solve_via_adam(X, y, print_every=100,\n",
    "                               niter=5000, eta=0.1, beta1 = 0.9, beta2 = 0.999, batch_size=50):\n",
    "    '''\n",
    "    Solves for linear regression weights with nesterov momentum.\n",
    "    Given `X` - matrix of shape (N,D) of input features\n",
    "          `y` - target y values\n",
    "          `print_every` - we report performance every 'print_every' iterations\n",
    "          `niter` - the number of iterates allowed\n",
    "          `eta` - learning rate\n",
    "          `beta1` - the parameter on updating velocity\n",
    "          `beta2` - the parameter on updating the accumulated gradient norm square\n",
    "          `batch_size` - the size of minibatch\n",
    "    Return \n",
    "        `w` - weights after `niter` iterations\n",
    "        `idx_res` - the indices of iterations where we compute the cost\n",
    "        `err_res` - the cost at iterations\n",
    "    '''\n",
    "    N, D = np.shape(X)\n",
    "    # initialize all the weights to zeros\n",
    "    w = np.zeros([D])\n",
    "    v = np.zeros([D])    \n",
    "    idx_res = []\n",
    "    err_res = []\n",
    "    tset = list(range(N))\n",
    "    gsquare = np.zeros([D])\n",
    "    delta = 1e-8\n",
    "    for k in range(niter):\n",
    "        # TODO: Insert your code to update w by Adam\n",
    "        idx = random.sample(tset, batch_size)\n",
    "        #sample batch of data\n",
    "        sample_X = X[idx, :]\n",
    "        sample_y = y[idx]\n",
    "        dw = gradfn(w, sample_X, sample_y)\n",
    "        v = beta1 * v + (1 - beta1) * dw\n",
    "        #compute square of sum of gradients\n",
    "        gsquare= beta2 * gsquare + (1 - beta2) * (dw ** 2)\n",
    "        v_hat = v / (1 - beta1 ** (k + 1))\n",
    "        gsquare_hat = gsquare / (1 - beta2 ** (k + 1))\n",
    "        w = w - eta * v_hat / (np.sqrt(gsquare_hat) + delta)\n",
    "        if k % print_every == print_every - 1:\n",
    "            t_cost = cost(w, X, y)\n",
    "            print('error after %d iteration: %s' % (k, t_cost))\n",
    "            idx_res.append(k)\n",
    "            err_res.append(t_cost)\n",
    "    return w, idx_res, err_res"
   ]
  },
  {
   "cell_type": "markdown",
   "metadata": {},
   "source": [
    "Now we apply Adam to solve the Boston House Price prediction problem."
   ]
  },
  {
   "cell_type": "code",
   "execution_count": 17,
   "metadata": {},
   "outputs": [
    {
     "name": "stdout",
     "output_type": "stream",
     "text": [
      "error after 99 iteration: 80.05631251204478\n",
      "error after 199 iteration: 41.96438667252113\n",
      "error after 299 iteration: 37.407991412804904\n",
      "error after 399 iteration: 35.2523053359052\n",
      "error after 499 iteration: 33.64982812348628\n",
      "error after 599 iteration: 32.297002455828775\n",
      "error after 699 iteration: 31.280503610796035\n",
      "error after 799 iteration: 30.480690942879296\n",
      "error after 899 iteration: 29.906956154865107\n",
      "error after 999 iteration: 29.449841963765202\n",
      "error after 1099 iteration: 29.01109720465069\n",
      "error after 1199 iteration: 28.642915901309966\n",
      "error after 1299 iteration: 28.323599594425033\n",
      "error after 1399 iteration: 28.071373481385027\n",
      "error after 1499 iteration: 27.787112252162235\n",
      "error after 1599 iteration: 27.484798170348704\n",
      "error after 1699 iteration: 27.21386461733908\n",
      "error after 1799 iteration: 26.988748934130637\n",
      "error after 1899 iteration: 26.68680727739828\n",
      "error after 1999 iteration: 26.434766474725524\n",
      "error after 2099 iteration: 26.180367830627652\n",
      "error after 2199 iteration: 25.897758414523686\n",
      "error after 2299 iteration: 25.647587177565413\n",
      "error after 2399 iteration: 25.39422545578093\n",
      "error after 2499 iteration: 25.121755442092088\n",
      "error after 2599 iteration: 24.89871324072865\n",
      "error after 2699 iteration: 24.631285303942896\n",
      "error after 2799 iteration: 24.39714959898658\n",
      "error after 2899 iteration: 24.115865856196624\n",
      "error after 2999 iteration: 23.87447276660291\n",
      "error after 3099 iteration: 23.64326307656591\n",
      "error after 3199 iteration: 23.544813001181602\n",
      "error after 3299 iteration: 23.18798805895526\n",
      "error after 3399 iteration: 22.993388920169746\n",
      "error after 3499 iteration: 22.72534189516435\n",
      "error after 3599 iteration: 22.551120914498725\n",
      "error after 3699 iteration: 22.285944362006642\n",
      "error after 3799 iteration: 22.175423557211744\n",
      "error after 3899 iteration: 21.972914290120503\n",
      "error after 3999 iteration: 21.67627747016403\n",
      "error after 4099 iteration: 21.487491976687746\n",
      "error after 4199 iteration: 21.3483345164582\n",
      "error after 4299 iteration: 21.118572214340844\n",
      "error after 4399 iteration: 20.940144540456714\n",
      "error after 4499 iteration: 20.78737146452771\n",
      "error after 4599 iteration: 20.66859469879782\n",
      "error after 4699 iteration: 20.471596863655684\n",
      "error after 4799 iteration: 20.472450580050417\n",
      "error after 4899 iteration: 20.190869863839\n",
      "error after 4999 iteration: 20.063330321153966\n"
     ]
    }
   ],
   "source": [
    "w_adam, idx_adam, err_adam = solve_via_adam( X=x_in, y=y_target)"
   ]
  },
  {
   "cell_type": "markdown",
   "metadata": {},
   "source": [
    "### Comparison between Adaptive Gradient Descent and Adam\n",
    "\n",
    "We can now compare the behavie of Adaptive Gradient Descent and Adam. In particular, we will show how the `cost` of models found by the algorithm at different iterations would behave with respect to the iteration number."
   ]
  },
  {
   "cell_type": "code",
   "execution_count": 18,
   "metadata": {},
   "outputs": [
    {
     "data": {
      "image/png": "[encoded data removed]",
      "text/plain": [
       "<Figure size 432x288 with 1 Axes>"
      ]
     },
     "metadata": {
      "needs_background": "light"
     },
     "output_type": "display_data"
    }
   ],
   "source": [
    "plt.plot(idx_adagrad, err_adagrad, color=\"blue\", linewidth=2.5, linestyle=\"-\", label=\"adagrad\")\n",
    "plt.plot(idx_adam, err_adam, color=\"green\", linewidth=2.5, linestyle=\"-\", label=\"adam\")\n",
    "plt.legend(loc='upper right', prop={'size': 12})\n",
    "plt.title('comparison between adaptive gradient descent and Adam')\n",
    "plt.xlabel(\"number of iterations\")\n",
    "plt.ylabel(\"cost\")\n",
    "plt.grid()\n",
    "plt.show()"
   ]
  },
  {
   "cell_type": "markdown",
   "metadata": {},
   "source": [
    "As we see, Adam achieves the best performance. This demonstrates the effectiveness of combining the idea of momentum and Adagrad / RMSProp."
   ]
  },
  {
   "cell_type": "code",
   "execution_count": null,
   "metadata": {},
   "outputs": [],
   "source": []
  }
 ],
 "metadata": {
  "kernelspec": {
   "display_name": "Python 3 (ipykernel)",
   "language": "python",
   "name": "python3"
  },
  "language_info": {
   "codemirror_mode": {
    "name": "ipython",
    "version": 3
   },
   "file_extension": ".py",
   "mimetype": "text/x-python",
   "name": "python",
   "nbconvert_exporter": "python",
   "pygments_lexer": "ipython3",
   "version": "3.9.7"
  },
  "varInspector": {
   "cols": {
    "lenName": 16,
    "lenType": 16,
    "lenVar": 40
   },
   "kernels_config": {
    "python": {
     "delete_cmd_postfix": "",
     "delete_cmd_prefix": "del ",
     "library": "var_list.py",
     "varRefreshCmd": "print(var_dic_list())"
    },
    "r": {
     "delete_cmd_postfix": ") ",
     "delete_cmd_prefix": "rm(",
     "library": "var_list.r",
     "varRefreshCmd": "cat(var_dic_list()) "
    }
   },
   "types_to_exclude": [
    "module",
    "function",
    "builtin_function_or_method",
    "instance",
    "_Feature"
   ],
   "window_display": false
  }
 },
 "nbformat": 4,
 "nbformat_minor": 4
}
