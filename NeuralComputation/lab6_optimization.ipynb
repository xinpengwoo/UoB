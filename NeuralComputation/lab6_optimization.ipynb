{
 "cells": [
  {
   "cell_type": "markdown",
   "metadata": {},
   "source": [
    "### Neural Computation Exercise 6: Advanced Optimization Algorithms\n",
    "\n",
    "In this exercise, we'll develop implementations of advanced optimization algorithms. As in Exercise 2, we will use the Boston Housing dataset and run some advanced optimization algorithms to solved the linear regression problems.\n",
    "\n",
    "In this exercise, you will learn the following\n",
    "* implement the `momentum` method\n",
    "* implement the `Nesterov momentum` method\n",
    "* implement the `adaptive (stochastic) gradient descent` method"
   ]
  },
  {
   "cell_type": "code",
   "execution_count": 1,
   "metadata": {},
   "outputs": [],
   "source": [
    "import matplotlib\n",
    "import numpy as np\n",
    "import random\n",
    "import warnings\n",
    "import matplotlib.pyplot as plt \n",
    "from sklearn import preprocessing   # for normalization"
   ]
  },
  {
   "cell_type": "markdown",
   "metadata": {},
   "source": [
    "## Boston Housing Data\n",
    "\n",
    "The Boston Housing data is one of the  datasets available in sklearn.\n",
    "We can import the dataset and preprocess it as follows. Note we add a feature of $1$ to `x_input` to get a n x (d+1) matrix `x_in`"
   ]
  },
  {
   "cell_type": "code",
   "execution_count": 2,
   "metadata": {},
   "outputs": [],
   "source": [
    "from sklearn.datasets import load_boston\n",
    "with warnings.catch_warnings():\n",
    "    warnings.filterwarnings(\"ignore\")\n",
    "    boston_data = load_boston()\n",
    "data = boston_data['data']\n",
    "x_input = data  # a data matrix\n",
    "y_target = boston_data['target'] # a vector for all outputs\n",
    "# add a feature 1 to the dataset, then we do not need to consider the bias and weight separately\n",
    "x_in = np.concatenate([np.ones([np.shape(x_input)[0], 1]), x_input], axis=1)\n",
    "# we normalize the data so that each has regularity\n",
    "x_in = preprocessing.normalize(x_in)"
   ]
  },
  {
   "cell_type": "markdown",
   "metadata": {},
   "source": [
    "## Linear Model\n",
    "\n",
    "A linear regression model in one variable has the following form \n",
    "$$\n",
    "f(x)=\\mathbf{w}^\\top \\mathbf{x}.\n",
    "$$\n",
    "The following function computes the output of the linear model on a data matrix of size n x (d+1)."
   ]
  },
  {
   "cell_type": "code",
   "execution_count": 3,
   "metadata": {},
   "outputs": [],
   "source": [
    "def linearmat_2(w, X):\n",
    "    '''\n",
    "    a vectorization of linearmat_1 in lab 2.\n",
    "    Input: w is a weight parameter (including the bias), and X is a data matrix (n x (d+1)) (including the feature)\n",
    "    Output: a vector containing the predictions of linear models\n",
    "    '''\n",
    "    return np.dot(X, w)"
   ]
  },
  {
   "cell_type": "markdown",
   "metadata": {},
   "source": [
    "## Cost Function\n",
    "\n",
    "We defined the following `mean square error` function for a linear regression problem using the square loss:\n",
    "$$\n",
    "C(\\mathbf{y}, \\mathbf{t}) = \\frac{1}{2n}(\\mathbf{y}-\\mathbf{t})^\\top (\\mathbf{y}-\\mathbf{t}).\n",
    "$$\n",
    "The python implementation is as follows"
   ]
  },
  {
   "cell_type": "code",
   "execution_count": 4,
   "metadata": {},
   "outputs": [],
   "source": [
    "def cost(w, X, y):\n",
    "    '''\n",
    "    Evaluate the cost function in a vectorized manner for \n",
    "    inputs `X` and outputs `y`, at weights `w`.\n",
    "    '''\n",
    "    residual = y - linearmat_2(w, X)  # get the residual\n",
    "    err = np.dot(residual, residual) / (2 * len(y)) # compute the error\n",
    "    \n",
    "    return err"
   ]
  },
  {
   "cell_type": "markdown",
   "metadata": {},
   "source": [
    "## Gradient Computation\n",
    "\n",
    "Our methods require to use the gradient of the `cost` function. As discussed in the previous lecture, the gradient can be computed by\n",
    "$$\\nabla C(\\mathbf{w}) =\\frac{1}{n}X^\\top\\big(X\\mathbf{w}-\\mathbf{y}\\big)$$\n",
    "In the following, we present the python implementation on the gradient computation"
   ]
  },
  {
   "cell_type": "code",
   "execution_count": 5,
   "metadata": {},
   "outputs": [],
   "source": [
    "# Vectorized gradient function\n",
    "def gradfn(weights, X, y):\n",
    "    '''\n",
    "    Given `weights` - a current \"Guess\" of what our weights should be\n",
    "          `X` - matrix of shape (N,d+1) of input features including the feature $1$\n",
    "          `y` - target y values\n",
    "    Return gradient of each weight evaluated at the current value\n",
    "    '''\n",
    "\n",
    "    y_pred = np.dot(X, weights)\n",
    "    error = y_pred - y\n",
    "    return np.dot(X.T, error) / len(y)"
   ]
  },
  {
   "cell_type": "markdown",
   "metadata": {},
   "source": [
    "## Gradient Descent\n",
    "\n",
    "Gradient Descent iteratively updates the model by moving along the negative direction\n",
    "$$\\mathbf{w}^{(t+1)} \\leftarrow \\mathbf{w}^{(t)} - \\eta\\nabla C(\\mathbf{w}^{(t)}),$$ \n",
    "where $\\eta$ is a learning rate and $\\nabla C(w^{(t)})$ is the gradient evaluated at current parameter value $\\mathbf{w}^{(t)}$. In the following, we give the python implementation of the gradient descent on the linear regression problem. Here, we use `idx_res` to store the indices of iterations where we have computed the cost, and use `err_res` to store the cost of models at these iterations. These will be used to plot how the `cost` will behave `versus iteration` number."
   ]
  },
  {
   "cell_type": "code",
   "execution_count": 6,
   "metadata": {},
   "outputs": [],
   "source": [
    "def solve_via_gradient_descent(X, y, print_every=100,\n",
    "                               niter=2000, eta=1):\n",
    "    '''\n",
    "    Solves for linear regression weights with gradient descent.\n",
    "    Given `X` - matrix of shape (N,D) of input features\n",
    "          `y` - target y values\n",
    "          `print_every` - we report performance every 'print_every' iterations\n",
    "          `niter` - the number of iterates allowed\n",
    "          `eta` - learning rate\n",
    "    \n",
    "    Return \n",
    "        `w` - weights after `niter` iterations\n",
    "        `idx_res` - the indices of iterations where we compute the cost\n",
    "        `err_res` - the cost at iterations indicated by idx_res\n",
    "    '''\n",
    "    N, D = np.shape(X)\n",
    "    # initialize all the weights to zeros\n",
    "    w = np.zeros([D])\n",
    "    idx_res = []\n",
    "    err_res = []\n",
    "    for k in range(niter):\n",
    "        # compute the gradient\n",
    "        dw = gradfn(w, X, y)\n",
    "        # gradient descent\n",
    "        w = w - eta * dw\n",
    "        # we report the progress every print_every iterations\n",
    "        # note the operator % calculates the remainder of dividing two values\n",
    "        if k % print_every == print_every - 1:\n",
    "            t_cost = cost(w, X, y)\n",
    "            print('error after %d iteration: %s' % (k, t_cost))\n",
    "            idx_res.append(k)\n",
    "            err_res.append(t_cost)\n",
    "    return w, idx_res, err_res"
   ]
  },
  {
   "cell_type": "markdown",
   "metadata": {},
   "source": [
    "Now we apply **gradient descent** to solve the **Boston House Price** prediction problem, and get the weight `w_gd`, the indices `idx_gd` and the errors 'err_gd' on these indices "
   ]
  },
  {
   "cell_type": "code",
   "execution_count": 7,
   "metadata": {},
   "outputs": [
    {
     "name": "stdout",
     "output_type": "stream",
     "text": [
      "error after 99 iteration: 31.791693326233137\n",
      "error after 199 iteration: 31.023607992661905\n",
      "error after 299 iteration: 30.490383155279734\n",
      "error after 399 iteration: 30.089558295291926\n",
      "error after 499 iteration: 29.7657684545607\n",
      "error after 599 iteration: 29.4886933766529\n",
      "error after 699 iteration: 29.241419443720766\n",
      "error after 799 iteration: 29.014275853482033\n",
      "error after 899 iteration: 28.801555744273422\n",
      "error after 999 iteration: 28.599760789662742\n",
      "error after 1099 iteration: 28.406652720498357\n",
      "error after 1199 iteration: 28.220734140804872\n",
      "error after 1299 iteration: 28.04095920855526\n",
      "error after 1399 iteration: 27.86656854307502\n",
      "error after 1499 iteration: 27.696992152320217\n",
      "error after 1599 iteration: 27.531790279455215\n",
      "error after 1699 iteration: 27.37061589773194\n",
      "error after 1799 iteration: 27.213189941761843\n",
      "error after 1899 iteration: 27.059284304933385\n",
      "error after 1999 iteration: 26.908709763895015\n"
     ]
    }
   ],
   "source": [
    "w_gd, idx_gd, err_gd = solve_via_gradient_descent( X=x_in, y=y_target)"
   ]
  },
  {
   "cell_type": "markdown",
   "metadata": {},
   "source": [
    "## Momentum\n",
    "\n",
    "Momentum introduces a variable `velocity` to store the historical information of the gradients. At each iteration, it updates `velocity` as a factor of the current `velocity` minus the `learning rate` times the `current gradient`\n",
    "$$\\mathbf{v}^{(t+1)} = \\alpha\\mathbf{v}^{(t)}-\\eta\\nabla C(\\mathbf{w}^{(t)}),$$ \n",
    "where $\\eta$ is a learning rate, $\\alpha\\in(0,1)$ is a parameter and $\\nabla C(w^{(t)}$ is the gradient evaluated at current parameter value $\\mathbf{w}^{(t)}$.\n",
    "Then, we update the next iterate as \n",
    "$$\\mathbf{w}^{(t+1)}=\\mathbf{w}^{(t)}+\\mathbf{v}^{(t+1)}.$$\n",
    "In the following, we request you to finish the following implementation of the `momentum` on the linear regression problem."
   ]
  },
  {
   "cell_type": "code",
   "execution_count": 10,
   "metadata": {},
   "outputs": [],
   "source": [
    "def solve_via_momentum(X, y, print_every=100,\n",
    "                               niter=2000, eta=1, alpha=0.8):\n",
    "    '''\n",
    "    Solves for linear regression weights with momentum.\n",
    "    Given `X` - matrix of shape (N,D) of input features\n",
    "          `y` - target y values\n",
    "          `print_every` - we report performance every 'print_every' iterations\n",
    "          `niter` - the number of iterates allowed\n",
    "          `eta` - learning rate\n",
    "          `alpha` - determines the influence of past gradients on the current update\n",
    "\n",
    "    Return \n",
    "        `w` - weights after `niter` iterations\n",
    "        `idx_res` - the indices of iterations where we compute the cost\n",
    "        `err_res` - the cost at iterations\n",
    "    '''\n",
    "    N, D = np.shape(X)\n",
    "    # initialize all the weights to zeros\n",
    "    w = np.zeros([D])\n",
    "    v = np.zeros([D])\n",
    "    idx_res = []\n",
    "    err_res = []\n",
    "    for k in range(niter):\n",
    "        # TODO: Insert your code to update w by momentum\n",
    "        v = alpha * v - eta * gradfn(w, X, y)\n",
    "        w += v \n",
    "    \n",
    "    \n",
    "    \n",
    "        if k % print_every == print_every - 1:\n",
    "            t_cost = cost(w, X, y)\n",
    "            print('error after %d iteration: %s' % (k, t_cost))\n",
    "            idx_res.append(k)\n",
    "            err_res.append(t_cost)\n",
    "    return w, idx_res, err_res"
   ]
  },
  {
   "cell_type": "markdown",
   "metadata": {},
   "source": [
    "Now we apply **momentum** to solve the **Boston House Price** prediction problem."
   ]
  },
  {
   "cell_type": "code",
   "execution_count": 11,
   "metadata": {},
   "outputs": [
    {
     "name": "stdout",
     "output_type": "stream",
     "text": [
      "error after 99 iteration: 29.80056562307084\n",
      "error after 199 iteration: 28.629994288393853\n",
      "error after 299 iteration: 27.723453738429058\n",
      "error after 399 iteration: 26.931701969094917\n",
      "error after 499 iteration: 26.220751546713966\n",
      "error after 599 iteration: 25.5765919232023\n",
      "error after 699 iteration: 24.991046371326643\n",
      "error after 799 iteration: 24.458021242865858\n",
      "error after 899 iteration: 23.97238648687385\n",
      "error after 999 iteration: 23.529615039194642\n",
      "error after 1099 iteration: 23.125646524151133\n",
      "error after 1199 iteration: 22.75681939168434\n",
      "error after 1299 iteration: 22.419825742699732\n",
      "error after 1399 iteration: 22.111675234519236\n",
      "error after 1499 iteration: 21.829663857823594\n",
      "error after 1599 iteration: 21.571346141332416\n",
      "error after 1699 iteration: 21.334510167960573\n",
      "error after 1799 iteration: 21.11715504655761\n",
      "error after 1899 iteration: 20.917470576437516\n",
      "error after 1999 iteration: 20.73381888454735\n"
     ]
    }
   ],
   "source": [
    "w_momentum, idx_momentum, err_momentum = solve_via_momentum( X=x_in, y=y_target)"
   ]
  },
  {
   "cell_type": "markdown",
   "metadata": {},
   "source": [
    "### Comparison between Gradient Descent and Gradient Descent with Momentum\n",
    "\n",
    "We can now compare the behavie of Gradient Descent and Gradient Descent with Momentum. In particular, we will show how the `cost` of models found by the algorithm at different iterations would behave with respect to the iteration number."
   ]
  },
  {
   "cell_type": "code",
   "execution_count": 12,
   "metadata": {},
   "outputs": [
    {
     "data": {
      "image/png": "[encoded data removed]",
      "text/plain": [
       "<Figure size 432x288 with 1 Axes>"
      ]
     },
     "metadata": {
      "needs_background": "light"
     },
     "output_type": "display_data"
    }
   ],
   "source": [
    "# we plot the cost w.r.t. the iteration number\n",
    "plt.plot(idx_gd, err_gd, color=\"red\", linewidth=2.5, linestyle=\"-\", label=\"gradient descent\") #  gradient descent\n",
    "plt.plot(idx_momentum, err_momentum, color=\"blue\", linewidth=2.5, linestyle=\"-\", label=\"momentum\") # momentum\n",
    "plt.legend(loc='upper right', prop={'size': 12})\n",
    "plt.title('comparison between gradient descent and momentum')\n",
    "plt.xlabel(\"number of iterations\")\n",
    "plt.ylabel(\"cost\")\n",
    "plt.grid()\n",
    "plt.show()"
   ]
  },
  {
   "cell_type": "markdown",
   "metadata": {},
   "source": [
    "As we expected, **gradient descent with momentum** is much faster than the **gradient descent**. This shows the benefit of using velocity to store historical gradient information for accelerating the algorithm."
   ]
  },
  {
   "cell_type": "markdown",
   "metadata": {},
   "source": [
    "## Nesterov Momentum\n",
    "\n",
    "Anoter algorithm which can acclerate the training speed of gradient descent is the **Nesterov Momentum**. Analogous to **Momentum**, Nesterov Momentum also introduces a variable `velocity` to store the historical information of the gradients. The difference is that it first uses the current velocity to build a `looking ahead` point. Then the gradient computation is performed at the  `looking ahead` point. The `looking ahead` point may contain more information than the current point. Therefore, the gradient at `looking ahead` point may be more precise than the `current gradient`.\n",
    "The update equation is as follows\n",
    "$$\\mathbf{w}^{\\text{(ahead)}}=\\mathbf{w}^{(t)}+\\alpha\\mathbf{v}^{(t)}$$\n",
    "$$\\mathbf{v}^{(t+1)} = \\alpha\\mathbf{v}^{(t)}-\\eta\\nabla C(\\mathbf{w}^{(\\text{ahead})}),$$ \n",
    "where $\\eta$ is a learning rate and $\\alpha\\in(0,1)$ is a parameter.\n",
    "Then, we update the next iterate as \n",
    "$$\\mathbf{w}^{(t+1)}=\\mathbf{w}^{(t)}+\\mathbf{v}^{(t+1)}.$$\n",
    "In the following, we request you to finish the following implementation of the `Nesterov Momentum` on the linear regression problem."
   ]
  },
  {
   "cell_type": "code",
   "execution_count": 13,
   "metadata": {},
   "outputs": [],
   "source": [
    "def solve_via_nag(X, y, print_every=100,\n",
    "                               niter=2000, eta=0.5, alpha=0.8):\n",
    "    '''\n",
    "    Solves for linear regression weights with nesterov momentum.\n",
    "    Given `X` - matrix of shape (N,D) of input features\n",
    "          `y` - target y values\n",
    "          `print_every` - we report performance every 'print_every' iterations\n",
    "          `niter` - the number of iterates allowed\n",
    "          `eta` - learning rate\n",
    "          `alpha` - determines the influence of past gradients on the current update\n",
    "\n",
    "    Return \n",
    "        `w` - weights after `niter` iterations\n",
    "        `idx_res` - the indices of iterations where we compute the cost\n",
    "        `err_res` - the cost at iterations\n",
    "    '''\n",
    "    N, D = np.shape(X)\n",
    "    # initialize all the weights to zeros\n",
    "    w = np.zeros([D])\n",
    "    v = np.zeros([D])\n",
    "    idx_res = []\n",
    "    err_res = []\n",
    "    for k in range(niter):\n",
    "        # TODO: Insert your code to update w by nesterov momentum\n",
    "        w_ahead = w + alpha * v\n",
    "        v = alpha * v - eta * gradfn(w_ahead, X, y)\n",
    "        w += v  \n",
    "        \n",
    "        \n",
    "        \n",
    "        if k % print_every == print_every - 1:\n",
    "            t_cost = cost(w, X, y)\n",
    "            print('error after %d iteration: %s' % (k, t_cost))\n",
    "            idx_res.append(k)\n",
    "            err_res.append(t_cost)\n",
    "    return w, idx_res, err_res"
   ]
  },
  {
   "cell_type": "markdown",
   "metadata": {},
   "source": [
    "Now we apply nesterov momentum to solve the Boston House Price prediction problem."
   ]
  },
  {
   "cell_type": "code",
   "execution_count": 14,
   "metadata": {},
   "outputs": [
    {
     "name": "stdout",
     "output_type": "stream",
     "text": [
      "error after 99 iteration: 30.771089795282066\n",
      "error after 199 iteration: 29.785615718682827\n",
      "error after 299 iteration: 29.143052960311884\n",
      "error after 399 iteration: 28.61576462472077\n",
      "error after 499 iteration: 28.145031255247847\n",
      "error after 599 iteration: 27.710904010712206\n",
      "error after 699 iteration: 27.30445729074942\n",
      "error after 799 iteration: 26.92087123922468\n",
      "error after 899 iteration: 26.557219300063483\n",
      "error after 999 iteration: 26.211557121716073\n",
      "error after 1099 iteration: 25.882480958675554\n",
      "error after 1199 iteration: 25.56889656165967\n",
      "error after 1299 iteration: 25.269894270324066\n",
      "error after 1399 iteration: 24.98468044406956\n",
      "error after 1499 iteration: 24.71253935901087\n",
      "error after 1599 iteration: 24.452811706720944\n",
      "error after 1699 iteration: 24.20488217625198\n",
      "error after 1799 iteration: 23.968172024438886\n",
      "error after 1899 iteration: 23.74213440013609\n",
      "error after 1999 iteration: 23.526251201949723\n"
     ]
    }
   ],
   "source": [
    "w_nag, idx_nag, err_nag = solve_via_nag( X=x_in, y=y_target)"
   ]
  },
  {
   "cell_type": "markdown",
   "metadata": {},
   "source": [
    "### Comparison between Gradient Descent and Nesterov Momentum\n",
    "\n",
    "We can now compare the behavie of Gradient Descent and Nesterov Momentum. In particular, we will show how the `cost` of models found by the algorithm at different iterations would behave with respect to the iteration number."
   ]
  },
  {
   "cell_type": "code",
   "execution_count": 16,
   "metadata": {},
   "outputs": [
    {
     "data": {
      "image/png": "[encoded data removed]",
      "text/plain": [
       "<Figure size 432x288 with 1 Axes>"
      ]
     },
     "metadata": {
      "needs_background": "light"
     },
     "output_type": "display_data"
    }
   ],
   "source": [
    "plt.plot(idx_gd, err_gd, color=\"red\", linewidth=2.5, linestyle=\"-\", label=\"gradient descent\")\n",
    "plt.plot(idx_nag, err_nag, color=\"blue\", linewidth=2.5, linestyle=\"-\", label=\"nesterov momentum\")\n",
    "plt.legend(loc='upper right', prop={'size': 12})\n",
    "plt.title('comparison between gradient descent and momentum')\n",
    "plt.xlabel(\"number of iterations\")\n",
    "plt.ylabel(\"cost\")\n",
    "plt.grid()\n",
    "plt.show()"
   ]
  },
  {
   "cell_type": "markdown",
   "metadata": {},
   "source": [
    "As we expected, **nesterov momentum** is much faster than the **gradient descent**. This  again shows the benefit of using velocity to store historical gradient information for accelerating the algorithm."
   ]
  },
  {
   "cell_type": "markdown",
   "metadata": {},
   "source": [
    "## Adaptive Gradient Descent\n",
    "\n",
    "Stochastic gradient descent uses the same learning rates for all the features. This can be problematic if there are some sparse and predictive features. The underlying reason is that there are few examples with non-zero values for the sparse features, and it is often the case that SGD will choose an example with a zero for the sparse feature. Then it would not update the corresponding coordinate in this case. This motivates the need to slow down the update of some coordinates if there is already a frequent update on that coordinate, and accelerate the update if there are few updates on that coordinate.\n",
    "\n",
    "The key idea of `Adagrad` is to introduce a vector $\\mathbf{r}$ to store the accumulated gradient norm square. We initialize $\\mathbf{r}^{(0)}=0$ and update\n",
    "$$ \n",
    "\\mathbf{r}^{(t+1)}=\\mathbf{r}^{(t)}+\\hat{\\mathbf{g}}^{(t)}\\odot\\hat{\\mathbf{g}}^{(t)},\n",
    "$$\n",
    "where $\\hat{\\mathbf{g}}^{(t)}$ can be a stochastic gradient built based on a selected example or a minibatch of examples. Note $\\mathbf{r}^{(t+1)}$ records the accumulated magnitude square of gradients in each coordinate up to the $t$-th iteration. In this way, the entries of $\\mathbf{r}^{(t+1)}$ would be different. If ${r}_j^{(t+1)}$ is large, then this means that there are a lot of updates on the $j$-th coordinate. If ${r}_j^{(t+1)}$ is small, then this means that there are few updates on the $j$-th coordinate. The idea is to slow down the update on a coordinate if there are already many updates on that coordinate in the history, and speed up the update on a coordinate if there are few updates in the history. This can be achieved by dividing the parameter $\\eta$ with $\\sqrt{\\mathbf{r}^{(t+1)}}$. That is\n",
    "$$\n",
    "\\mathbf{w}^{(t+1)}\\gets\\mathbf{w}^{(t)}-\\frac{\\eta}{\\delta+\\sqrt{\\mathbf{r}^{(t+1)}}}\\odot \\hat{\\mathbf{g}}^{(t)} \n",
    "$$\n",
    "In this way, we can have different learning rates on different coordinates. In the following, we request you to finish the following implementation of the `AdaGrad` on the linear regression problem. "
   ]
  },
  {
   "cell_type": "code",
   "execution_count": 20,
   "metadata": {},
   "outputs": [],
   "source": [
    "def solve_via_adagrad(X, y, print_every=100,\n",
    "                               niter=5000, eta=1, batch_size=50):\n",
    "    '''\n",
    "    Solves for linear regression weights with nesterov momentum.\n",
    "    Given `X` - matrix of shape (N,D) of input features\n",
    "          `y` - target y values\n",
    "          `print_every` - we report performance every 'print_every' iterations\n",
    "          `niter` - the number of iterates allowed\n",
    "          `eta` - learning rate\n",
    "          `batch_size` - the size of minibatch\n",
    "    Return \n",
    "        `w` - weights after `niter` iterations\n",
    "        `idx_res` - the indices of iterations where we compute the cost\n",
    "        `err_res` - the cost at iterations\n",
    "    '''\n",
    "    N, D = np.shape(X)\n",
    "    # initialize all the weights to zeros\n",
    "    w = np.zeros([D])\n",
    "    idx_res = []\n",
    "    err_res = []\n",
    "    tset = list(range(N))\n",
    "    gradients_sum = np.zeros([D])\n",
    "    delta = 1e-8\n",
    "    for k in range(niter):\n",
    "        # TODO: Insert your code to update w by Adagrad\n",
    "        idx = random.sample(tset, batch_size)\n",
    "        #sample batch of data\n",
    "        sample_X = X[idx, :]\n",
    "        sample_y = y[idx]\n",
    "        grad = gradfn(w, sample_X, sample_y)\n",
    "        gradients_sum += grad ** 2\n",
    "        w -= eta * grad / (delta + np.sqrt(gradients_sum))\n",
    "        \n",
    "        if k % print_every == print_every - 1:\n",
    "            t_cost = cost(w, X, y)\n",
    "            print('error after %d iteration: %s' % (k, t_cost))\n",
    "            idx_res.append(k)\n",
    "            err_res.append(t_cost)\n",
    "    return w, idx_res, err_res"
   ]
  },
  {
   "cell_type": "markdown",
   "metadata": {},
   "source": [
    "Now we apply adaptive gradient descent to solve the Boston House Price prediction problem."
   ]
  },
  {
   "cell_type": "code",
   "execution_count": 21,
   "metadata": {},
   "outputs": [
    {
     "name": "stdout",
     "output_type": "stream",
     "text": [
      "error after 99 iteration: 42.809268976723594\n",
      "error after 199 iteration: 37.43777061588653\n",
      "error after 299 iteration: 35.57918714248952\n",
      "error after 399 iteration: 34.29324677178127\n",
      "error after 499 iteration: 33.31940123103859\n",
      "error after 599 iteration: 32.54797618090867\n",
      "error after 699 iteration: 31.909458401679288\n",
      "error after 799 iteration: 31.390130443055668\n",
      "error after 899 iteration: 30.954798358874818\n",
      "error after 999 iteration: 30.6066683403659\n",
      "error after 1099 iteration: 30.28698504782604\n",
      "error after 1199 iteration: 30.02101706910035\n",
      "error after 1299 iteration: 29.81210265043615\n",
      "error after 1399 iteration: 29.612963343343672\n",
      "error after 1499 iteration: 29.428746770029104\n",
      "error after 1599 iteration: 29.275227876126145\n",
      "error after 1699 iteration: 29.144215475849716\n",
      "error after 1799 iteration: 29.025781218932607\n",
      "error after 1899 iteration: 28.913296147517105\n",
      "error after 1999 iteration: 28.800761921196372\n",
      "error after 2099 iteration: 28.707354631595685\n",
      "error after 2199 iteration: 28.611219406074966\n",
      "error after 2299 iteration: 28.527380981517368\n",
      "error after 2399 iteration: 28.430552321207486\n",
      "error after 2499 iteration: 28.357635974748643\n",
      "error after 2599 iteration: 28.282356347679404\n",
      "error after 2699 iteration: 28.20035275689414\n",
      "error after 2799 iteration: 28.1268177959939\n",
      "error after 2899 iteration: 28.056773769354752\n",
      "error after 2999 iteration: 27.98750660747089\n",
      "error after 3099 iteration: 27.921739968792316\n",
      "error after 3199 iteration: 27.863737520922214\n",
      "error after 3299 iteration: 27.795899272941266\n",
      "error after 3399 iteration: 27.73401201238569\n",
      "error after 3499 iteration: 27.675069849277033\n",
      "error after 3599 iteration: 27.620808315092578\n",
      "error after 3699 iteration: 27.558042668915846\n",
      "error after 3799 iteration: 27.50457084819302\n",
      "error after 3899 iteration: 27.44595059474236\n",
      "error after 3999 iteration: 27.389643989835378\n",
      "error after 4099 iteration: 27.33730032490084\n",
      "error after 4199 iteration: 27.281314755244427\n",
      "error after 4299 iteration: 27.232784939523455\n",
      "error after 4399 iteration: 27.17495868217273\n",
      "error after 4499 iteration: 27.13111704799402\n",
      "error after 4599 iteration: 27.074785540624376\n",
      "error after 4699 iteration: 27.037641537487684\n",
      "error after 4799 iteration: 26.97633228291641\n",
      "error after 4899 iteration: 26.925215106012974\n",
      "error after 4999 iteration: 26.877771575522008\n"
     ]
    }
   ],
   "source": [
    "w_adagrad, idx_adagrad, err_adagrad = solve_via_adagrad( X=x_in, y=y_target)"
   ]
  },
  {
   "cell_type": "markdown",
   "metadata": {},
   "source": [
    "## Adam\n",
    "\n",
    "For the `gradient descent with momentum`, we introduce a `velocity` to store the information of historical gradients to accerlate the optimization speed. For the `AdaGrad`/ `RMSProp`, we introduce an `accumulated gradient norm square` to store the information of historical updates on all coordinates, which allows us to have different learning rates at different features. \n",
    "The basic idea of Adam is to combine the idea of `gradient descent with momentum` and `AdaGrad`/ `RMSProp` together. It introduces both a `velocity` and an `accumulated gradient norm square`, both of which are initialized with the zero vector. Let $\\hat{\\mathbf{g}}^{(t)}$ be a stochastic gradient built based on either a selected example or a minibatch of examples. It first updates the velocity $\\mathbf{s}$ by\n",
    "$$\n",
    "\\mathbf{s}^{(t+1)}=\\beta_1\\mathbf{s}^{(t)}+(1-\\beta_1)\\hat{\\mathbf{g}}^{(t)}.\n",
    "$$\n",
    "Then it updates the `accumulated gradient norm square` by\n",
    "$$\n",
    "\\mathbf{r}^{(t+1)}=\\beta_2\\mathbf{r}^{(t)}+(1-\\beta_2)\\hat{\\mathbf{g}}^{(t)}\\odot\\hat{\\mathbf{g}}^{(t)}.\n",
    "$$\n",
    "After that we need to apply a bias correct to remove the bias in the above update\n",
    "$$\n",
    "\\hat{\\mathbf{s}}^{(t+1)}=\\mathbf{s}^{(t+1)}/(1-\\beta_1^{t+1}),\\quad\n",
    "\\hat{\\mathbf{r}}^{(t+1)}=\\mathbf{r}^{(t+1)}/(1-\\beta_2^{t+1}).\n",
    "$$\n",
    "We can now update the model by\n",
    "$$\n",
    "\\mathbf{w}^{(t+1)}\\gets\\mathbf{w}^{(t)}-\\frac{\\eta}{\\delta+\\sqrt{\\hat{\\mathbf{r}}^{(t+1)}}}\\odot \\hat{\\mathbf{s}}^{(t+1)}.\n",
    "$$\n",
    "As you can see, there are four parameters in Adam: $\\eta, \\delta, \\beta_1, \\beta_2$. Some recommended choices are\n",
    "$$\n",
    "\\eta=0.001,\\quad \\beta_1=0.9,\\quad\\beta_2=0.999,\\quad \\delta=10^{-8}.\n",
    "$$\n",
    "In the following, we request you to finish the following implementation of the `Adam` on the linear regression problem."
   ]
  },
  {
   "cell_type": "code",
   "execution_count": 25,
   "metadata": {},
   "outputs": [],
   "source": [
    "def solve_via_adam(X, y, print_every=100,\n",
    "                               niter=5000, eta=0.1, beta1 = 0.9, beta2 = 0.999, batch_size=50):\n",
    "    '''\n",
    "    Solves for linear regression weights with nesterov momentum.\n",
    "    Given `X` - matrix of shape (N,D) of input features\n",
    "          `y` - target y values\n",
    "          `print_every` - we report performance every 'print_every' iterations\n",
    "          `niter` - the number of iterates allowed\n",
    "          `eta` - learning rate\n",
    "          `beta1` - the parameter on updating velocity\n",
    "          `beta2` - the parameter on updating the accumulated gradient norm square\n",
    "          `batch_size` - the size of minibatch\n",
    "    Return \n",
    "        `w` - weights after `niter` iterations\n",
    "        `idx_res` - the indices of iterations where we compute the cost\n",
    "        `err_res` - the cost at iterations\n",
    "    '''\n",
    "    N, D = np.shape(X)\n",
    "    # initialize all the weights to zeros\n",
    "    w = np.zeros([D])\n",
    "    v = np.zeros([D])    \n",
    "    idx_res = []\n",
    "    err_res = []\n",
    "    tset = list(range(N))\n",
    "    gsquare = np.zeros([D])\n",
    "    delta = 1e-8\n",
    "    for k in range(niter):\n",
    "        # TODO: Insert your code to update w by Adam\n",
    "        idx = random.sample(tset, batch_size)\n",
    "        #sample batch of data\n",
    "        sample_X = X[idx, :]\n",
    "        sample_y = y[idx]\n",
    "        grad = gradfn(w, sample_X, sample_y)\n",
    "        v = beta1 * v + (1 - beta1) * grad\n",
    "        v_hat = v / (1 - beta1)\n",
    "        gsquare = beta2 * gsquare + (1 - beta2) * grad ** 2\n",
    "        gsquare_hat = gsquare / (1 - beta2)\n",
    "        w = w - eta * v_hat / (delta + np.sqrt(gsquare_hat))\n",
    "        \n",
    "        \n",
    "        if k % print_every == print_every - 1:\n",
    "            t_cost = cost(w, X, y)\n",
    "            print('error after %d iteration: %s' % (k, t_cost))\n",
    "            idx_res.append(k)\n",
    "            err_res.append(t_cost)\n",
    "    return w, idx_res, err_res"
   ]
  },
  {
   "cell_type": "markdown",
   "metadata": {},
   "source": [
    "Now we apply Adam to solve the Boston House Price prediction problem."
   ]
  },
  {
   "cell_type": "code",
   "execution_count": 26,
   "metadata": {},
   "outputs": [
    {
     "name": "stdout",
     "output_type": "stream",
     "text": [
      "error after 99 iteration: 49.453303134467085\n",
      "error after 199 iteration: 38.770465654378086\n",
      "error after 299 iteration: 36.83721582316553\n",
      "error after 399 iteration: 35.381611173045556\n",
      "error after 499 iteration: 34.22776598119594\n",
      "error after 599 iteration: 33.28914852789367\n",
      "error after 699 iteration: 32.514026341912036\n",
      "error after 799 iteration: 31.905882084057623\n",
      "error after 899 iteration: 31.325181430723266\n",
      "error after 999 iteration: 30.854412289064303\n",
      "error after 1099 iteration: 30.4362103073262\n",
      "error after 1199 iteration: 30.131853083229814\n",
      "error after 1299 iteration: 29.812534198475515\n",
      "error after 1399 iteration: 29.57782327358953\n",
      "error after 1499 iteration: 29.344879753498002\n",
      "error after 1599 iteration: 29.12515363501998\n",
      "error after 1699 iteration: 28.956322669590083\n",
      "error after 1799 iteration: 28.79577873957816\n",
      "error after 1899 iteration: 28.644314316797715\n",
      "error after 1999 iteration: 28.494017006718803\n",
      "error after 2099 iteration: 28.33549062846449\n",
      "error after 2199 iteration: 28.19512433683935\n",
      "error after 2299 iteration: 28.071792814157583\n",
      "error after 2399 iteration: 27.939055686423924\n",
      "error after 2499 iteration: 27.810365170358153\n",
      "error after 2599 iteration: 27.67093607611426\n",
      "error after 2699 iteration: 27.540645016393373\n",
      "error after 2799 iteration: 27.42975697323678\n",
      "error after 2899 iteration: 27.308273841270815\n",
      "error after 2999 iteration: 27.177339395273048\n",
      "error after 3099 iteration: 27.053226823162426\n",
      "error after 3199 iteration: 26.9327944213039\n",
      "error after 3299 iteration: 26.80998384459515\n",
      "error after 3399 iteration: 26.69470040309532\n",
      "error after 3499 iteration: 26.611505050953383\n",
      "error after 3599 iteration: 26.43813388033322\n",
      "error after 3699 iteration: 26.33801811835264\n",
      "error after 3799 iteration: 26.208223821519496\n",
      "error after 3899 iteration: 26.08257976621677\n",
      "error after 3999 iteration: 25.96913493630834\n",
      "error after 4099 iteration: 25.8588964782329\n",
      "error after 4199 iteration: 25.74139883047112\n",
      "error after 4299 iteration: 25.637889107183177\n",
      "error after 4399 iteration: 25.515839855450235\n",
      "error after 4499 iteration: 25.400604153566114\n",
      "error after 4599 iteration: 25.290762255190224\n",
      "error after 4699 iteration: 25.19492569990461\n",
      "error after 4799 iteration: 25.081942613689105\n",
      "error after 4899 iteration: 24.96303401882325\n",
      "error after 4999 iteration: 24.85252245678872\n"
     ]
    }
   ],
   "source": [
    "w_adam, idx_adam, err_adam = solve_via_adam( X=x_in, y=y_target)"
   ]
  },
  {
   "cell_type": "markdown",
   "metadata": {},
   "source": [
    "### Comparison between Adaptive Gradient Descent and Adam\n",
    "\n",
    "We can now compare the behavie of Adaptive Gradient Descent and Adam. In particular, we will show how the `cost` of models found by the algorithm at different iterations would behave with respect to the iteration number."
   ]
  },
  {
   "cell_type": "code",
   "execution_count": 27,
   "metadata": {},
   "outputs": [
    {
     "data": {
      "image/png": "[encoded data removed]",
      "text/plain": [
       "<Figure size 432x288 with 1 Axes>"
      ]
     },
     "metadata": {
      "needs_background": "light"
     },
     "output_type": "display_data"
    }
   ],
   "source": [
    "plt.plot(idx_adagrad, err_adagrad, color=\"blue\", linewidth=2.5, linestyle=\"-\", label=\"adagrad\")\n",
    "plt.plot(idx_adam, err_adam, color=\"green\", linewidth=2.5, linestyle=\"-\", label=\"adam\")\n",
    "plt.legend(loc='upper right', prop={'size': 12})\n",
    "plt.title('comparison between adaptive gradient descent and Adam')\n",
    "plt.xlabel(\"number of iterations\")\n",
    "plt.ylabel(\"cost\")\n",
    "plt.grid()\n",
    "plt.show()      "
   ]
  },
  {
   "cell_type": "markdown",
   "metadata": {},
   "source": [
    "As we see, Adam achieves the best performance. This demonstrates the effectiveness of combining the idea of momentum and Adagrad / RMSProp."
   ]
  },
  {
   "cell_type": "code",
   "execution_count": null,
   "metadata": {},
   "outputs": [],
   "source": []
  }
 ],
 "metadata": {
  "kernelspec": {
   "display_name": "Python 3 (ipykernel)",
   "language": "python",
   "name": "python3"
  },
  "language_info": {
   "codemirror_mode": {
    "name": "ipython",
    "version": 3
   },
   "file_extension": ".py",
   "mimetype": "text/x-python",
   "name": "python",
   "nbconvert_exporter": "python",
   "pygments_lexer": "ipython3",
   "version": "3.9.7"
  },
  "varInspector": {
   "cols": {
    "lenName": 16,
    "lenType": 16,
    "lenVar": 40
   },
   "kernels_config": {
    "python": {
     "delete_cmd_postfix": "",
     "delete_cmd_prefix": "del ",
     "library": "var_list.py",
     "varRefreshCmd": "print(var_dic_list())"
    },
    "r": {
     "delete_cmd_postfix": ") ",
     "delete_cmd_prefix": "rm(",
     "library": "var_list.r",
     "varRefreshCmd": "cat(var_dic_list()) "
    }
   },
   "types_to_exclude": [
    "module",
    "function",
    "builtin_function_or_method",
    "instance",
    "_Feature"
   ],
   "window_display": false
  }
 },
 "nbformat": 4,
 "nbformat_minor": 4
}
