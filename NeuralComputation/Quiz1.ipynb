{
 "cells": [
  {
   "cell_type": "code",
   "execution_count": 24,
   "id": "490ca321",
   "metadata": {},
   "outputs": [],
   "source": [
    "import matplotlib\n",
    "import numpy as np\n",
    "import random"
   ]
  },
  {
   "cell_type": "code",
   "execution_count": 25,
   "id": "078292dd",
   "metadata": {},
   "outputs": [],
   "source": [
    "X = np.array([[-0.5,0.25,-0.8,-1],[-1,-0.1,-0.1,-1],\n",
    "              [0.5,0,0.25,0.1],[-0.2,-0.3,0.2,0],\n",
    "              [-0.8,0,-0.8,-1],[-0.15,-0.5,0.05,-0.25],\n",
    "              [-1,0,-1,-1],[0,-0.25,0.25,0.1]\n",
    "             ])\n",
    "# add a feature 1 to the dataset, then we do not need to consider the bias and weight separately\n",
    "# x_in = np.concatenate([np.ones([np.shape(X)[0], 1]), X], axis=1)\n",
    "# we normalize the data so that each has regularity\n",
    "# x_in = preprocessing.normalize(x_in)\n",
    "x_in = X\n",
    "y_target = np.array([1,1,-1,-1,1,-1,1,-1])"
   ]
  },
  {
   "cell_type": "code",
   "execution_count": 26,
   "id": "987ab0d5",
   "metadata": {},
   "outputs": [],
   "source": [
    "def gradfn(weights, X, y):\n",
    "    '''\n",
    "    Given `weights` - a current \"Guess\" of what our weights should be\n",
    "          `X` - matrix of shape (N,d+1) of input features including the feature $1$\n",
    "          `y` - target y values\n",
    "    Return gradient of each weight evaluated at the current value\n",
    "    '''\n",
    "    return y * (y * np.dot(weights, X) -1) * X"
   ]
  },
  {
   "cell_type": "code",
   "execution_count": 27,
   "id": "a87f85f6",
   "metadata": {},
   "outputs": [],
   "source": [
    "def solve_via_gradient_descent(X, y, niter=50, eta=0.5):\n",
    "    N, D = np.shape(X)\n",
    "    # initialize all the weights to zeros\n",
    "    w = np.zeros([D])\n",
    "    for k in range(niter):\n",
    "        # compute the gradient\n",
    "        dw = np.zeros([D])\n",
    "        margin = y * (X @ w)\n",
    "        for i in range(N):\n",
    "            if margin[i] < 1:\n",
    "                dw += gradfn(w, X[i], y[i])\n",
    "        dw /= N\n",
    "        # gradient descent\n",
    "        w = w - eta * dw\n",
    "        print('after %d iteration w equals: %s' % (k+1,w))"
   ]
  },
  {
   "cell_type": "code",
   "execution_count": 1,
   "id": "9737b03c",
   "metadata": {},
   "outputs": [
    {
     "ename": "NameError",
     "evalue": "name 'solve_via_gradient_descent' is not defined",
     "output_type": "error",
     "traceback": [
      "\u001b[0;31m---------------------------------------------------------------------------\u001b[0m",
      "\u001b[0;31mNameError\u001b[0m                                 Traceback (most recent call last)",
      "\u001b[0;32m/tmp/ipykernel_20802/1194517830.py\u001b[0m in \u001b[0;36m<module>\u001b[0;34m\u001b[0m\n\u001b[0;32m----> 1\u001b[0;31m \u001b[0msolve_via_gradient_descent\u001b[0m\u001b[0;34m(\u001b[0m \u001b[0mX\u001b[0m\u001b[0;34m=\u001b[0m\u001b[0mx_in\u001b[0m\u001b[0;34m,\u001b[0m \u001b[0my\u001b[0m\u001b[0;34m=\u001b[0m\u001b[0my_target\u001b[0m\u001b[0;34m)\u001b[0m\u001b[0;34m\u001b[0m\u001b[0;34m\u001b[0m\u001b[0m\n\u001b[0m",
      "\u001b[0;31mNameError\u001b[0m: name 'solve_via_gradient_descent' is not defined"
     ]
    }
   ],
   "source": [
    "solve_via_gradient_descent( X=x_in, y=y_target)"
   ]
  },
  {
   "cell_type": "code",
   "execution_count": 29,
   "id": "e7885729",
   "metadata": {},
   "outputs": [],
   "source": [
    "def solve_via_sgd(X, y, niter=100, eta=0.1):\n",
    "    N, D = np.shape(X)\n",
    "    # initialize all the weights to zeros\n",
    "    w = np.zeros([D])\n",
    "    tset = list(range(N))\n",
    "    for k in range(niter):\n",
    "        it = k % 8 + 1\n",
    "        #sample batch of data\n",
    "        sample_X = X[it - 1, :]\n",
    "        sample_y = y[it - 1]\n",
    "        margin = sample_y * (sample_X @ w)\n",
    "        dw = np.zeros([D])\n",
    "        if margin < 1:\n",
    "            dw = gradfn(w, sample_X, sample_y)\n",
    "        w = w - eta * dw        \n",
    "        print('after %d iteration w equals: %s' % (k+1,w))"
   ]
  },
  {
   "cell_type": "code",
   "execution_count": 30,
   "id": "64a9ed6c",
   "metadata": {},
   "outputs": [],
   "source": [
    "#solve_via_sgd( X=x_in, y=y_target)"
   ]
  },
  {
   "cell_type": "code",
   "execution_count": 31,
   "id": "75bd96fc",
   "metadata": {},
   "outputs": [],
   "source": [
    "def solve_via_momentum(X, y, niter=30, eta=0.5, alpha=0.5):\n",
    "    N, D = np.shape(X)\n",
    "    # initialize all the weights to zeros\n",
    "    w = np.zeros([D])\n",
    "    v = np.zeros([D])\n",
    "    for k in range(niter):\n",
    "        dw = np.zeros([D])\n",
    "        margin = y * (X @ w)\n",
    "        for i in range(N):\n",
    "            if margin[i] < 1:\n",
    "                dw += gradfn(w, X[i], y[i])\n",
    "        dw /= N\n",
    "        v = alpha * v - eta * dw\n",
    "        w = w + v \n",
    "        print('after %d iteration w equals: %s' % (k+1,w))"
   ]
  },
  {
   "cell_type": "code",
   "execution_count": 32,
   "id": "4325c8eb",
   "metadata": {},
   "outputs": [],
   "source": [
    "#solve_via_momentum( X=x_in, y=y_target)"
   ]
  },
  {
   "cell_type": "code",
   "execution_count": 33,
   "id": "ddbf3073",
   "metadata": {},
   "outputs": [],
   "source": [
    "def solve_via_adagrad(X, y, niter=100, eta=0.1):\n",
    "    N, D = np.shape(X)\n",
    "    # initialize all the weights to zeros\n",
    "    w = np.zeros([D])\n",
    "    tset = list(range(N))\n",
    "    gradients_sum = np.zeros([D])\n",
    "    delta = 1e-6\n",
    "    for k in range(niter):\n",
    "        it = k % 8 + 1\n",
    "        #sample batch of data\n",
    "        sample_X = X[it - 1, :]\n",
    "        sample_y = y[it - 1]\n",
    "        margin = sample_y * (sample_X @ w)\n",
    "        dw = np.zeros([D])\n",
    "        if margin < 1:\n",
    "            dw = gradfn(w, sample_X, sample_y)        \n",
    "        #compute square of sum of gradients\n",
    "        gradients_sum += dw ** 2\n",
    "        w = w - eta * dw / (np.sqrt(gradients_sum) + delta)\n",
    "        # print(w)\n",
    "        print('after %d iteration w equals: %s' % (k+1,w))"
   ]
  },
  {
   "cell_type": "code",
   "execution_count": 34,
   "id": "b38e99c5",
   "metadata": {},
   "outputs": [],
   "source": [
    "#solve_via_adagrad( X=x_in, y=y_target)"
   ]
  },
  {
   "cell_type": "code",
   "execution_count": 36,
   "id": "954ef2f3",
   "metadata": {},
   "outputs": [],
   "source": [
    "class Perceptron():\n",
    "    def __init__(self, max_iter = 10):\n",
    "        # we initialize an instance\n",
    "        self.max_iter = max_iter\n",
    "        self.w = []\n",
    "        self.no_examples = 0\n",
    "        self.no_features = 0\n",
    "    \n",
    "    def train(self, X, Y):\n",
    "        '''\n",
    "        This function applies the perceptron algorithm to train a model w based on X and Y.\n",
    "        It changes both w and b of the class.\n",
    "        '''\n",
    "        # we set the number of examples and the number of features according to the matrix X\n",
    "        self.no_examples, self.no_features = np.shape(X)  \n",
    "        # we initialize the weight vector as the zero vector\n",
    "        self.w = np.zeros(self.no_features)\n",
    "        \n",
    "        # we only run a limited number of iterations\n",
    "        for ii in range(0, self.max_iter):\n",
    "            # at the begining of each iteration, we set the w_updated to be false (meaning we have not yet found misclassified example)\n",
    "            w_updated = False\n",
    "            # we traverse all the training examples\n",
    "            for jj in range(0, self.no_examples):\n",
    "                # To do: Insert your code to finish the update of the model by the perceptron algorithm\n",
    "                # we compute the predicted value and assign it to the variable a\n",
    "                a = np.dot(self.w, X[jj])\n",
    "                # if we find a misclassified example\n",
    "                if Y[jj] * a <= 0:\n",
    "                    # we set w_updated = true as we have found a misclassified example at this iteration\n",
    "                    w_updated = True\n",
    "                    # we now update w and b\n",
    "                    self.w += Y[jj] * X[jj]\n",
    "                    print('after %d iteration w equals: %s' % (jj+1,self.w))\n",
    "            # if we do not find any misclassified example, we can return the model\n",
    "            if not w_updated:\n",
    "                print(\"Convergence reached in %i iterations.\" % ii)\n",
    "                break\n",
    "        # after finishing the iterations we can still find a misclassified example\n",
    "        if w_updated:\n",
    "            print(\n",
    "            \"\"\"\n",
    "            WARNING: convergence not reached in %i iterations.\n",
    "            Either dataset is not linearly separable, \n",
    "            or max_iter should be increased\n",
    "            \"\"\" % self.max_iter\n",
    "                )"
   ]
  },
  {
   "cell_type": "code",
   "execution_count": 41,
   "id": "910a2195",
   "metadata": {},
   "outputs": [
    {
     "name": "stdout",
     "output_type": "stream",
     "text": [
      "after 1 iteration w equals: [-0.5   0.25 -0.8  -1.  ]\n",
      "after 6 iteration w equals: [-0.35  0.75 -0.85 -0.75]\n",
      "Convergence reached in 1 iterations.\n",
      "[ 1.7925  1.11   -0.4625 -0.325   1.71   -0.1775  1.95   -0.475 ] [ 1  1 -1 -1  1 -1  1 -1]\n"
     ]
    }
   ],
   "source": [
    "p = Perceptron()\n",
    "p.train(X=x_in, Y=y_target)\n",
    "#print(x_in @ p.w, y_target)"
   ]
  },
  {
   "cell_type": "code",
   "execution_count": null,
   "id": "89b40ba6",
   "metadata": {},
   "outputs": [],
   "source": []
  }
 ],
 "metadata": {
  "kernelspec": {
   "display_name": "Python 3 (ipykernel)",
   "language": "python",
   "name": "python3"
  },
  "language_info": {
   "codemirror_mode": {
    "name": "ipython",
    "version": 3
   },
   "file_extension": ".py",
   "mimetype": "text/x-python",
   "name": "python",
   "nbconvert_exporter": "python",
   "pygments_lexer": "ipython3",
   "version": "3.9.7"
  },
  "varInspector": {
   "cols": {
    "lenName": 16,
    "lenType": 16,
    "lenVar": 40
   },
   "kernels_config": {
    "python": {
     "delete_cmd_postfix": "",
     "delete_cmd_prefix": "del ",
     "library": "var_list.py",
     "varRefreshCmd": "print(var_dic_list())"
    },
    "r": {
     "delete_cmd_postfix": ") ",
     "delete_cmd_prefix": "rm(",
     "library": "var_list.r",
     "varRefreshCmd": "cat(var_dic_list()) "
    }
   },
   "types_to_exclude": [
    "module",
    "function",
    "builtin_function_or_method",
    "instance",
    "_Feature"
   ],
   "window_display": false
  }
 },
 "nbformat": 4,
 "nbformat_minor": 5
}
