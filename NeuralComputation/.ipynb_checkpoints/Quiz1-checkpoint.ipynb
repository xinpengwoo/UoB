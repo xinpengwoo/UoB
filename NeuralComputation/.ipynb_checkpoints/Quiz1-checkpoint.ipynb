{
 "cells": [
  {
   "cell_type": "code",
   "execution_count": 13,
   "id": "a2a98f05",
   "metadata": {},
   "outputs": [],
   "source": [
    "import matplotlib\n",
    "import numpy as np\n",
    "import random"
   ]
  },
  {
   "cell_type": "code",
   "execution_count": 14,
   "id": "9edbbbf8",
   "metadata": {},
   "outputs": [],
   "source": [
    "X = np.array([[-0.5,0.25,-0.8,-1],[-1,-0.1,-0.1,-1],\n",
    "              [0.5,0,0.25,0.1],[-0.2,-0.3,0.2,0],\n",
    "              [-0.8,0,-0.8,-1],[-0.15,-0.5,0.05,-0.25],\n",
    "              [-1,0,-1,-1],[0,-0.25,0.25,0.1]\n",
    "             ])\n",
    "# add a feature 1 to the dataset, then we do not need to consider the bias and weight separately\n",
    "# x_in = np.concatenate([np.ones([np.shape(X)[0], 1]), X], axis=1)\n",
    "# we normalize the data so that each has regularity\n",
    "# x_in = preprocessing.normalize(x_in)\n",
    "x_in = X\n",
    "y_target = np.array([1,1,-1,-1,1,-1,1,-1])"
   ]
  },
  {
   "cell_type": "code",
   "execution_count": 15,
   "id": "c321fec9",
   "metadata": {},
   "outputs": [],
   "source": [
    "def gradfn(weights, X, y):\n",
    "    '''\n",
    "    Given `weights` - a current \"Guess\" of what our weights should be\n",
    "          `X` - matrix of shape (N,d+1) of input features including the feature $1$\n",
    "          `y` - target y values\n",
    "    Return gradient of each weight evaluated at the current value\n",
    "    '''\n",
    "    return y * (y * np.dot(weights, X) -1) * X"
   ]
  },
  {
   "cell_type": "code",
   "execution_count": 16,
   "id": "ca11f975",
   "metadata": {},
   "outputs": [],
   "source": [
    "def solve_via_gradient_descent(X, y, niter=50, eta=0.5):\n",
    "    N, D = np.shape(X)\n",
    "    # initialize all the weights to zeros\n",
    "    w = np.zeros([D])\n",
    "    for k in range(niter):\n",
    "        # compute the gradient\n",
    "        dw = np.zeros([D])\n",
    "        margin = y * (X @ w)\n",
    "        for i in range(N):\n",
    "            if margin[i] < 1:\n",
    "                dw += gradfn(w, X[i], y[i])\n",
    "        dw /= N\n",
    "        # gradient descent\n",
    "        w = w - eta * dw\n",
    "        print('after %d iteration w equals: %s' % (k+1,w))"
   ]
  },
  {
   "cell_type": "code",
   "execution_count": 17,
   "id": "a45b166d",
   "metadata": {},
   "outputs": [],
   "source": [
    "#solve_via_gradient_descent( X=x_in, y=y_target)"
   ]
  },
  {
   "cell_type": "code",
   "execution_count": 18,
   "id": "8f9b46fe",
   "metadata": {},
   "outputs": [],
   "source": [
    "def solve_via_sgd(X, y, niter=100, eta=0.1):\n",
    "    N, D = np.shape(X)\n",
    "    # initialize all the weights to zeros\n",
    "    w = np.zeros([D])\n",
    "    tset = list(range(N))\n",
    "    for k in range(niter):\n",
    "        it = k % 8 + 1\n",
    "        #sample batch of data\n",
    "        sample_X = X[it - 1, :]\n",
    "        sample_y = y[it - 1]\n",
    "        margin = sample_y * (sample_X @ w)\n",
    "        dw = np.zeros([D])\n",
    "        if margin < 1:\n",
    "            dw = gradfn(w, sample_X, sample_y)\n",
    "        w = w - eta * dw        \n",
    "        print('after %d iteration w equals: %s' % (k+1,w))"
   ]
  },
  {
   "cell_type": "code",
   "execution_count": 19,
   "id": "8fe8577e",
   "metadata": {},
   "outputs": [],
   "source": [
    "#solve_via_sgd( X=x_in, y=y_target)"
   ]
  },
  {
   "cell_type": "code",
   "execution_count": 20,
   "id": "20ddbf45",
   "metadata": {},
   "outputs": [],
   "source": [
    "def solve_via_momentum(X, y, niter=30, eta=0.5, alpha=0.5):\n",
    "    N, D = np.shape(X)\n",
    "    # initialize all the weights to zeros\n",
    "    w = np.zeros([D])\n",
    "    v = np.zeros([D])\n",
    "    for k in range(niter):\n",
    "        dw = np.zeros([D])\n",
    "        margin = y * (X @ w)\n",
    "        for i in range(N):\n",
    "            if margin[i] < 1:\n",
    "                dw += gradfn(w, X[i], y[i])\n",
    "        dw /= N\n",
    "        v = alpha * v - eta * dw\n",
    "        w = w + v \n",
    "        print('after %d iteration w equals: %s' % (k+1,w))"
   ]
  },
  {
   "cell_type": "code",
   "execution_count": 21,
   "id": "9a04b7a6",
   "metadata": {},
   "outputs": [
    {
     "name": "stdout",
     "output_type": "stream",
     "text": [
      "after 1 iteration w equals: [-0.215625  0.075    -0.215625 -0.246875]\n",
      "after 2 iteration w equals: [-0.41426709  0.18143604 -0.43223877 -0.47141748]\n",
      "after 3 iteration w equals: [-0.51730832  0.29761412 -0.57866927 -0.58156556]\n",
      "after 4 iteration w equals: [-0.56462802  0.41650627 -0.68608919 -0.62819071]\n",
      "after 5 iteration w equals: [-0.58339058  0.53346497 -0.77144475 -0.64304651]\n",
      "after 6 iteration w equals: [-0.58800028  0.64597898 -0.84367065 -0.64236936]\n",
      "after 7 iteration w equals: [-0.58604671  0.75280905 -0.90751762 -0.63443796]\n",
      "after 8 iteration w equals: [-0.58148515  0.85345506 -0.96554994 -0.62344906]\n",
      "after 9 iteration w equals: [-0.5763369   0.94783501 -1.01918744 -0.61150604]\n",
      "after 10 iteration w equals: [-0.57159769  1.03609513 -1.06924887 -0.59963986]\n",
      "after 11 iteration w equals: [-0.56772267  1.11849939 -1.1162353  -0.58833349]\n",
      "after 12 iteration w equals: [-0.56488495  1.19536622 -1.16047794 -0.57779143]\n",
      "after 13 iteration w equals: [-0.56311322  1.26703296 -1.20221537 -0.56807811]\n",
      "after 14 iteration w equals: [-0.56236473  1.33383637 -1.24163392 -0.55918904]\n",
      "after 15 iteration w equals: [-0.56256382  1.39610232 -1.27888898 -0.55108715]\n",
      "after 16 iteration w equals: [-0.56362202  1.45414077 -1.3141163  -0.54372138]\n",
      "after 17 iteration w equals: [-0.56544847  1.50824357 -1.34743805 -0.53703605]\n",
      "after 18 iteration w equals: [-0.56795501  1.55868397 -1.37896624 -0.53097546]\n",
      "after 19 iteration w equals: [-0.57105867  1.6057169  -1.40880466 -0.52548614]\n",
      "after 20 iteration w equals: [-0.57468259  1.64957973 -1.43705007 -0.52051781]\n",
      "after 21 iteration w equals: [-0.57875632  1.69049322 -1.46379301 -0.51602372]\n",
      "after 22 iteration w equals: [-0.58321564  1.72866256 -1.48911838 -0.51196067]\n",
      "after 23 iteration w equals: [-0.58800225  1.76427838 -1.5131059  -0.5082889 ]\n",
      "after 24 iteration w equals: [-0.59306343  1.7975178  -1.53583044 -0.50497192]\n",
      "after 25 iteration w equals: [-0.59835156  1.82854531 -1.55736245 -0.50197623]\n",
      "after 26 iteration w equals: [-0.60382376  1.85751373 -1.57776814 -0.49927118]\n",
      "after 27 iteration w equals: [-0.6094415   1.88456502 -1.59710983 -0.49682869]\n",
      "after 28 iteration w equals: [-0.6151702   1.90983106 -1.61544617 -0.4946231 ]\n",
      "after 29 iteration w equals: [-0.62097892  1.93343439 -1.63283238 -0.49263093]\n",
      "after 30 iteration w equals: [-0.62684003  1.95548888 -1.64932046 -0.49083075]\n"
     ]
    }
   ],
   "source": [
    "solve_via_momentum( X=x_in, y=y_target)"
   ]
  }
 ],
 "metadata": {
  "kernelspec": {
   "display_name": "Python 3 (ipykernel)",
   "language": "python",
   "name": "python3"
  },
  "language_info": {
   "codemirror_mode": {
    "name": "ipython",
    "version": 3
   },
   "file_extension": ".py",
   "mimetype": "text/x-python",
   "name": "python",
   "nbconvert_exporter": "python",
   "pygments_lexer": "ipython3",
   "version": "3.9.7"
  },
  "varInspector": {
   "cols": {
    "lenName": 16,
    "lenType": 16,
    "lenVar": 40
   },
   "kernels_config": {
    "python": {
     "delete_cmd_postfix": "",
     "delete_cmd_prefix": "del ",
     "library": "var_list.py",
     "varRefreshCmd": "print(var_dic_list())"
    },
    "r": {
     "delete_cmd_postfix": ") ",
     "delete_cmd_prefix": "rm(",
     "library": "var_list.r",
     "varRefreshCmd": "cat(var_dic_list()) "
    }
   },
   "types_to_exclude": [
    "module",
    "function",
    "builtin_function_or_method",
    "instance",
    "_Feature"
   ],
   "window_display": false
  }
 },
 "nbformat": 4,
 "nbformat_minor": 5
}
