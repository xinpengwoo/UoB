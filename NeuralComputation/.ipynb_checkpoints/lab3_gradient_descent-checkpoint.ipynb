{
 "cells": [
  {
   "cell_type": "markdown",
   "metadata": {},
   "source": [
    "### Neural Computation Exercise 3: Gradient Descent\n",
    "\n",
    "In this exercise, we'll develop implementations of gradient descent and its minibatch algorithms. As in Exercise 2, we will use the Boston Housing dataset. Instead of using the exact solution, we use gradient descent and minibatch gradient descent to solve this problem.\n",
    "\n",
    "In this exercise, you will learn the following\n",
    "* implement the `gradient descent` method\n",
    "* implement the `minibatch gradient descent` method"
   ]
  },
  {
   "cell_type": "code",
   "execution_count": 1,
   "metadata": {},
   "outputs": [],
   "source": [
    "import matplotlib\n",
    "import numpy as np\n",
    "import random\n",
    "import warnings\n",
    "import matplotlib.pyplot as plt \n",
    "from sklearn import preprocessing   # for normalization"
   ]
  },
  {
   "cell_type": "markdown",
   "metadata": {},
   "source": [
    "## Boston Housing Data\n",
    "\n",
    "The Boston Housing data is one of the  datasets available in sklearn.\n",
    "We can import the dataset and preprocess it as follows. Note we add a feature of $1$ to `x_input` to get a n x (d+1) matrix `x_in`"
   ]
  },
  {
   "cell_type": "code",
   "execution_count": 3,
   "metadata": {},
   "outputs": [],
   "source": [
    "from sklearn.datasets import load_boston\n",
    "with warnings.catch_warnings():\n",
    "    warnings.filterwarnings(\"ignore\")\n",
    "    boston_data = load_boston()\n",
    "data = boston_data['data']\n",
    "x_input = data  # a data matrix\n",
    "y_target = boston_data['target'] # a vector for all outputs\n",
    "# add a feature 1 to the dataset, then we do not need to consider the bias and weight separately\n",
    "x_in = np.concatenate([np.ones([np.shape(x_input)[0], 1]), x_input], axis=1)\n",
    "# we normalize the data so that each has regularity\n",
    "x_in = preprocessing.normalize(x_in)"
   ]
  },
  {
   "cell_type": "markdown",
   "metadata": {},
   "source": [
    "## Linear Model\n",
    "\n",
    "A linear regression model in one variable has the following form \n",
    "$$\n",
    "f(x)=\\mathbf{w}^\\top \\mathbf{x}.\n",
    "$$\n",
    "The following function computes the output of the linear model on a data matrix of size n x (d+1)."
   ]
  },
  {
   "cell_type": "code",
   "execution_count": 4,
   "metadata": {},
   "outputs": [],
   "source": [
    "def linearmat_2(w, X):\n",
    "    '''\n",
    "    a vectorization of linearmat_1 in lab 2.\n",
    "    Input: w is a weight parameter (including the bias), and X is a data matrix (n x (d+1)) (including the feature)\n",
    "    Output: a vector containing the predictions of linear models\n",
    "    '''\n",
    "    return np.dot(X, w)"
   ]
  },
  {
   "cell_type": "markdown",
   "metadata": {},
   "source": [
    "## Cost Function\n",
    "\n",
    "We defined the following `mean square error` function for a linear regression problem using the square loss:\n",
    "$$\n",
    "C(\\mathbf{y}, \\mathbf{t}) = \\frac{1}{2n}(\\mathbf{y}-\\mathbf{t})^\\top (\\mathbf{y}-\\mathbf{t}).\n",
    "$$\n",
    "The python implementation is as follows"
   ]
  },
  {
   "cell_type": "code",
   "execution_count": 5,
   "metadata": {},
   "outputs": [],
   "source": [
    "def cost(w, X, y):\n",
    "    '''\n",
    "    Evaluate the cost function in a vectorized manner for \n",
    "    inputs `X` and outputs `y`, at weights `w`.\n",
    "    '''\n",
    "    residual = y - linearmat_2(w, X)  # get the residual\n",
    "    err = np.dot(residual, residual) / (2 * len(y)) # compute the error\n",
    "    \n",
    "    return err"
   ]
  },
  {
   "cell_type": "markdown",
   "metadata": {},
   "source": [
    "## Gradient Computation\n",
    "\n",
    "Our methods require to use the gradient of the `cost` function. As discussed in the previous lecture, the gradient can be computed by\n",
    "$$\\nabla C(\\mathbf{w}) =\\frac{1}{n}X^\\top\\big(X\\mathbf{w}-\\mathbf{y}\\big)$$\n",
    "In the following, we present the python implementation on the gradient computation"
   ]
  },
  {
   "cell_type": "code",
   "execution_count": 12,
   "metadata": {},
   "outputs": [],
   "source": [
    "# Vectorized gradient function\n",
    "def gradfn(weights, X, y):\n",
    "    '''\n",
    "    Given `weights` - a current \"Guess\" of what our weights should be\n",
    "          `X` - matrix of shape (N,d+1) of input features including the feature $1$\n",
    "          `y` - target y values\n",
    "    Return gradient of each weight evaluated at the current value\n",
    "    '''\n",
    "\n",
    "    # TODO: Insert your code to compute the gradient\n",
    "    \n",
    "    return np.dot(X.T, np.dot(X, weights) - y) / len(y)"
   ]
  },
  {
   "cell_type": "markdown",
   "metadata": {},
   "source": [
    "## Gradient Descent\n",
    "\n",
    "Gradient Descent iteratively updates the model by moving along the negative direction\n",
    "$$\\mathbf{w}^{(t+1)} \\leftarrow \\mathbf{w}^{(t)} - \\eta\\nabla C(\\mathbf{w}^{(t)}),$$ \n",
    "where $\\eta$ is a learning rate and $\\nabla C(w^{(t)})$ is the gradient evaluated at current parameter value $\\mathbf{w}^{(t)}$. In the following, we give the python implementation of the gradient descent on the linear regression problem. Here, we use `idx_res` to store the indices of iterations where we have computed the cost, and use `err_res` to store the cost of models at these iterations. These will be used to plot how the `cost` will behave `versus iteration` number."
   ]
  },
  {
   "cell_type": "code",
   "execution_count": 17,
   "metadata": {},
   "outputs": [],
   "source": [
    "def solve_via_gradient_descent(X, y, print_every=100,\n",
    "                               niter=2000, eta=1):\n",
    "    '''\n",
    "    Given `X` - matrix of shape (N,D) of input features\n",
    "          `y` - target y values\n",
    "          `print_every` - we report performance every 'print_every' iterations\n",
    "          `niter` - the number of iterates allowed\n",
    "          `eta` - learning rate\n",
    "    Solves for linear regression weights.\n",
    "    Return weights after `niter` iterations.\n",
    "    '''\n",
    "    N, D = np.shape(X)\n",
    "    # initialize all the weights to zeros\n",
    "    w = np.zeros([D])\n",
    "    idx_res = []\n",
    "    err_res = []\n",
    "    for k in range(niter):\n",
    "        # TODO: Insert your code to update w by gradient descent\n",
    "        w = w - eta * gradfn(w, X, y)        \n",
    "        if k % print_every == print_every - 1:\n",
    "            print('Weight after %d iteration: %s' % (k + 1, str(w)))\n",
    "            idx_res.append(k + 1)\n",
    "            err_res.append(cost(w, X, y))\n",
    "    plt.plot(idx_res, err_res, color=\"red\", linewidth=2.5, linestyle=\"-\")\n",
    "    #plt.xscale('log')\n",
    "    #plt.yscale('log')\n",
    "    plt.show()\n",
    "    return w, idx_res, err_res"
   ]
  },
  {
   "cell_type": "markdown",
   "metadata": {},
   "source": [
    "Now we apply **gradient descent** to solve the **Boston House Price** prediction problem, and get the weight `w_gd`, the indices `idx_gd` and the errors 'err_gd' on these indices "
   ]
  },
  {
   "cell_type": "code",
   "execution_count": 18,
   "metadata": {},
   "outputs": [
    {
     "name": "stdout",
     "output_type": "stream",
     "text": [
      "Weight after 100 iteration: [ 8.75238115e-02 -1.19723553e+00  1.00278750e+01 -1.46074761e+00\n",
      "  6.42382235e-02  2.17168904e-02  1.28659277e+00 -1.48125517e+00\n",
      "  3.60491783e-01  3.76336464e-01  7.50863134e+00  2.82768835e-01\n",
      "  2.63360779e+01 -4.61644171e+00]\n",
      "Weight after 200 iteration: [ 1.20229478e-01 -2.09008584e+00  1.67699794e+01 -2.81797898e+00\n",
      "  1.25316679e-01  2.51806619e-02  2.18991502e+00 -3.67813330e+00\n",
      "  2.91958859e-01  9.29806120e-01  8.08900491e+00 -3.19760526e-01\n",
      "  2.61012207e+01 -9.27420440e+00]\n",
      "Weight after 300 iteration: [  0.15304497  -2.96483268  22.07777268  -4.00332918   0.18751571\n",
      "   0.03163477   3.0797321   -4.7653571    0.14474841   1.48229757\n",
      "   8.50508649  -0.88427086  25.87292939 -13.74280326]\n",
      "Weight after 400 iteration: [  0.18583857  -3.82434303  26.29609791  -5.0606223    0.25043604\n",
      "   0.0401816    3.95778886  -5.09190331  -0.05997046   2.03470726\n",
      "   8.79643445  -1.41996137  25.66443482 -18.067206  ]\n",
      "Weight after 500 iteration: [  0.2185229   -4.67031727  29.67983137  -6.021416     0.31379413\n",
      "   0.05018382   4.82544388  -4.9053547   -0.30685927   2.58795523\n",
      "   9.00052455  -1.93356174  25.47509907 -22.27949218]\n",
      "Weight after 600 iteration: [  0.25105052  -5.50398354  32.41877784  -6.90867354   0.37739109\n",
      "   0.06118992   5.68383723  -4.38093032  -0.5846866    3.14250993\n",
      "   9.14413838  -2.42990415  25.30390502 -26.40266564]\n",
      "Weight after 700 iteration: [  0.28340112  -6.3262321   34.65501847  -7.73912468   0.4410886\n",
      "   0.07288184   6.5339336   -3.64189224  -0.8852103    3.69853515\n",
      "   9.24634146  -2.91245277  25.14963447 -30.453193  ]\n",
      "Weight after 800 iteration: [  0.31557236  -7.1377117   36.49554348  -8.52497653   0.50479162\n",
      "   0.08503713   7.3765555   -2.77427594  -1.20236625   4.2559945\n",
      "   9.3206477   -3.38368678  25.01097789 -34.44283801]\n",
      "Weight after 900 iteration: [  0.34757349  -7.93889905  38.0214624   -9.27515367   0.5684359\n",
      "   0.09750166   8.21240892  -1.83751498  -1.53167927   4.81472477\n",
      "   9.3765831   -3.84537709  24.88660786 -38.37998672]\n",
      "Weight after 1000 iteration: [  0.37942087  -8.73014872  39.29472826  -9.99619718   0.63197897\n",
      "   0.11016997   9.04210347  -0.8720967   -1.86983504   5.37448703\n",
      "   9.42081475  -4.29878623  24.77522671 -42.27060397]\n",
      "Weight after 1100 iteration: [  0.41113484  -9.51172898  40.36305503 -10.69291663   0.69539376\n",
      "   0.1229711    9.86616834   0.09492844  -2.21436896   5.93500179\n",
      "   9.45796535  -4.7448126   24.67559632 -46.11892336]\n",
      "Weight after 1200 iteration: [  0.44273759 -10.28384754  41.26352076 -11.36886276   0.7586639\n",
      "   0.13585846  10.68506501   1.04598809  -2.56343965   6.49597287\n",
      "   9.49120022  -5.18409445  24.58655536 -49.92794448]\n",
      "Weight after 1300 iteration: [  0.47425182 -11.04666985  42.02521423 -12.0266705    0.82178046\n",
      "   0.14880254  11.49919759   1.97014912  -2.9156641    7.05710325\n",
      "   9.52264993  -5.61708484  24.50702795 -53.6997906 ]\n",
      "Weight after 1400 iteration: [  0.50569972 -11.80033218  42.67118425 -12.66830781   0.88473959\n",
      "   0.16178564  12.30892114   2.86108654  -3.26999738   7.61810529\n",
      "   9.55371406  -6.04410549  24.43602662 -57.43596588]\n",
      "Weight after 1500 iteration: [  0.53710246 -12.54495095  43.21988046 -13.29525633   0.94754083\n",
      "   0.17479821  13.11454867   3.71563493  -3.62564483   8.17870697\n",
      "   9.58527917  -6.46538551  24.37265148 -61.13753968]\n",
      "Weight after 1600 iteration: [  0.56847982 -13.28062921  43.68622228 -13.90864253   1.01018597\n",
      "   0.18783617  13.91635682   4.53275911  -3.98199789   8.73865543\n",
      "   9.61787482  -6.88108911  24.31608684 -64.8052785 ]\n",
      "Weight after 1700 iteration: [  0.59985001 -14.00746125  44.08239578 -14.50933309   1.07267817\n",
      "   0.20089908  14.71459073   5.31282642  -4.33858699   9.29771863\n",
      "   9.65178496  -7.29133546  24.26559657 -68.43974014]\n",
      "Weight after 1800 iteration: [  0.63122963 -14.72553578  44.4184508  -15.09800412   1.13502141\n",
      "   0.21398878  15.50946807   6.05709542  -4.69504698   9.8556858\n",
      "   9.68712714  -7.69621278  24.22051854 -72.0413405 ]\n",
      "Weight after 1900 iteration: [  0.66263367 -15.43493813  44.70275124 -15.67519167   1.19722011\n",
      "   0.2271085   16.30118256   6.76735949  -5.05109169  10.412367\n",
      "   9.72390859  -8.09578836  24.18025878 -75.61040093]\n",
      "Weight after 2000 iteration: [  0.69407555 -16.13575171  44.94231681 -16.2413284    1.25927882\n",
      "   0.24026224  17.08990688   7.44570121  -5.40649507  10.96759224\n",
      "   9.76206571  -8.49011568  24.14428558 -79.14718144]\n"
     ]
    },
    {
     "data": {
      "image/png": "[encoded data removed]",
      "text/plain": [
       "<Figure size 432x288 with 1 Axes>"
      ]
     },
     "metadata": {
      "needs_background": "light"
     },
     "output_type": "display_data"
    }
   ],
   "source": [
    "w_gd, idx_gd, err_gd = solve_via_gradient_descent( X=x_in, y=y_target)"
   ]
  },
  {
   "cell_type": "markdown",
   "metadata": {},
   "source": [
    "## Minibatch Gradient Descent\n",
    "\n",
    "The optimization problem in ML often has a **sum** structure in the sense\n",
    "$$\n",
    "C(\\mathbf{w})=\\frac{1}{n}\\sum_{i=1}^nC_i(\\mathbf{w}),\n",
    "$$\n",
    "where $C_i(\\mathbf{w})$ is the loss of the model $\\mathbf{w}$ on the $i$-th example. In our Boston House Price prediction problem, $C_i$ takes the form $C_i(\\mathbf{w})=\\frac{1}{2}(\\mathbf{w}^\\top\\mathbf{x}^{(i)}-y^{(i)})^2$.\n",
    "\n",
    "Gradient descent requires to go through all training examples to compute a single gradient, which may be time consuming if the sample size is large. Minibatch gradient descent improves the efficiency by using a subset of training examples to build an **approximate** gradient. At each iteration, it first randomly draws a set $I\\subset\\{1,2,\\ldots,n\\}$ of size $s$, where we often call $s$ the minibatch size. Then it builds an approximate gradient by\n",
    "$$\n",
    "\\nabla^I(\\mathbf{w}^{(t)})=\\frac{1}{s}\\sum_{i\\in I}\\nabla C_i(\\mathbf{w}^{(t)})\n",
    "$$\n",
    "Now, it updates the model by\n",
    "$$\n",
    "\\mathbf{w}^{(t+1)}=\\mathbf{w}^{(t)}-\\eta_t\\nabla^I(\\mathbf{w}^{(t)}).\n",
    "$$ \n",
    "It is recommended to use $s\\in[20,100]$. Depending on different $s$, minibatch gradient descent recovers several algorithms\n",
    "\\begin{align*}\n",
    "  s<n \\;&\\Rightarrow\\;\\text{Minibatch gradient descent}\\\\\n",
    "  s=1 \\;&\\Rightarrow\\;\\text{Stochastic gradient descent}\n",
    "\\end{align*}\n",
    "In the following, we request you to finish the following implementation of the `minibatch gradient descent` on the linear regression problem. To search a subset of $\\{1,2,\\ldots,n\\}$, we recommend you to use the function `random.sample`. The synatx is `random.sample(sequence, k)`, which returns $k$ length new list of elements chosen from the `sequence`. More details can be found  [here](https://www.geeksforgeeks.org/python-random-sample-function/)"
   ]
  },
  {
   "cell_type": "code",
   "execution_count": 19,
   "metadata": {},
   "outputs": [],
   "source": [
    "def solve_via_minibatch(X, y, print_every=100,\n",
    "                               niter=5000, eta=0.2, batch_size=50):\n",
    "    '''\n",
    "    Solves for linear regression weights with nesterov momentum.\n",
    "    Given `X` - matrix of shape (N,D) of input features\n",
    "          `y` - target y values\n",
    "          `print_every` - we report performance every 'print_every' iterations\n",
    "          `niter` - the number of iterates allowed\n",
    "          `eta` - learning rate\n",
    "          `batch_size` - the size of minibatch\n",
    "    Return \n",
    "        `w` - weights after `niter` iterations\n",
    "        `idx_res` - the indices of iterations where we compute the cost\n",
    "        `err_res` - the cost at iterations\n",
    "    '''\n",
    "    N, D = np.shape(X)\n",
    "    # initialize all the weights to zeros\n",
    "    w = np.zeros([D])\n",
    "    idx_res = []\n",
    "    err_res = []\n",
    "    tset = list(range(N))\n",
    "    for k in range(niter):\n",
    "        # TODO: Insert your code to update w by minibatch gradient descent\n",
    "        idx = random.sample(tset, batch_size)\n",
    "        #sample batch of data\n",
    "        sample_X = X[idx, :]\n",
    "        sample_y = y[idx]\n",
    "        w = w - eta * gradfn(w, sample_X, sample_y)      \n",
    "        \n",
    "        if k % print_every == print_every - 1:\n",
    "            t_cost = cost(w, X, y)\n",
    "            print('error after %d iteration: %s' % (k + 1, t_cost))\n",
    "            idx_res.append(k + 1)\n",
    "            err_res.append(t_cost)\n",
    "    return w, idx_res, err_res"
   ]
  },
  {
   "cell_type": "markdown",
   "metadata": {},
   "source": [
    "Now we apply minibatch gradient descent to solve the Boston House Price prediction problem."
   ]
  },
  {
   "cell_type": "code",
   "execution_count": 20,
   "metadata": {},
   "outputs": [
    {
     "name": "stdout",
     "output_type": "stream",
     "text": [
      "error after 100 iteration: 33.20666276291433\n",
      "error after 200 iteration: 32.46211015276581\n",
      "error after 300 iteration: 32.25338266281532\n",
      "error after 400 iteration: 32.19973789123002\n",
      "error after 500 iteration: 31.837504239599575\n",
      "error after 600 iteration: 31.66384131982219\n",
      "error after 700 iteration: 31.475349010371726\n",
      "error after 800 iteration: 31.30702294102027\n",
      "error after 900 iteration: 31.171109421480534\n",
      "error after 1000 iteration: 31.063285305779495\n",
      "error after 1100 iteration: 31.0325180548375\n",
      "error after 1200 iteration: 30.81498779750285\n",
      "error after 1300 iteration: 30.74597561221232\n",
      "error after 1400 iteration: 30.720312952187122\n",
      "error after 1500 iteration: 30.616705084372526\n",
      "error after 1600 iteration: 30.5757911060791\n",
      "error after 1700 iteration: 30.359473186672396\n",
      "error after 1800 iteration: 30.294253204460258\n",
      "error after 1900 iteration: 30.23841897958836\n",
      "error after 2000 iteration: 30.108777881570937\n",
      "error after 2100 iteration: 30.04483658769437\n",
      "error after 2200 iteration: 29.965292343835312\n",
      "error after 2300 iteration: 30.297067585508426\n",
      "error after 2400 iteration: 29.838196437117926\n",
      "error after 2500 iteration: 29.766303868203284\n",
      "error after 2600 iteration: 29.715512274827034\n",
      "error after 2700 iteration: 29.65020765873355\n",
      "error after 2800 iteration: 29.584319376570893\n",
      "error after 2900 iteration: 29.530950333496012\n",
      "error after 3000 iteration: 29.551439034524865\n",
      "error after 3100 iteration: 29.432125468927875\n",
      "error after 3200 iteration: 29.565099321641\n",
      "error after 3300 iteration: 29.504999638386913\n",
      "error after 3400 iteration: 29.331712665539204\n",
      "error after 3500 iteration: 29.234681885188202\n",
      "error after 3600 iteration: 29.205879630681075\n",
      "error after 3700 iteration: 29.19929187529309\n",
      "error after 3800 iteration: 29.10194203169165\n",
      "error after 3900 iteration: 29.301073127538345\n",
      "error after 4000 iteration: 29.26267126373252\n",
      "error after 4100 iteration: 28.985765210822606\n",
      "error after 4200 iteration: 29.004350471381947\n",
      "error after 4300 iteration: 28.879846361347088\n",
      "error after 4400 iteration: 28.841872270504336\n",
      "error after 4500 iteration: 29.428374122400594\n",
      "error after 4600 iteration: 28.804362785920063\n",
      "error after 4700 iteration: 28.730109777107085\n",
      "error after 4800 iteration: 28.716044480349485\n",
      "error after 4900 iteration: 28.641639291288826\n",
      "error after 5000 iteration: 28.617222892639074\n"
     ]
    }
   ],
   "source": [
    "w_batch, idx_batch, err_batch = solve_via_minibatch( X=x_in, y=y_target)"
   ]
  },
  {
   "cell_type": "markdown",
   "metadata": {},
   "source": [
    "### Comparison between Minibatch Gradient Descent and Gradient Descent\n",
    "\n",
    "We can now compare the behavie of Minibatch Gradient Descent and Gradient Descent. In particular, we will show how the `cost` of models found by the algorithm at different iterations would behave with respect to the iteration number."
   ]
  },
  {
   "cell_type": "code",
   "execution_count": 21,
   "metadata": {},
   "outputs": [
    {
     "data": {
      "image/png": "[encoded data removed]",
      "text/plain": [
       "<Figure size 432x288 with 1 Axes>"
      ]
     },
     "metadata": {
      "needs_background": "light"
     },
     "output_type": "display_data"
    }
   ],
   "source": [
    "plt.plot(idx_batch, err_batch, color=\"red\", linewidth=2.5, linestyle=\"-\", label=\"minibatch\")\n",
    "plt.plot(idx_gd, err_gd, color=\"blue\", linewidth=2.5, linestyle=\"-\", label=\"gradient descent\")\n",
    "plt.legend(loc='upper right', prop={'size': 12})\n",
    "plt.title('comparison between minibatch gradient descent and gradient descent')\n",
    "plt.xlabel(\"number of iterations\")\n",
    "plt.ylabel(\"cost\")\n",
    "plt.grid()\n",
    "plt.show()      "
   ]
  },
  {
   "cell_type": "code",
   "execution_count": null,
   "metadata": {},
   "outputs": [],
   "source": []
  }
 ],
 "metadata": {
  "kernelspec": {
   "display_name": "Python 3 (ipykernel)",
   "language": "python",
   "name": "python3"
  },
  "language_info": {
   "codemirror_mode": {
    "name": "ipython",
    "version": 3
   },
   "file_extension": ".py",
   "mimetype": "text/x-python",
   "name": "python",
   "nbconvert_exporter": "python",
   "pygments_lexer": "ipython3",
   "version": "3.9.7"
  }
 },
 "nbformat": 4,
 "nbformat_minor": 4
}
