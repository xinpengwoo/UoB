{
 "cells": [
  {
   "cell_type": "markdown",
   "id": "2370a0e3-ba7f-483a-bd6d-a474095b548c",
   "metadata": {},
   "source": [
    "# Assignment 1 Machine Learning and Intelligent Data Analysis"
   ]
  },
  {
   "cell_type": "markdown",
   "id": "0c36b86a-bef9-45d9-a096-3f17b8f64949",
   "metadata": {},
   "source": [
    "In this assignment, we are going to explore transforming a regression problem from one that seems to be non-linear to one that is linear. As we will discover, this is not always as straightforward as it might initially seem, and we will introduce a technique for addressing one of the issues that arises.\n",
    "\n",
    "The data contained in the file assignment1.csv contains two columns, x and t which are plotted in the figure below."
   ]
  },
  {
   "cell_type": "code",
   "execution_count": 1,
   "id": "a3eecc56-1278-4b2e-a6a6-73be34f4fb79",
   "metadata": {},
   "outputs": [
    {
     "data": {
      "image/png": "[encoded data removed]",
      "text/plain": [
       "<Figure size 432x288 with 1 Axes>"
      ]
     },
     "metadata": {
      "needs_background": "light"
     },
     "output_type": "display_data"
    }
   ],
   "source": [
    "import numpy as np\n",
    "import matplotlib.pyplot as plt\n",
    "import pandas as pd\n",
    "\n",
    "# The following code generates the data and was removed from the supplied stub\n",
    "# Remove from here\n",
    "np.random.seed(0)\n",
    "a = 1.0\n",
    "b = 0.12\n",
    "h = lambda x: a*np.exp(b*x)\n",
    "sigma = 1\n",
    "beta = 1/(2*sigma*sigma)\n",
    "x = np.atleast_2d(np.arange(1,50,1)).T\n",
    "x = np.atleast_2d(np.delete(x,np.arange(1,3))).T\n",
    "t = (h(x) + sigma*np.random.randn(x.size,1)).round(decimals=3)\n",
    "df = pd.DataFrame()\n",
    "df['x'] = x.squeeze()\n",
    "df['t'] = t.squeeze()\n",
    "df.to_csv('assignment1.csv')\n",
    "# to here for the stub\n",
    "\n",
    "DataArray = pd.read_csv('assignment1.csv').to_numpy()[:,[1,2]]\n",
    "\n",
    "plt.figure()\n",
    "plt.plot(df['x'],df['t'],'b.')#,x,h(x),'k--')\n",
    "plt.xlabel('days since 31/1/2020')\n",
    "plt.ylabel('Number of cases')\n",
    "plt.savefig('assignment1-data.png')"
   ]
  },
  {
   "cell_type": "markdown",
   "id": "b04f264c-e3b1-4072-92fc-c1f6e18725a4",
   "metadata": {},
   "source": [
    "This dataset contains the number of COVID cases in the early stages of the COVID outbreak in early 2020. The data is a moving average over the previous 7 days and so the target value $t$ contains non-integer values.\n",
    "\n",
    "The data is strongly believed to follow an exponential growth curve, in other words, the data is generated by an underlying process\n",
    "\n",
    "$$t=a\\mathrm{e}^{bx}+\\epsilon$$\n",
    "\n",
    "with $\\epsilon\\sim\\mathcal{N}(0,\\sigma^2)$. Your task in this question is to estimate the unknown parameters $a$ and $b$ of this model."
   ]
  },
  {
   "cell_type": "markdown",
   "id": "81efba15-45ef-4f4e-9bfa-2cbc84a4acef",
   "metadata": {},
   "source": [
    "# Question 1: A Direct Solution\n",
    "A friend suggests to you that you could find the growth rate by just fitting the function \n",
    "$$f(x,\\mathbf{w})=w_0\\mathrm{e}^{w_1x}$$ directly to the data using linear regression. Are they correct?\n",
    "\n",
    "* Yes, this would work.\n",
    "* No, because the noise is not i.i.d.\n",
    "* **No, because that function is not linear.**\n",
    "\n",
    "*Explanation*: The exponential includes one of the model parameters in its power, meaning that the function cannot be written as $f(x,\\mathbf{w})=\\sum_i w_i\\phi_i(x)$. The noise is defined in the question to be i.i.d."
   ]
  },
  {
   "cell_type": "markdown",
   "id": "c75629b7-67d4-45ba-af7f-39a778360450",
   "metadata": {},
   "source": [
    "# Question 2: Transforming the Problem\n",
    "\n",
    "Another friend suggests a different approach. Why not linearise the problem by taking logs and fitting $f(x,\\mathbf{w})=w_0+w_1x$ to $\\ln(t)$. The parameters $a$ and $b$ can then be found from $w_0$ and $w_1$.\n",
    "\n",
    "Does this linearise the problem?\n",
    "\n",
    "* **Yes, this would work.**\n",
    "\n",
    "*Since $\\ln(a\\mathrm{e}^{bx}) = \\ln(a)+bx$, the parameters $a$ and $b$ can be found directly from the fit as $a=\\mathrm{e}^{w_0}$ and $b=w_1$.*\n",
    "\n",
    "* No, because this would still be non-linear in $a$.\n",
    "\n",
    "*Since $\\ln(a\\mathrm{e}^{bx}) = \\ln(a)+bx$, the parameters $a$ and $b$ can be found directly from the fit as $a=\\mathrm{e}^{w_0}$ and $b=w_1$.*\n",
    "\n",
    "* No, because this would still be non-linear in $b$.\n",
    "\n",
    "*Since $\\ln(a\\mathrm{e}^{bx}) = \\ln(a)+bx$, the parameters $a$ and $b$ can be found directly from the fit as $a=\\mathrm{e}^{w_0}$ and $b=w_1$. This removes the non-linearity in $b$.*"
   ]
  },
  {
   "cell_type": "markdown",
   "id": "57277086-e7a3-44e9-8e9c-10c1189515c0",
   "metadata": {},
   "source": [
    "# Question 3: Inspecting the data\n",
    "Since $\\ln(a\\mathrm{e}^{bx}) = \\ln(a)+bx$, we have that $w_0=\\ln a$ and $w_1=b$.\n",
    "\n",
    "Our next question is, does $\\ln(t)$ display this linear (straight line) relationship?\n",
    "\n",
    "Plot a graph of $x$ vs $\\ln(t)$. What do you observe?\n",
    "\n",
    "* The relationship is very clearly linear.\n",
    "* The relationship is clearly not linear.\n",
    "* **The relationship is obviously linear in part of the domain, but not obviously linear everywhere.**\n",
    "\n",
    "*The graph shows a very clear linear trend for higher values of $x$ but there is something odd happening at lower values.*"
   ]
  },
  {
   "cell_type": "markdown",
   "id": "1a7dde9f-e24e-459e-b171-348a3787910f",
   "metadata": {},
   "source": [
    "# Fitting the data\n",
    "\n",
    "Plotting the log of the data gives the graph shown below."
   ]
  },
  {
   "cell_type": "code",
   "execution_count": 2,
   "id": "2cb1ce0c-cffa-4e62-a0ed-a4ef2a404647",
   "metadata": {},
   "outputs": [
    {
     "data": {
      "image/png": "[encoded data removed]",
      "text/plain": [
       "<Figure size 432x288 with 1 Axes>"
      ]
     },
     "metadata": {
      "needs_background": "light"
     },
     "output_type": "display_data"
    }
   ],
   "source": [
    "# Plot the graph\n",
    "plt.figure()\n",
    "plt.plot(x,np.log(t),'b.')\n",
    "plt.xlabel('days since 31/1/2020')\n",
    "plt.ylabel('Number of cases')\n",
    "plt.savefig('assignment1-logplot.png')"
   ]
  },
  {
   "cell_type": "markdown",
   "id": "f58d1519-7eef-49fd-a581-ad1e223800e4",
   "metadata": {},
   "source": [
    "This graph has a clear linear trend for larger values of $x$ but there is something happening at lower values. We will return to this shortly.\n",
    "\n",
    "Fit a straight line $f(x,\\mathbf{w})=w_0+w_1x$ to $\\ln(t)$ by constructing and solving the normal equations. No regularisation should be be used.\n",
    "\n",
    "Use the following code to split the data into training, test, and evaluation sets. You should pass the variable `DataArray` generated in the stub as the argument `DataFrame`. Do not change the default argument `seed`. Fit to the training set (`TrainData`) only (we will not use the validation and test sets in this assignment).\n",
    "\n",
    "Be prepared to answer the following two questions:\n",
    "\n",
    "What is your estimate of the parameter a?\n",
    "What is your estimate of the parameter b?"
   ]
  },
  {
   "cell_type": "code",
   "execution_count": 3,
   "id": "4e6c6caa-e3d7-431d-bdb2-ce15d93e320a",
   "metadata": {},
   "outputs": [],
   "source": [
    "# Split the data into training, validation, test sets\n",
    "def split_data(DA, seed=2443250962):\n",
    "    np.random.seed(seed)\n",
    "    # Randomise the data order\n",
    "    D = np.random.permutation(DA)\n",
    "    # Split the data into folds\n",
    "    Folds = np.array_split(D,3)\n",
    "    # Assign the Folds to train, validate, test sets and sort (not necessary)\n",
    "    Folds[0].argsort()\n",
    "    Folds[1].argsort()\n",
    "    Folds[2].argsort()\n",
    "    TrainData = {'x': Folds[0][:,0].reshape((-1,1)), 't': Folds[0][:,1].reshape((-1,1))}\n",
    "    ValidateData = {'x': Folds[1][:,0].reshape((-1,1)), 't': Folds[1][:,1].reshape((-1,1))}\n",
    "    TestData = {'x': Folds[2][:,0].reshape((-1,1)), 't': Folds[2][:,1].reshape((-1,1))}\n",
    "    return TrainData, ValidateData, TestData"
   ]
  },
  {
   "cell_type": "code",
   "execution_count": 4,
   "id": "a01d2273-ca3e-46c6-a5df-a414f3448451",
   "metadata": {},
   "outputs": [],
   "source": [
    "# Define some helper functions to make the code a bit more readable\n",
    "\n",
    "# Define a function to create polynomial basis matrix of degree M\n",
    "def PolyPhi(x,M):\n",
    "    return(np.power(x,np.linspace(0,M,M+1)))\n",
    "\n",
    "# Function to fit a model\n",
    "def fit_model(Phi,t):\n",
    "    return np.linalg.solve(np.matmul(Phi.transpose(),Phi), np.matmul(Phi.transpose(),t))\n",
    "\n",
    "# Function to evaluate a model\n",
    "def compute_rms_error(Phi,w,t):\n",
    "    return np.sqrt(np.average(pow(t-np.matmul(Phi,w),2)))"
   ]
  },
  {
   "cell_type": "code",
   "execution_count": 5,
   "id": "58eadd0f-220e-4a45-8724-cdd9f469d679",
   "metadata": {},
   "outputs": [
    {
     "name": "stdout",
     "output_type": "stream",
     "text": [
      "The final model weights are:\n",
      " [[0.37608919]\n",
      " [0.10853897]]\n",
      "Therefore, parameter a =  = 1.46, parameter b = 0.11\n",
      "Training error: 94.48\n",
      "Validation error: 114.58\n",
      "Test error: 119.79\n"
     ]
    },
    {
     "data": {
      "image/png": "[encoded data removed]",
      "text/plain": [
       "<Figure size 432x288 with 1 Axes>"
      ]
     },
     "metadata": {
      "needs_background": "light"
     },
     "output_type": "display_data"
    }
   ],
   "source": [
    "TrainData,ValidateData,TestData = split_data(DataArray)\n",
    "\n",
    "# Fit a straight line to this\n",
    "FinalWeights = fit_model(PolyPhi(TrainData['x'], 1), np.log(TrainData['t']))\n",
    "print(f'The final model weights are:\\n {FinalWeights}')\n",
    "print(f'Therefore, parameter a =  = {np.exp(FinalWeights[0])[0]:.2f}, parameter b = {FinalWeights[1][0]:.2f}')\n",
    "\n",
    "TrainError = compute_rms_error(PolyPhi(TrainData['x'], FinalWeights.size-1), FinalWeights, TrainData['t'])\n",
    "ValidError = compute_rms_error(PolyPhi(ValidateData['x'], FinalWeights.size-1), FinalWeights, ValidateData['t'])\n",
    "TestError = compute_rms_error(PolyPhi(TestData['x'], FinalWeights.size-1), FinalWeights, TestData['t'])\n",
    "print(f'Training error: {TrainError:.2f}')\n",
    "print(f'Validation error: {ValidError:.2f}')\n",
    "print(f'Test error: {TestError:.2f}')\n",
    "\n",
    "plt.figure()\n",
    "plt.plot(TrainData['x'], np.log(TrainData['t']), 'b.',\n",
    "         ValidateData['x'], np.log(ValidateData['t']), 'y.',\n",
    "         TestData['x'], np.log(TestData['t']), 'r.',\n",
    "         DataArray[:,0], np.matmul(PolyPhi(DataArray[:,0].reshape((-1,1)), FinalWeights.size-1), FinalWeights), 'r-')\n",
    "plt.xlabel('days since 31/1/2020')\n",
    "plt.ylabel('Number of cases')\n",
    "plt.legend(['Train','Validate','Test', 'Model'])\n",
    "plt.savefig('assignment1-fitted.png')"
   ]
  },
  {
   "cell_type": "markdown",
   "id": "3da1ece8-4095-4255-9c6c-ff1bc8b05048",
   "metadata": {},
   "source": [
    "# Question 4: Parameter a\n",
    "What is your estimate for parameter $a$? Enter your answer to two decimal places."
   ]
  },
  {
   "cell_type": "code",
   "execution_count": 6,
   "id": "7bb991c9-9c84-419b-b2bf-450537917ce3",
   "metadata": {},
   "outputs": [
    {
     "name": "stdout",
     "output_type": "stream",
     "text": [
      "a = 1.46\n"
     ]
    }
   ],
   "source": [
    "print(f'a = {np.exp(FinalWeights[0])[0]:.2f}')"
   ]
  },
  {
   "cell_type": "markdown",
   "id": "11a87bc1-553f-4c5d-8698-b648c8ce4316",
   "metadata": {},
   "source": [
    "# Question 5: Parameter b\n",
    "What is your estimate for parameter $b$? Enter your answer to two decimal places."
   ]
  },
  {
   "cell_type": "code",
   "execution_count": 7,
   "id": "79a04ee4-62a7-46c9-a6ba-5617f4b8d678",
   "metadata": {},
   "outputs": [
    {
     "name": "stdout",
     "output_type": "stream",
     "text": [
      "b = 0.11\n"
     ]
    }
   ],
   "source": [
    "print(f'b = {FinalWeights[1][0]:.2f}')"
   ]
  },
  {
   "cell_type": "markdown",
   "id": "20d9d2c6-0deb-4b01-ab4d-c433a6e74a5b",
   "metadata": {},
   "source": [
    "# Question 6: Inspecting the result\n",
    "\n",
    "The graph of the correctly fitted model with *all data points plotted* is shown below.\n",
    "\n",
    "Study this graph carefully and select one of the following statements that best describes this fit.\n",
    "\n",
    "* This is clearly a very good fit.\n",
    "* This is clearly not a good fit.\n",
    "* **The fit is matching the data well, but does not quite match in the region where there is a clear linear trend in the data.**"
   ]
  },
  {
   "cell_type": "markdown",
   "id": "af1c63c6-191c-4fc0-a9a7-1802567fbb74",
   "metadata": {
    "jp-MarkdownHeadingCollapsed": true,
    "tags": []
   },
   "source": [
    "# Question 7: Identifying the reasons for deviance\n",
    "\n",
    "If you study the data (after log) closely, you will see that there is a very clear region at higher values of $x$ where the trend in the data is very clearly linear (straight line). The model doesn't align with the data in this region. What do you think is the most likely reason for this\n",
    "\n",
    "* The data was not generated by an exponential process.\n",
    "* **The noise is not i.i.d after taking the logarithm**\n",
    "* The model is not linear because $w_0=\\ln a$.\n",
    "\n"
   ]
  },
  {
   "cell_type": "markdown",
   "id": "bfe7fb74-717a-4457-a2a6-286976e93ebc",
   "metadata": {},
   "source": [
    "# Question 8: Weighting the fit \n",
    "\n",
    "The transformation of the data by taking the logarithm has changed the distribution of the noise. The noise is no longer i.i.d after taking the logarithm because the logarithm applies a non-linear scaling to all of the data points. The result is that the effective variance of the noise is much higher for lower values of $t$.\n",
    "\n",
    "Another friend suggests that you could correct for this by introducing a scaling factor for each data point that depends on the effective variance. Their idea is to \"weight\" the residues of each of the data points according to their effective variance, with data points with a low effective variance weighted more heavily.\n",
    "\n",
    "Which of these loss functions will have the desired effect?\n",
    "\n",
    "* $L(\\mathbf{w}) = \\frac{1}{\\sigma_i^2}\\sum_{i=1}^N  r_i^2$\n",
    "\n",
    "*This is not correct because the variance (which varies with each data point) is outside of the summation.*\n",
    "\n",
    "* **$L(\\mathbf{w}) = \\sum_{i=1}^N \\frac{1}{\\sigma_i^2} r_i^2$**\n",
    "\n",
    "*This will have the desired effect of weighting the fit to more closely match the terms that are more accurately known.*\n",
    "\n",
    "* $L(\\mathbf{w}) = \\sum_{i=1}^N \\sigma_i^2 r_i^2$\n",
    "\n",
    "*This will have the opposite of the desired effect and will bias the fit to more closely match those points with a high variance.*\n"
   ]
  },
  {
   "cell_type": "markdown",
   "id": "4a296626-6179-48c3-b6f2-c9b15d819074",
   "metadata": {},
   "source": [
    "The weighted loss function $L(\\mathbf{w}) = \\sum_{i=1}^N \\frac{1}{\\sigma_i^2} r_i^2$\n",
    " has the desired effect. By weighting data points by the inverse of their (effective) variance, we force the fitting algorithm to preferentially fit the points with smaller effective variance.\n",
    "\n",
    "It can be shown quite straightforwardly that given matrix\n",
    "\n",
    "$$\\mathbf{W}=\\begin{pmatrix}\\sigma_1^2 & 0 & \\dots & 0 \\\\\n",
    "                                                                   0 & \\sigma_2^2 & & 0\\\\\n",
    "                                                                   \\vdots &  & \\ddots & \\vdots \\\\\n",
    "                                                                    0 & 0 &  \\dots & \\sigma_N^2 \\end{pmatrix}$$\n",
    "\n",
    "the modified normal equations for the weight loss can be written \n",
    "\n",
    "$$\\mathbf{\\Phi}^\\mathrm{T}\\mathbf{W}\\mathbf{\\Phi}\\mathbf{w} - \\mathbf{\\Phi}^\\mathrm{T}\\mathbf{t}=\\mathbf{0}$$\n",
    "\n",
    "Solve the modified normal equations for parameters $\\mathbf{w}$ and in the next two questions, give your new values of $a$ and $b$.\n",
    "\n",
    "You should assume that $\\frac{1}{\\sigma_i^2} \\propto \\mathrm{e}^{x_i}$.\n",
    "\n",
    "* Note that it is not straightforward to calculate the variance of the data after transformation. We will not consider this further here."
   ]
  },
  {
   "cell_type": "code",
   "execution_count": 8,
   "id": "c08951ab-1794-4fc2-a8e5-427c52ea5d26",
   "metadata": {},
   "outputs": [],
   "source": [
    "# Function to fit a model\n",
    "def fit_weighted_model(Phi,t, invsigmasq):\n",
    "    W = np.diag(invsigmasq.squeeze())\n",
    "    print(Phi.transpose() @W@Phi) # 2x2\n",
    "    print(Phi.transpose() @ W @ t)\n",
    "    return np.linalg.solve(Phi.transpose() @ (W @ Phi), Phi.transpose() @ W @ t)\n"
   ]
  },
  {
   "cell_type": "code",
   "execution_count": 9,
   "id": "50cad51a-c7a2-462e-b4e6-01673d3e8db1",
   "metadata": {},
   "outputs": [
    {
     "name": "stdout",
     "output_type": "stream",
     "text": [
      "[[2.93164089e+20 1.37080306e+22]\n",
      " [1.37080306e+22 6.41101903e+23]]\n",
      "[[1.64422644e+21]\n",
      " [7.68981111e+22]]\n",
      "The final model weights are:\n",
      " [[-0.13090146]\n",
      " [ 0.12274572]]\n",
      "Therefore, parameter a =  = 0.88, parameter b = 0.12\n"
     ]
    },
    {
     "data": {
      "image/png": "[encoded data removed]",
      "text/plain": [
       "<Figure size 432x288 with 1 Axes>"
      ]
     },
     "metadata": {
      "needs_background": "light"
     },
     "output_type": "display_data"
    }
   ],
   "source": [
    "# Define the variance\n",
    "invsigmasq = np.power(np.exp(TrainData['x']),1)\n",
    "# Fit a weighted straight line\n",
    "FinalWeights = fit_weighted_model(PolyPhi(TrainData['x'], 1), np.log(TrainData['t']), invsigmasq)\n",
    "print(f'The final model weights are:\\n {FinalWeights}')\n",
    "\n",
    "print(f'Therefore, parameter a =  = {np.exp(FinalWeights[0])[0]:.2f}, parameter b = {FinalWeights[1][0]:.2f}')\n",
    "\n",
    "plt.figure()\n",
    "plt.plot(TrainData['x'], np.log(TrainData['t']), 'b.',\n",
    "         ValidateData['x'], np.log(ValidateData['t']), 'y.',\n",
    "         TestData['x'], np.log(TestData['t']), 'r.',\n",
    "         DataArray[:,0], np.matmul(PolyPhi(DataArray[:,0].reshape((-1,1)), FinalWeights.size-1), FinalWeights), 'r-')\n",
    "plt.xlabel('days since 31/1/2020')\n",
    "plt.ylabel('Number of cases')\n",
    "plt.legend(['Train','Validate','Test', 'Model'])\n",
    "plt.savefig('assignment1-weighted.png')"
   ]
  },
  {
   "cell_type": "markdown",
   "id": "db6803a8-d839-4f1e-a9d2-0e83d26ceb3f",
   "metadata": {},
   "source": [
    "# Question 4: Parameter a\n",
    "What is your estimate for parameter $a$? Enter your answer to two decimal places."
   ]
  },
  {
   "cell_type": "code",
   "execution_count": 10,
   "id": "f230ac8f-ddde-4097-9e9e-1bc87e8e3ec6",
   "metadata": {},
   "outputs": [
    {
     "name": "stdout",
     "output_type": "stream",
     "text": [
      "a = 0.88\n"
     ]
    }
   ],
   "source": [
    "print(f'a = {np.exp(FinalWeights[0])[0]:.2f}')"
   ]
  },
  {
   "cell_type": "markdown",
   "id": "f5229ce5-c1a7-4cc1-b4f2-5d5060cbeea7",
   "metadata": {},
   "source": [
    "# Question 5: Parameter b\n",
    "What is your estimate for parameter $b$? Enter your answer to two decimal places."
   ]
  },
  {
   "cell_type": "code",
   "execution_count": 11,
   "id": "88d10f8f-874c-4615-bfac-8c8edff59e93",
   "metadata": {},
   "outputs": [
    {
     "name": "stdout",
     "output_type": "stream",
     "text": [
      "b = 0.12\n"
     ]
    }
   ],
   "source": [
    "print(f'b = {FinalWeights[1][0]:.2f}')"
   ]
  },
  {
   "cell_type": "markdown",
   "id": "197275f0-176d-4d33-9419-abf7290c5409",
   "metadata": {},
   "source": [
    "You can see that the slightly increased slope of the graph now leads to a much better match to the linear region of the data. This approach, which relies on several assumptions, is quite commonly used when data is not i.i.d."
   ]
  },
  {
   "cell_type": "code",
   "execution_count": null,
   "id": "524a1ccf-5b93-4a74-a51f-6da1b2ad724d",
   "metadata": {},
   "outputs": [],
   "source": []
  }
 ],
 "metadata": {
  "kernelspec": {
   "display_name": "Python 3 (ipykernel)",
   "language": "python",
   "name": "python3"
  },
  "language_info": {
   "codemirror_mode": {
    "name": "ipython",
    "version": 3
   },
   "file_extension": ".py",
   "mimetype": "text/x-python",
   "name": "python",
   "nbconvert_exporter": "python",
   "pygments_lexer": "ipython3",
   "version": "3.9.7"
  },
  "varInspector": {
   "cols": {
    "lenName": 16,
    "lenType": 16,
    "lenVar": 40
   },
   "kernels_config": {
    "python": {
     "delete_cmd_postfix": "",
     "delete_cmd_prefix": "del ",
     "library": "var_list.py",
     "varRefreshCmd": "print(var_dic_list())"
    },
    "r": {
     "delete_cmd_postfix": ") ",
     "delete_cmd_prefix": "rm(",
     "library": "var_list.r",
     "varRefreshCmd": "cat(var_dic_list()) "
    }
   },
   "types_to_exclude": [
    "module",
    "function",
    "builtin_function_or_method",
    "instance",
    "_Feature"
   ],
   "window_display": false
  }
 },
 "nbformat": 4,
 "nbformat_minor": 5
}
