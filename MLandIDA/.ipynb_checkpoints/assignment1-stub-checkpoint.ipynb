{
 "cells": [
  {
   "cell_type": "code",
   "execution_count": 1,
   "id": "f283bb6f-c2d1-42b9-ac09-62eb0d2c6121",
   "metadata": {},
   "outputs": [
    {
     "data": {
      "text/plain": [
       "Text(0, 0.5, 'Number of cases')"
      ]
     },
     "execution_count": 1,
     "metadata": {},
     "output_type": "execute_result"
    },
    {
     "data": {
      "image/png": "[encoded data removed]",
      "text/plain": [
       "<Figure size 432x288 with 1 Axes>"
      ]
     },
     "metadata": {
      "needs_background": "light"
     },
     "output_type": "display_data"
    }
   ],
   "source": [
    "import numpy as np\n",
    "import matplotlib.pyplot as plt\n",
    "import pandas as pd\n",
    "\n",
    "DataArray = pd.read_csv('assignment1.csv').to_numpy()[:,[1,2]]\n",
    "\n",
    "plt.figure()\n",
    "plt.plot(DataArray[:,0],DataArray[:,1],'b.')#,x,h(x),'k--')\n",
    "plt.xlabel('days since 31/1/2020')\n",
    "plt.ylabel('Number of cases')"
   ]
  },
  {
   "cell_type": "code",
   "execution_count": null,
   "id": "e1b9856a-c68f-47a0-ba3a-e637452f06bb",
   "metadata": {},
   "outputs": [],
   "source": [
    "plt.savefig('"
   ]
  },
  {
   "cell_type": "code",
   "execution_count": null,
   "id": "ca286322",
   "metadata": {},
   "outputs": [],
   "source": [
    "# Split the data into training, validation, test sets\n",
    "def split_data(DA, seed=2443250962):\n",
    "    np.random.seed(seed)\n",
    "    # Randomise the data order\n",
    "    D = np.random.permutation(DA)\n",
    "    # Split the data into folds\n",
    "    Folds = np.array_split(D,3)\n",
    "    # Assign the Folds to train, validate, test sets and sort (not necessary)\n",
    "    Folds[0].argsort()\n",
    "    Folds[1].argsort()\n",
    "    Folds[2].argsort()\n",
    "    TrainData = {'x': Folds[0][:,0].reshape((-1,1)), 't': Folds[0][:,1].reshape((-1,1))}\n",
    "    ValidateData = {'x': Folds[1][:,0].reshape((-1,1)), 't': Folds[1][:,1].reshape((-1,1))}\n",
    "    TestData = {'x': Folds[2][:,0].reshape((-1,1)), 't': Folds[2][:,1].reshape((-1,1))}\n",
    "    return TrainData, ValidateData, TestData"
   ]
  },
  {
   "cell_type": "code",
   "execution_count": null,
   "id": "4554f061",
   "metadata": {},
   "outputs": [],
   "source": []
  }
 ],
 "metadata": {
  "kernelspec": {
   "display_name": "Python 3 (ipykernel)",
   "language": "python",
   "name": "python3"
  },
  "language_info": {
   "codemirror_mode": {
    "name": "ipython",
    "version": 3
   },
   "file_extension": ".py",
   "mimetype": "text/x-python",
   "name": "python",
   "nbconvert_exporter": "python",
   "pygments_lexer": "ipython3",
   "version": "3.9.7"
  },
  "varInspector": {
   "cols": {
    "lenName": 16,
    "lenType": 16,
    "lenVar": 40
   },
   "kernels_config": {
    "python": {
     "delete_cmd_postfix": "",
     "delete_cmd_prefix": "del ",
     "library": "var_list.py",
     "varRefreshCmd": "print(var_dic_list())"
    },
    "r": {
     "delete_cmd_postfix": ") ",
     "delete_cmd_prefix": "rm(",
     "library": "var_list.r",
     "varRefreshCmd": "cat(var_dic_list()) "
    }
   },
   "types_to_exclude": [
    "module",
    "function",
    "builtin_function_or_method",
    "instance",
    "_Feature"
   ],
   "window_display": false
  }
 },
 "nbformat": 4,
 "nbformat_minor": 5
}
