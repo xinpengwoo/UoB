{
 "cells": [
  {
   "cell_type": "markdown",
   "metadata": {
    "id": "gkyLveqhRzQT"
   },
   "source": [
    "# Assignment 1, Question 5\n",
    "\n",
    "This notebook defines the code necessary to answer Q5 from assignment 1.\n"
   ]
  },
  {
   "cell_type": "markdown",
   "metadata": {
    "id": "PGjrsHGCSEUB"
   },
   "source": [
    "Define a function that does cross-validation using a polynomial basis of specified order, given a dataset.\n",
    "\n",
    "The function takes arguments \n",
    "\n",
    "```\n",
    "x: independent variable (float)\n",
    "y: dependent variable (float)\n",
    "nfolds: the number of folds to use in the cross-validation (integer)\n",
    "polyorder: the maximum power to use in the polynomial basis (integer)\n",
    "```\n",
    "\n",
    "Note that the function does not perform any error checking on the inputs.\n",
    "\n"
   ]
  },
  {
   "cell_type": "code",
   "execution_count": 1,
   "metadata": {
    "id": "gB0ffIa3Q6uT"
   },
   "outputs": [],
   "source": [
    "# Define the cross-validation function\n",
    "\n",
    "import numpy as np\n",
    "np.random.seed(123123)\n",
    "\n",
    "def cross_validate(x, y, nfolds=5, polyorder=1):\n",
    "    D = np.concatenate([x.T,y.T],axis=1)\n",
    "    D = np.random.permutation(D)\n",
    "    Folds =  np.array_split(D, nfolds)\n",
    "    TrainingError = []\n",
    "    ValidationError = []\n",
    "    for i, value in enumerate(Folds):\n",
    "        ValidationSet = value\n",
    "        TrainingSet = np.concatenate(Folds[:i]+Folds[i+1:])\n",
    "        PhiTrain = np.array([pow(TrainingSet[:,0],j) for j in range(0,polyorder+1)]).transpose()\n",
    "        PhiValid = np.array([pow(ValidationSet[:,0],j) for j in range(0,polyorder+1)]).transpose()\n",
    "        # Train the model\n",
    "        w = np.linalg.solve(np.matmul(PhiTrain.transpose(),PhiTrain), np.matmul(PhiTrain.transpose(),TrainingSet[:,1]))\n",
    "        # Compute the error on the training set\n",
    "        TrainingError.append(np.sqrt(np.average(pow(TrainingSet[:,1]-np.matmul(PhiTrain,w),2))))\n",
    "        # Compute the error on the validation set\n",
    "        ValidationError.append(np.sqrt(np.average(pow(ValidationSet[:,1]-np.matmul(PhiValid,w),2))))\n",
    "    MeanTrainingError = np.mean(TrainingError)\n",
    "    MeanValidationError = np.mean(ValidationError)\n",
    "    print(\"* Polynomial order {0:d}\".format(polyorder))\n",
    "    print(\"* Mean Training RMS Error {0:8.3f}\".format(MeanTrainingError))\n",
    "    print(\"* Mean Validation RMS Error {0:8.3f}\".format(MeanValidationError))\n",
    "    return MeanTrainingError, MeanValidationError\n"
   ]
  },
  {
   "cell_type": "markdown",
   "metadata": {
    "id": "IMkiJaesRCIE"
   },
   "source": [
    "Define and plot the data"
   ]
  },
  {
   "cell_type": "code",
   "execution_count": 2,
   "metadata": {
    "colab": {
     "base_uri": "https://localhost:8080/",
     "height": 283
    },
    "id": "dDrOHRxYRFfp",
    "outputId": "e54f4c9e-6a85-4709-bcd4-ca62e3432a54"
   },
   "outputs": [
    {
     "data": {
      "image/png": "[encoded data removed]",
      "text/plain": [
       "<Figure size 432x288 with 1 Axes>"
      ]
     },
     "metadata": {
      "needs_background": "light"
     },
     "output_type": "display_data"
    }
   ],
   "source": [
    "import matplotlib.pyplot as plt\n",
    "x = np.array([[0.0, 1.0, 2.0, 3.0, 4.0, 5.0, 6.0, 7.0, 8.0, 9.0, 10.0, 11.0, 12.0, 13.0, 14.0, 15.0, 16.0, 17.0, 18.0, 19.0, 20.0]])\n",
    "y = np.array([[10.05, 8.81, 7.34, 6.11, 5.26, 3.69, 2.57, 1.31, 0.54, -0.23, -0.10, 0.43, 1.04, 1.95, 3.66, 6.33, 9.31, 13.38, 18.02, 23.32, 29.92]])\n",
    "plt.plot(x,y,'k.')\n",
    "plt.xlabel('x')\n",
    "plt.ylabel('y')\n",
    "plt.show()"
   ]
  },
  {
   "cell_type": "markdown",
   "metadata": {
    "id": "nJSric2rRXkY"
   },
   "source": [
    "Run the cross-validation function for 5 folds with a zero-th order polynomial (i.e. $f(x) = w_0$)"
   ]
  },
  {
   "cell_type": "code",
   "execution_count": 3,
   "metadata": {
    "colab": {
     "base_uri": "https://localhost:8080/",
     "height": 72
    },
    "id": "QkmP5c4JRlmT",
    "outputId": "761ba996-a6aa-4677-a733-50791fff5b6c"
   },
   "outputs": [
    {
     "name": "stdout",
     "output_type": "stream",
     "text": [
      "* Polynomial order 0\n",
      "* Mean Training RMS Error    7.728\n",
      "* Mean Validation RMS Error    7.819\n"
     ]
    }
   ],
   "source": [
    "t, v = cross_validate(x,y,5,0)"
   ]
  },
  {
   "cell_type": "code",
   "execution_count": null,
   "metadata": {},
   "outputs": [],
   "source": []
  }
 ],
 "metadata": {
  "colab": {
   "collapsed_sections": [],
   "name": "Assignment1-Q5.ipynb",
   "provenance": []
  },
  "kernelspec": {
   "display_name": "Python 3 (ipykernel)",
   "language": "python",
   "name": "python3"
  },
  "language_info": {
   "codemirror_mode": {
    "name": "ipython",
    "version": 3
   },
   "file_extension": ".py",
   "mimetype": "text/x-python",
   "name": "python",
   "nbconvert_exporter": "python",
   "pygments_lexer": "ipython3",
   "version": "3.9.7"
  },
  "varInspector": {
   "cols": {
    "lenName": 16,
    "lenType": 16,
    "lenVar": 40
   },
   "kernels_config": {
    "python": {
     "delete_cmd_postfix": "",
     "delete_cmd_prefix": "del ",
     "library": "var_list.py",
     "varRefreshCmd": "print(var_dic_list())"
    },
    "r": {
     "delete_cmd_postfix": ") ",
     "delete_cmd_prefix": "rm(",
     "library": "var_list.r",
     "varRefreshCmd": "cat(var_dic_list()) "
    }
   },
   "types_to_exclude": [
    "module",
    "function",
    "builtin_function_or_method",
    "instance",
    "_Feature"
   ],
   "window_display": false
  }
 },
 "nbformat": 4,
 "nbformat_minor": 4
}
